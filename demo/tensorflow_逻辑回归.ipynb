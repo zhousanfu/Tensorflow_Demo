{
  "nbformat": 4,
  "nbformat_minor": 0,
  "metadata": {
    "colab": {
      "name": "tensorflow 逻辑回归.ipynb",
      "provenance": [],
      "authorship_tag": "ABX9TyO2B5+u7g7W5VW0ezsd8Mjy",
      "include_colab_link": true
    },
    "kernelspec": {
      "name": "python3",
      "display_name": "Python 3"
    }
  },
  "cells": [
    {
      "cell_type": "markdown",
      "metadata": {
        "id": "view-in-github",
        "colab_type": "text"
      },
      "source": [
        "<a href=\"https://colab.research.google.com/github/zhousanfu/Tensorflow_Demo/blob/master/tensorflow_%E9%80%BB%E8%BE%91%E5%9B%9E%E5%BD%92.ipynb\" target=\"_parent\"><img src=\"https://colab.research.google.com/assets/colab-badge.svg\" alt=\"Open In Colab\"/></a>"
      ]
    },
    {
      "cell_type": "code",
      "metadata": {
        "id": "GBYolpEbG6Nm"
      },
      "source": [
        "import pandas as pd\n",
        "import tensorflow as tf\n",
        "import matplotlib.pyplot as plt"
      ],
      "execution_count": 19,
      "outputs": []
    },
    {
      "cell_type": "code",
      "metadata": {
        "id": "v4IE6v9fIfsi"
      },
      "source": [
        "data = pd.read_csv('https://raw.githubusercontent.com/zhousanfu/Tensorflow_Demo/master/data/credit-a.csv', header=None)\n",
        "data.head()\n",
        "\n",
        "data.iloc[:,-1].value_counts()\n",
        "\n",
        "x = data.iloc[:, :-1]\n",
        "y = data.iloc[:, -1].replace(-1, 0)"
      ],
      "execution_count": 20,
      "outputs": []
    },
    {
      "cell_type": "code",
      "metadata": {
        "colab": {
          "base_uri": "https://localhost:8080/"
        },
        "id": "lwnFTu4pJBDO",
        "outputId": "7470e24f-513c-4d9f-bb19-627165a6c85c"
      },
      "source": [
        "model = tf.keras.Sequential()\n",
        "model.add(tf.keras.layers.Dense(4, input_shape=(15,), activation='relu'))\n",
        "model.add(tf.keras.layers.Dense(4, activation='relu'))\n",
        "model.add(tf.keras.layers.Dense(1, activation='sigmoid'))\n",
        "\n",
        "model.summary()"
      ],
      "execution_count": 21,
      "outputs": [
        {
          "output_type": "stream",
          "text": [
            "Model: \"sequential_3\"\n",
            "_________________________________________________________________\n",
            "Layer (type)                 Output Shape              Param #   \n",
            "=================================================================\n",
            "dense_5 (Dense)              (None, 4)                 64        \n",
            "_________________________________________________________________\n",
            "dense_6 (Dense)              (None, 4)                 20        \n",
            "_________________________________________________________________\n",
            "dense_7 (Dense)              (None, 1)                 5         \n",
            "=================================================================\n",
            "Total params: 89\n",
            "Trainable params: 89\n",
            "Non-trainable params: 0\n",
            "_________________________________________________________________\n"
          ],
          "name": "stdout"
        }
      ]
    },
    {
      "cell_type": "code",
      "metadata": {
        "colab": {
          "base_uri": "https://localhost:8080/"
        },
        "id": "YBGZEubsKDpv",
        "outputId": "ff4c8605-5a37-4876-fa2c-ab440ddee15f"
      },
      "source": [
        "model.compile(optimizer='adam',\n",
        "              loss='binary_crossentropy',\n",
        "              metrics=['acc']\n",
        "              )\n",
        "\n",
        "history = model.fit(x, y, epochs=100)"
      ],
      "execution_count": 22,
      "outputs": [
        {
          "output_type": "stream",
          "text": [
            "Epoch 1/100\n",
            "1/1 [==============================] - 0s 424ms/step - loss: nan - acc: 0.0000e+00\n",
            "Epoch 2/100\n",
            "1/1 [==============================] - 0s 5ms/step - loss: nan - acc: 0.3333\n",
            "Epoch 3/100\n",
            "1/1 [==============================] - 0s 4ms/step - loss: nan - acc: 0.3333\n",
            "Epoch 4/100\n",
            "1/1 [==============================] - 0s 6ms/step - loss: nan - acc: 0.3333\n",
            "Epoch 5/100\n",
            "1/1 [==============================] - 0s 3ms/step - loss: nan - acc: 0.3333\n",
            "Epoch 6/100\n",
            "1/1 [==============================] - 0s 6ms/step - loss: nan - acc: 0.3333\n",
            "Epoch 7/100\n",
            "1/1 [==============================] - 0s 4ms/step - loss: nan - acc: 0.3333\n",
            "Epoch 8/100\n",
            "1/1 [==============================] - 0s 4ms/step - loss: nan - acc: 0.3333\n",
            "Epoch 9/100\n",
            "1/1 [==============================] - 0s 5ms/step - loss: nan - acc: 0.3333\n",
            "Epoch 10/100\n",
            "1/1 [==============================] - 0s 3ms/step - loss: nan - acc: 0.3333\n",
            "Epoch 11/100\n",
            "1/1 [==============================] - 0s 6ms/step - loss: nan - acc: 0.3333\n",
            "Epoch 12/100\n",
            "1/1 [==============================] - 0s 3ms/step - loss: nan - acc: 0.3333\n",
            "Epoch 13/100\n",
            "1/1 [==============================] - 0s 83ms/step - loss: nan - acc: 0.3333\n",
            "Epoch 14/100\n",
            "1/1 [==============================] - 0s 4ms/step - loss: nan - acc: 0.3333\n",
            "Epoch 15/100\n",
            "1/1 [==============================] - 0s 4ms/step - loss: nan - acc: 0.3333\n",
            "Epoch 16/100\n",
            "1/1 [==============================] - 0s 4ms/step - loss: nan - acc: 0.3333\n",
            "Epoch 17/100\n",
            "1/1 [==============================] - 0s 3ms/step - loss: nan - acc: 0.3333\n",
            "Epoch 18/100\n",
            "1/1 [==============================] - 0s 5ms/step - loss: nan - acc: 0.3333\n",
            "Epoch 19/100\n",
            "1/1 [==============================] - 0s 9ms/step - loss: nan - acc: 0.3333\n",
            "Epoch 20/100\n",
            "1/1 [==============================] - 0s 19ms/step - loss: nan - acc: 0.3333\n",
            "Epoch 21/100\n",
            "1/1 [==============================] - 0s 5ms/step - loss: nan - acc: 0.3333\n",
            "Epoch 22/100\n",
            "1/1 [==============================] - 0s 3ms/step - loss: nan - acc: 0.3333\n",
            "Epoch 23/100\n",
            "1/1 [==============================] - 0s 5ms/step - loss: nan - acc: 0.3333\n",
            "Epoch 24/100\n",
            "1/1 [==============================] - 0s 9ms/step - loss: nan - acc: 0.3333\n",
            "Epoch 25/100\n",
            "1/1 [==============================] - 0s 5ms/step - loss: nan - acc: 0.3333\n",
            "Epoch 26/100\n",
            "1/1 [==============================] - 0s 4ms/step - loss: nan - acc: 0.3333\n",
            "Epoch 27/100\n",
            "1/1 [==============================] - 0s 4ms/step - loss: nan - acc: 0.3333\n",
            "Epoch 28/100\n",
            "1/1 [==============================] - 0s 4ms/step - loss: nan - acc: 0.3333\n",
            "Epoch 29/100\n",
            "1/1 [==============================] - 0s 5ms/step - loss: nan - acc: 0.3333\n",
            "Epoch 30/100\n",
            "1/1 [==============================] - 0s 6ms/step - loss: nan - acc: 0.3333\n",
            "Epoch 31/100\n",
            "1/1 [==============================] - 0s 8ms/step - loss: nan - acc: 0.3333\n",
            "Epoch 32/100\n",
            "1/1 [==============================] - 0s 3ms/step - loss: nan - acc: 0.3333\n",
            "Epoch 33/100\n",
            "1/1 [==============================] - 0s 6ms/step - loss: nan - acc: 0.3333\n",
            "Epoch 34/100\n",
            "1/1 [==============================] - 0s 6ms/step - loss: nan - acc: 0.3333\n",
            "Epoch 35/100\n",
            "1/1 [==============================] - 0s 34ms/step - loss: nan - acc: 0.3333\n",
            "Epoch 36/100\n",
            "1/1 [==============================] - 0s 7ms/step - loss: nan - acc: 0.3333\n",
            "Epoch 37/100\n",
            "1/1 [==============================] - 0s 7ms/step - loss: nan - acc: 0.3333\n",
            "Epoch 38/100\n",
            "1/1 [==============================] - 0s 6ms/step - loss: nan - acc: 0.3333\n",
            "Epoch 39/100\n",
            "1/1 [==============================] - 0s 5ms/step - loss: nan - acc: 0.3333\n",
            "Epoch 40/100\n",
            "1/1 [==============================] - 0s 6ms/step - loss: nan - acc: 0.3333\n",
            "Epoch 41/100\n",
            "1/1 [==============================] - 0s 7ms/step - loss: nan - acc: 0.3333\n",
            "Epoch 42/100\n",
            "1/1 [==============================] - 0s 7ms/step - loss: nan - acc: 0.3333\n",
            "Epoch 43/100\n",
            "1/1 [==============================] - 0s 18ms/step - loss: nan - acc: 0.3333\n",
            "Epoch 44/100\n",
            "1/1 [==============================] - 0s 10ms/step - loss: nan - acc: 0.3333\n",
            "Epoch 45/100\n",
            "1/1 [==============================] - 0s 7ms/step - loss: nan - acc: 0.3333\n",
            "Epoch 46/100\n",
            "1/1 [==============================] - 0s 20ms/step - loss: nan - acc: 0.3333\n",
            "Epoch 47/100\n",
            "1/1 [==============================] - 0s 22ms/step - loss: nan - acc: 0.3333\n",
            "Epoch 48/100\n",
            "1/1 [==============================] - 0s 7ms/step - loss: nan - acc: 0.3333\n",
            "Epoch 49/100\n",
            "1/1 [==============================] - 0s 7ms/step - loss: nan - acc: 0.3333\n",
            "Epoch 50/100\n",
            "1/1 [==============================] - 0s 9ms/step - loss: nan - acc: 0.3333\n",
            "Epoch 51/100\n",
            "1/1 [==============================] - 0s 5ms/step - loss: nan - acc: 0.3333\n",
            "Epoch 52/100\n",
            "1/1 [==============================] - 0s 6ms/step - loss: nan - acc: 0.3333\n",
            "Epoch 53/100\n",
            "1/1 [==============================] - 0s 7ms/step - loss: nan - acc: 0.3333\n",
            "Epoch 54/100\n",
            "1/1 [==============================] - 0s 5ms/step - loss: nan - acc: 0.3333\n",
            "Epoch 55/100\n",
            "1/1 [==============================] - 0s 5ms/step - loss: nan - acc: 0.3333\n",
            "Epoch 56/100\n",
            "1/1 [==============================] - 0s 7ms/step - loss: nan - acc: 0.3333\n",
            "Epoch 57/100\n",
            "1/1 [==============================] - 0s 8ms/step - loss: nan - acc: 0.3333\n",
            "Epoch 58/100\n",
            "1/1 [==============================] - 0s 5ms/step - loss: nan - acc: 0.3333\n",
            "Epoch 59/100\n",
            "1/1 [==============================] - 0s 6ms/step - loss: nan - acc: 0.3333\n",
            "Epoch 60/100\n",
            "1/1 [==============================] - 0s 7ms/step - loss: nan - acc: 0.3333\n",
            "Epoch 61/100\n",
            "1/1 [==============================] - 0s 5ms/step - loss: nan - acc: 0.3333\n",
            "Epoch 62/100\n",
            "1/1 [==============================] - 0s 8ms/step - loss: nan - acc: 0.3333\n",
            "Epoch 63/100\n",
            "1/1 [==============================] - 0s 5ms/step - loss: nan - acc: 0.3333\n",
            "Epoch 64/100\n",
            "1/1 [==============================] - 0s 9ms/step - loss: nan - acc: 0.3333\n",
            "Epoch 65/100\n",
            "1/1 [==============================] - 0s 6ms/step - loss: nan - acc: 0.3333\n",
            "Epoch 66/100\n",
            "1/1 [==============================] - 0s 9ms/step - loss: nan - acc: 0.3333\n",
            "Epoch 67/100\n",
            "1/1 [==============================] - 0s 63ms/step - loss: nan - acc: 0.3333\n",
            "Epoch 68/100\n",
            "1/1 [==============================] - 0s 7ms/step - loss: nan - acc: 0.3333\n",
            "Epoch 69/100\n",
            "1/1 [==============================] - 0s 10ms/step - loss: nan - acc: 0.3333\n",
            "Epoch 70/100\n",
            "1/1 [==============================] - 0s 6ms/step - loss: nan - acc: 0.3333\n",
            "Epoch 71/100\n",
            "1/1 [==============================] - 0s 6ms/step - loss: nan - acc: 0.3333\n",
            "Epoch 72/100\n",
            "1/1 [==============================] - 0s 21ms/step - loss: nan - acc: 0.3333\n",
            "Epoch 73/100\n",
            "1/1 [==============================] - 0s 6ms/step - loss: nan - acc: 0.3333\n",
            "Epoch 74/100\n",
            "1/1 [==============================] - 0s 6ms/step - loss: nan - acc: 0.3333\n",
            "Epoch 75/100\n",
            "1/1 [==============================] - 0s 8ms/step - loss: nan - acc: 0.3333\n",
            "Epoch 76/100\n",
            "1/1 [==============================] - 0s 16ms/step - loss: nan - acc: 0.3333\n",
            "Epoch 77/100\n",
            "1/1 [==============================] - 0s 19ms/step - loss: nan - acc: 0.3333\n",
            "Epoch 78/100\n",
            "1/1 [==============================] - 0s 4ms/step - loss: nan - acc: 0.3333\n",
            "Epoch 79/100\n",
            "1/1 [==============================] - 0s 5ms/step - loss: nan - acc: 0.3333\n",
            "Epoch 80/100\n",
            "1/1 [==============================] - 0s 8ms/step - loss: nan - acc: 0.3333\n",
            "Epoch 81/100\n",
            "1/1 [==============================] - 0s 3ms/step - loss: nan - acc: 0.3333\n",
            "Epoch 82/100\n",
            "1/1 [==============================] - 0s 5ms/step - loss: nan - acc: 0.3333\n",
            "Epoch 83/100\n",
            "1/1 [==============================] - 0s 9ms/step - loss: nan - acc: 0.3333\n",
            "Epoch 84/100\n",
            "1/1 [==============================] - 0s 4ms/step - loss: nan - acc: 0.3333\n",
            "Epoch 85/100\n",
            "1/1 [==============================] - 0s 4ms/step - loss: nan - acc: 0.3333\n",
            "Epoch 86/100\n",
            "1/1 [==============================] - 0s 11ms/step - loss: nan - acc: 0.3333\n",
            "Epoch 87/100\n",
            "1/1 [==============================] - 0s 5ms/step - loss: nan - acc: 0.3333\n",
            "Epoch 88/100\n",
            "1/1 [==============================] - 0s 6ms/step - loss: nan - acc: 0.3333\n",
            "Epoch 89/100\n",
            "1/1 [==============================] - 0s 9ms/step - loss: nan - acc: 0.3333\n",
            "Epoch 90/100\n",
            "1/1 [==============================] - 0s 4ms/step - loss: nan - acc: 0.3333\n",
            "Epoch 91/100\n",
            "1/1 [==============================] - 0s 4ms/step - loss: nan - acc: 0.3333\n",
            "Epoch 92/100\n",
            "1/1 [==============================] - 0s 4ms/step - loss: nan - acc: 0.3333\n",
            "Epoch 93/100\n",
            "1/1 [==============================] - 0s 8ms/step - loss: nan - acc: 0.3333\n",
            "Epoch 94/100\n",
            "1/1 [==============================] - 0s 4ms/step - loss: nan - acc: 0.3333\n",
            "Epoch 95/100\n",
            "1/1 [==============================] - 0s 7ms/step - loss: nan - acc: 0.3333\n",
            "Epoch 96/100\n",
            "1/1 [==============================] - 0s 8ms/step - loss: nan - acc: 0.3333\n",
            "Epoch 97/100\n",
            "1/1 [==============================] - 0s 17ms/step - loss: nan - acc: 0.3333\n",
            "Epoch 98/100\n",
            "1/1 [==============================] - 0s 6ms/step - loss: nan - acc: 0.3333\n",
            "Epoch 99/100\n",
            "1/1 [==============================] - 0s 7ms/step - loss: nan - acc: 0.3333\n",
            "Epoch 100/100\n",
            "1/1 [==============================] - 0s 10ms/step - loss: nan - acc: 0.3333\n"
          ],
          "name": "stdout"
        }
      ]
    },
    {
      "cell_type": "code",
      "metadata": {
        "colab": {
          "base_uri": "https://localhost:8080/",
          "height": 282
        },
        "id": "rnIr51NyKoMP",
        "outputId": "d9434335-a695-4144-dd10-7a892571e6d6"
      },
      "source": [
        "history.history.keys()\n",
        "plt.plot(history.epoch, history.history.get('acc'))"
      ],
      "execution_count": 24,
      "outputs": [
        {
          "output_type": "execute_result",
          "data": {
            "text/plain": [
              "[<matplotlib.lines.Line2D at 0x7f9a2794d7d0>]"
            ]
          },
          "metadata": {
            "tags": []
          },
          "execution_count": 24
        },
        {
          "output_type": "display_data",
          "data": {
            "image/png": "[encoded data removed]",
            "text/plain": [
              "<Figure size 432x288 with 1 Axes>"
            ]
          },
          "metadata": {
            "tags": [],
            "needs_background": "light"
          }
        }
      ]
    }
  ]
}