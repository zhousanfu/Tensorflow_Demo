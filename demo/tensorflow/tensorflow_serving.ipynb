{
  "nbformat": 4,
  "nbformat_minor": 0,
  "metadata": {
    "colab": {
      "name": "tf_serving.ipynb",
      "provenance": [],
      "include_colab_link": true
    },
    "kernelspec": {
      "name": "python3",
      "display_name": "Python 3"
    }
  },
  "cells": [
    {
      "cell_type": "markdown",
      "metadata": {
        "id": "view-in-github",
        "colab_type": "text"
      },
      "source": [
        "<a href=\"https://colab.research.google.com/github/zhousanfu/Tensorflow_Demo/blob/master/tf_serving.ipynb\" target=\"_parent\"><img src=\"https://colab.research.google.com/assets/colab-badge.svg\" alt=\"Open In Colab\"/></a>"
      ]
    },
    {
      "cell_type": "code",
      "metadata": {
        "id": "LfE9rPpSopCG",
        "colab": {
          "base_uri": "https://localhost:8080/",
          "height": 52
        },
        "outputId": "1aab357d-4c2d-4f35-d5f9-1698aae5eb64"
      },
      "source": [
        "%tensorflow_version 2.x\n",
        "import tensorflow as tf\n",
        "print(tf.__version__)\n",
        "from tensorflow.keras import * "
      ],
      "execution_count": null,
      "outputs": [
        {
          "output_type": "stream",
          "text": [
            "TensorFlow 2.x selected.\n",
            "2.1.0\n"
          ],
          "name": "stdout"
        }
      ]
    },
    {
      "cell_type": "code",
      "metadata": {
        "id": "Np5LVhKhZE9-"
      },
      "source": [
        "# Helper libraries\n",
        "import numpy as np\n",
        "import matplotlib.pyplot as plt\n",
        "import os\n",
        "import subprocess\n"
      ],
      "execution_count": null,
      "outputs": []
    },
    {
      "cell_type": "markdown",
      "metadata": {
        "id": "zp5KP5IUGpc5"
      },
      "source": [
        "### 一，生成pb模型文件"
      ]
    },
    {
      "cell_type": "code",
      "metadata": {
        "id": "3Cgz7l6vZE7H",
        "colab": {
          "base_uri": "https://localhost:8080/",
          "height": 1000
        },
        "outputId": "0350495d-e728-472e-86f3-5a66aa16a9cb"
      },
      "source": [
        "from tensorflow.keras import models,layers,optimizers\n",
        "\n",
        "## 样本数量\n",
        "n = 800\n",
        "\n",
        "## 生成测试用数据集\n",
        "X = tf.random.uniform([n,2],minval=-10,maxval=10) \n",
        "w0 = tf.constant([[2.0],[-1.0]])\n",
        "b0 = tf.constant(3.0)\n",
        "\n",
        "Y = X@w0 + b0 + tf.random.normal([n,1],mean = 0.0,stddev= 2.0)  # @表示矩阵乘法,增加正态扰动\n",
        "\n",
        "## 建立模型\n",
        "tf.keras.backend.clear_session()\n",
        "inputs = layers.Input(shape = (2,),name =\"inputs\") #设置输入名字为inputs\n",
        "outputs = layers.Dense(1, name = \"outputs\")(inputs) #设置输出名字为outputs\n",
        "linear = models.Model(inputs = inputs,outputs = outputs)\n",
        "linear.summary()\n",
        "\n",
        "## 使用fit方法进行训练\n",
        "linear.compile(optimizer=\"rmsprop\",loss=\"mse\",metrics=[\"mae\"])\n",
        "linear.fit(X,Y,batch_size = 8,epochs = 100)  \n",
        "\n",
        "tf.print(\"w = \",linear.layers[1].kernel)\n",
        "tf.print(\"b = \",linear.layers[1].bias)\n",
        "\n",
        "## 将模型保存成pb格式文件\n",
        "export_path = \"./data/linear_model/\"\n",
        "version = \"1\"       #后续可以通过版本号进行模型版本迭代与管理\n",
        "linear.save(export_path+version, save_format=\"tf\") \n"
      ],
      "execution_count": null,
      "outputs": [
        {
          "output_type": "stream",
          "text": [
            "Model: \"model\"\n",
            "_________________________________________________________________\n",
            "Layer (type)                 Output Shape              Param #   \n",
            "=================================================================\n",
            "inputs (InputLayer)          [(None, 2)]               0         \n",
            "_________________________________________________________________\n",
            "outputs (Dense)              (None, 1)                 3         \n",
            "=================================================================\n",
            "Total params: 3\n",
            "Trainable params: 3\n",
            "Non-trainable params: 0\n",
            "_________________________________________________________________\n",
            "Train on 800 samples\n",
            "Epoch 1/100\n",
            "800/800 [==============================] - 1s 779us/sample - loss: 137.6515 - mae: 9.6125\n",
            "Epoch 2/100\n",
            "800/800 [==============================] - 0s 150us/sample - loss: 121.6725 - mae: 9.0375\n",
            "Epoch 3/100\n",
            "800/800 [==============================] - 0s 153us/sample - loss: 107.3437 - mae: 8.4821\n",
            "Epoch 4/100\n",
            "800/800 [==============================] - 0s 144us/sample - loss: 93.2673 - mae: 7.9151\n",
            "Epoch 5/100\n",
            "800/800 [==============================] - 0s 155us/sample - loss: 81.1211 - mae: 7.3734\n",
            "Epoch 6/100\n",
            "800/800 [==============================] - 0s 158us/sample - loss: 69.5489 - mae: 6.8208\n",
            "Epoch 7/100\n",
            "800/800 [==============================] - 0s 153us/sample - loss: 59.1056 - mae: 6.2838\n",
            "Epoch 8/100\n",
            "800/800 [==============================] - 0s 157us/sample - loss: 49.5466 - mae: 5.7459\n",
            "Epoch 9/100\n",
            "800/800 [==============================] - 0s 154us/sample - loss: 41.1882 - mae: 5.2346\n",
            "Epoch 10/100\n",
            "800/800 [==============================] - 0s 154us/sample - loss: 33.9012 - mae: 4.7448\n",
            "Epoch 11/100\n",
            "800/800 [==============================] - 0s 157us/sample - loss: 27.6882 - mae: 4.2772\n",
            "Epoch 12/100\n",
            "800/800 [==============================] - 0s 159us/sample - loss: 22.4306 - mae: 3.8430\n",
            "Epoch 13/100\n",
            "800/800 [==============================] - 0s 150us/sample - loss: 18.0699 - mae: 3.4414\n",
            "Epoch 14/100\n",
            "800/800 [==============================] - 0s 163us/sample - loss: 14.4528 - mae: 3.0756\n",
            "Epoch 15/100\n",
            "800/800 [==============================] - 0s 152us/sample - loss: 11.7295 - mae: 2.7564\n",
            "Epoch 16/100\n",
            "800/800 [==============================] - 0s 147us/sample - loss: 9.6906 - mae: 2.5091\n",
            "Epoch 17/100\n",
            "800/800 [==============================] - 0s 163us/sample - loss: 8.1926 - mae: 2.3172\n",
            "Epoch 18/100\n",
            "800/800 [==============================] - 0s 152us/sample - loss: 7.2178 - mae: 2.1854\n",
            "Epoch 19/100\n",
            "800/800 [==============================] - 0s 159us/sample - loss: 6.6085 - mae: 2.0975\n",
            "Epoch 20/100\n",
            "800/800 [==============================] - 0s 137us/sample - loss: 6.2003 - mae: 2.0311\n",
            "Epoch 21/100\n",
            "800/800 [==============================] - 0s 147us/sample - loss: 5.8972 - mae: 1.9748\n",
            "Epoch 22/100\n",
            "800/800 [==============================] - 0s 161us/sample - loss: 5.6436 - mae: 1.9279\n",
            "Epoch 23/100\n",
            "800/800 [==============================] - 0s 148us/sample - loss: 5.4191 - mae: 1.8851\n",
            "Epoch 24/100\n",
            "800/800 [==============================] - 0s 150us/sample - loss: 5.2194 - mae: 1.8485\n",
            "Epoch 25/100\n",
            "800/800 [==============================] - 0s 145us/sample - loss: 5.0320 - mae: 1.8087\n",
            "Epoch 26/100\n",
            "800/800 [==============================] - 0s 149us/sample - loss: 4.8650 - mae: 1.7743\n",
            "Epoch 27/100\n",
            "800/800 [==============================] - 0s 146us/sample - loss: 4.7168 - mae: 1.7432\n",
            "Epoch 28/100\n",
            "800/800 [==============================] - 0s 154us/sample - loss: 4.5875 - mae: 1.7146\n",
            "Epoch 29/100\n",
            "800/800 [==============================] - 0s 149us/sample - loss: 4.4735 - mae: 1.6899\n",
            "Epoch 30/100\n",
            "800/800 [==============================] - 0s 147us/sample - loss: 4.3662 - mae: 1.6683\n",
            "Epoch 31/100\n",
            "800/800 [==============================] - 0s 150us/sample - loss: 4.2789 - mae: 1.6489\n",
            "Epoch 32/100\n",
            "800/800 [==============================] - 0s 156us/sample - loss: 4.2090 - mae: 1.6332\n",
            "Epoch 33/100\n",
            "800/800 [==============================] - 0s 154us/sample - loss: 4.1456 - mae: 1.6194\n",
            "Epoch 34/100\n",
            "800/800 [==============================] - 0s 166us/sample - loss: 4.0930 - mae: 1.6068\n",
            "Epoch 35/100\n",
            "800/800 [==============================] - 0s 144us/sample - loss: 4.0485 - mae: 1.5968\n",
            "Epoch 36/100\n",
            "800/800 [==============================] - 0s 143us/sample - loss: 4.0156 - mae: 1.5865\n",
            "Epoch 37/100\n",
            "800/800 [==============================] - 0s 154us/sample - loss: 3.9875 - mae: 1.5786\n",
            "Epoch 38/100\n",
            "800/800 [==============================] - 0s 169us/sample - loss: 3.9636 - mae: 1.5736\n",
            "Epoch 39/100\n",
            "800/800 [==============================] - 0s 147us/sample - loss: 3.9466 - mae: 1.5674\n",
            "Epoch 40/100\n",
            "800/800 [==============================] - 0s 157us/sample - loss: 3.9318 - mae: 1.5653\n",
            "Epoch 41/100\n",
            "800/800 [==============================] - 0s 141us/sample - loss: 3.9235 - mae: 1.5603\n",
            "Epoch 42/100\n",
            "800/800 [==============================] - 0s 146us/sample - loss: 3.9147 - mae: 1.5585\n",
            "Epoch 43/100\n",
            "800/800 [==============================] - 0s 158us/sample - loss: 3.9088 - mae: 1.5573\n",
            "Epoch 44/100\n",
            "800/800 [==============================] - 0s 156us/sample - loss: 3.9038 - mae: 1.5549\n",
            "Epoch 45/100\n",
            "800/800 [==============================] - 0s 148us/sample - loss: 3.8997 - mae: 1.5539\n",
            "Epoch 46/100\n",
            "800/800 [==============================] - 0s 152us/sample - loss: 3.8969 - mae: 1.5522\n",
            "Epoch 47/100\n",
            "800/800 [==============================] - 0s 143us/sample - loss: 3.8950 - mae: 1.5522\n",
            "Epoch 48/100\n",
            "800/800 [==============================] - 0s 148us/sample - loss: 3.8921 - mae: 1.5509\n",
            "Epoch 49/100\n",
            "800/800 [==============================] - 0s 160us/sample - loss: 3.8929 - mae: 1.5510\n",
            "Epoch 50/100\n",
            "800/800 [==============================] - 0s 163us/sample - loss: 3.8911 - mae: 1.5502\n",
            "Epoch 51/100\n",
            "800/800 [==============================] - 0s 157us/sample - loss: 3.8903 - mae: 1.5489\n",
            "Epoch 52/100\n",
            "800/800 [==============================] - 0s 183us/sample - loss: 3.8897 - mae: 1.5502\n",
            "Epoch 53/100\n",
            "800/800 [==============================] - 0s 168us/sample - loss: 3.8896 - mae: 1.5508\n",
            "Epoch 54/100\n",
            "800/800 [==============================] - 0s 172us/sample - loss: 3.8887 - mae: 1.5487\n",
            "Epoch 55/100\n",
            "800/800 [==============================] - 0s 153us/sample - loss: 3.8893 - mae: 1.5500\n",
            "Epoch 56/100\n",
            "800/800 [==============================] - 0s 167us/sample - loss: 3.8896 - mae: 1.5484\n",
            "Epoch 57/100\n",
            "800/800 [==============================] - 0s 208us/sample - loss: 3.8897 - mae: 1.5496\n",
            "Epoch 58/100\n",
            "800/800 [==============================] - 0s 172us/sample - loss: 3.8885 - mae: 1.5497\n",
            "Epoch 59/100\n",
            "800/800 [==============================] - 0s 177us/sample - loss: 3.8881 - mae: 1.5496\n",
            "Epoch 60/100\n",
            "800/800 [==============================] - 0s 182us/sample - loss: 3.8873 - mae: 1.5480\n",
            "Epoch 61/100\n",
            "800/800 [==============================] - 0s 183us/sample - loss: 3.8889 - mae: 1.5484\n",
            "Epoch 62/100\n",
            "800/800 [==============================] - 0s 207us/sample - loss: 3.8894 - mae: 1.5480\n",
            "Epoch 63/100\n",
            "800/800 [==============================] - 0s 169us/sample - loss: 3.8892 - mae: 1.5481\n",
            "Epoch 64/100\n",
            "800/800 [==============================] - 0s 163us/sample - loss: 3.8883 - mae: 1.5477\n",
            "Epoch 65/100\n",
            "800/800 [==============================] - 0s 173us/sample - loss: 3.8879 - mae: 1.5475\n",
            "Epoch 66/100\n",
            "800/800 [==============================] - 0s 167us/sample - loss: 3.8884 - mae: 1.5479\n",
            "Epoch 67/100\n",
            "800/800 [==============================] - 0s 169us/sample - loss: 3.8892 - mae: 1.5482\n",
            "Epoch 68/100\n",
            "800/800 [==============================] - 0s 157us/sample - loss: 3.8882 - mae: 1.5477\n",
            "Epoch 69/100\n",
            "800/800 [==============================] - 0s 168us/sample - loss: 3.8866 - mae: 1.5470\n",
            "Epoch 70/100\n",
            "800/800 [==============================] - 0s 176us/sample - loss: 3.8892 - mae: 1.5482\n",
            "Epoch 71/100\n",
            "800/800 [==============================] - 0s 161us/sample - loss: 3.8860 - mae: 1.5485\n",
            "Epoch 72/100\n",
            "800/800 [==============================] - 0s 169us/sample - loss: 3.8883 - mae: 1.5472\n",
            "Epoch 73/100\n",
            "800/800 [==============================] - 0s 164us/sample - loss: 3.8881 - mae: 1.5472\n",
            "Epoch 74/100\n",
            "800/800 [==============================] - 0s 155us/sample - loss: 3.8850 - mae: 1.5483\n",
            "Epoch 75/100\n",
            "800/800 [==============================] - 0s 175us/sample - loss: 3.8880 - mae: 1.5469\n",
            "Epoch 76/100\n",
            "800/800 [==============================] - 0s 173us/sample - loss: 3.8863 - mae: 1.5480\n",
            "Epoch 77/100\n",
            "800/800 [==============================] - 0s 177us/sample - loss: 3.8889 - mae: 1.5476\n",
            "Epoch 78/100\n",
            "800/800 [==============================] - 0s 194us/sample - loss: 3.8879 - mae: 1.5485\n",
            "Epoch 79/100\n",
            "800/800 [==============================] - 0s 178us/sample - loss: 3.8883 - mae: 1.5475\n",
            "Epoch 80/100\n",
            "800/800 [==============================] - 0s 166us/sample - loss: 3.8884 - mae: 1.5483\n",
            "Epoch 81/100\n",
            "800/800 [==============================] - 0s 173us/sample - loss: 3.8893 - mae: 1.5476\n",
            "Epoch 82/100\n",
            "800/800 [==============================] - 0s 176us/sample - loss: 3.8882 - mae: 1.5485\n",
            "Epoch 83/100\n",
            "800/800 [==============================] - 0s 158us/sample - loss: 3.8865 - mae: 1.5485\n",
            "Epoch 84/100\n",
            "800/800 [==============================] - 0s 166us/sample - loss: 3.8876 - mae: 1.5471\n",
            "Epoch 85/100\n",
            "800/800 [==============================] - 0s 156us/sample - loss: 3.8873 - mae: 1.5467\n",
            "Epoch 86/100\n",
            "800/800 [==============================] - 0s 161us/sample - loss: 3.8865 - mae: 1.5480\n",
            "Epoch 87/100\n",
            "800/800 [==============================] - 0s 175us/sample - loss: 3.8890 - mae: 1.5489\n",
            "Epoch 88/100\n",
            "800/800 [==============================] - 0s 177us/sample - loss: 3.8869 - mae: 1.5487\n",
            "Epoch 89/100\n",
            "800/800 [==============================] - 0s 157us/sample - loss: 3.8887 - mae: 1.5482\n",
            "Epoch 90/100\n",
            "800/800 [==============================] - 0s 188us/sample - loss: 3.8873 - mae: 1.5477\n",
            "Epoch 91/100\n",
            "800/800 [==============================] - 0s 164us/sample - loss: 3.8881 - mae: 1.5474\n",
            "Epoch 92/100\n",
            "800/800 [==============================] - 0s 163us/sample - loss: 3.8865 - mae: 1.5475\n",
            "Epoch 93/100\n",
            "800/800 [==============================] - 0s 157us/sample - loss: 3.8890 - mae: 1.5485\n",
            "Epoch 94/100\n",
            "800/800 [==============================] - 0s 158us/sample - loss: 3.8882 - mae: 1.5485\n",
            "Epoch 95/100\n",
            "800/800 [==============================] - 0s 148us/sample - loss: 3.8880 - mae: 1.5481\n",
            "Epoch 96/100\n",
            "800/800 [==============================] - 0s 146us/sample - loss: 3.8890 - mae: 1.5478\n",
            "Epoch 97/100\n",
            "800/800 [==============================] - 0s 147us/sample - loss: 3.8873 - mae: 1.5487\n",
            "Epoch 98/100\n",
            "800/800 [==============================] - 0s 158us/sample - loss: 3.8878 - mae: 1.5467\n",
            "Epoch 99/100\n",
            "800/800 [==============================] - 0s 147us/sample - loss: 3.8878 - mae: 1.5477\n",
            "Epoch 100/100\n",
            "800/800 [==============================] - 0s 147us/sample - loss: 3.8875 - mae: 1.5479\n",
            "w =  [[2.00986362]\n",
            " [-1.01529706]]\n",
            "b =  [3.08619261]\n",
            "WARNING:tensorflow:From /tensorflow-2.1.0/python3.6/tensorflow_core/python/ops/resource_variable_ops.py:1786: calling BaseResourceVariable.__init__ (from tensorflow.python.ops.resource_variable_ops) with constraint is deprecated and will be removed in a future version.\n",
            "Instructions for updating:\n",
            "If using Keras pass *_constraint arguments to layers.\n",
            "INFO:tensorflow:Assets written to: ./data/linear_model/1/assets\n"
          ],
          "name": "stdout"
        }
      ]
    },
    {
      "cell_type": "code",
      "metadata": {
        "id": "3brFeTw5ZE3i",
        "colab": {
          "base_uri": "https://localhost:8080/",
          "height": 35
        },
        "outputId": "22ee5db0-dc9e-46b2-ba40-90006d09d695"
      },
      "source": [
        "#查看保存的模型文件\n",
        "!ls {export_path+version}"
      ],
      "execution_count": null,
      "outputs": [
        {
          "output_type": "stream",
          "text": [
            "assets\tsaved_model.pb\tvariables\n"
          ],
          "name": "stdout"
        }
      ]
    },
    {
      "cell_type": "code",
      "metadata": {
        "id": "3eY2GOLSZE1H"
      },
      "source": [
        "# 查看模型文件相关信息\n",
        "!saved_model_cli show --dir {export_path+str(version)} --all"
      ],
      "execution_count": null,
      "outputs": []
    },
    {
      "cell_type": "markdown",
      "metadata": {
        "id": "FJSyshdpG1r_"
      },
      "source": [
        "### 二，安装 tf-serving"
      ]
    },
    {
      "cell_type": "code",
      "metadata": {
        "id": "LBPXtH8iZEup"
      },
      "source": [
        "!curl https://storage.googleapis.com/tensorflow-serving-apt/tensorflow-serving.release.pub.gpg | apt-key add -"
      ],
      "execution_count": null,
      "outputs": []
    },
    {
      "cell_type": "code",
      "metadata": {
        "id": "KhciWl7WZEsJ",
        "colab": {
          "base_uri": "https://localhost:8080/",
          "height": 384
        },
        "outputId": "dfa8db99-4948-4c54-ce62-2a8e6f913264"
      },
      "source": [
        "!apt update"
      ],
      "execution_count": null,
      "outputs": [
        {
          "output_type": "stream",
          "text": [
            "\u001b[33m\r0% [Working]\u001b[0m\r            \rIgn:1 https://developer.download.nvidia.com/compute/cuda/repos/ubuntu1804/x86_64  InRelease\n",
            "\u001b[33m\r0% [Waiting for headers] [Waiting for headers] [Connecting to cloud.r-project.o\u001b[0m\r                                                                               \rHit:2 http://archive.ubuntu.com/ubuntu bionic InRelease\n",
            "\u001b[33m\r0% [Waiting for headers] [Connecting to cloud.r-project.org] [Waiting for heade\u001b[0m\r                                                                               \rGet:3 http://security.ubuntu.com/ubuntu bionic-security InRelease [88.7 kB]\n",
            "\r                                                                               \rIgn:4 https://developer.download.nvidia.com/compute/machine-learning/repos/ubuntu1804/x86_64  InRelease\n",
            "\r                                                                               \rGet:5 http://ppa.launchpad.net/graphics-drivers/ppa/ubuntu bionic InRelease [21.3 kB]\n",
            "\u001b[33m\r0% [Waiting for headers] [3 InRelease 14.2 kB/88.7 kB 16%] [Connecting to cloud\u001b[0m\u001b[33m\r0% [2 InRelease gpgv 242 kB] [Waiting for headers] [3 InRelease 14.2 kB/88.7 kB\u001b[0m\r                                                                               \rHit:6 https://developer.download.nvidia.com/compute/cuda/repos/ubuntu1804/x86_64  Release\n",
            "\u001b[33m\r0% [2 InRelease gpgv 242 kB] [Waiting for headers] [3 InRelease 14.2 kB/88.7 kB\u001b[0m\r                                                                               \rHit:7 https://developer.download.nvidia.com/compute/machine-learning/repos/ubuntu1804/x86_64  Release\n",
            "\u001b[33m\r0% [2 InRelease gpgv 242 kB] [Waiting for headers] [3 InRelease 14.2 kB/88.7 kB\u001b[0m\r                                                                               \rGet:8 http://archive.ubuntu.com/ubuntu bionic-updates InRelease [88.7 kB]\n",
            "\u001b[33m\r0% [2 InRelease gpgv 242 kB] [8 InRelease 14.2 kB/88.7 kB 16%] [3 InRelease 14.\u001b[0m\u001b[33m\r0% [2 InRelease gpgv 242 kB] [8 InRelease 15.6 kB/88.7 kB 18%] [3 InRelease 25.\u001b[0m\r                                                                               \rGet:9 https://cloud.r-project.org/bin/linux/ubuntu bionic-cran35/ InRelease [3,626 B]\n",
            "\u001b[33m\r0% [2 InRelease gpgv 242 kB] [8 InRelease 47.5 kB/88.7 kB 54%] [3 InRelease 66.\u001b[0m\u001b[33m\r0% [2 InRelease gpgv 242 kB] [8 InRelease 47.5 kB/88.7 kB 54%] [3 InRelease 66.\u001b[0m\u001b[33m\r0% [2 InRelease gpgv 242 kB] [8 InRelease 47.5 kB/88.7 kB 54%] [Waiting for hea\u001b[0m\u001b[33m\r                                                                               \r0% [8 InRelease 47.5 kB/88.7 kB 54%] [Waiting for headers]\u001b[0m\u001b[33m\r0% [Release.gpg gpgv 564 B] [8 InRelease 47.5 kB/88.7 kB 54%] [Waiting for head\u001b[0m\r                                                                               \rHit:10 http://ppa.launchpad.net/marutter/c2d4u3.5/ubuntu bionic InRelease\n",
            "Get:11 http://archive.ubuntu.com/ubuntu bionic-backports InRelease [74.6 kB]\n",
            "Get:14 http://ppa.launchpad.net/graphics-drivers/ppa/ubuntu bionic/main amd64 Packages [37.1 kB]\n",
            "Get:15 http://security.ubuntu.com/ubuntu bionic-security/main amd64 Packages [836 kB]\n",
            "Get:16 http://archive.ubuntu.com/ubuntu bionic-updates/main amd64 Packages [1,128 kB]\n",
            "Get:17 http://archive.ubuntu.com/ubuntu bionic-updates/universe amd64 Packages [1,351 kB]\n",
            "Fetched 3,630 kB in 3s (1,439 kB/s)\n",
            "Reading package lists... Done\n",
            "Building dependency tree       \n",
            "Reading state information... Done\n",
            "40 packages can be upgraded. Run 'apt list --upgradable' to see them.\n"
          ],
          "name": "stdout"
        }
      ]
    },
    {
      "cell_type": "code",
      "metadata": {
        "id": "t9p99r2rB0PR",
        "colab": {
          "base_uri": "https://localhost:8080/",
          "height": 453
        },
        "outputId": "237c7f66-0375-4174-acd7-46720f1c72e4"
      },
      "source": [
        "!echo \"deb http://storage.googleapis.com/tensorflow-serving-apt stable tensorflow-model-server tensorflow-model-server-universal\" | tee /etc/apt/sources.list.d/tensorflow-serving.list && \\\n",
        "curl https://storage.googleapis.com/tensorflow-serving-apt/tensorflow-serving.release.pub.gpg | apt-key add -\n",
        "!apt update"
      ],
      "execution_count": null,
      "outputs": [
        {
          "output_type": "stream",
          "text": [
            "deb http://storage.googleapis.com/tensorflow-serving-apt stable tensorflow-model-server tensorflow-model-server-universal\n",
            "  % Total    % Received % Xferd  Average Speed   Time    Time     Time  Current\n",
            "                                 Dload  Upload   Total   Spent    Left  Speed\n",
            "\r  0     0    0     0    0     0      0      0 --:--:-- --:--:-- --:--:--     0\r100  2943  100  2943    0     0   110k      0 --:--:-- --:--:-- --:--:--  110k\n",
            "OK\n",
            "Get:1 http://storage.googleapis.com/tensorflow-serving-apt stable InRelease [3,012 B]\n",
            "Get:2 http://security.ubuntu.com/ubuntu bionic-security InRelease [88.7 kB]\n",
            "Hit:3 https://cloud.r-project.org/bin/linux/ubuntu bionic-cran35/ InRelease\n",
            "Ign:4 https://developer.download.nvidia.com/compute/cuda/repos/ubuntu1804/x86_64  InRelease\n",
            "Hit:5 http://ppa.launchpad.net/graphics-drivers/ppa/ubuntu bionic InRelease\n",
            "Hit:6 http://archive.ubuntu.com/ubuntu bionic InRelease\n",
            "Ign:7 https://developer.download.nvidia.com/compute/machine-learning/repos/ubuntu1804/x86_64  InRelease\n",
            "Hit:8 https://developer.download.nvidia.com/compute/cuda/repos/ubuntu1804/x86_64  Release\n",
            "Hit:9 https://developer.download.nvidia.com/compute/machine-learning/repos/ubuntu1804/x86_64  Release\n",
            "Hit:10 http://archive.ubuntu.com/ubuntu bionic-updates InRelease\n",
            "Get:11 http://storage.googleapis.com/tensorflow-serving-apt stable/tensorflow-model-server-universal amd64 Packages [361 B]\n",
            "Hit:12 http://ppa.launchpad.net/marutter/c2d4u3.5/ubuntu bionic InRelease\n",
            "Hit:13 http://archive.ubuntu.com/ubuntu bionic-backports InRelease\n",
            "Get:14 http://storage.googleapis.com/tensorflow-serving-apt stable/tensorflow-model-server amd64 Packages [354 B]\n",
            "Fetched 92.5 kB in 2s (49.2 kB/s)\n",
            "Reading package lists... Done\n",
            "Building dependency tree       \n",
            "Reading state information... Done\n",
            "40 packages can be upgraded. Run 'apt list --upgradable' to see them.\n"
          ],
          "name": "stdout"
        }
      ]
    },
    {
      "cell_type": "code",
      "metadata": {
        "id": "uGvJaa6FZEoH",
        "colab": {
          "base_uri": "https://localhost:8080/",
          "height": 297
        },
        "outputId": "a3fc9fe6-d235-4587-b820-dbfc9459220f"
      },
      "source": [
        "!apt-get install tensorflow-model-server"
      ],
      "execution_count": null,
      "outputs": [
        {
          "output_type": "stream",
          "text": [
            "Reading package lists... Done\n",
            "Building dependency tree       \n",
            "Reading state information... Done\n",
            "The following NEW packages will be installed:\n",
            "  tensorflow-model-server\n",
            "0 upgraded, 1 newly installed, 0 to remove and 40 not upgraded.\n",
            "Need to get 175 MB of archives.\n",
            "After this operation, 0 B of additional disk space will be used.\n",
            "Get:1 http://storage.googleapis.com/tensorflow-serving-apt stable/tensorflow-model-server amd64 tensorflow-model-server all 2.1.0 [175 MB]\n",
            "Fetched 175 MB in 3s (64.1 MB/s)\n",
            "Selecting previously unselected package tensorflow-model-server.\n",
            "(Reading database ... 134448 files and directories currently installed.)\n",
            "Preparing to unpack .../tensorflow-model-server_2.1.0_all.deb ...\n",
            "Unpacking tensorflow-model-server (2.1.0) ...\n",
            "Setting up tensorflow-model-server (2.1.0) ...\n"
          ],
          "name": "stdout"
        }
      ]
    },
    {
      "cell_type": "markdown",
      "metadata": {
        "id": "Dd0_IYd-G80k"
      },
      "source": [
        "### 三，启动 tf-serving"
      ]
    },
    {
      "cell_type": "code",
      "metadata": {
        "id": "t5v4PH2lCuhE"
      },
      "source": [
        "import os\n",
        "os.environ[\"MODEL_DIR\"] = \"/content/data/linear_model/\""
      ],
      "execution_count": null,
      "outputs": []
    },
    {
      "cell_type": "code",
      "metadata": {
        "id": "rJsm_s7FC65S",
        "colab": {
          "base_uri": "https://localhost:8080/",
          "height": 35
        },
        "outputId": "d9db002d-4aa6-49f9-a7ce-7afcf81d3ae7"
      },
      "source": [
        "os.environ[\"MODEL_DIR\"]"
      ],
      "execution_count": null,
      "outputs": [
        {
          "output_type": "execute_result",
          "data": {
            "text/plain": [
              "'/content/data/linear_model/'"
            ]
          },
          "metadata": {
            "tags": []
          },
          "execution_count": 10
        }
      ]
    },
    {
      "cell_type": "code",
      "metadata": {
        "id": "wKzijKLqE4XA",
        "colab": {
          "base_uri": "https://localhost:8080/",
          "height": 35
        },
        "outputId": "de8b0bab-c3d7-45b4-8116-ea5b41c1127e"
      },
      "source": [
        "!ls /content/data/linear_model/"
      ],
      "execution_count": null,
      "outputs": [
        {
          "output_type": "stream",
          "text": [
            "1\n"
          ],
          "name": "stdout"
        }
      ]
    },
    {
      "cell_type": "code",
      "metadata": {
        "id": "D0GXPNVhZEeh",
        "colab": {
          "base_uri": "https://localhost:8080/",
          "height": 35
        },
        "outputId": "0e810bff-bcb7-4729-d031-2f937e835653"
      },
      "source": [
        "%%bash --bg \n",
        "nohup tensorflow_model_server \\\n",
        "  --rest_api_port=8501 \\\n",
        "  --model_name=linear_model \\\n",
        "  --model_base_path=\"${MODEL_DIR}\" >server.log 2>&1"
      ],
      "execution_count": null,
      "outputs": [
        {
          "output_type": "stream",
          "text": [
            "Starting job # 0 in a separate thread.\n"
          ],
          "name": "stdout"
        }
      ]
    },
    {
      "cell_type": "code",
      "metadata": {
        "id": "Q0HQSvAzErfe",
        "colab": {
          "base_uri": "https://localhost:8080/",
          "height": 52
        },
        "outputId": "a32beaee-4a1e-450a-91e9-a8976da45321"
      },
      "source": [
        "# 查看日志，有可能会有报错信息\n",
        "!tail server.log"
      ],
      "execution_count": null,
      "outputs": [
        {
          "output_type": "stream",
          "text": [
            "[warn] getaddrinfo: address family for nodename not supported\n",
            "[evhttp_server.cc : 238] NET_LOG: Entering the event loop ...\n"
          ],
          "name": "stdout"
        }
      ]
    },
    {
      "cell_type": "markdown",
      "metadata": {
        "id": "iMkgpsvgHRTf"
      },
      "source": [
        "### 四，向服务API发送请求"
      ]
    },
    {
      "cell_type": "markdown",
      "metadata": {
        "id": "l4v6hQJQJs4P"
      },
      "source": [
        "可以使用任何编程语言的http功能发送请求，下面示范linux的 curl 命令发送请求，以及Python的requests库发送请求。"
      ]
    },
    {
      "cell_type": "markdown",
      "metadata": {
        "id": "35jg0QlRHceS"
      },
      "source": [
        "使用 Linux 的curl命令发送请求 "
      ]
    },
    {
      "cell_type": "code",
      "metadata": {
        "id": "6OHPZc_RB-YA",
        "colab": {
          "base_uri": "https://localhost:8080/",
          "height": 87
        },
        "outputId": "8cfa7ce3-8e39-427e-dde4-4806c14f55e7"
      },
      "source": [
        "!curl -d '{\"instances\": [[1.0, 2.0], [5.0,8.0]]}' \\\n",
        "    -X POST http://localhost:8501/v1/models/linear_model:predict"
      ],
      "execution_count": null,
      "outputs": [
        {
          "output_type": "stream",
          "text": [
            "{\n",
            "    \"predictions\": [[3.06546211], [5.01313448]\n",
            "    ]\n",
            "}"
          ],
          "name": "stdout"
        }
      ]
    },
    {
      "cell_type": "markdown",
      "metadata": {
        "id": "xj6l8bwUIV5g"
      },
      "source": [
        "利用 Python request库发送请求"
      ]
    },
    {
      "cell_type": "code",
      "metadata": {
        "id": "k2mSYdJTB-Nv",
        "colab": {
          "base_uri": "https://localhost:8080/",
          "height": 35
        },
        "outputId": "ac20f572-558f-44c4-c1aa-ddf4c8ed2bbf"
      },
      "source": [
        "import json\n",
        "data = json.dumps({\"signature_name\": \"serving_default\", \"instances\": [[1.0, 2.0], [5.0,7.0]]})\n",
        "\n",
        "import requests\n",
        "headers = {\"content-type\": \"application/json\"}\n",
        "json_response = requests.post('http://localhost:8501/v1/models/linear_model:predict', data=data, headers=headers)\n",
        "predictions = json.loads(json_response.text)[\"predictions\"]\n",
        "print(predictions)"
      ],
      "execution_count": null,
      "outputs": [
        {
          "output_type": "stream",
          "text": [
            "[[3.06546211], [6.02843142]]\n"
          ],
          "name": "stdout"
        }
      ]
    },
    {
      "cell_type": "code",
      "metadata": {
        "id": "TANrEDwIB9m8"
      },
      "source": [
        ""
      ],
      "execution_count": null,
      "outputs": []
    },
    {
      "cell_type": "code",
      "metadata": {
        "id": "KsVqXzqdGe77"
      },
      "source": [
        ""
      ],
      "execution_count": null,
      "outputs": []
    },
    {
      "cell_type": "code",
      "metadata": {
        "id": "kw9re3ruGe1I"
      },
      "source": [
        ""
      ],
      "execution_count": null,
      "outputs": []
    },
    {
      "cell_type": "code",
      "metadata": {
        "id": "b8FKWQ0DGenp"
      },
      "source": [
        ""
      ],
      "execution_count": null,
      "outputs": []
    }
  ]
}