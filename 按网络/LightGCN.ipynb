{
 "cells": [
  {
   "cell_type": "code",
   "execution_count": null,
   "metadata": {},
   "outputs": [],
   "source": [
    "# import pandas as pd\n",
    "# from sklearn.preprocessing import LabelEncoder\n",
    "\n",
    "# train_df = pd.read_csv('data/course/train.csv', encoding='utf-8')\n",
    "# test_df = pd.read_csv('data/course/test.csv', encoding='utf-8')\n",
    "# kg_df = pd.read_csv('data/course/rel_user_course.csv', encoding='utf-8')\n",
    "# concat_df = pd.concat([train_df, test_df, kg_df])\n",
    "# print(train_df.shape, test_df.shape, kg_df.shape, concat_df.shape)\n",
    "\n",
    "# le = LabelEncoder()\n",
    "# concat_df['user_id'] = le.fit_transform(concat_df['user'])\n",
    "# user_dict = dict(zip(le.classes_, le.transform(le.classes_)))\n",
    "# concat_df['course_id'] = le.fit_transform(concat_df['course'])\n",
    "# course_dict = dict(zip(le.classes_, le.transform(le.classes_)))\n",
    "\n",
    "# train_df['user'] = train_df['user'].map(user_dict)\n",
    "# train_df['course'] = train_df['course'].map(course_dict)\n",
    "# test_df['user'] = test_df['user'].map(user_dict)\n",
    "# test_df['course'] = test_df['course'].map(course_dict)\n",
    "# kg_df['user'] = kg_df['user'].map(user_dict)\n",
    "# kg_df['course'] = kg_df['course'].map(course_dict)\n",
    "\n",
    "# fw = open('data/course/raw/user_list.txt', 'w', encoding='utf-8')\n",
    "# fw.write('org_id remap_id'+'\\n')\n",
    "# for k,v in user_dict.items():\n",
    "#     fw.write(k + ' ' + str(v) + '\\n')\n",
    "# fw.close()\n",
    "\n",
    "# fw = open('data/course/raw/item_list.txt', 'w', encoding='utf-8')\n",
    "# fw.write('org_id remap_id'+'\\n')\n",
    "# for k,v in course_dict.items():\n",
    "#     fw.write(k + ' ' + str(v) + '\\n')\n",
    "# fw.close()\n",
    "\n",
    "# grouped_df = train_df.groupby('user')['course'].apply(list)\n",
    "# with open('data/course/raw/train.txt', 'w') as f:\n",
    "#     for index, row in grouped_df.iteritems():\n",
    "#         print(index, type(index), row, type(row))\n",
    "#         row_str = \" \".join(map(str, row))\n",
    "#         f.write(f\"{index} {row_str}\\n\")\n",
    "\n",
    "# grouped_df = test_df.groupby('user')['course'].apply(list)\n",
    "# with open('data/course/raw/test.txt', 'w') as f:\n",
    "#     for index, row in grouped_df.iteritems():\n",
    "#         print(index, type(index), row, type(row))\n",
    "#         row_str = \" \".join(map(str, row))\n",
    "#         f.write(f\"{index} {row_str}\\n\")\n",
    "\n",
    "# import json\n",
    "# import pandas as pd\n",
    "\n",
    "# csv_file = 'data/course/course.csv'\n",
    "# fr = open('data/course/course.csv', 'r', encoding='utf-8').readlines()\n",
    "# data = {}\n",
    "# for i in fr:\n",
    "#     if 'id,name' not in i:\n",
    "#         i = i.strip().split(',')\n",
    "#         data[i[0]] = i[1]\n",
    "# with open('data/course/course_naem.json', 'w') as json_file:\n",
    "#     json.dump(data, json_file, ensure_ascii=False)\n",
    "\n",
    "# df = pd.read_csv('study_flask/merged_recommendations_base.csv', sep=',')\n",
    "# print(df['id'])\n",
    "\n",
    "# with open('data/course/user_id.json', 'r') as file:\n",
    "#     user_id = json.load(file)\n",
    "\n",
    "# user_ids = []\n",
    "# for i in range(len(df['id'])):\n",
    "#     user_ids.append(user_id[str(i)])\n",
    "# df['id'] = user_ids\n",
    "# df.to_csv('study_flask/merged_recommendations.csv', index=False)\n",
    "# print(len(user_ids))\n",
    "# print(df['id'])\n"
   ]
  },
  {
   "cell_type": "code",
   "execution_count": 1,
   "metadata": {},
   "outputs": [
    {
     "name": "stderr",
     "output_type": "stream",
     "text": [
      "/opt/homebrew/Caskroom/miniconda/base/lib/python3.11/site-packages/tqdm/auto.py:21: TqdmWarning: IProgress not found. Please update jupyter and ipywidgets. See https://ipywidgets.readthedocs.io/en/stable/user_install.html\n",
      "  from .autonotebook import tqdm as notebook_tqdm\n"
     ]
    }
   ],
   "source": [
    "from typing import Callable, List, Optional\n",
    "from typing import Optional, Union\n",
    "from tqdm import tqdm\n",
    "import pandas as pd\n",
    "import json\n",
    "import torch\n",
    "from torch import Tensor\n",
    "import torch.nn.functional as F\n",
    "from torch.nn import Embedding, ModuleList\n",
    "from torch.nn.modules.loss import _Loss\n",
    "from torch_geometric.data import HeteroData, InMemoryDataset\n",
    "from torch_geometric.nn.conv import LGConv\n",
    "from torch_geometric.typing import Adj, OptTensor\n",
    "from torch_geometric.utils import is_sparse, to_edge_index\n",
    "from torch_geometric.utils import degree\n",
    "\n",
    "class LightGCN(torch.nn.Module):\n",
    "    def __init__(\n",
    "        self,\n",
    "        num_nodes: int,\n",
    "        embedding_dim: int,\n",
    "        num_layers: int,\n",
    "        alpha: Optional[Union[float, Tensor]] = None,\n",
    "        **kwargs,\n",
    "    ):\n",
    "        super().__init__()\n",
    "\n",
    "        self.num_nodes = num_nodes\n",
    "        self.embedding_dim = embedding_dim\n",
    "        self.num_layers = num_layers\n",
    "\n",
    "        if alpha is None:\n",
    "            alpha = 1. / (num_layers + 1)\n",
    "\n",
    "        if isinstance(alpha, Tensor):\n",
    "            assert alpha.size(0) == num_layers + 1\n",
    "        else:\n",
    "            alpha = torch.tensor([alpha] * (num_layers + 1))\n",
    "        self.register_buffer('alpha', alpha)\n",
    "\n",
    "        self.embedding = Embedding(num_nodes, embedding_dim)\n",
    "        self.convs = ModuleList([LGConv(**kwargs) for _ in range(num_layers)])\n",
    "\n",
    "        self.reset_parameters()\n",
    "\n",
    "    def reset_parameters(self):\n",
    "        torch.nn.init.xavier_uniform_(self.embedding.weight)\n",
    "        for conv in self.convs:\n",
    "            conv.reset_parameters()\n",
    "\n",
    "    def get_embedding(\n",
    "        self,\n",
    "        edge_index: Adj,\n",
    "        edge_weight: OptTensor = None,\n",
    "    ) -> Tensor:\n",
    "        r\"\"\"Returns the embedding of nodes in the graph.\"\"\"\n",
    "        x = self.embedding.weight\n",
    "        out = x * self.alpha[0]\n",
    "\n",
    "        for i in range(self.num_layers):\n",
    "            x = self.convs[i](x, edge_index, edge_weight)\n",
    "            out = out + x * self.alpha[i + 1]\n",
    "\n",
    "        return out\n",
    "\n",
    "    def forward(\n",
    "        self,\n",
    "        edge_index: Adj,\n",
    "        edge_label_index: OptTensor = None,\n",
    "        edge_weight: OptTensor = None,\n",
    "    ) -> Tensor:\n",
    "        if edge_label_index is None:\n",
    "            if is_sparse(edge_index):\n",
    "                edge_label_index, _ = to_edge_index(edge_index)\n",
    "            else:\n",
    "                edge_label_index = edge_index\n",
    "\n",
    "        out = self.get_embedding(edge_index, edge_weight)\n",
    "\n",
    "        out_src = out[edge_label_index[0]]\n",
    "        out_dst = out[edge_label_index[1]]\n",
    "\n",
    "        return (out_src * out_dst).sum(dim=-1)\n",
    "\n",
    "    def predict_link(\n",
    "        self,\n",
    "        edge_index: Adj,\n",
    "        edge_label_index: OptTensor = None,\n",
    "        edge_weight: OptTensor = None,\n",
    "        prob: bool = False,\n",
    "    ) -> Tensor:\n",
    "        pred = self(edge_index, edge_label_index, edge_weight).sigmoid()\n",
    "        return pred if prob else pred.round()\n",
    "\n",
    "    def recommend(\n",
    "        self,\n",
    "        edge_index: Adj,\n",
    "        edge_weight: OptTensor = None,\n",
    "        src_index: OptTensor = None,\n",
    "        dst_index: OptTensor = None,\n",
    "        k: int = 1,\n",
    "        sorted: bool = True,\n",
    "    ) -> Tensor:\n",
    "        out_src = out_dst = self.get_embedding(edge_index, edge_weight)\n",
    "\n",
    "        if src_index is not None:\n",
    "            out_src = out_src[src_index]\n",
    "\n",
    "        if dst_index is not None:\n",
    "            out_dst = out_dst[dst_index]\n",
    "\n",
    "        pred = out_src @ out_dst.t()\n",
    "        top_index = pred.topk(k, dim=-1, sorted=sorted).indices\n",
    "\n",
    "        if dst_index is not None:  # Map local top-indices to original indices.\n",
    "            top_index = dst_index[top_index.view(-1)].view(*top_index.size())\n",
    "\n",
    "        return top_index\n",
    "\n",
    "    def link_pred_loss(self, pred: Tensor, edge_label: Tensor,\n",
    "                       **kwargs) -> Tensor:\n",
    "        loss_fn = torch.nn.BCEWithLogitsLoss(**kwargs)\n",
    "        return loss_fn(pred, edge_label.to(pred.dtype))\n",
    "\n",
    "    def recommendation_loss(\n",
    "        self,\n",
    "        pos_edge_rank: Tensor,\n",
    "        neg_edge_rank: Tensor,\n",
    "        node_id: Optional[Tensor] = None,\n",
    "        lambda_reg: float = 1e-4,\n",
    "        **kwargs,\n",
    "    ) -> Tensor:\n",
    "        loss_fn = BPRLoss(lambda_reg, **kwargs)\n",
    "        emb = self.embedding.weight\n",
    "        emb = emb if node_id is None else emb[node_id]\n",
    "        return loss_fn(pos_edge_rank, neg_edge_rank, emb)\n",
    "\n",
    "    def __repr__(self) -> str:\n",
    "        return (f'{self.__class__.__name__}({self.num_nodes}, '\n",
    "                f'{self.embedding_dim}, num_layers={self.num_layers})')\n",
    "\n",
    "class BPRLoss(_Loss):\n",
    "    r\"\"\"The Bayesian Personalized Ranking (BPR) loss.\n",
    "\n",
    "    The BPR loss is a pairwise loss that encourages the prediction of an\n",
    "    observed entry to be higher than its unobserved counterparts\n",
    "    (see `here <https://arxiv.org/abs/2002.02126>`__).\n",
    "\n",
    "    .. math::\n",
    "        L_{\\text{BPR}} = - \\sum_{u=1}^{M} \\sum_{i \\in \\mathcal{N}_u}\n",
    "        \\sum_{j \\not\\in \\mathcal{N}_u} \\ln \\sigma(\\hat{y}_{ui} - \\hat{y}_{uj})\n",
    "        + \\lambda \\vert\\vert \\textbf{x}^{(0)} \\vert\\vert^2\n",
    "\n",
    "    where :math:`\\lambda` controls the :math:`L_2` regularization strength.\n",
    "    We compute the mean BPR loss for simplicity.\n",
    "\n",
    "    Args:\n",
    "        lambda_reg (float, optional): The :math:`L_2` regularization strength\n",
    "            (default: 0).\n",
    "        **kwargs (optional): Additional arguments of the underlying\n",
    "            :class:`torch.nn.modules.loss._Loss` class.\n",
    "    \"\"\"\n",
    "    __constants__ = ['lambda_reg']\n",
    "    lambda_reg: float\n",
    "\n",
    "    def __init__(self, lambda_reg: float = 0, **kwargs):\n",
    "        super().__init__(None, None, \"sum\", **kwargs)\n",
    "        self.lambda_reg = lambda_reg\n",
    "\n",
    "    def forward(self, positives: Tensor, negatives: Tensor,\n",
    "                parameters: Tensor = None) -> Tensor:\n",
    "        r\"\"\"Compute the mean Bayesian Personalized Ranking (BPR) loss.\n",
    "\n",
    "        .. note::\n",
    "\n",
    "            The i-th entry in the :obj:`positives` vector and i-th entry\n",
    "            in the :obj:`negatives` entry should correspond to the same\n",
    "            entity (*.e.g*, user), as the BPR is a personalized ranking loss.\n",
    "\n",
    "        Args:\n",
    "            positives (Tensor): The vector of positive-pair rankings.\n",
    "            negatives (Tensor): The vector of negative-pair rankings.\n",
    "            parameters (Tensor, optional): The tensor of parameters which\n",
    "                should be used for :math:`L_2` regularization\n",
    "                (default: :obj:`None`).\n",
    "        \"\"\"\n",
    "        log_prob = F.logsigmoid(positives - negatives).mean()\n",
    "\n",
    "        regularization = 0\n",
    "        if self.lambda_reg != 0:\n",
    "            regularization = self.lambda_reg * parameters.norm(p=2).pow(2)\n",
    "            regularization = regularization / positives.size(0)\n",
    "\n",
    "        return -log_prob + regularization\n",
    "\n",
    "class Course(InMemoryDataset):\n",
    "    def __init__(\n",
    "        self,\n",
    "        root: str,\n",
    "        transform: Optional[Callable] = None,\n",
    "        pre_transform: Optional[Callable] = None,\n",
    "        force_reload: bool = False,\n",
    "    ) -> None:\n",
    "        super().__init__(root, transform, pre_transform,\n",
    "                         force_reload=force_reload)\n",
    "        self.load(self.processed_paths[0], data_cls=HeteroData)\n",
    "\n",
    "    @property\n",
    "    def raw_file_names(self) -> List[str]:\n",
    "        return ['user_list.txt', 'item_list.txt', 'train.txt', 'test.txt']\n",
    "\n",
    "    @property\n",
    "    def processed_file_names(self) -> str:\n",
    "        return 'data.pt'\n",
    "\n",
    "    def process(self) -> None:\n",
    "        import pandas as pd\n",
    "\n",
    "        data = HeteroData()\n",
    "\n",
    "        # Process number of nodes for each node type:\n",
    "        node_types = ['user', 'book']\n",
    "        for path, node_type in zip(self.raw_paths, node_types):\n",
    "            df = pd.read_csv(path, sep=' ', header=0)\n",
    "            data[node_type].num_nodes = len(df)\n",
    "\n",
    "        # Process edge information for training and testing:\n",
    "        attr_names = ['edge_index', 'edge_label_index']\n",
    "        for path, attr_name in zip(self.raw_paths[2:], attr_names):\n",
    "            rows, cols = [], []\n",
    "            with open(path, 'r') as f:\n",
    "                lines = f.readlines()\n",
    "            for line in lines:\n",
    "                indices = line.strip().split(' ')\n",
    "                for dst in indices[1:]:\n",
    "                    rows.append(int(indices[0]))\n",
    "                    cols.append(int(dst))\n",
    "            index = torch.tensor([rows, cols])\n",
    "\n",
    "            data['user', 'rates', 'book'][attr_name] = index\n",
    "            if attr_name == 'edge_index':\n",
    "                data['book', 'rated_by', 'user'][attr_name] = index.flip([0])\n",
    "\n",
    "        if self.pre_transform is not None:\n",
    "            data = self.pre_transform(data)\n",
    "\n",
    "        self.save([data], self.processed_paths[0])\n"
   ]
  },
  {
   "cell_type": "code",
   "execution_count": 2,
   "metadata": {},
   "outputs": [
    {
     "name": "stdout",
     "output_type": "stream",
     "text": [
      "HeteroData(\n",
      "  user={ num_nodes=199199 },\n",
      "  book={ num_nodes=698 },\n",
      "  (user, rates, book)={\n",
      "    edge_index=[2, 614476],\n",
      "    edge_label_index=[2, 68276],\n",
      "  },\n",
      "  (book, rated_by, user)={ edge_index=[2, 614476] }\n",
      ")\n",
      "Data(edge_index=[2, 1228952], edge_label_index=[2, 68276], node_type=[199897], edge_type=[1228952])\n",
      "[[55176, 1, 239], [154324, 1, 239], [46174, 1, 239], [82528, 1, 589], [40650, 1, 589], [109258, 1, 589], [74100, 1, 589], [33313, 1, 589], [78825, 1, 589], [48569, 1, 589]]\n"
     ]
    },
    {
     "name": "stderr",
     "output_type": "stream",
     "text": [
      "100%|██████████| 76/76 [01:40<00:00,  1.32s/it]\n"
     ]
    },
    {
     "name": "stdout",
     "output_type": "stream",
     "text": [
      "Epoch: 001, Loss: 0.5305,Precision@20: 0.0267, Recall@20: 0.4513,hr@10: 0.3700,hr@20: 0.4893,ndcg@10: 0.2344,ndcg@20: 0.2690\n"
     ]
    },
    {
     "name": "stderr",
     "output_type": "stream",
     "text": [
      "100%|██████████| 76/76 [01:33<00:00,  1.23s/it]\n"
     ]
    },
    {
     "name": "stdout",
     "output_type": "stream",
     "text": [
      "Epoch: 002, Loss: 0.2700,Precision@20: 0.0279, Recall@20: 0.4707,hr@10: 0.3932,hr@20: 0.5097,ndcg@10: 0.2534,ndcg@20: 0.2877\n"
     ]
    },
    {
     "name": "stderr",
     "output_type": "stream",
     "text": [
      "100%|██████████| 76/76 [01:22<00:00,  1.09s/it]\n"
     ]
    },
    {
     "name": "stdout",
     "output_type": "stream",
     "text": [
      "Epoch: 003, Loss: 0.2154,Precision@20: 0.0290, Recall@20: 0.4901,hr@10: 0.4112,hr@20: 0.5300,ndcg@10: 0.2665,ndcg@20: 0.3017\n"
     ]
    },
    {
     "name": "stderr",
     "output_type": "stream",
     "text": [
      "100%|██████████| 76/76 [01:23<00:00,  1.10s/it]\n"
     ]
    },
    {
     "name": "stdout",
     "output_type": "stream",
     "text": [
      "Epoch: 004, Loss: 0.1855,Precision@20: 0.0296, Recall@20: 0.5002,hr@10: 0.4223,hr@20: 0.5400,ndcg@10: 0.2738,ndcg@20: 0.3090\n"
     ]
    },
    {
     "name": "stderr",
     "output_type": "stream",
     "text": [
      "100%|██████████| 76/76 [01:21<00:00,  1.07s/it]\n"
     ]
    },
    {
     "name": "stdout",
     "output_type": "stream",
     "text": [
      "Epoch: 005, Loss: 0.1635,Precision@20: 0.0299, Recall@20: 0.5046,hr@10: 0.4312,hr@20: 0.5443,ndcg@10: 0.2799,ndcg@20: 0.3141\n"
     ]
    },
    {
     "name": "stderr",
     "output_type": "stream",
     "text": [
      "100%|██████████| 76/76 [01:25<00:00,  1.12s/it]\n"
     ]
    },
    {
     "name": "stdout",
     "output_type": "stream",
     "text": [
      "Epoch: 006, Loss: 0.1464,Precision@20: 0.0302, Recall@20: 0.5101,hr@10: 0.4380,hr@20: 0.5499,ndcg@10: 0.2860,ndcg@20: 0.3197\n"
     ]
    },
    {
     "name": "stderr",
     "output_type": "stream",
     "text": [
      "100%|██████████| 76/76 [01:23<00:00,  1.10s/it]\n"
     ]
    },
    {
     "name": "stdout",
     "output_type": "stream",
     "text": [
      "Epoch: 007, Loss: 0.1316,Precision@20: 0.0305, Recall@20: 0.5161,hr@10: 0.4443,hr@20: 0.5559,ndcg@10: 0.2912,ndcg@20: 0.3249\n"
     ]
    },
    {
     "name": "stderr",
     "output_type": "stream",
     "text": [
      "100%|██████████| 76/76 [01:24<00:00,  1.11s/it]\n"
     ]
    },
    {
     "name": "stdout",
     "output_type": "stream",
     "text": [
      "Epoch: 008, Loss: 0.1188,Precision@20: 0.0309, Recall@20: 0.5224,hr@10: 0.4507,hr@20: 0.5623,ndcg@10: 0.2973,ndcg@20: 0.3311\n"
     ]
    },
    {
     "name": "stderr",
     "output_type": "stream",
     "text": [
      "100%|██████████| 76/76 [01:20<00:00,  1.06s/it]\n"
     ]
    },
    {
     "name": "stdout",
     "output_type": "stream",
     "text": [
      "Epoch: 009, Loss: 0.1078,Precision@20: 0.0312, Recall@20: 0.5275,hr@10: 0.4563,hr@20: 0.5674,ndcg@10: 0.3016,ndcg@20: 0.3354\n"
     ]
    },
    {
     "name": "stderr",
     "output_type": "stream",
     "text": [
      "100%|██████████| 76/76 [16:58<00:00, 13.40s/it]   \n"
     ]
    },
    {
     "name": "stdout",
     "output_type": "stream",
     "text": [
      "Epoch: 010, Loss: 0.0986,Precision@20: 0.0314, Recall@20: 0.5313,hr@10: 0.4587,hr@20: 0.5711,ndcg@10: 0.3050,ndcg@20: 0.3392\n"
     ]
    },
    {
     "name": "stderr",
     "output_type": "stream",
     "text": [
      "100%|██████████| 76/76 [14:57<00:00, 11.81s/it]   \n"
     ]
    },
    {
     "name": "stdout",
     "output_type": "stream",
     "text": [
      "Epoch: 011, Loss: 0.0901,Precision@20: 0.0316, Recall@20: 0.5350,hr@10: 0.4616,hr@20: 0.5747,ndcg@10: 0.3082,ndcg@20: 0.3426\n"
     ]
    },
    {
     "name": "stderr",
     "output_type": "stream",
     "text": [
      "100%|██████████| 76/76 [01:20<00:00,  1.06s/it]\n"
     ]
    },
    {
     "name": "stdout",
     "output_type": "stream",
     "text": [
      "Epoch: 012, Loss: 0.0823,Precision@20: 0.0318, Recall@20: 0.5382,hr@10: 0.4638,hr@20: 0.5780,ndcg@10: 0.3108,ndcg@20: 0.3455\n"
     ]
    },
    {
     "name": "stderr",
     "output_type": "stream",
     "text": [
      "100%|██████████| 76/76 [16:33<00:00, 13.08s/it] \n"
     ]
    },
    {
     "name": "stdout",
     "output_type": "stream",
     "text": [
      "Epoch: 013, Loss: 0.0760,Precision@20: 0.0319, Recall@20: 0.5404,hr@10: 0.4658,hr@20: 0.5802,ndcg@10: 0.3135,ndcg@20: 0.3483\n"
     ]
    },
    {
     "name": "stderr",
     "output_type": "stream",
     "text": [
      "100%|██████████| 76/76 [16:16<00:00, 12.85s/it]   \n"
     ]
    },
    {
     "name": "stdout",
     "output_type": "stream",
     "text": [
      "Epoch: 014, Loss: 0.0707,Precision@20: 0.0321, Recall@20: 0.5425,hr@10: 0.4680,hr@20: 0.5822,ndcg@10: 0.3158,ndcg@20: 0.3506\n"
     ]
    },
    {
     "name": "stderr",
     "output_type": "stream",
     "text": [
      "100%|██████████| 76/76 [02:11<00:00,  1.73s/it]\n"
     ]
    },
    {
     "name": "stdout",
     "output_type": "stream",
     "text": [
      "Epoch: 015, Loss: 0.0656,Precision@20: 0.0322, Recall@20: 0.5448,hr@10: 0.4697,hr@20: 0.5843,ndcg@10: 0.3178,ndcg@20: 0.3527\n"
     ]
    },
    {
     "name": "stderr",
     "output_type": "stream",
     "text": [
      "100%|██████████| 76/76 [01:30<00:00,  1.18s/it]\n"
     ]
    },
    {
     "name": "stdout",
     "output_type": "stream",
     "text": [
      "Epoch: 016, Loss: 0.0616,Precision@20: 0.0323, Recall@20: 0.5466,hr@10: 0.4718,hr@20: 0.5862,ndcg@10: 0.3201,ndcg@20: 0.3550\n"
     ]
    },
    {
     "name": "stderr",
     "output_type": "stream",
     "text": [
      "100%|██████████| 76/76 [01:24<00:00,  1.11s/it]\n"
     ]
    },
    {
     "name": "stdout",
     "output_type": "stream",
     "text": [
      "Epoch: 017, Loss: 0.0577,Precision@20: 0.0324, Recall@20: 0.5476,hr@10: 0.4736,hr@20: 0.5874,ndcg@10: 0.3217,ndcg@20: 0.3564\n"
     ]
    },
    {
     "name": "stderr",
     "output_type": "stream",
     "text": [
      "100%|██████████| 76/76 [01:20<00:00,  1.06s/it]\n"
     ]
    },
    {
     "name": "stdout",
     "output_type": "stream",
     "text": [
      "Epoch: 018, Loss: 0.0536,Precision@20: 0.0325, Recall@20: 0.5494,hr@10: 0.4753,hr@20: 0.5894,ndcg@10: 0.3234,ndcg@20: 0.3582\n"
     ]
    },
    {
     "name": "stderr",
     "output_type": "stream",
     "text": [
      "100%|██████████| 76/76 [01:21<00:00,  1.07s/it]\n"
     ]
    },
    {
     "name": "stdout",
     "output_type": "stream",
     "text": [
      "Epoch: 019, Loss: 0.0509,Precision@20: 0.0325, Recall@20: 0.5501,hr@10: 0.4768,hr@20: 0.5900,ndcg@10: 0.3249,ndcg@20: 0.3595\n"
     ]
    },
    {
     "name": "stderr",
     "output_type": "stream",
     "text": [
      "100%|██████████| 76/76 [01:24<00:00,  1.11s/it]\n"
     ]
    },
    {
     "name": "stdout",
     "output_type": "stream",
     "text": [
      "Epoch: 020, Loss: 0.0484,Precision@20: 0.0326, Recall@20: 0.5507,hr@10: 0.4774,hr@20: 0.5909,ndcg@10: 0.3256,ndcg@20: 0.3603\n"
     ]
    },
    {
     "name": "stderr",
     "output_type": "stream",
     "text": [
      "100%|██████████| 76/76 [01:23<00:00,  1.09s/it]\n"
     ]
    },
    {
     "name": "stdout",
     "output_type": "stream",
     "text": [
      "Epoch: 021, Loss: 0.0455,Precision@20: 0.0327, Recall@20: 0.5525,hr@10: 0.4791,hr@20: 0.5926,ndcg@10: 0.3274,ndcg@20: 0.3622\n"
     ]
    },
    {
     "name": "stderr",
     "output_type": "stream",
     "text": [
      "100%|██████████| 76/76 [01:22<00:00,  1.09s/it]\n"
     ]
    },
    {
     "name": "stdout",
     "output_type": "stream",
     "text": [
      "Epoch: 022, Loss: 0.0436,Precision@20: 0.0327, Recall@20: 0.5535,hr@10: 0.4803,hr@20: 0.5934,ndcg@10: 0.3287,ndcg@20: 0.3633\n"
     ]
    },
    {
     "name": "stderr",
     "output_type": "stream",
     "text": [
      "100%|██████████| 76/76 [01:19<00:00,  1.05s/it]\n"
     ]
    },
    {
     "name": "stdout",
     "output_type": "stream",
     "text": [
      "Epoch: 023, Loss: 0.0414,Precision@20: 0.0328, Recall@20: 0.5542,hr@10: 0.4814,hr@20: 0.5942,ndcg@10: 0.3299,ndcg@20: 0.3645\n"
     ]
    },
    {
     "name": "stderr",
     "output_type": "stream",
     "text": [
      "100%|██████████| 76/76 [01:17<00:00,  1.02s/it]\n"
     ]
    },
    {
     "name": "stdout",
     "output_type": "stream",
     "text": [
      "Epoch: 024, Loss: 0.0397,Precision@20: 0.0329, Recall@20: 0.5561,hr@10: 0.4826,hr@20: 0.5962,ndcg@10: 0.3308,ndcg@20: 0.3655\n"
     ]
    },
    {
     "name": "stderr",
     "output_type": "stream",
     "text": [
      "100%|██████████| 76/76 [01:19<00:00,  1.04s/it]\n"
     ]
    },
    {
     "name": "stdout",
     "output_type": "stream",
     "text": [
      "Epoch: 025, Loss: 0.0381,Precision@20: 0.0329, Recall@20: 0.5565,hr@10: 0.4837,hr@20: 0.5964,ndcg@10: 0.3321,ndcg@20: 0.3666\n"
     ]
    },
    {
     "name": "stderr",
     "output_type": "stream",
     "text": [
      "100%|██████████| 76/76 [01:22<00:00,  1.09s/it]\n"
     ]
    },
    {
     "name": "stdout",
     "output_type": "stream",
     "text": [
      "Epoch: 026, Loss: 0.0363,Precision@20: 0.0329, Recall@20: 0.5568,hr@10: 0.4849,hr@20: 0.5967,ndcg@10: 0.3332,ndcg@20: 0.3676\n"
     ]
    },
    {
     "name": "stderr",
     "output_type": "stream",
     "text": [
      "100%|██████████| 76/76 [01:19<00:00,  1.05s/it]\n"
     ]
    },
    {
     "name": "stdout",
     "output_type": "stream",
     "text": [
      "Epoch: 027, Loss: 0.0350,Precision@20: 0.0330, Recall@20: 0.5575,hr@10: 0.4862,hr@20: 0.5974,ndcg@10: 0.3341,ndcg@20: 0.3683\n"
     ]
    },
    {
     "name": "stderr",
     "output_type": "stream",
     "text": [
      "100%|██████████| 76/76 [01:21<00:00,  1.07s/it]\n"
     ]
    },
    {
     "name": "stdout",
     "output_type": "stream",
     "text": [
      "Epoch: 028, Loss: 0.0338,Precision@20: 0.0330, Recall@20: 0.5582,hr@10: 0.4876,hr@20: 0.5981,ndcg@10: 0.3347,ndcg@20: 0.3687\n"
     ]
    },
    {
     "name": "stderr",
     "output_type": "stream",
     "text": [
      "100%|██████████| 76/76 [16:32<00:00, 13.06s/it] \n"
     ]
    },
    {
     "name": "stdout",
     "output_type": "stream",
     "text": [
      "Epoch: 029, Loss: 0.0325,Precision@20: 0.0330, Recall@20: 0.5578,hr@10: 0.4881,hr@20: 0.5974,ndcg@10: 0.3358,ndcg@20: 0.3696\n"
     ]
    },
    {
     "name": "stderr",
     "output_type": "stream",
     "text": [
      "100%|██████████| 76/76 [01:18<00:00,  1.03s/it]\n"
     ]
    },
    {
     "name": "stdout",
     "output_type": "stream",
     "text": [
      "Epoch: 030, Loss: 0.0315,Precision@20: 0.0330, Recall@20: 0.5587,hr@10: 0.4892,hr@20: 0.5985,ndcg@10: 0.3362,ndcg@20: 0.3700\n"
     ]
    },
    {
     "name": "stderr",
     "output_type": "stream",
     "text": [
      "100%|██████████| 76/76 [17:38<00:00, 13.92s/it] \n"
     ]
    },
    {
     "name": "stdout",
     "output_type": "stream",
     "text": [
      "Epoch: 031, Loss: 0.0303,Precision@20: 0.0330, Recall@20: 0.5590,hr@10: 0.4898,hr@20: 0.5988,ndcg@10: 0.3369,ndcg@20: 0.3706\n"
     ]
    },
    {
     "name": "stderr",
     "output_type": "stream",
     "text": [
      "100%|██████████| 76/76 [01:18<00:00,  1.03s/it]\n"
     ]
    },
    {
     "name": "stdout",
     "output_type": "stream",
     "text": [
      "Epoch: 032, Loss: 0.0294,Precision@20: 0.0331, Recall@20: 0.5598,hr@10: 0.4906,hr@20: 0.5998,ndcg@10: 0.3376,ndcg@20: 0.3713\n"
     ]
    },
    {
     "name": "stderr",
     "output_type": "stream",
     "text": [
      "100%|██████████| 76/76 [17:52<00:00, 14.12s/it]   \n"
     ]
    },
    {
     "name": "stdout",
     "output_type": "stream",
     "text": [
      "Epoch: 033, Loss: 0.0286,Precision@20: 0.0331, Recall@20: 0.5605,hr@10: 0.4919,hr@20: 0.6003,ndcg@10: 0.3387,ndcg@20: 0.3722\n"
     ]
    },
    {
     "name": "stderr",
     "output_type": "stream",
     "text": [
      "100%|██████████| 76/76 [01:18<00:00,  1.03s/it]\n"
     ]
    },
    {
     "name": "stdout",
     "output_type": "stream",
     "text": [
      "Epoch: 034, Loss: 0.0275,Precision@20: 0.0332, Recall@20: 0.5606,hr@10: 0.4921,hr@20: 0.6004,ndcg@10: 0.3386,ndcg@20: 0.3722\n"
     ]
    },
    {
     "name": "stderr",
     "output_type": "stream",
     "text": [
      "100%|██████████| 76/76 [17:12<00:00, 13.58s/it]   \n"
     ]
    },
    {
     "name": "stdout",
     "output_type": "stream",
     "text": [
      "Epoch: 035, Loss: 0.0267,Precision@20: 0.0332, Recall@20: 0.5606,hr@10: 0.4925,hr@20: 0.6004,ndcg@10: 0.3398,ndcg@20: 0.3734\n"
     ]
    },
    {
     "name": "stderr",
     "output_type": "stream",
     "text": [
      "100%|██████████| 76/76 [01:17<00:00,  1.02s/it]\n"
     ]
    },
    {
     "name": "stdout",
     "output_type": "stream",
     "text": [
      "Epoch: 036, Loss: 0.0260,Precision@20: 0.0332, Recall@20: 0.5614,hr@10: 0.4935,hr@20: 0.6011,ndcg@10: 0.3405,ndcg@20: 0.3740\n"
     ]
    },
    {
     "name": "stderr",
     "output_type": "stream",
     "text": [
      "100%|██████████| 76/76 [18:06<00:00, 14.30s/it]   \n"
     ]
    },
    {
     "name": "stdout",
     "output_type": "stream",
     "text": [
      "Epoch: 037, Loss: 0.0254,Precision@20: 0.0333, Recall@20: 0.5622,hr@10: 0.4942,hr@20: 0.6019,ndcg@10: 0.3410,ndcg@20: 0.3745\n"
     ]
    },
    {
     "name": "stderr",
     "output_type": "stream",
     "text": [
      "100%|██████████| 76/76 [01:17<00:00,  1.02s/it]\n"
     ]
    },
    {
     "name": "stdout",
     "output_type": "stream",
     "text": [
      "Epoch: 038, Loss: 0.0245,Precision@20: 0.0333, Recall@20: 0.5627,hr@10: 0.4948,hr@20: 0.6024,ndcg@10: 0.3414,ndcg@20: 0.3749\n"
     ]
    },
    {
     "name": "stderr",
     "output_type": "stream",
     "text": [
      "100%|██████████| 76/76 [22:13<00:00, 17.55s/it]   \n"
     ]
    },
    {
     "name": "stdout",
     "output_type": "stream",
     "text": [
      "Epoch: 039, Loss: 0.0242,Precision@20: 0.0333, Recall@20: 0.5636,hr@10: 0.4953,hr@20: 0.6032,ndcg@10: 0.3417,ndcg@20: 0.3754\n"
     ]
    },
    {
     "name": "stderr",
     "output_type": "stream",
     "text": [
      "100%|██████████| 76/76 [01:14<00:00,  1.02it/s]\n"
     ]
    },
    {
     "name": "stdout",
     "output_type": "stream",
     "text": [
      "Epoch: 040, Loss: 0.0231,Precision@20: 0.0333, Recall@20: 0.5631,hr@10: 0.4950,hr@20: 0.6028,ndcg@10: 0.3416,ndcg@20: 0.3751\n"
     ]
    },
    {
     "name": "stderr",
     "output_type": "stream",
     "text": [
      "100%|██████████| 76/76 [01:15<00:00,  1.00it/s]\n"
     ]
    },
    {
     "name": "stdout",
     "output_type": "stream",
     "text": [
      "Epoch: 041, Loss: 0.0226,Precision@20: 0.0333, Recall@20: 0.5630,hr@10: 0.4953,hr@20: 0.6026,ndcg@10: 0.3424,ndcg@20: 0.3757\n"
     ]
    },
    {
     "name": "stderr",
     "output_type": "stream",
     "text": [
      "100%|██████████| 76/76 [16:52<00:00, 13.32s/it]   \n"
     ]
    },
    {
     "name": "stdout",
     "output_type": "stream",
     "text": [
      "Epoch: 042, Loss: 0.0224,Precision@20: 0.0333, Recall@20: 0.5631,hr@10: 0.4958,hr@20: 0.6027,ndcg@10: 0.3425,ndcg@20: 0.3758\n"
     ]
    },
    {
     "name": "stderr",
     "output_type": "stream",
     "text": [
      "100%|██████████| 76/76 [17:26<00:00, 13.77s/it] \n"
     ]
    },
    {
     "name": "stdout",
     "output_type": "stream",
     "text": [
      "Epoch: 043, Loss: 0.0218,Precision@20: 0.0334, Recall@20: 0.5638,hr@10: 0.4964,hr@20: 0.6035,ndcg@10: 0.3431,ndcg@20: 0.3764\n"
     ]
    },
    {
     "name": "stderr",
     "output_type": "stream",
     "text": [
      "100%|██████████| 76/76 [01:16<00:00,  1.01s/it]\n"
     ]
    },
    {
     "name": "stdout",
     "output_type": "stream",
     "text": [
      "Epoch: 044, Loss: 0.0212,Precision@20: 0.0334, Recall@20: 0.5644,hr@10: 0.4970,hr@20: 0.6040,ndcg@10: 0.3433,ndcg@20: 0.3766\n"
     ]
    },
    {
     "name": "stderr",
     "output_type": "stream",
     "text": [
      "100%|██████████| 76/76 [01:16<00:00,  1.01s/it]\n"
     ]
    },
    {
     "name": "stdout",
     "output_type": "stream",
     "text": [
      "Epoch: 045, Loss: 0.0209,Precision@20: 0.0334, Recall@20: 0.5650,hr@10: 0.4972,hr@20: 0.6046,ndcg@10: 0.3440,ndcg@20: 0.3774\n"
     ]
    },
    {
     "name": "stderr",
     "output_type": "stream",
     "text": [
      "100%|██████████| 76/76 [21:45<00:00, 17.18s/it]   \n"
     ]
    },
    {
     "name": "stdout",
     "output_type": "stream",
     "text": [
      "Epoch: 046, Loss: 0.0205,Precision@20: 0.0334, Recall@20: 0.5646,hr@10: 0.4974,hr@20: 0.6042,ndcg@10: 0.3445,ndcg@20: 0.3776\n"
     ]
    },
    {
     "name": "stderr",
     "output_type": "stream",
     "text": [
      "100%|██████████| 76/76 [01:14<00:00,  1.01it/s]\n"
     ]
    },
    {
     "name": "stdout",
     "output_type": "stream",
     "text": [
      "Epoch: 047, Loss: 0.0201,Precision@20: 0.0334, Recall@20: 0.5642,hr@10: 0.4969,hr@20: 0.6037,ndcg@10: 0.3443,ndcg@20: 0.3775\n"
     ]
    },
    {
     "name": "stderr",
     "output_type": "stream",
     "text": [
      "100%|██████████| 76/76 [17:06<00:00, 13.51s/it]   \n"
     ]
    },
    {
     "name": "stdout",
     "output_type": "stream",
     "text": [
      "Epoch: 048, Loss: 0.0193,Precision@20: 0.0334, Recall@20: 0.5643,hr@10: 0.4971,hr@20: 0.6039,ndcg@10: 0.3439,ndcg@20: 0.3771\n"
     ]
    },
    {
     "name": "stderr",
     "output_type": "stream",
     "text": [
      "100%|██████████| 76/76 [01:16<00:00,  1.01s/it]\n"
     ]
    },
    {
     "name": "stdout",
     "output_type": "stream",
     "text": [
      "Epoch: 049, Loss: 0.0189,Precision@20: 0.0334, Recall@20: 0.5641,hr@10: 0.4967,hr@20: 0.6036,ndcg@10: 0.3438,ndcg@20: 0.3771\n"
     ]
    },
    {
     "name": "stderr",
     "output_type": "stream",
     "text": [
      "100%|██████████| 76/76 [17:06<00:00, 13.51s/it]   \n"
     ]
    },
    {
     "name": "stdout",
     "output_type": "stream",
     "text": [
      "Epoch: 050, Loss: 0.0187,Precision@20: 0.0334, Recall@20: 0.5648,hr@10: 0.4978,hr@20: 0.6045,ndcg@10: 0.3451,ndcg@20: 0.3783\n"
     ]
    },
    {
     "name": "stderr",
     "output_type": "stream",
     "text": [
      "100%|██████████| 76/76 [18:19<00:00, 14.46s/it] \n"
     ]
    },
    {
     "name": "stdout",
     "output_type": "stream",
     "text": [
      "Epoch: 051, Loss: 0.0185,Precision@20: 0.0335, Recall@20: 0.5655,hr@10: 0.4977,hr@20: 0.6053,ndcg@10: 0.3451,ndcg@20: 0.3785\n"
     ]
    },
    {
     "name": "stderr",
     "output_type": "stream",
     "text": [
      "100%|██████████| 76/76 [06:05<00:00,  4.81s/it]\n"
     ]
    },
    {
     "name": "stdout",
     "output_type": "stream",
     "text": [
      "Epoch: 052, Loss: 0.0182,Precision@20: 0.0334, Recall@20: 0.5648,hr@10: 0.4972,hr@20: 0.6048,ndcg@10: 0.3447,ndcg@20: 0.3780\n"
     ]
    },
    {
     "name": "stderr",
     "output_type": "stream",
     "text": [
      "100%|██████████| 76/76 [01:15<00:00,  1.01it/s]\n"
     ]
    },
    {
     "name": "stdout",
     "output_type": "stream",
     "text": [
      "Epoch: 053, Loss: 0.0182,Precision@20: 0.0334, Recall@20: 0.5649,hr@10: 0.4976,hr@20: 0.6049,ndcg@10: 0.3454,ndcg@20: 0.3786\n"
     ]
    },
    {
     "name": "stderr",
     "output_type": "stream",
     "text": [
      "100%|██████████| 76/76 [16:28<00:00, 13.01s/it]   \n"
     ]
    },
    {
     "name": "stdout",
     "output_type": "stream",
     "text": [
      "Epoch: 054, Loss: 0.0181,Precision@20: 0.0334, Recall@20: 0.5648,hr@10: 0.4975,hr@20: 0.6049,ndcg@10: 0.3454,ndcg@20: 0.3785\n"
     ]
    },
    {
     "name": "stderr",
     "output_type": "stream",
     "text": [
      "100%|██████████| 76/76 [01:16<00:00,  1.00s/it]\n"
     ]
    },
    {
     "name": "stdout",
     "output_type": "stream",
     "text": [
      "Epoch: 055, Loss: 0.0175,Precision@20: 0.0335, Recall@20: 0.5653,hr@10: 0.4976,hr@20: 0.6053,ndcg@10: 0.3456,ndcg@20: 0.3789\n"
     ]
    },
    {
     "name": "stderr",
     "output_type": "stream",
     "text": [
      "100%|██████████| 76/76 [01:52<00:00,  1.48s/it]\n"
     ]
    },
    {
     "name": "stdout",
     "output_type": "stream",
     "text": [
      "Epoch: 056, Loss: 0.0169,Precision@20: 0.0334, Recall@20: 0.5648,hr@10: 0.4978,hr@20: 0.6047,ndcg@10: 0.3458,ndcg@20: 0.3789\n"
     ]
    },
    {
     "name": "stderr",
     "output_type": "stream",
     "text": [
      "100%|██████████| 76/76 [05:58<00:00,  4.72s/it]  \n"
     ]
    },
    {
     "name": "stdout",
     "output_type": "stream",
     "text": [
      "Epoch: 057, Loss: 0.0168,Precision@20: 0.0334, Recall@20: 0.5650,hr@10: 0.4976,hr@20: 0.6050,ndcg@10: 0.3456,ndcg@20: 0.3788\n"
     ]
    },
    {
     "name": "stderr",
     "output_type": "stream",
     "text": [
      "100%|██████████| 76/76 [05:24<00:00,  4.27s/it]\n"
     ]
    },
    {
     "name": "stdout",
     "output_type": "stream",
     "text": [
      "Epoch: 058, Loss: 0.0164,Precision@20: 0.0334, Recall@20: 0.5647,hr@10: 0.4976,hr@20: 0.6045,ndcg@10: 0.3453,ndcg@20: 0.3784\n"
     ]
    },
    {
     "name": "stderr",
     "output_type": "stream",
     "text": [
      "100%|██████████| 76/76 [01:15<00:00,  1.01it/s]\n"
     ]
    },
    {
     "name": "stdout",
     "output_type": "stream",
     "text": [
      "Epoch: 059, Loss: 0.0162,Precision@20: 0.0335, Recall@20: 0.5653,hr@10: 0.4979,hr@20: 0.6053,ndcg@10: 0.3459,ndcg@20: 0.3791\n"
     ]
    },
    {
     "name": "stderr",
     "output_type": "stream",
     "text": [
      "100%|██████████| 76/76 [15:01<00:00, 11.86s/it]   \n"
     ]
    },
    {
     "name": "stdout",
     "output_type": "stream",
     "text": [
      "Epoch: 060, Loss: 0.0157,Precision@20: 0.0334, Recall@20: 0.5647,hr@10: 0.4970,hr@20: 0.6046,ndcg@10: 0.3455,ndcg@20: 0.3788\n"
     ]
    }
   ],
   "source": [
    "class LightGCNKG(torch.nn.Module):\n",
    "    def __init__(\n",
    "        self,\n",
    "        num_nodes: int,\n",
    "        embedding_dim: int,\n",
    "        num_layers: int,\n",
    "        alpha: Optional[Union[float, Tensor]] = None,\n",
    "        kg_num_rels: int = 0,\n",
    "        kg_embedding_dim: int = 0,\n",
    "        **kwargs,\n",
    "    ):\n",
    "        super().__init__()\n",
    "\n",
    "        self.num_nodes = num_nodes\n",
    "        self.embedding_dim = embedding_dim\n",
    "        self.num_layers = num_layers\n",
    "\n",
    "        if alpha is None:\n",
    "            alpha = 1. / (num_layers + 1)\n",
    "\n",
    "        if isinstance(alpha, Tensor):\n",
    "            assert alpha.size(0) == num_layers + 1\n",
    "        else:\n",
    "            alpha = torch.tensor([alpha] * (num_layers + 1))\n",
    "        self.register_buffer('alpha', alpha)\n",
    "\n",
    "        self.embedding = Embedding(num_nodes, embedding_dim)\n",
    "        self.kg_embedding = Embedding(kg_num_rels, kg_embedding_dim)\n",
    "        self.convs = ModuleList([LGConv(**kwargs) for _ in range(num_layers)])\n",
    "\n",
    "        self.reset_parameters()\n",
    "\n",
    "    def reset_parameters(self):\n",
    "        torch.nn.init.xavier_uniform_(self.embedding.weight)\n",
    "        torch.nn.init.xavier_uniform_(self.kg_embedding.weight)\n",
    "        for conv in self.convs:\n",
    "            conv.reset_parameters()\n",
    "\n",
    "    def get_embedding(\n",
    "        self,\n",
    "        edge_index: Adj,\n",
    "        edge_weight: OptTensor = None,\n",
    "    ) -> Tensor:\n",
    "        x = self.embedding.weight\n",
    "        out = x * self.alpha[0]\n",
    "\n",
    "        for i in range(self.num_layers):\n",
    "            x = self.convs[i](x, edge_index, edge_weight)\n",
    "            out = out + x * self.alpha[i + 1]\n",
    "\n",
    "        return out\n",
    "\n",
    "    def kg_embedding_lookup(\n",
    "        self,\n",
    "        kg_edge_index: Adj,\n",
    "        kg_edge_type: Tensor,\n",
    "    ) -> Tensor:\n",
    "        kg_embedding = self.kg_embedding.weight\n",
    "        kg_embedding = kg_embedding[kg_edge_type]\n",
    "        return kg_embedding\n",
    "\n",
    "    def forward(\n",
    "        self,\n",
    "        edge_index: Adj,\n",
    "        edge_label_index: OptTensor = None,\n",
    "        edge_weight: OptTensor = None,\n",
    "        kg_edge_index: Adj = None,\n",
    "        kg_edge_type: Tensor = None,\n",
    "    ) -> Tensor:\n",
    "        if edge_label_index is None:\n",
    "            if is_sparse(edge_index):\n",
    "                edge_label_index, _ = to_edge_index(edge_index)\n",
    "            else:\n",
    "                edge_label_index = edge_index\n",
    "\n",
    "        out = self.get_embedding(edge_index, edge_weight)\n",
    "\n",
    "        if kg_edge_index is not None and kg_edge_type is not None:\n",
    "            kg_embedding = self.kg_embedding_lookup(kg_edge_index, kg_edge_type)\n",
    "            out = torch.cat((out, kg_embedding), dim=-1)\n",
    "\n",
    "        out_src = out[edge_label_index[0]]\n",
    "        out_dst = out[edge_label_index[1]]\n",
    "\n",
    "        return (out_src * out_dst).sum(dim=-1)\n",
    "\n",
    "    def predict_link(\n",
    "        self,\n",
    "        edge_index: Adj,\n",
    "        edge_label_index: OptTensor = None,\n",
    "        edge_weight: OptTensor = None,\n",
    "        kg_edge_index: Adj = None,\n",
    "        kg_edge_type: Tensor = None,\n",
    "        prob: bool = False,\n",
    "    ) -> Tensor:\n",
    "        pred = self(edge_index, edge_label_index, edge_weight, kg_edge_index, kg_edge_type).sigmoid()\n",
    "        return pred if prob else pred.round()\n",
    "\n",
    "    def recommend(\n",
    "        self,\n",
    "        edge_index: Adj,\n",
    "        edge_weight: OptTensor = None,\n",
    "        src_index: OptTensor = None,\n",
    "        dst_index: OptTensor = None,\n",
    "        k: int = 1,\n",
    "        sorted: bool = True,\n",
    "        kg_edge_index: Adj = None,\n",
    "        kg_edge_type: Tensor = None,\n",
    "    ) -> Tensor:\n",
    "        out_src = out_dst = self.get_embedding(edge_index, edge_weight)\n",
    "\n",
    "        if kg_edge_index is not None and kg_edge_type is not None:\n",
    "            kg_embedding = self.kg_embedding_lookup(kg_edge_index, kg_edge_type)\n",
    "            out_src = torch.cat((out_src, kg_embedding), dim=-1)\n",
    "            out_dst = torch.cat((out_dst, kg_embedding), dim=-1)\n",
    "\n",
    "        if src_index is not None:\n",
    "            out_src = out_src[src_index]\n",
    "\n",
    "        if dst_index is not None:\n",
    "            out_dst = out_dst[dst_index]\n",
    "\n",
    "        pred = out_src @ out_dst.t()\n",
    "        top_index = pred.topk(k, dim=-1, sorted=sorted).indices\n",
    "\n",
    "        if dst_index is not None:  # Map local top-indices to original indices.\n",
    "            top_index = dst_index[top_index.view(-1)].view(*top_index.size())\n",
    "\n",
    "        return top_index\n",
    "\n",
    "    def link_pred_loss(self, pred: Tensor, edge_label: Tensor, **kwargs) -> Tensor:\n",
    "        loss_fn = torch.nn.BCEWithLogitsLoss(**kwargs)\n",
    "        return loss_fn(pred, edge_label.to(pred.dtype))\n",
    "\n",
    "    def recommendation_loss(\n",
    "        self,\n",
    "        pos_edge_rank: Tensor,\n",
    "        neg_edge_rank: Tensor,\n",
    "        node_id: Optional[Tensor] = None,\n",
    "        lambda_reg: float = 1e-4,\n",
    "        **kwargs,\n",
    "    ) -> Tensor:\n",
    "        loss_fn = BPRLoss(lambda_reg, **kwargs)\n",
    "        emb = self.embedding.weight\n",
    "        emb = emb if node_id is None else emb[node_id]\n",
    "        return loss_fn(pos_edge_rank, neg_edge_rank, emb)\n",
    "\n",
    "    def __repr__(self) -> str:\n",
    "        return (f'{self.__class__.__name__}({self.num_nodes}, '\n",
    "                f'{self.embedding_dim}, num_layers={self.num_layers})')\n",
    "\n",
    "def dcg_k(isin_mat, k):\n",
    "    dcg = isin_mat / torch.log2(torch.arange(2, k + 2))\n",
    "    return dcg.sum(dim=-1)\n",
    "\n",
    "device = torch.device('cuda' if torch.cuda.is_available() else 'cpu')\n",
    "\n",
    "dataset = Course('data/course')\n",
    "data = dataset[0]\n",
    "print(data)\n",
    "num_users, num_books = data['user'].num_nodes, data['book'].num_nodes\n",
    "data = data.to_homogeneous().to(device)\n",
    "print(data)\n",
    "\n",
    "df_kg = pd.read_csv('data/course/kg.csv', sep='\\t')\n",
    "kg = []\n",
    "for i in range(len(df_kg)):\n",
    "    head = df_kg.iloc[i]['head']\n",
    "    relation = df_kg.iloc[i]['relation']\n",
    "    tail = df_kg.iloc[i]['tail']\n",
    "    kg.append([head, 1, tail])\n",
    "print(kg[:10])\n",
    "\n",
    "batch_size = 8192\n",
    "mask = data.edge_index[0] < data.edge_index[1]\n",
    "train_edge_label_index = data.edge_index[:, mask]\n",
    "train_loader = torch.utils.data.DataLoader(\n",
    "    range(train_edge_label_index.size(1)),\n",
    "    shuffle=True,\n",
    "    batch_size=batch_size,\n",
    ")\n",
    "\n",
    "model = LightGCNKG(\n",
    "    num_nodes=data.num_nodes,\n",
    "    embedding_dim=64,\n",
    "    num_layers=2,\n",
    "    kg_num_rels=data.num_nodes,\n",
    "    kg_embedding_dim=64\n",
    ").to(device)\n",
    "optimizer = torch.optim.Adam(model.parameters(), lr=0.001)\n",
    "\n",
    "def train():\n",
    "    total_loss = total_examples = 0\n",
    "    for index in tqdm(train_loader):\n",
    "        pos_edge_label_index = train_edge_label_index[:, index]\n",
    "        neg_edge_label_index = torch.stack([\n",
    "            pos_edge_label_index[0],\n",
    "            torch.randint(num_users, num_users + num_books,\n",
    "                          (index.numel(), ), device=device)\n",
    "        ], dim=0)\n",
    "        edge_label_index = torch.cat([\n",
    "            pos_edge_label_index,\n",
    "            neg_edge_label_index,\n",
    "        ], dim=1)\n",
    "\n",
    "        optimizer.zero_grad()\n",
    "        pos_rank, neg_rank = model(\n",
    "            data.edge_index, edge_label_index,\n",
    "            kg_edge_index = torch.tensor(kg),\n",
    "            kg_edge_type = torch.arange(0, 199897)\n",
    "            ).chunk(2)\n",
    "\n",
    "        loss = model.recommendation_loss(\n",
    "            pos_rank,\n",
    "            neg_rank,\n",
    "            node_id=edge_label_index.unique(),\n",
    "        )\n",
    "        loss.backward()\n",
    "        optimizer.step()\n",
    "\n",
    "        total_loss += float(loss) * pos_rank.numel()\n",
    "        total_examples += pos_rank.numel()\n",
    "\n",
    "    return total_loss / total_examples\n",
    "\n",
    "@torch.no_grad()\n",
    "def test(k: int):\n",
    "    emb = model.get_embedding(data.edge_index)\n",
    "    user_emb, book_emb = emb[:num_users], emb[num_users:]\n",
    "\n",
    "    precision = recall = total_examples = 0\n",
    "    hr10 = hr20 = ndcg10 = ndcg20 = 0\n",
    "    for start in range(0, num_users, batch_size):\n",
    "        end = start + batch_size\n",
    "        logits = user_emb[start:end] @ book_emb.t()\n",
    "\n",
    "        # Exclude training edges:\n",
    "        mask = ((train_edge_label_index[0] >= start) &\n",
    "                (train_edge_label_index[0] < end))\n",
    "        logits[train_edge_label_index[0, mask] - start,\n",
    "               train_edge_label_index[1, mask] - num_users] = float('-inf')\n",
    "\n",
    "        # Computing precision and recall:\n",
    "        ground_truth = torch.zeros_like(logits, dtype=torch.bool)\n",
    "        mask = ((data.edge_label_index[0] >= start) &\n",
    "                (data.edge_label_index[0] < end))\n",
    "        ground_truth[data.edge_label_index[0, mask] - start,\n",
    "                     data.edge_label_index[1, mask] - num_users] = True\n",
    "        node_count = degree(data.edge_label_index[0, mask] - start,\n",
    "                            num_nodes=logits.size(0))\n",
    "\n",
    "        topk_index = logits.topk(k, dim=-1).indices\n",
    "        isin_mat = ground_truth.gather(1, topk_index)\n",
    "\n",
    "        precision += float((isin_mat.sum(dim=-1) / k).sum())\n",
    "        recall += float((isin_mat.sum(dim=-1) / node_count.clamp(1e-6)).sum())\n",
    "        total_examples += int((node_count > 0).sum())\n",
    "\n",
    "        # HR@10 and HR@20\n",
    "        hr10 += float((isin_mat[:, :10].sum(dim=-1) > 0).sum())\n",
    "        hr20 += float((isin_mat[:, :20].sum(dim=-1) > 0).sum())\n",
    "\n",
    "        # NDCG@10 and NDCG@20\n",
    "        dcg10 = dcg_k(isin_mat[:, :10], 10)\n",
    "        dcg20 = dcg_k(isin_mat[:, :20], 20)\n",
    "        ndcg10 += float(dcg10.sum())\n",
    "        ndcg20 += float(dcg20.sum())\n",
    "\n",
    "    return precision/total_examples, recall/total_examples, hr10/total_examples, \\\n",
    "        hr20/total_examples, ndcg10/total_examples, ndcg20/total_examples\n",
    "\n",
    "for epoch in range(1, 61):\n",
    "    loss = train()\n",
    "    precision, recall, hr10, hr20, ndcg10, ndcg20 = test(k=20)\n",
    "    print(f'Epoch: {epoch:03d}, Loss: {loss:.4f},Precision@20: '\n",
    "          f'{precision:.4f}, Recall@20: {recall:.4f},'\n",
    "          f'hr@10: {hr10:.4f},'\n",
    "          f'hr@20: {hr20:.4f},'\n",
    "          f'ndcg@10: {ndcg10:.4f},'\n",
    "          f'ndcg@20: {ndcg20:.4f}'\n",
    "          )\n",
    "\n",
    "torch.save(model, 'course_kg.bin')\n",
    "\n"
   ]
  },
  {
   "cell_type": "code",
   "execution_count": 3,
   "metadata": {},
   "outputs": [
    {
     "name": "stdout",
     "output_type": "stream",
     "text": [
      "HeteroData(\n",
      "  user={ num_nodes=199199 },\n",
      "  book={ num_nodes=698 },\n",
      "  (user, rates, book)={\n",
      "    edge_index=[2, 614476],\n",
      "    edge_label_index=[2, 68276],\n",
      "  },\n",
      "  (book, rated_by, user)={ edge_index=[2, 614476] }\n",
      ")\n",
      "Data(edge_index=[2, 1228952], edge_label_index=[2, 68276], node_type=[199897], edge_type=[1228952])\n",
      "[[55176, 1, 239], [154324, 1, 239], [46174, 1, 239], [82528, 1, 589], [40650, 1, 589], [109258, 1, 589], [74100, 1, 589], [33313, 1, 589], [78825, 1, 589], [48569, 1, 589]]\n"
     ]
    },
    {
     "name": "stderr",
     "output_type": "stream",
     "text": [
      "100%|██████████| 76/76 [05:03<00:00,  3.99s/it]\n"
     ]
    },
    {
     "name": "stdout",
     "output_type": "stream",
     "text": [
      "Epoch: 001, Loss: 0.6908,Precision@20: 0.0250, Recall@20: 0.4214,hr@10: 0.3554,hr@20: 0.4573,ndcg@10: 0.2144,ndcg@20: 0.2440\n"
     ]
    },
    {
     "name": "stderr",
     "output_type": "stream",
     "text": [
      "100%|██████████| 76/76 [04:52<00:00,  3.85s/it]\n"
     ]
    },
    {
     "name": "stdout",
     "output_type": "stream",
     "text": [
      "Epoch: 002, Loss: 0.6565,Precision@20: 0.0247, Recall@20: 0.4160,hr@10: 0.3524,hr@20: 0.4516,ndcg@10: 0.2118,ndcg@20: 0.2410\n"
     ]
    },
    {
     "name": "stderr",
     "output_type": "stream",
     "text": [
      "100%|██████████| 76/76 [08:59<00:00,  7.09s/it]\n"
     ]
    },
    {
     "name": "stdout",
     "output_type": "stream",
     "text": [
      "Epoch: 003, Loss: 0.5854,Precision@20: 0.0248, Recall@20: 0.4184,hr@10: 0.3473,hr@20: 0.4543,ndcg@10: 0.2104,ndcg@20: 0.2416\n"
     ]
    },
    {
     "name": "stderr",
     "output_type": "stream",
     "text": [
      "100%|██████████| 76/76 [05:02<00:00,  3.97s/it]\n"
     ]
    },
    {
     "name": "stdout",
     "output_type": "stream",
     "text": [
      "Epoch: 004, Loss: 0.5074,Precision@20: 0.0247, Recall@20: 0.4171,hr@10: 0.3467,hr@20: 0.4534,ndcg@10: 0.2114,ndcg@20: 0.2427\n"
     ]
    },
    {
     "name": "stderr",
     "output_type": "stream",
     "text": [
      "100%|██████████| 76/76 [03:20<00:00,  2.64s/it]\n"
     ]
    },
    {
     "name": "stdout",
     "output_type": "stream",
     "text": [
      "Epoch: 005, Loss: 0.4414,Precision@20: 0.0248, Recall@20: 0.4189,hr@10: 0.3481,hr@20: 0.4554,ndcg@10: 0.2147,ndcg@20: 0.2462\n"
     ]
    },
    {
     "name": "stderr",
     "output_type": "stream",
     "text": [
      "100%|██████████| 76/76 [03:46<00:00,  2.98s/it]\n"
     ]
    },
    {
     "name": "stdout",
     "output_type": "stream",
     "text": [
      "Epoch: 006, Loss: 0.3914,Precision@20: 0.0250, Recall@20: 0.4213,hr@10: 0.3487,hr@20: 0.4580,ndcg@10: 0.2183,ndcg@20: 0.2503\n"
     ]
    },
    {
     "name": "stderr",
     "output_type": "stream",
     "text": [
      "100%|██████████| 76/76 [03:25<00:00,  2.70s/it]\n"
     ]
    },
    {
     "name": "stdout",
     "output_type": "stream",
     "text": [
      "Epoch: 007, Loss: 0.3554,Precision@20: 0.0251, Recall@20: 0.4236,hr@10: 0.3505,hr@20: 0.4604,ndcg@10: 0.2208,ndcg@20: 0.2531\n"
     ]
    },
    {
     "name": "stderr",
     "output_type": "stream",
     "text": [
      "100%|██████████| 76/76 [03:20<00:00,  2.64s/it]\n"
     ]
    },
    {
     "name": "stdout",
     "output_type": "stream",
     "text": [
      "Epoch: 008, Loss: 0.3294,Precision@20: 0.0252, Recall@20: 0.4259,hr@10: 0.3527,hr@20: 0.4628,ndcg@10: 0.2228,ndcg@20: 0.2551\n"
     ]
    },
    {
     "name": "stderr",
     "output_type": "stream",
     "text": [
      "100%|██████████| 76/76 [03:43<00:00,  2.94s/it]\n"
     ]
    },
    {
     "name": "stdout",
     "output_type": "stream",
     "text": [
      "Epoch: 009, Loss: 0.3097,Precision@20: 0.0253, Recall@20: 0.4275,hr@10: 0.3537,hr@20: 0.4644,ndcg@10: 0.2238,ndcg@20: 0.2564\n"
     ]
    },
    {
     "name": "stderr",
     "output_type": "stream",
     "text": [
      "100%|██████████| 76/76 [03:06<00:00,  2.46s/it]\n"
     ]
    },
    {
     "name": "stdout",
     "output_type": "stream",
     "text": [
      "Epoch: 010, Loss: 0.2951,Precision@20: 0.0254, Recall@20: 0.4293,hr@10: 0.3547,hr@20: 0.4664,ndcg@10: 0.2248,ndcg@20: 0.2577\n"
     ]
    },
    {
     "name": "stderr",
     "output_type": "stream",
     "text": [
      "100%|██████████| 76/76 [02:32<00:00,  2.01s/it]\n"
     ]
    },
    {
     "name": "stdout",
     "output_type": "stream",
     "text": [
      "Epoch: 011, Loss: 0.2837,Precision@20: 0.0255, Recall@20: 0.4311,hr@10: 0.3550,hr@20: 0.4683,ndcg@10: 0.2254,ndcg@20: 0.2587\n"
     ]
    },
    {
     "name": "stderr",
     "output_type": "stream",
     "text": [
      "100%|██████████| 76/76 [03:59<00:00,  3.15s/it]\n"
     ]
    },
    {
     "name": "stdout",
     "output_type": "stream",
     "text": [
      "Epoch: 012, Loss: 0.2732,Precision@20: 0.0256, Recall@20: 0.4326,hr@10: 0.3560,hr@20: 0.4700,ndcg@10: 0.2262,ndcg@20: 0.2597\n"
     ]
    },
    {
     "name": "stderr",
     "output_type": "stream",
     "text": [
      "100%|██████████| 76/76 [04:07<00:00,  3.26s/it]\n"
     ]
    },
    {
     "name": "stdout",
     "output_type": "stream",
     "text": [
      "Epoch: 013, Loss: 0.2655,Precision@20: 0.0257, Recall@20: 0.4338,hr@10: 0.3565,hr@20: 0.4714,ndcg@10: 0.2269,ndcg@20: 0.2607\n"
     ]
    },
    {
     "name": "stderr",
     "output_type": "stream",
     "text": [
      "100%|██████████| 76/76 [04:25<00:00,  3.49s/it]\n"
     ]
    },
    {
     "name": "stdout",
     "output_type": "stream",
     "text": [
      "Epoch: 014, Loss: 0.2588,Precision@20: 0.0259, Recall@20: 0.4367,hr@10: 0.3570,hr@20: 0.4743,ndcg@10: 0.2276,ndcg@20: 0.2620\n"
     ]
    },
    {
     "name": "stderr",
     "output_type": "stream",
     "text": [
      "100%|██████████| 76/76 [03:15<00:00,  2.57s/it]\n"
     ]
    },
    {
     "name": "stdout",
     "output_type": "stream",
     "text": [
      "Epoch: 015, Loss: 0.2528,Precision@20: 0.0260, Recall@20: 0.4387,hr@10: 0.3574,hr@20: 0.4764,ndcg@10: 0.2284,ndcg@20: 0.2634\n"
     ]
    },
    {
     "name": "stderr",
     "output_type": "stream",
     "text": [
      "100%|██████████| 76/76 [02:36<00:00,  2.06s/it]\n"
     ]
    },
    {
     "name": "stdout",
     "output_type": "stream",
     "text": [
      "Epoch: 016, Loss: 0.2484,Precision@20: 0.0261, Recall@20: 0.4407,hr@10: 0.3584,hr@20: 0.4786,ndcg@10: 0.2295,ndcg@20: 0.2648\n"
     ]
    },
    {
     "name": "stderr",
     "output_type": "stream",
     "text": [
      "100%|██████████| 76/76 [02:29<00:00,  1.97s/it]\n"
     ]
    },
    {
     "name": "stdout",
     "output_type": "stream",
     "text": [
      "Epoch: 017, Loss: 0.2435,Precision@20: 0.0262, Recall@20: 0.4429,hr@10: 0.3597,hr@20: 0.4810,ndcg@10: 0.2310,ndcg@20: 0.2666\n"
     ]
    },
    {
     "name": "stderr",
     "output_type": "stream",
     "text": [
      "100%|██████████| 76/76 [02:41<00:00,  2.12s/it]\n"
     ]
    },
    {
     "name": "stdout",
     "output_type": "stream",
     "text": [
      "Epoch: 018, Loss: 0.2373,Precision@20: 0.0264, Recall@20: 0.4449,hr@10: 0.3609,hr@20: 0.4831,ndcg@10: 0.2336,ndcg@20: 0.2695\n"
     ]
    },
    {
     "name": "stderr",
     "output_type": "stream",
     "text": [
      "100%|██████████| 76/76 [02:18<00:00,  1.82s/it]\n"
     ]
    },
    {
     "name": "stdout",
     "output_type": "stream",
     "text": [
      "Epoch: 019, Loss: 0.2339,Precision@20: 0.0265, Recall@20: 0.4468,hr@10: 0.3623,hr@20: 0.4851,ndcg@10: 0.2352,ndcg@20: 0.2713\n"
     ]
    },
    {
     "name": "stderr",
     "output_type": "stream",
     "text": [
      "100%|██████████| 76/76 [02:19<00:00,  1.84s/it]\n"
     ]
    },
    {
     "name": "stdout",
     "output_type": "stream",
     "text": [
      "Epoch: 020, Loss: 0.2302,Precision@20: 0.0266, Recall@20: 0.4487,hr@10: 0.3643,hr@20: 0.4871,ndcg@10: 0.2368,ndcg@20: 0.2729\n"
     ]
    },
    {
     "name": "stderr",
     "output_type": "stream",
     "text": [
      "100%|██████████| 76/76 [02:07<00:00,  1.68s/it]\n"
     ]
    },
    {
     "name": "stdout",
     "output_type": "stream",
     "text": [
      "Epoch: 021, Loss: 0.2255,Precision@20: 0.0267, Recall@20: 0.4504,hr@10: 0.3668,hr@20: 0.4888,ndcg@10: 0.2383,ndcg@20: 0.2742\n"
     ]
    },
    {
     "name": "stderr",
     "output_type": "stream",
     "text": [
      "100%|██████████| 76/76 [01:47<00:00,  1.42s/it]\n"
     ]
    },
    {
     "name": "stdout",
     "output_type": "stream",
     "text": [
      "Epoch: 022, Loss: 0.2210,Precision@20: 0.0267, Recall@20: 0.4516,hr@10: 0.3702,hr@20: 0.4899,ndcg@10: 0.2398,ndcg@20: 0.2752\n"
     ]
    },
    {
     "name": "stderr",
     "output_type": "stream",
     "text": [
      "100%|██████████| 76/76 [02:01<00:00,  1.60s/it]\n"
     ]
    },
    {
     "name": "stdout",
     "output_type": "stream",
     "text": [
      "Epoch: 023, Loss: 0.2178,Precision@20: 0.0268, Recall@20: 0.4532,hr@10: 0.3732,hr@20: 0.4917,ndcg@10: 0.2413,ndcg@20: 0.2763\n"
     ]
    },
    {
     "name": "stderr",
     "output_type": "stream",
     "text": [
      "100%|██████████| 76/76 [03:14<00:00,  2.55s/it]\n"
     ]
    },
    {
     "name": "stdout",
     "output_type": "stream",
     "text": [
      "Epoch: 024, Loss: 0.2139,Precision@20: 0.0270, Recall@20: 0.4552,hr@10: 0.3758,hr@20: 0.4938,ndcg@10: 0.2425,ndcg@20: 0.2774\n"
     ]
    },
    {
     "name": "stderr",
     "output_type": "stream",
     "text": [
      "100%|██████████| 76/76 [04:05<00:00,  3.23s/it]\n"
     ]
    },
    {
     "name": "stdout",
     "output_type": "stream",
     "text": [
      "Epoch: 025, Loss: 0.2105,Precision@20: 0.0270, Recall@20: 0.4564,hr@10: 0.3795,hr@20: 0.4951,ndcg@10: 0.2441,ndcg@20: 0.2783\n"
     ]
    },
    {
     "name": "stderr",
     "output_type": "stream",
     "text": [
      "100%|██████████| 76/76 [03:34<00:00,  2.82s/it]\n"
     ]
    },
    {
     "name": "stdout",
     "output_type": "stream",
     "text": [
      "Epoch: 026, Loss: 0.2062,Precision@20: 0.0271, Recall@20: 0.4578,hr@10: 0.3829,hr@20: 0.4966,ndcg@10: 0.2456,ndcg@20: 0.2792\n"
     ]
    },
    {
     "name": "stderr",
     "output_type": "stream",
     "text": [
      "100%|██████████| 76/76 [03:02<00:00,  2.41s/it]\n"
     ]
    },
    {
     "name": "stdout",
     "output_type": "stream",
     "text": [
      "Epoch: 027, Loss: 0.2032,Precision@20: 0.0272, Recall@20: 0.4596,hr@10: 0.3854,hr@20: 0.4985,ndcg@10: 0.2471,ndcg@20: 0.2805\n"
     ]
    },
    {
     "name": "stderr",
     "output_type": "stream",
     "text": [
      "100%|██████████| 76/76 [02:27<00:00,  1.95s/it]\n"
     ]
    },
    {
     "name": "stdout",
     "output_type": "stream",
     "text": [
      "Epoch: 028, Loss: 0.2000,Precision@20: 0.0274, Recall@20: 0.4623,hr@10: 0.3877,hr@20: 0.5011,ndcg@10: 0.2487,ndcg@20: 0.2822\n"
     ]
    },
    {
     "name": "stderr",
     "output_type": "stream",
     "text": [
      "100%|██████████| 76/76 [03:34<00:00,  2.83s/it]\n"
     ]
    },
    {
     "name": "stdout",
     "output_type": "stream",
     "text": [
      "Epoch: 029, Loss: 0.1967,Precision@20: 0.0276, Recall@20: 0.4653,hr@10: 0.3897,hr@20: 0.5042,ndcg@10: 0.2502,ndcg@20: 0.2841\n"
     ]
    },
    {
     "name": "stderr",
     "output_type": "stream",
     "text": [
      "100%|██████████| 76/76 [03:36<00:00,  2.85s/it]\n"
     ]
    },
    {
     "name": "stdout",
     "output_type": "stream",
     "text": [
      "Epoch: 030, Loss: 0.1935,Precision@20: 0.0277, Recall@20: 0.4676,hr@10: 0.3914,hr@20: 0.5065,ndcg@10: 0.2519,ndcg@20: 0.2859\n"
     ]
    },
    {
     "name": "stderr",
     "output_type": "stream",
     "text": [
      "100%|██████████| 76/76 [03:21<00:00,  2.65s/it]\n"
     ]
    },
    {
     "name": "stdout",
     "output_type": "stream",
     "text": [
      "Epoch: 031, Loss: 0.1893,Precision@20: 0.0278, Recall@20: 0.4695,hr@10: 0.3935,hr@20: 0.5086,ndcg@10: 0.2537,ndcg@20: 0.2877\n"
     ]
    },
    {
     "name": "stderr",
     "output_type": "stream",
     "text": [
      "100%|██████████| 76/76 [03:17<00:00,  2.60s/it]\n"
     ]
    },
    {
     "name": "stdout",
     "output_type": "stream",
     "text": [
      "Epoch: 032, Loss: 0.1864,Precision@20: 0.0279, Recall@20: 0.4717,hr@10: 0.3952,hr@20: 0.5107,ndcg@10: 0.2549,ndcg@20: 0.2890\n"
     ]
    },
    {
     "name": "stderr",
     "output_type": "stream",
     "text": [
      "100%|██████████| 76/76 [03:08<00:00,  2.48s/it]\n"
     ]
    },
    {
     "name": "stdout",
     "output_type": "stream",
     "text": [
      "Epoch: 033, Loss: 0.1835,Precision@20: 0.0281, Recall@20: 0.4743,hr@10: 0.3960,hr@20: 0.5134,ndcg@10: 0.2558,ndcg@20: 0.2905\n"
     ]
    },
    {
     "name": "stderr",
     "output_type": "stream",
     "text": [
      "100%|██████████| 76/76 [03:12<00:00,  2.54s/it]\n"
     ]
    },
    {
     "name": "stdout",
     "output_type": "stream",
     "text": [
      "Epoch: 034, Loss: 0.1798,Precision@20: 0.0282, Recall@20: 0.4763,hr@10: 0.3977,hr@20: 0.5155,ndcg@10: 0.2571,ndcg@20: 0.2919\n"
     ]
    },
    {
     "name": "stderr",
     "output_type": "stream",
     "text": [
      "100%|██████████| 76/76 [03:59<00:00,  3.15s/it]\n"
     ]
    },
    {
     "name": "stdout",
     "output_type": "stream",
     "text": [
      "Epoch: 035, Loss: 0.1764,Precision@20: 0.0283, Recall@20: 0.4778,hr@10: 0.3992,hr@20: 0.5171,ndcg@10: 0.2582,ndcg@20: 0.2930\n"
     ]
    },
    {
     "name": "stderr",
     "output_type": "stream",
     "text": [
      "100%|██████████| 76/76 [03:19<00:00,  2.63s/it]\n"
     ]
    },
    {
     "name": "stdout",
     "output_type": "stream",
     "text": [
      "Epoch: 036, Loss: 0.1735,Precision@20: 0.0284, Recall@20: 0.4797,hr@10: 0.4004,hr@20: 0.5191,ndcg@10: 0.2594,ndcg@20: 0.2944\n"
     ]
    },
    {
     "name": "stderr",
     "output_type": "stream",
     "text": [
      "100%|██████████| 76/76 [02:39<00:00,  2.10s/it]\n"
     ]
    },
    {
     "name": "stdout",
     "output_type": "stream",
     "text": [
      "Epoch: 037, Loss: 0.1713,Precision@20: 0.0285, Recall@20: 0.4813,hr@10: 0.4018,hr@20: 0.5208,ndcg@10: 0.2604,ndcg@20: 0.2956\n"
     ]
    },
    {
     "name": "stderr",
     "output_type": "stream",
     "text": [
      "100%|██████████| 76/76 [03:25<00:00,  2.70s/it]\n"
     ]
    },
    {
     "name": "stdout",
     "output_type": "stream",
     "text": [
      "Epoch: 038, Loss: 0.1694,Precision@20: 0.0285, Recall@20: 0.4819,hr@10: 0.4031,hr@20: 0.5215,ndcg@10: 0.2615,ndcg@20: 0.2965\n"
     ]
    },
    {
     "name": "stderr",
     "output_type": "stream",
     "text": [
      "100%|██████████| 76/76 [05:49<00:00,  4.60s/it]\n"
     ]
    },
    {
     "name": "stdout",
     "output_type": "stream",
     "text": [
      "Epoch: 039, Loss: 0.1653,Precision@20: 0.0286, Recall@20: 0.4830,hr@10: 0.4046,hr@20: 0.5226,ndcg@10: 0.2622,ndcg@20: 0.2971\n"
     ]
    },
    {
     "name": "stderr",
     "output_type": "stream",
     "text": [
      "100%|██████████| 76/76 [03:19<00:00,  2.62s/it]\n"
     ]
    },
    {
     "name": "stdout",
     "output_type": "stream",
     "text": [
      "Epoch: 040, Loss: 0.1631,Precision@20: 0.0287, Recall@20: 0.4847,hr@10: 0.4056,hr@20: 0.5243,ndcg@10: 0.2632,ndcg@20: 0.2983\n"
     ]
    },
    {
     "name": "stderr",
     "output_type": "stream",
     "text": [
      "100%|██████████| 76/76 [02:53<00:00,  2.29s/it]\n"
     ]
    },
    {
     "name": "stdout",
     "output_type": "stream",
     "text": [
      "Epoch: 041, Loss: 0.1605,Precision@20: 0.0287, Recall@20: 0.4861,hr@10: 0.4064,hr@20: 0.5257,ndcg@10: 0.2636,ndcg@20: 0.2989\n"
     ]
    },
    {
     "name": "stderr",
     "output_type": "stream",
     "text": [
      "100%|██████████| 76/76 [03:32<00:00,  2.80s/it]\n"
     ]
    },
    {
     "name": "stdout",
     "output_type": "stream",
     "text": [
      "Epoch: 042, Loss: 0.1573,Precision@20: 0.0288, Recall@20: 0.4872,hr@10: 0.4074,hr@20: 0.5267,ndcg@10: 0.2641,ndcg@20: 0.2995\n"
     ]
    },
    {
     "name": "stderr",
     "output_type": "stream",
     "text": [
      "100%|██████████| 76/76 [03:05<00:00,  2.43s/it]\n"
     ]
    },
    {
     "name": "stdout",
     "output_type": "stream",
     "text": [
      "Epoch: 043, Loss: 0.1553,Precision@20: 0.0289, Recall@20: 0.4878,hr@10: 0.4081,hr@20: 0.5274,ndcg@10: 0.2648,ndcg@20: 0.3002\n"
     ]
    },
    {
     "name": "stderr",
     "output_type": "stream",
     "text": [
      "100%|██████████| 76/76 [02:21<00:00,  1.87s/it]\n"
     ]
    },
    {
     "name": "stdout",
     "output_type": "stream",
     "text": [
      "Epoch: 044, Loss: 0.1530,Precision@20: 0.0289, Recall@20: 0.4888,hr@10: 0.4091,hr@20: 0.5286,ndcg@10: 0.2654,ndcg@20: 0.3008\n"
     ]
    },
    {
     "name": "stderr",
     "output_type": "stream",
     "text": [
      "100%|██████████| 76/76 [02:29<00:00,  1.96s/it]\n"
     ]
    },
    {
     "name": "stdout",
     "output_type": "stream",
     "text": [
      "Epoch: 045, Loss: 0.1507,Precision@20: 0.0290, Recall@20: 0.4899,hr@10: 0.4095,hr@20: 0.5297,ndcg@10: 0.2658,ndcg@20: 0.3014\n"
     ]
    },
    {
     "name": "stderr",
     "output_type": "stream",
     "text": [
      "100%|██████████| 76/76 [02:10<00:00,  1.72s/it]\n"
     ]
    },
    {
     "name": "stdout",
     "output_type": "stream",
     "text": [
      "Epoch: 046, Loss: 0.1481,Precision@20: 0.0290, Recall@20: 0.4905,hr@10: 0.4103,hr@20: 0.5304,ndcg@10: 0.2662,ndcg@20: 0.3018\n"
     ]
    },
    {
     "name": "stderr",
     "output_type": "stream",
     "text": [
      "100%|██████████| 76/76 [02:20<00:00,  1.85s/it]\n"
     ]
    },
    {
     "name": "stdout",
     "output_type": "stream",
     "text": [
      "Epoch: 047, Loss: 0.1462,Precision@20: 0.0291, Recall@20: 0.4916,hr@10: 0.4118,hr@20: 0.5315,ndcg@10: 0.2671,ndcg@20: 0.3026\n"
     ]
    },
    {
     "name": "stderr",
     "output_type": "stream",
     "text": [
      "100%|██████████| 76/76 [02:15<00:00,  1.78s/it]\n"
     ]
    },
    {
     "name": "stdout",
     "output_type": "stream",
     "text": [
      "Epoch: 048, Loss: 0.1445,Precision@20: 0.0291, Recall@20: 0.4923,hr@10: 0.4131,hr@20: 0.5321,ndcg@10: 0.2679,ndcg@20: 0.3032\n"
     ]
    },
    {
     "name": "stderr",
     "output_type": "stream",
     "text": [
      "100%|██████████| 76/76 [02:23<00:00,  1.89s/it]\n"
     ]
    },
    {
     "name": "stdout",
     "output_type": "stream",
     "text": [
      "Epoch: 049, Loss: 0.1422,Precision@20: 0.0292, Recall@20: 0.4930,hr@10: 0.4140,hr@20: 0.5329,ndcg@10: 0.2684,ndcg@20: 0.3037\n"
     ]
    },
    {
     "name": "stderr",
     "output_type": "stream",
     "text": [
      "100%|██████████| 76/76 [02:09<00:00,  1.70s/it]\n"
     ]
    },
    {
     "name": "stdout",
     "output_type": "stream",
     "text": [
      "Epoch: 050, Loss: 0.1398,Precision@20: 0.0292, Recall@20: 0.4935,hr@10: 0.4142,hr@20: 0.5334,ndcg@10: 0.2686,ndcg@20: 0.3040\n"
     ]
    },
    {
     "name": "stderr",
     "output_type": "stream",
     "text": [
      "100%|██████████| 76/76 [02:23<00:00,  1.89s/it]\n"
     ]
    },
    {
     "name": "stdout",
     "output_type": "stream",
     "text": [
      "Epoch: 051, Loss: 0.1376,Precision@20: 0.0292, Recall@20: 0.4939,hr@10: 0.4146,hr@20: 0.5339,ndcg@10: 0.2690,ndcg@20: 0.3044\n"
     ]
    },
    {
     "name": "stderr",
     "output_type": "stream",
     "text": [
      "100%|██████████| 76/76 [02:04<00:00,  1.64s/it]\n"
     ]
    },
    {
     "name": "stdout",
     "output_type": "stream",
     "text": [
      "Epoch: 052, Loss: 0.1355,Precision@20: 0.0293, Recall@20: 0.4947,hr@10: 0.4153,hr@20: 0.5348,ndcg@10: 0.2695,ndcg@20: 0.3049\n"
     ]
    },
    {
     "name": "stderr",
     "output_type": "stream",
     "text": [
      "100%|██████████| 76/76 [02:49<00:00,  2.24s/it]\n"
     ]
    },
    {
     "name": "stdout",
     "output_type": "stream",
     "text": [
      "Epoch: 053, Loss: 0.1333,Precision@20: 0.0293, Recall@20: 0.4951,hr@10: 0.4156,hr@20: 0.5352,ndcg@10: 0.2697,ndcg@20: 0.3052\n"
     ]
    },
    {
     "name": "stderr",
     "output_type": "stream",
     "text": [
      "100%|██████████| 76/76 [02:28<00:00,  1.95s/it]\n"
     ]
    },
    {
     "name": "stdout",
     "output_type": "stream",
     "text": [
      "Epoch: 054, Loss: 0.1319,Precision@20: 0.0293, Recall@20: 0.4956,hr@10: 0.4164,hr@20: 0.5357,ndcg@10: 0.2702,ndcg@20: 0.3056\n"
     ]
    },
    {
     "name": "stderr",
     "output_type": "stream",
     "text": [
      "100%|██████████| 76/76 [02:18<00:00,  1.83s/it]\n"
     ]
    },
    {
     "name": "stdout",
     "output_type": "stream",
     "text": [
      "Epoch: 055, Loss: 0.1296,Precision@20: 0.0293, Recall@20: 0.4955,hr@10: 0.4173,hr@20: 0.5356,ndcg@10: 0.2707,ndcg@20: 0.3059\n"
     ]
    },
    {
     "name": "stderr",
     "output_type": "stream",
     "text": [
      "100%|██████████| 76/76 [02:19<00:00,  1.84s/it]\n"
     ]
    },
    {
     "name": "stdout",
     "output_type": "stream",
     "text": [
      "Epoch: 056, Loss: 0.1281,Precision@20: 0.0293, Recall@20: 0.4959,hr@10: 0.4179,hr@20: 0.5359,ndcg@10: 0.2711,ndcg@20: 0.3062\n"
     ]
    },
    {
     "name": "stderr",
     "output_type": "stream",
     "text": [
      "100%|██████████| 76/76 [02:26<00:00,  1.92s/it]\n"
     ]
    },
    {
     "name": "stdout",
     "output_type": "stream",
     "text": [
      "Epoch: 057, Loss: 0.1260,Precision@20: 0.0294, Recall@20: 0.4960,hr@10: 0.4183,hr@20: 0.5361,ndcg@10: 0.2716,ndcg@20: 0.3066\n"
     ]
    },
    {
     "name": "stderr",
     "output_type": "stream",
     "text": [
      "100%|██████████| 76/76 [02:32<00:00,  2.01s/it]\n"
     ]
    },
    {
     "name": "stdout",
     "output_type": "stream",
     "text": [
      "Epoch: 058, Loss: 0.1243,Precision@20: 0.0294, Recall@20: 0.4964,hr@10: 0.4189,hr@20: 0.5365,ndcg@10: 0.2720,ndcg@20: 0.3070\n"
     ]
    },
    {
     "name": "stderr",
     "output_type": "stream",
     "text": [
      "100%|██████████| 76/76 [02:29<00:00,  1.97s/it]\n"
     ]
    },
    {
     "name": "stdout",
     "output_type": "stream",
     "text": [
      "Epoch: 059, Loss: 0.1220,Precision@20: 0.0294, Recall@20: 0.4966,hr@10: 0.4196,hr@20: 0.5366,ndcg@10: 0.2723,ndcg@20: 0.3072\n"
     ]
    },
    {
     "name": "stderr",
     "output_type": "stream",
     "text": [
      "100%|██████████| 76/76 [02:24<00:00,  1.90s/it]\n"
     ]
    },
    {
     "name": "stdout",
     "output_type": "stream",
     "text": [
      "Epoch: 060, Loss: 0.1210,Precision@20: 0.0294, Recall@20: 0.4968,hr@10: 0.4204,hr@20: 0.5368,ndcg@10: 0.2727,ndcg@20: 0.3074\n"
     ]
    },
    {
     "name": "stderr",
     "output_type": "stream",
     "text": [
      "100%|██████████| 76/76 [02:47<00:00,  2.21s/it]\n"
     ]
    },
    {
     "name": "stdout",
     "output_type": "stream",
     "text": [
      "Epoch: 061, Loss: 0.1193,Precision@20: 0.0295, Recall@20: 0.4978,hr@10: 0.4208,hr@20: 0.5379,ndcg@10: 0.2730,ndcg@20: 0.3079\n"
     ]
    },
    {
     "name": "stderr",
     "output_type": "stream",
     "text": [
      "100%|██████████| 76/76 [02:18<00:00,  1.82s/it]\n"
     ]
    },
    {
     "name": "stdout",
     "output_type": "stream",
     "text": [
      "Epoch: 062, Loss: 0.1184,Precision@20: 0.0295, Recall@20: 0.4984,hr@10: 0.4214,hr@20: 0.5385,ndcg@10: 0.2735,ndcg@20: 0.3084\n"
     ]
    },
    {
     "name": "stderr",
     "output_type": "stream",
     "text": [
      "100%|██████████| 76/76 [02:08<00:00,  1.69s/it]\n"
     ]
    },
    {
     "name": "stdout",
     "output_type": "stream",
     "text": [
      "Epoch: 063, Loss: 0.1164,Precision@20: 0.0295, Recall@20: 0.4991,hr@10: 0.4222,hr@20: 0.5392,ndcg@10: 0.2741,ndcg@20: 0.3089\n"
     ]
    },
    {
     "name": "stderr",
     "output_type": "stream",
     "text": [
      "100%|██████████| 76/76 [02:04<00:00,  1.64s/it]\n"
     ]
    },
    {
     "name": "stdout",
     "output_type": "stream",
     "text": [
      "Epoch: 064, Loss: 0.1142,Precision@20: 0.0296, Recall@20: 0.4992,hr@10: 0.4235,hr@20: 0.5394,ndcg@10: 0.2747,ndcg@20: 0.3093\n"
     ]
    },
    {
     "name": "stderr",
     "output_type": "stream",
     "text": [
      "100%|██████████| 76/76 [02:37<00:00,  2.07s/it]\n"
     ]
    },
    {
     "name": "stdout",
     "output_type": "stream",
     "text": [
      "Epoch: 065, Loss: 0.1131,Precision@20: 0.0296, Recall@20: 0.4996,hr@10: 0.4241,hr@20: 0.5398,ndcg@10: 0.2752,ndcg@20: 0.3097\n"
     ]
    },
    {
     "name": "stderr",
     "output_type": "stream",
     "text": [
      "100%|██████████| 76/76 [02:48<00:00,  2.22s/it]\n"
     ]
    },
    {
     "name": "stdout",
     "output_type": "stream",
     "text": [
      "Epoch: 066, Loss: 0.1116,Precision@20: 0.0296, Recall@20: 0.5004,hr@10: 0.4248,hr@20: 0.5407,ndcg@10: 0.2757,ndcg@20: 0.3102\n"
     ]
    },
    {
     "name": "stderr",
     "output_type": "stream",
     "text": [
      "100%|██████████| 76/76 [02:32<00:00,  2.01s/it]\n"
     ]
    },
    {
     "name": "stdout",
     "output_type": "stream",
     "text": [
      "Epoch: 067, Loss: 0.1109,Precision@20: 0.0297, Recall@20: 0.5011,hr@10: 0.4252,hr@20: 0.5414,ndcg@10: 0.2762,ndcg@20: 0.3108\n"
     ]
    },
    {
     "name": "stderr",
     "output_type": "stream",
     "text": [
      "100%|██████████| 76/76 [02:22<00:00,  1.88s/it]\n"
     ]
    },
    {
     "name": "stdout",
     "output_type": "stream",
     "text": [
      "Epoch: 068, Loss: 0.1083,Precision@20: 0.0297, Recall@20: 0.5015,hr@10: 0.4255,hr@20: 0.5418,ndcg@10: 0.2765,ndcg@20: 0.3111\n"
     ]
    },
    {
     "name": "stderr",
     "output_type": "stream",
     "text": [
      "100%|██████████| 76/76 [02:17<00:00,  1.80s/it]\n"
     ]
    },
    {
     "name": "stdout",
     "output_type": "stream",
     "text": [
      "Epoch: 069, Loss: 0.1070,Precision@20: 0.0297, Recall@20: 0.5019,hr@10: 0.4260,hr@20: 0.5421,ndcg@10: 0.2768,ndcg@20: 0.3115\n"
     ]
    },
    {
     "name": "stderr",
     "output_type": "stream",
     "text": [
      "100%|██████████| 76/76 [04:25<00:00,  3.49s/it]\n"
     ]
    },
    {
     "name": "stdout",
     "output_type": "stream",
     "text": [
      "Epoch: 070, Loss: 0.1060,Precision@20: 0.0297, Recall@20: 0.5021,hr@10: 0.4267,hr@20: 0.5423,ndcg@10: 0.2772,ndcg@20: 0.3118\n"
     ]
    },
    {
     "name": "stderr",
     "output_type": "stream",
     "text": [
      "100%|██████████| 76/76 [02:54<00:00,  2.30s/it]\n"
     ]
    },
    {
     "name": "stdout",
     "output_type": "stream",
     "text": [
      "Epoch: 071, Loss: 0.1050,Precision@20: 0.0297, Recall@20: 0.5025,hr@10: 0.4274,hr@20: 0.5427,ndcg@10: 0.2777,ndcg@20: 0.3121\n"
     ]
    },
    {
     "name": "stderr",
     "output_type": "stream",
     "text": [
      "100%|██████████| 76/76 [02:30<00:00,  1.98s/it]\n"
     ]
    },
    {
     "name": "stdout",
     "output_type": "stream",
     "text": [
      "Epoch: 072, Loss: 0.1031,Precision@20: 0.0298, Recall@20: 0.5031,hr@10: 0.4279,hr@20: 0.5432,ndcg@10: 0.2780,ndcg@20: 0.3125\n"
     ]
    },
    {
     "name": "stderr",
     "output_type": "stream",
     "text": [
      "100%|██████████| 76/76 [02:49<00:00,  2.23s/it]\n"
     ]
    },
    {
     "name": "stdout",
     "output_type": "stream",
     "text": [
      "Epoch: 073, Loss: 0.1018,Precision@20: 0.0298, Recall@20: 0.5035,hr@10: 0.4286,hr@20: 0.5437,ndcg@10: 0.2784,ndcg@20: 0.3129\n"
     ]
    },
    {
     "name": "stderr",
     "output_type": "stream",
     "text": [
      "100%|██████████| 76/76 [02:54<00:00,  2.29s/it]\n"
     ]
    },
    {
     "name": "stdout",
     "output_type": "stream",
     "text": [
      "Epoch: 074, Loss: 0.1000,Precision@20: 0.0298, Recall@20: 0.5040,hr@10: 0.4292,hr@20: 0.5441,ndcg@10: 0.2788,ndcg@20: 0.3132\n"
     ]
    },
    {
     "name": "stderr",
     "output_type": "stream",
     "text": [
      "100%|██████████| 76/76 [02:09<00:00,  1.71s/it]\n"
     ]
    },
    {
     "name": "stdout",
     "output_type": "stream",
     "text": [
      "Epoch: 075, Loss: 0.0994,Precision@20: 0.0299, Recall@20: 0.5046,hr@10: 0.4298,hr@20: 0.5448,ndcg@10: 0.2793,ndcg@20: 0.3137\n"
     ]
    },
    {
     "name": "stderr",
     "output_type": "stream",
     "text": [
      "100%|██████████| 76/76 [02:38<00:00,  2.09s/it]\n"
     ]
    },
    {
     "name": "stdout",
     "output_type": "stream",
     "text": [
      "Epoch: 076, Loss: 0.0974,Precision@20: 0.0299, Recall@20: 0.5051,hr@10: 0.4301,hr@20: 0.5453,ndcg@10: 0.2796,ndcg@20: 0.3141\n"
     ]
    },
    {
     "name": "stderr",
     "output_type": "stream",
     "text": [
      "100%|██████████| 76/76 [03:01<00:00,  2.38s/it]\n"
     ]
    },
    {
     "name": "stdout",
     "output_type": "stream",
     "text": [
      "Epoch: 077, Loss: 0.0964,Precision@20: 0.0299, Recall@20: 0.5056,hr@10: 0.4312,hr@20: 0.5458,ndcg@10: 0.2802,ndcg@20: 0.3146\n"
     ]
    },
    {
     "name": "stderr",
     "output_type": "stream",
     "text": [
      "100%|██████████| 76/76 [02:33<00:00,  2.02s/it]\n"
     ]
    },
    {
     "name": "stdout",
     "output_type": "stream",
     "text": [
      "Epoch: 078, Loss: 0.0956,Precision@20: 0.0300, Recall@20: 0.5065,hr@10: 0.4315,hr@20: 0.5467,ndcg@10: 0.2807,ndcg@20: 0.3151\n"
     ]
    },
    {
     "name": "stderr",
     "output_type": "stream",
     "text": [
      "100%|██████████| 76/76 [02:37<00:00,  2.07s/it]\n"
     ]
    },
    {
     "name": "stdout",
     "output_type": "stream",
     "text": [
      "Epoch: 079, Loss: 0.0943,Precision@20: 0.0300, Recall@20: 0.5070,hr@10: 0.4320,hr@20: 0.5472,ndcg@10: 0.2811,ndcg@20: 0.3155\n"
     ]
    },
    {
     "name": "stderr",
     "output_type": "stream",
     "text": [
      "100%|██████████| 76/76 [02:24<00:00,  1.91s/it]\n"
     ]
    },
    {
     "name": "stdout",
     "output_type": "stream",
     "text": [
      "Epoch: 080, Loss: 0.0932,Precision@20: 0.0300, Recall@20: 0.5071,hr@10: 0.4326,hr@20: 0.5472,ndcg@10: 0.2815,ndcg@20: 0.3158\n"
     ]
    },
    {
     "name": "stderr",
     "output_type": "stream",
     "text": [
      "100%|██████████| 76/76 [03:02<00:00,  2.40s/it]\n"
     ]
    },
    {
     "name": "stdout",
     "output_type": "stream",
     "text": [
      "Epoch: 081, Loss: 0.0913,Precision@20: 0.0300, Recall@20: 0.5076,hr@10: 0.4331,hr@20: 0.5477,ndcg@10: 0.2820,ndcg@20: 0.3163\n"
     ]
    },
    {
     "name": "stderr",
     "output_type": "stream",
     "text": [
      "100%|██████████| 76/76 [02:30<00:00,  1.98s/it]\n"
     ]
    },
    {
     "name": "stdout",
     "output_type": "stream",
     "text": [
      "Epoch: 082, Loss: 0.0903,Precision@20: 0.0301, Recall@20: 0.5083,hr@10: 0.4335,hr@20: 0.5483,ndcg@10: 0.2823,ndcg@20: 0.3167\n"
     ]
    },
    {
     "name": "stderr",
     "output_type": "stream",
     "text": [
      "100%|██████████| 76/76 [03:26<00:00,  2.72s/it]\n"
     ]
    },
    {
     "name": "stdout",
     "output_type": "stream",
     "text": [
      "Epoch: 083, Loss: 0.0893,Precision@20: 0.0301, Recall@20: 0.5089,hr@10: 0.4342,hr@20: 0.5489,ndcg@10: 0.2828,ndcg@20: 0.3172\n"
     ]
    },
    {
     "name": "stderr",
     "output_type": "stream",
     "text": [
      "100%|██████████| 76/76 [04:01<00:00,  3.18s/it]\n"
     ]
    },
    {
     "name": "stdout",
     "output_type": "stream",
     "text": [
      "Epoch: 084, Loss: 0.0881,Precision@20: 0.0302, Recall@20: 0.5098,hr@10: 0.4351,hr@20: 0.5499,ndcg@10: 0.2833,ndcg@20: 0.3177\n"
     ]
    },
    {
     "name": "stderr",
     "output_type": "stream",
     "text": [
      "100%|██████████| 76/76 [03:17<00:00,  2.60s/it]\n"
     ]
    },
    {
     "name": "stdout",
     "output_type": "stream",
     "text": [
      "Epoch: 085, Loss: 0.0868,Precision@20: 0.0302, Recall@20: 0.5105,hr@10: 0.4359,hr@20: 0.5505,ndcg@10: 0.2838,ndcg@20: 0.3182\n"
     ]
    },
    {
     "name": "stderr",
     "output_type": "stream",
     "text": [
      "100%|██████████| 76/76 [02:33<00:00,  2.02s/it]\n"
     ]
    },
    {
     "name": "stdout",
     "output_type": "stream",
     "text": [
      "Epoch: 086, Loss: 0.0865,Precision@20: 0.0302, Recall@20: 0.5111,hr@10: 0.4367,hr@20: 0.5511,ndcg@10: 0.2843,ndcg@20: 0.3187\n"
     ]
    },
    {
     "name": "stderr",
     "output_type": "stream",
     "text": [
      "100%|██████████| 76/76 [02:04<00:00,  1.63s/it]\n"
     ]
    },
    {
     "name": "stdout",
     "output_type": "stream",
     "text": [
      "Epoch: 087, Loss: 0.0849,Precision@20: 0.0303, Recall@20: 0.5120,hr@10: 0.4375,hr@20: 0.5520,ndcg@10: 0.2848,ndcg@20: 0.3192\n"
     ]
    },
    {
     "name": "stderr",
     "output_type": "stream",
     "text": [
      "100%|██████████| 76/76 [03:45<00:00,  2.97s/it]\n"
     ]
    },
    {
     "name": "stdout",
     "output_type": "stream",
     "text": [
      "Epoch: 088, Loss: 0.0840,Precision@20: 0.0303, Recall@20: 0.5127,hr@10: 0.4382,hr@20: 0.5527,ndcg@10: 0.2851,ndcg@20: 0.3196\n"
     ]
    },
    {
     "name": "stderr",
     "output_type": "stream",
     "text": [
      "100%|██████████| 76/76 [02:35<00:00,  2.05s/it]\n"
     ]
    },
    {
     "name": "stdout",
     "output_type": "stream",
     "text": [
      "Epoch: 089, Loss: 0.0832,Precision@20: 0.0304, Recall@20: 0.5132,hr@10: 0.4385,hr@20: 0.5533,ndcg@10: 0.2855,ndcg@20: 0.3200\n"
     ]
    },
    {
     "name": "stderr",
     "output_type": "stream",
     "text": [
      "100%|██████████| 76/76 [03:03<00:00,  2.42s/it]\n"
     ]
    },
    {
     "name": "stdout",
     "output_type": "stream",
     "text": [
      "Epoch: 090, Loss: 0.0816,Precision@20: 0.0304, Recall@20: 0.5141,hr@10: 0.4394,hr@20: 0.5542,ndcg@10: 0.2861,ndcg@20: 0.3206\n"
     ]
    },
    {
     "name": "stderr",
     "output_type": "stream",
     "text": [
      "100%|██████████| 76/76 [03:03<00:00,  2.42s/it]\n"
     ]
    },
    {
     "name": "stdout",
     "output_type": "stream",
     "text": [
      "Epoch: 091, Loss: 0.0812,Precision@20: 0.0304, Recall@20: 0.5147,hr@10: 0.4404,hr@20: 0.5548,ndcg@10: 0.2869,ndcg@20: 0.3213\n"
     ]
    },
    {
     "name": "stderr",
     "output_type": "stream",
     "text": [
      "100%|██████████| 76/76 [02:31<00:00,  2.00s/it]\n"
     ]
    },
    {
     "name": "stdout",
     "output_type": "stream",
     "text": [
      "Epoch: 092, Loss: 0.0799,Precision@20: 0.0305, Recall@20: 0.5153,hr@10: 0.4413,hr@20: 0.5555,ndcg@10: 0.2875,ndcg@20: 0.3218\n"
     ]
    },
    {
     "name": "stderr",
     "output_type": "stream",
     "text": [
      "100%|██████████| 76/76 [02:35<00:00,  2.04s/it]\n"
     ]
    },
    {
     "name": "stdout",
     "output_type": "stream",
     "text": [
      "Epoch: 093, Loss: 0.0789,Precision@20: 0.0305, Recall@20: 0.5159,hr@10: 0.4424,hr@20: 0.5559,ndcg@10: 0.2880,ndcg@20: 0.3221\n"
     ]
    },
    {
     "name": "stderr",
     "output_type": "stream",
     "text": [
      "100%|██████████| 76/76 [02:26<00:00,  1.92s/it]\n"
     ]
    },
    {
     "name": "stdout",
     "output_type": "stream",
     "text": [
      "Epoch: 094, Loss: 0.0782,Precision@20: 0.0305, Recall@20: 0.5165,hr@10: 0.4428,hr@20: 0.5566,ndcg@10: 0.2884,ndcg@20: 0.3226\n"
     ]
    },
    {
     "name": "stderr",
     "output_type": "stream",
     "text": [
      "100%|██████████| 76/76 [02:19<00:00,  1.83s/it]\n"
     ]
    },
    {
     "name": "stdout",
     "output_type": "stream",
     "text": [
      "Epoch: 095, Loss: 0.0767,Precision@20: 0.0306, Recall@20: 0.5171,hr@10: 0.4436,hr@20: 0.5572,ndcg@10: 0.2890,ndcg@20: 0.3231\n"
     ]
    },
    {
     "name": "stderr",
     "output_type": "stream",
     "text": [
      "100%|██████████| 76/76 [02:46<00:00,  2.19s/it]\n"
     ]
    },
    {
     "name": "stdout",
     "output_type": "stream",
     "text": [
      "Epoch: 096, Loss: 0.0756,Precision@20: 0.0306, Recall@20: 0.5179,hr@10: 0.4444,hr@20: 0.5581,ndcg@10: 0.2895,ndcg@20: 0.3237\n"
     ]
    },
    {
     "name": "stderr",
     "output_type": "stream",
     "text": [
      "100%|██████████| 76/76 [02:12<00:00,  1.75s/it]\n"
     ]
    },
    {
     "name": "stdout",
     "output_type": "stream",
     "text": [
      "Epoch: 097, Loss: 0.0754,Precision@20: 0.0306, Recall@20: 0.5184,hr@10: 0.4455,hr@20: 0.5586,ndcg@10: 0.2901,ndcg@20: 0.3241\n"
     ]
    },
    {
     "name": "stderr",
     "output_type": "stream",
     "text": [
      "100%|██████████| 76/76 [03:26<00:00,  2.72s/it]\n"
     ]
    },
    {
     "name": "stdout",
     "output_type": "stream",
     "text": [
      "Epoch: 098, Loss: 0.0744,Precision@20: 0.0307, Recall@20: 0.5189,hr@10: 0.4462,hr@20: 0.5591,ndcg@10: 0.2907,ndcg@20: 0.3247\n"
     ]
    },
    {
     "name": "stderr",
     "output_type": "stream",
     "text": [
      "100%|██████████| 76/76 [03:18<00:00,  2.61s/it]\n"
     ]
    },
    {
     "name": "stdout",
     "output_type": "stream",
     "text": [
      "Epoch: 099, Loss: 0.0730,Precision@20: 0.0307, Recall@20: 0.5197,hr@10: 0.4471,hr@20: 0.5599,ndcg@10: 0.2914,ndcg@20: 0.3253\n"
     ]
    },
    {
     "name": "stderr",
     "output_type": "stream",
     "text": [
      "100%|██████████| 76/76 [03:11<00:00,  2.52s/it]\n"
     ]
    },
    {
     "name": "stdout",
     "output_type": "stream",
     "text": [
      "Epoch: 100, Loss: 0.0724,Precision@20: 0.0307, Recall@20: 0.5201,hr@10: 0.4477,hr@20: 0.5603,ndcg@10: 0.2920,ndcg@20: 0.3258\n"
     ]
    },
    {
     "name": "stderr",
     "output_type": "stream",
     "text": [
      "100%|██████████| 76/76 [02:24<00:00,  1.90s/it]\n"
     ]
    },
    {
     "name": "stdout",
     "output_type": "stream",
     "text": [
      "Epoch: 101, Loss: 0.0713,Precision@20: 0.0308, Recall@20: 0.5210,hr@10: 0.4481,hr@20: 0.5612,ndcg@10: 0.2924,ndcg@20: 0.3264\n"
     ]
    },
    {
     "name": "stderr",
     "output_type": "stream",
     "text": [
      "100%|██████████| 76/76 [02:33<00:00,  2.02s/it]\n"
     ]
    },
    {
     "name": "stdout",
     "output_type": "stream",
     "text": [
      "Epoch: 102, Loss: 0.0707,Precision@20: 0.0308, Recall@20: 0.5217,hr@10: 0.4487,hr@20: 0.5620,ndcg@10: 0.2929,ndcg@20: 0.3269\n"
     ]
    },
    {
     "name": "stderr",
     "output_type": "stream",
     "text": [
      "100%|██████████| 76/76 [03:27<00:00,  2.73s/it]\n"
     ]
    },
    {
     "name": "stdout",
     "output_type": "stream",
     "text": [
      "Epoch: 103, Loss: 0.0696,Precision@20: 0.0309, Recall@20: 0.5223,hr@10: 0.4494,hr@20: 0.5626,ndcg@10: 0.2934,ndcg@20: 0.3274\n"
     ]
    },
    {
     "name": "stderr",
     "output_type": "stream",
     "text": [
      "100%|██████████| 76/76 [03:36<00:00,  2.85s/it]\n"
     ]
    },
    {
     "name": "stdout",
     "output_type": "stream",
     "text": [
      "Epoch: 104, Loss: 0.0690,Precision@20: 0.0309, Recall@20: 0.5227,hr@10: 0.4496,hr@20: 0.5628,ndcg@10: 0.2939,ndcg@20: 0.3279\n"
     ]
    },
    {
     "name": "stderr",
     "output_type": "stream",
     "text": [
      "100%|██████████| 76/76 [03:32<00:00,  2.79s/it]\n"
     ]
    },
    {
     "name": "stdout",
     "output_type": "stream",
     "text": [
      "Epoch: 105, Loss: 0.0685,Precision@20: 0.0309, Recall@20: 0.5235,hr@10: 0.4504,hr@20: 0.5637,ndcg@10: 0.2945,ndcg@20: 0.3286\n"
     ]
    },
    {
     "name": "stderr",
     "output_type": "stream",
     "text": [
      "100%|██████████| 76/76 [02:00<00:00,  1.59s/it]\n"
     ]
    },
    {
     "name": "stdout",
     "output_type": "stream",
     "text": [
      "Epoch: 106, Loss: 0.0668,Precision@20: 0.0310, Recall@20: 0.5241,hr@10: 0.4513,hr@20: 0.5643,ndcg@10: 0.2950,ndcg@20: 0.3291\n"
     ]
    },
    {
     "name": "stderr",
     "output_type": "stream",
     "text": [
      "100%|██████████| 76/76 [03:11<00:00,  2.52s/it]\n"
     ]
    },
    {
     "name": "stdout",
     "output_type": "stream",
     "text": [
      "Epoch: 107, Loss: 0.0668,Precision@20: 0.0310, Recall@20: 0.5248,hr@10: 0.4519,hr@20: 0.5650,ndcg@10: 0.2957,ndcg@20: 0.3297\n"
     ]
    },
    {
     "name": "stderr",
     "output_type": "stream",
     "text": [
      "100%|██████████| 76/76 [02:38<00:00,  2.09s/it]\n"
     ]
    },
    {
     "name": "stdout",
     "output_type": "stream",
     "text": [
      "Epoch: 108, Loss: 0.0657,Precision@20: 0.0311, Recall@20: 0.5256,hr@10: 0.4527,hr@20: 0.5660,ndcg@10: 0.2961,ndcg@20: 0.3303\n"
     ]
    },
    {
     "name": "stderr",
     "output_type": "stream",
     "text": [
      "100%|██████████| 76/76 [03:10<00:00,  2.51s/it]\n"
     ]
    },
    {
     "name": "stdout",
     "output_type": "stream",
     "text": [
      "Epoch: 109, Loss: 0.0648,Precision@20: 0.0311, Recall@20: 0.5261,hr@10: 0.4533,hr@20: 0.5665,ndcg@10: 0.2968,ndcg@20: 0.3309\n"
     ]
    },
    {
     "name": "stderr",
     "output_type": "stream",
     "text": [
      "100%|██████████| 76/76 [03:20<00:00,  2.64s/it]\n"
     ]
    },
    {
     "name": "stdout",
     "output_type": "stream",
     "text": [
      "Epoch: 110, Loss: 0.0641,Precision@20: 0.0312, Recall@20: 0.5270,hr@10: 0.4540,hr@20: 0.5674,ndcg@10: 0.2974,ndcg@20: 0.3316\n"
     ]
    },
    {
     "name": "stderr",
     "output_type": "stream",
     "text": [
      "100%|██████████| 76/76 [03:28<00:00,  2.74s/it]\n"
     ]
    },
    {
     "name": "stdout",
     "output_type": "stream",
     "text": [
      "Epoch: 111, Loss: 0.0639,Precision@20: 0.0312, Recall@20: 0.5276,hr@10: 0.4547,hr@20: 0.5679,ndcg@10: 0.2980,ndcg@20: 0.3321\n"
     ]
    },
    {
     "name": "stderr",
     "output_type": "stream",
     "text": [
      "100%|██████████| 76/76 [03:30<00:00,  2.76s/it]\n"
     ]
    },
    {
     "name": "stdout",
     "output_type": "stream",
     "text": [
      "Epoch: 112, Loss: 0.0629,Precision@20: 0.0312, Recall@20: 0.5282,hr@10: 0.4551,hr@20: 0.5684,ndcg@10: 0.2987,ndcg@20: 0.3329\n"
     ]
    },
    {
     "name": "stderr",
     "output_type": "stream",
     "text": [
      "100%|██████████| 76/76 [03:26<00:00,  2.72s/it]\n"
     ]
    },
    {
     "name": "stdout",
     "output_type": "stream",
     "text": [
      "Epoch: 113, Loss: 0.0618,Precision@20: 0.0312, Recall@20: 0.5285,hr@10: 0.4559,hr@20: 0.5688,ndcg@10: 0.2993,ndcg@20: 0.3334\n"
     ]
    },
    {
     "name": "stderr",
     "output_type": "stream",
     "text": [
      "100%|██████████| 76/76 [03:45<00:00,  2.97s/it]\n"
     ]
    },
    {
     "name": "stdout",
     "output_type": "stream",
     "text": [
      "Epoch: 114, Loss: 0.0611,Precision@20: 0.0313, Recall@20: 0.5291,hr@10: 0.4566,hr@20: 0.5692,ndcg@10: 0.2999,ndcg@20: 0.3339\n"
     ]
    },
    {
     "name": "stderr",
     "output_type": "stream",
     "text": [
      "100%|██████████| 76/76 [04:00<00:00,  3.17s/it]\n"
     ]
    },
    {
     "name": "stdout",
     "output_type": "stream",
     "text": [
      "Epoch: 115, Loss: 0.0607,Precision@20: 0.0313, Recall@20: 0.5296,hr@10: 0.4572,hr@20: 0.5698,ndcg@10: 0.3004,ndcg@20: 0.3344\n"
     ]
    },
    {
     "name": "stderr",
     "output_type": "stream",
     "text": [
      "100%|██████████| 76/76 [03:52<00:00,  3.06s/it]\n"
     ]
    },
    {
     "name": "stdout",
     "output_type": "stream",
     "text": [
      "Epoch: 116, Loss: 0.0601,Precision@20: 0.0313, Recall@20: 0.5301,hr@10: 0.4576,hr@20: 0.5702,ndcg@10: 0.3009,ndcg@20: 0.3349\n"
     ]
    },
    {
     "name": "stderr",
     "output_type": "stream",
     "text": [
      "100%|██████████| 76/76 [03:53<00:00,  3.08s/it]\n"
     ]
    },
    {
     "name": "stdout",
     "output_type": "stream",
     "text": [
      "Epoch: 117, Loss: 0.0599,Precision@20: 0.0314, Recall@20: 0.5303,hr@10: 0.4581,hr@20: 0.5705,ndcg@10: 0.3015,ndcg@20: 0.3355\n"
     ]
    },
    {
     "name": "stderr",
     "output_type": "stream",
     "text": [
      "100%|██████████| 76/76 [03:58<00:00,  3.13s/it]\n"
     ]
    },
    {
     "name": "stdout",
     "output_type": "stream",
     "text": [
      "Epoch: 118, Loss: 0.0586,Precision@20: 0.0314, Recall@20: 0.5306,hr@10: 0.4584,hr@20: 0.5707,ndcg@10: 0.3022,ndcg@20: 0.3362\n"
     ]
    },
    {
     "name": "stderr",
     "output_type": "stream",
     "text": [
      "100%|██████████| 76/76 [03:52<00:00,  3.05s/it]\n"
     ]
    },
    {
     "name": "stdout",
     "output_type": "stream",
     "text": [
      "Epoch: 119, Loss: 0.0584,Precision@20: 0.0314, Recall@20: 0.5313,hr@10: 0.4588,hr@20: 0.5714,ndcg@10: 0.3027,ndcg@20: 0.3368\n"
     ]
    },
    {
     "name": "stderr",
     "output_type": "stream",
     "text": [
      "100%|██████████| 76/76 [03:32<00:00,  2.80s/it]\n"
     ]
    },
    {
     "name": "stdout",
     "output_type": "stream",
     "text": [
      "Epoch: 120, Loss: 0.0574,Precision@20: 0.0314, Recall@20: 0.5319,hr@10: 0.4594,hr@20: 0.5720,ndcg@10: 0.3033,ndcg@20: 0.3373\n"
     ]
    },
    {
     "name": "stderr",
     "output_type": "stream",
     "text": [
      "100%|██████████| 76/76 [03:20<00:00,  2.64s/it]\n"
     ]
    },
    {
     "name": "stdout",
     "output_type": "stream",
     "text": [
      "Epoch: 121, Loss: 0.0570,Precision@20: 0.0315, Recall@20: 0.5322,hr@10: 0.4602,hr@20: 0.5721,ndcg@10: 0.3039,ndcg@20: 0.3378\n"
     ]
    },
    {
     "name": "stderr",
     "output_type": "stream",
     "text": [
      "100%|██████████| 76/76 [03:26<00:00,  2.72s/it]\n"
     ]
    },
    {
     "name": "stdout",
     "output_type": "stream",
     "text": [
      "Epoch: 122, Loss: 0.0559,Precision@20: 0.0315, Recall@20: 0.5326,hr@10: 0.4604,hr@20: 0.5726,ndcg@10: 0.3044,ndcg@20: 0.3384\n"
     ]
    },
    {
     "name": "stderr",
     "output_type": "stream",
     "text": [
      "100%|██████████| 76/76 [02:47<00:00,  2.21s/it]\n"
     ]
    },
    {
     "name": "stdout",
     "output_type": "stream",
     "text": [
      "Epoch: 123, Loss: 0.0555,Precision@20: 0.0315, Recall@20: 0.5334,hr@10: 0.4611,hr@20: 0.5736,ndcg@10: 0.3050,ndcg@20: 0.3391\n"
     ]
    },
    {
     "name": "stderr",
     "output_type": "stream",
     "text": [
      "100%|██████████| 76/76 [03:02<00:00,  2.40s/it]\n"
     ]
    },
    {
     "name": "stdout",
     "output_type": "stream",
     "text": [
      "Epoch: 124, Loss: 0.0552,Precision@20: 0.0316, Recall@20: 0.5337,hr@10: 0.4618,hr@20: 0.5738,ndcg@10: 0.3055,ndcg@20: 0.3394\n"
     ]
    },
    {
     "name": "stderr",
     "output_type": "stream",
     "text": [
      "100%|██████████| 76/76 [03:26<00:00,  2.72s/it]\n"
     ]
    },
    {
     "name": "stdout",
     "output_type": "stream",
     "text": [
      "Epoch: 125, Loss: 0.0547,Precision@20: 0.0316, Recall@20: 0.5343,hr@10: 0.4622,hr@20: 0.5744,ndcg@10: 0.3061,ndcg@20: 0.3401\n"
     ]
    },
    {
     "name": "stderr",
     "output_type": "stream",
     "text": [
      "100%|██████████| 76/76 [03:12<00:00,  2.53s/it]\n"
     ]
    },
    {
     "name": "stdout",
     "output_type": "stream",
     "text": [
      "Epoch: 126, Loss: 0.0538,Precision@20: 0.0316, Recall@20: 0.5348,hr@10: 0.4624,hr@20: 0.5747,ndcg@10: 0.3065,ndcg@20: 0.3406\n"
     ]
    },
    {
     "name": "stderr",
     "output_type": "stream",
     "text": [
      "100%|██████████| 76/76 [03:00<00:00,  2.37s/it]\n"
     ]
    },
    {
     "name": "stdout",
     "output_type": "stream",
     "text": [
      "Epoch: 127, Loss: 0.0534,Precision@20: 0.0316, Recall@20: 0.5350,hr@10: 0.4628,hr@20: 0.5750,ndcg@10: 0.3070,ndcg@20: 0.3411\n"
     ]
    },
    {
     "name": "stderr",
     "output_type": "stream",
     "text": [
      "100%|██████████| 76/76 [03:02<00:00,  2.40s/it]\n"
     ]
    },
    {
     "name": "stdout",
     "output_type": "stream",
     "text": [
      "Epoch: 128, Loss: 0.0530,Precision@20: 0.0317, Recall@20: 0.5361,hr@10: 0.4632,hr@20: 0.5761,ndcg@10: 0.3073,ndcg@20: 0.3415\n"
     ]
    },
    {
     "name": "stderr",
     "output_type": "stream",
     "text": [
      "100%|██████████| 76/76 [03:04<00:00,  2.42s/it]\n"
     ]
    },
    {
     "name": "stdout",
     "output_type": "stream",
     "text": [
      "Epoch: 129, Loss: 0.0524,Precision@20: 0.0317, Recall@20: 0.5365,hr@10: 0.4635,hr@20: 0.5764,ndcg@10: 0.3080,ndcg@20: 0.3422\n"
     ]
    },
    {
     "name": "stderr",
     "output_type": "stream",
     "text": [
      "100%|██████████| 76/76 [02:40<00:00,  2.12s/it]\n"
     ]
    },
    {
     "name": "stdout",
     "output_type": "stream",
     "text": [
      "Epoch: 130, Loss: 0.0518,Precision@20: 0.0317, Recall@20: 0.5367,hr@10: 0.4638,hr@20: 0.5767,ndcg@10: 0.3082,ndcg@20: 0.3425\n"
     ]
    },
    {
     "name": "stderr",
     "output_type": "stream",
     "text": [
      "100%|██████████| 76/76 [02:39<00:00,  2.10s/it]\n"
     ]
    },
    {
     "name": "stdout",
     "output_type": "stream",
     "text": [
      "Epoch: 131, Loss: 0.0514,Precision@20: 0.0318, Recall@20: 0.5372,hr@10: 0.4648,hr@20: 0.5772,ndcg@10: 0.3090,ndcg@20: 0.3431\n"
     ]
    },
    {
     "name": "stderr",
     "output_type": "stream",
     "text": [
      "100%|██████████| 76/76 [02:59<00:00,  2.36s/it]\n"
     ]
    },
    {
     "name": "stdout",
     "output_type": "stream",
     "text": [
      "Epoch: 132, Loss: 0.0507,Precision@20: 0.0318, Recall@20: 0.5374,hr@10: 0.4650,hr@20: 0.5773,ndcg@10: 0.3094,ndcg@20: 0.3435\n"
     ]
    },
    {
     "name": "stderr",
     "output_type": "stream",
     "text": [
      "100%|██████████| 76/76 [03:03<00:00,  2.41s/it]\n"
     ]
    },
    {
     "name": "stdout",
     "output_type": "stream",
     "text": [
      "Epoch: 133, Loss: 0.0506,Precision@20: 0.0318, Recall@20: 0.5379,hr@10: 0.4652,hr@20: 0.5778,ndcg@10: 0.3098,ndcg@20: 0.3440\n"
     ]
    },
    {
     "name": "stderr",
     "output_type": "stream",
     "text": [
      "100%|██████████| 76/76 [02:50<00:00,  2.24s/it]\n"
     ]
    },
    {
     "name": "stdout",
     "output_type": "stream",
     "text": [
      "Epoch: 134, Loss: 0.0494,Precision@20: 0.0318, Recall@20: 0.5382,hr@10: 0.4656,hr@20: 0.5781,ndcg@10: 0.3102,ndcg@20: 0.3444\n"
     ]
    },
    {
     "name": "stderr",
     "output_type": "stream",
     "text": [
      "100%|██████████| 76/76 [03:12<00:00,  2.54s/it]\n"
     ]
    },
    {
     "name": "stdout",
     "output_type": "stream",
     "text": [
      "Epoch: 135, Loss: 0.0489,Precision@20: 0.0318, Recall@20: 0.5384,hr@10: 0.4659,hr@20: 0.5784,ndcg@10: 0.3108,ndcg@20: 0.3449\n"
     ]
    },
    {
     "name": "stderr",
     "output_type": "stream",
     "text": [
      "100%|██████████| 76/76 [03:06<00:00,  2.46s/it]\n"
     ]
    },
    {
     "name": "stdout",
     "output_type": "stream",
     "text": [
      "Epoch: 136, Loss: 0.0488,Precision@20: 0.0319, Recall@20: 0.5389,hr@10: 0.4663,hr@20: 0.5788,ndcg@10: 0.3109,ndcg@20: 0.3451\n"
     ]
    },
    {
     "name": "stderr",
     "output_type": "stream",
     "text": [
      "100%|██████████| 76/76 [03:15<00:00,  2.57s/it]\n"
     ]
    },
    {
     "name": "stdout",
     "output_type": "stream",
     "text": [
      "Epoch: 137, Loss: 0.0479,Precision@20: 0.0319, Recall@20: 0.5393,hr@10: 0.4665,hr@20: 0.5794,ndcg@10: 0.3113,ndcg@20: 0.3456\n"
     ]
    },
    {
     "name": "stderr",
     "output_type": "stream",
     "text": [
      "100%|██████████| 76/76 [03:07<00:00,  2.46s/it]\n"
     ]
    },
    {
     "name": "stdout",
     "output_type": "stream",
     "text": [
      "Epoch: 138, Loss: 0.0478,Precision@20: 0.0319, Recall@20: 0.5398,hr@10: 0.4670,hr@20: 0.5798,ndcg@10: 0.3119,ndcg@20: 0.3461\n"
     ]
    },
    {
     "name": "stderr",
     "output_type": "stream",
     "text": [
      "100%|██████████| 76/76 [03:19<00:00,  2.62s/it]\n"
     ]
    },
    {
     "name": "stdout",
     "output_type": "stream",
     "text": [
      "Epoch: 139, Loss: 0.0470,Precision@20: 0.0319, Recall@20: 0.5402,hr@10: 0.4676,hr@20: 0.5802,ndcg@10: 0.3123,ndcg@20: 0.3466\n"
     ]
    },
    {
     "name": "stderr",
     "output_type": "stream",
     "text": [
      "100%|██████████| 76/76 [02:51<00:00,  2.26s/it]\n"
     ]
    },
    {
     "name": "stdout",
     "output_type": "stream",
     "text": [
      "Epoch: 140, Loss: 0.0463,Precision@20: 0.0320, Recall@20: 0.5408,hr@10: 0.4682,hr@20: 0.5808,ndcg@10: 0.3129,ndcg@20: 0.3471\n"
     ]
    },
    {
     "name": "stderr",
     "output_type": "stream",
     "text": [
      "100%|██████████| 76/76 [03:00<00:00,  2.38s/it]\n"
     ]
    },
    {
     "name": "stdout",
     "output_type": "stream",
     "text": [
      "Epoch: 141, Loss: 0.0463,Precision@20: 0.0320, Recall@20: 0.5406,hr@10: 0.4686,hr@20: 0.5805,ndcg@10: 0.3134,ndcg@20: 0.3475\n"
     ]
    },
    {
     "name": "stderr",
     "output_type": "stream",
     "text": [
      "100%|██████████| 76/76 [03:19<00:00,  2.62s/it]\n"
     ]
    },
    {
     "name": "stdout",
     "output_type": "stream",
     "text": [
      "Epoch: 142, Loss: 0.0459,Precision@20: 0.0320, Recall@20: 0.5409,hr@10: 0.4690,hr@20: 0.5809,ndcg@10: 0.3141,ndcg@20: 0.3482\n"
     ]
    },
    {
     "name": "stderr",
     "output_type": "stream",
     "text": [
      "100%|██████████| 76/76 [03:09<00:00,  2.49s/it]\n"
     ]
    },
    {
     "name": "stdout",
     "output_type": "stream",
     "text": [
      "Epoch: 143, Loss: 0.0452,Precision@20: 0.0320, Recall@20: 0.5416,hr@10: 0.4694,hr@20: 0.5816,ndcg@10: 0.3146,ndcg@20: 0.3487\n"
     ]
    },
    {
     "name": "stderr",
     "output_type": "stream",
     "text": [
      "100%|██████████| 76/76 [03:15<00:00,  2.57s/it]\n"
     ]
    },
    {
     "name": "stdout",
     "output_type": "stream",
     "text": [
      "Epoch: 144, Loss: 0.0451,Precision@20: 0.0320, Recall@20: 0.5417,hr@10: 0.4692,hr@20: 0.5816,ndcg@10: 0.3149,ndcg@20: 0.3491\n"
     ]
    },
    {
     "name": "stderr",
     "output_type": "stream",
     "text": [
      "100%|██████████| 76/76 [03:04<00:00,  2.42s/it]\n"
     ]
    },
    {
     "name": "stdout",
     "output_type": "stream",
     "text": [
      "Epoch: 145, Loss: 0.0443,Precision@20: 0.0320, Recall@20: 0.5418,hr@10: 0.4692,hr@20: 0.5818,ndcg@10: 0.3153,ndcg@20: 0.3496\n"
     ]
    },
    {
     "name": "stderr",
     "output_type": "stream",
     "text": [
      "100%|██████████| 76/76 [03:06<00:00,  2.45s/it]\n"
     ]
    },
    {
     "name": "stdout",
     "output_type": "stream",
     "text": [
      "Epoch: 146, Loss: 0.0443,Precision@20: 0.0321, Recall@20: 0.5420,hr@10: 0.4699,hr@20: 0.5819,ndcg@10: 0.3158,ndcg@20: 0.3499\n"
     ]
    },
    {
     "name": "stderr",
     "output_type": "stream",
     "text": [
      "100%|██████████| 76/76 [03:14<00:00,  2.56s/it]\n"
     ]
    },
    {
     "name": "stdout",
     "output_type": "stream",
     "text": [
      "Epoch: 147, Loss: 0.0437,Precision@20: 0.0321, Recall@20: 0.5424,hr@10: 0.4699,hr@20: 0.5823,ndcg@10: 0.3160,ndcg@20: 0.3503\n"
     ]
    },
    {
     "name": "stderr",
     "output_type": "stream",
     "text": [
      "100%|██████████| 76/76 [03:25<00:00,  2.71s/it]\n"
     ]
    },
    {
     "name": "stdout",
     "output_type": "stream",
     "text": [
      "Epoch: 148, Loss: 0.0431,Precision@20: 0.0321, Recall@20: 0.5429,hr@10: 0.4702,hr@20: 0.5829,ndcg@10: 0.3163,ndcg@20: 0.3507\n"
     ]
    },
    {
     "name": "stderr",
     "output_type": "stream",
     "text": [
      "100%|██████████| 76/76 [02:45<00:00,  2.18s/it]\n"
     ]
    },
    {
     "name": "stdout",
     "output_type": "stream",
     "text": [
      "Epoch: 149, Loss: 0.0425,Precision@20: 0.0321, Recall@20: 0.5434,hr@10: 0.4706,hr@20: 0.5834,ndcg@10: 0.3167,ndcg@20: 0.3510\n"
     ]
    },
    {
     "name": "stderr",
     "output_type": "stream",
     "text": [
      "100%|██████████| 76/76 [03:25<00:00,  2.70s/it]\n"
     ]
    },
    {
     "name": "stdout",
     "output_type": "stream",
     "text": [
      "Epoch: 150, Loss: 0.0426,Precision@20: 0.0322, Recall@20: 0.5438,hr@10: 0.4712,hr@20: 0.5838,ndcg@10: 0.3173,ndcg@20: 0.3516\n"
     ]
    },
    {
     "name": "stderr",
     "output_type": "stream",
     "text": [
      "100%|██████████| 76/76 [03:12<00:00,  2.53s/it]\n"
     ]
    },
    {
     "name": "stdout",
     "output_type": "stream",
     "text": [
      "Epoch: 151, Loss: 0.0421,Precision@20: 0.0322, Recall@20: 0.5439,hr@10: 0.4716,hr@20: 0.5839,ndcg@10: 0.3177,ndcg@20: 0.3519\n"
     ]
    },
    {
     "name": "stderr",
     "output_type": "stream",
     "text": [
      "100%|██████████| 76/76 [03:28<00:00,  2.74s/it]\n"
     ]
    },
    {
     "name": "stdout",
     "output_type": "stream",
     "text": [
      "Epoch: 152, Loss: 0.0418,Precision@20: 0.0322, Recall@20: 0.5444,hr@10: 0.4720,hr@20: 0.5843,ndcg@10: 0.3181,ndcg@20: 0.3523\n"
     ]
    },
    {
     "name": "stderr",
     "output_type": "stream",
     "text": [
      "100%|██████████| 76/76 [03:04<00:00,  2.42s/it]\n"
     ]
    },
    {
     "name": "stdout",
     "output_type": "stream",
     "text": [
      "Epoch: 153, Loss: 0.0416,Precision@20: 0.0322, Recall@20: 0.5448,hr@10: 0.4723,hr@20: 0.5848,ndcg@10: 0.3186,ndcg@20: 0.3529\n"
     ]
    },
    {
     "name": "stderr",
     "output_type": "stream",
     "text": [
      "100%|██████████| 76/76 [03:22<00:00,  2.67s/it]\n"
     ]
    },
    {
     "name": "stdout",
     "output_type": "stream",
     "text": [
      "Epoch: 154, Loss: 0.0408,Precision@20: 0.0322, Recall@20: 0.5451,hr@10: 0.4731,hr@20: 0.5851,ndcg@10: 0.3192,ndcg@20: 0.3534\n"
     ]
    },
    {
     "name": "stderr",
     "output_type": "stream",
     "text": [
      "100%|██████████| 76/76 [03:28<00:00,  2.75s/it]\n"
     ]
    },
    {
     "name": "stdout",
     "output_type": "stream",
     "text": [
      "Epoch: 155, Loss: 0.0408,Precision@20: 0.0323, Recall@20: 0.5459,hr@10: 0.4729,hr@20: 0.5860,ndcg@10: 0.3194,ndcg@20: 0.3538\n"
     ]
    },
    {
     "name": "stderr",
     "output_type": "stream",
     "text": [
      "100%|██████████| 76/76 [03:02<00:00,  2.40s/it]\n"
     ]
    },
    {
     "name": "stdout",
     "output_type": "stream",
     "text": [
      "Epoch: 156, Loss: 0.0403,Precision@20: 0.0323, Recall@20: 0.5462,hr@10: 0.4734,hr@20: 0.5862,ndcg@10: 0.3198,ndcg@20: 0.3542\n"
     ]
    },
    {
     "name": "stderr",
     "output_type": "stream",
     "text": [
      "100%|██████████| 76/76 [03:31<00:00,  2.78s/it]\n"
     ]
    },
    {
     "name": "stdout",
     "output_type": "stream",
     "text": [
      "Epoch: 157, Loss: 0.0401,Precision@20: 0.0323, Recall@20: 0.5463,hr@10: 0.4737,hr@20: 0.5864,ndcg@10: 0.3202,ndcg@20: 0.3545\n"
     ]
    },
    {
     "name": "stderr",
     "output_type": "stream",
     "text": [
      "100%|██████████| 76/76 [03:22<00:00,  2.67s/it]\n"
     ]
    },
    {
     "name": "stdout",
     "output_type": "stream",
     "text": [
      "Epoch: 158, Loss: 0.0393,Precision@20: 0.0323, Recall@20: 0.5467,hr@10: 0.4739,hr@20: 0.5867,ndcg@10: 0.3205,ndcg@20: 0.3549\n"
     ]
    },
    {
     "name": "stderr",
     "output_type": "stream",
     "text": [
      "100%|██████████| 76/76 [03:11<00:00,  2.52s/it]\n"
     ]
    },
    {
     "name": "stdout",
     "output_type": "stream",
     "text": [
      "Epoch: 159, Loss: 0.0387,Precision@20: 0.0324, Recall@20: 0.5470,hr@10: 0.4742,hr@20: 0.5870,ndcg@10: 0.3208,ndcg@20: 0.3553\n"
     ]
    },
    {
     "name": "stderr",
     "output_type": "stream",
     "text": [
      "100%|██████████| 76/76 [03:37<00:00,  2.86s/it]\n"
     ]
    },
    {
     "name": "stdout",
     "output_type": "stream",
     "text": [
      "Epoch: 160, Loss: 0.0390,Precision@20: 0.0324, Recall@20: 0.5475,hr@10: 0.4748,hr@20: 0.5875,ndcg@10: 0.3213,ndcg@20: 0.3557\n"
     ]
    },
    {
     "name": "stderr",
     "output_type": "stream",
     "text": [
      "100%|██████████| 76/76 [03:13<00:00,  2.55s/it]\n"
     ]
    },
    {
     "name": "stdout",
     "output_type": "stream",
     "text": [
      "Epoch: 161, Loss: 0.0384,Precision@20: 0.0324, Recall@20: 0.5476,hr@10: 0.4751,hr@20: 0.5876,ndcg@10: 0.3217,ndcg@20: 0.3560\n"
     ]
    },
    {
     "name": "stderr",
     "output_type": "stream",
     "text": [
      "100%|██████████| 76/76 [03:14<00:00,  2.56s/it]\n"
     ]
    },
    {
     "name": "stdout",
     "output_type": "stream",
     "text": [
      "Epoch: 162, Loss: 0.0381,Precision@20: 0.0324, Recall@20: 0.5482,hr@10: 0.4752,hr@20: 0.5882,ndcg@10: 0.3222,ndcg@20: 0.3566\n"
     ]
    },
    {
     "name": "stderr",
     "output_type": "stream",
     "text": [
      "100%|██████████| 76/76 [03:14<00:00,  2.56s/it]\n"
     ]
    },
    {
     "name": "stdout",
     "output_type": "stream",
     "text": [
      "Epoch: 163, Loss: 0.0378,Precision@20: 0.0324, Recall@20: 0.5483,hr@10: 0.4755,hr@20: 0.5884,ndcg@10: 0.3225,ndcg@20: 0.3569\n"
     ]
    },
    {
     "name": "stderr",
     "output_type": "stream",
     "text": [
      "100%|██████████| 76/76 [03:26<00:00,  2.71s/it]\n"
     ]
    },
    {
     "name": "stdout",
     "output_type": "stream",
     "text": [
      "Epoch: 164, Loss: 0.0375,Precision@20: 0.0324, Recall@20: 0.5487,hr@10: 0.4758,hr@20: 0.5889,ndcg@10: 0.3230,ndcg@20: 0.3574\n"
     ]
    },
    {
     "name": "stderr",
     "output_type": "stream",
     "text": [
      "100%|██████████| 76/76 [03:12<00:00,  2.54s/it]\n"
     ]
    },
    {
     "name": "stdout",
     "output_type": "stream",
     "text": [
      "Epoch: 165, Loss: 0.0371,Precision@20: 0.0325, Recall@20: 0.5492,hr@10: 0.4757,hr@20: 0.5894,ndcg@10: 0.3233,ndcg@20: 0.3578\n"
     ]
    },
    {
     "name": "stderr",
     "output_type": "stream",
     "text": [
      "100%|██████████| 76/76 [03:11<00:00,  2.53s/it]\n"
     ]
    },
    {
     "name": "stdout",
     "output_type": "stream",
     "text": [
      "Epoch: 166, Loss: 0.0369,Precision@20: 0.0325, Recall@20: 0.5490,hr@10: 0.4758,hr@20: 0.5892,ndcg@10: 0.3234,ndcg@20: 0.3579\n"
     ]
    },
    {
     "name": "stderr",
     "output_type": "stream",
     "text": [
      "100%|██████████| 76/76 [03:18<00:00,  2.61s/it]\n"
     ]
    },
    {
     "name": "stdout",
     "output_type": "stream",
     "text": [
      "Epoch: 167, Loss: 0.0367,Precision@20: 0.0325, Recall@20: 0.5495,hr@10: 0.4760,hr@20: 0.5897,ndcg@10: 0.3237,ndcg@20: 0.3583\n"
     ]
    },
    {
     "name": "stderr",
     "output_type": "stream",
     "text": [
      "100%|██████████| 76/76 [03:25<00:00,  2.71s/it]\n"
     ]
    },
    {
     "name": "stdout",
     "output_type": "stream",
     "text": [
      "Epoch: 168, Loss: 0.0365,Precision@20: 0.0325, Recall@20: 0.5500,hr@10: 0.4761,hr@20: 0.5903,ndcg@10: 0.3240,ndcg@20: 0.3587\n"
     ]
    },
    {
     "name": "stderr",
     "output_type": "stream",
     "text": [
      "100%|██████████| 76/76 [03:26<00:00,  2.71s/it]\n"
     ]
    },
    {
     "name": "stdout",
     "output_type": "stream",
     "text": [
      "Epoch: 169, Loss: 0.0361,Precision@20: 0.0326, Recall@20: 0.5505,hr@10: 0.4764,hr@20: 0.5909,ndcg@10: 0.3241,ndcg@20: 0.3589\n"
     ]
    },
    {
     "name": "stderr",
     "output_type": "stream",
     "text": [
      "100%|██████████| 76/76 [03:25<00:00,  2.70s/it]\n"
     ]
    },
    {
     "name": "stdout",
     "output_type": "stream",
     "text": [
      "Epoch: 170, Loss: 0.0358,Precision@20: 0.0326, Recall@20: 0.5508,hr@10: 0.4767,hr@20: 0.5911,ndcg@10: 0.3246,ndcg@20: 0.3593\n"
     ]
    },
    {
     "name": "stderr",
     "output_type": "stream",
     "text": [
      "100%|██████████| 76/76 [03:27<00:00,  2.73s/it]\n"
     ]
    },
    {
     "name": "stdout",
     "output_type": "stream",
     "text": [
      "Epoch: 171, Loss: 0.0355,Precision@20: 0.0326, Recall@20: 0.5511,hr@10: 0.4770,hr@20: 0.5914,ndcg@10: 0.3248,ndcg@20: 0.3596\n"
     ]
    },
    {
     "name": "stderr",
     "output_type": "stream",
     "text": [
      "100%|██████████| 76/76 [03:19<00:00,  2.62s/it]\n"
     ]
    },
    {
     "name": "stdout",
     "output_type": "stream",
     "text": [
      "Epoch: 172, Loss: 0.0355,Precision@20: 0.0326, Recall@20: 0.5514,hr@10: 0.4775,hr@20: 0.5917,ndcg@10: 0.3252,ndcg@20: 0.3599\n"
     ]
    },
    {
     "name": "stderr",
     "output_type": "stream",
     "text": [
      "100%|██████████| 76/76 [03:23<00:00,  2.68s/it]\n"
     ]
    },
    {
     "name": "stdout",
     "output_type": "stream",
     "text": [
      "Epoch: 173, Loss: 0.0349,Precision@20: 0.0326, Recall@20: 0.5519,hr@10: 0.4779,hr@20: 0.5923,ndcg@10: 0.3254,ndcg@20: 0.3601\n"
     ]
    },
    {
     "name": "stderr",
     "output_type": "stream",
     "text": [
      "100%|██████████| 76/76 [03:36<00:00,  2.85s/it]\n"
     ]
    },
    {
     "name": "stdout",
     "output_type": "stream",
     "text": [
      "Epoch: 174, Loss: 0.0347,Precision@20: 0.0326, Recall@20: 0.5521,hr@10: 0.4781,hr@20: 0.5925,ndcg@10: 0.3255,ndcg@20: 0.3603\n"
     ]
    },
    {
     "name": "stderr",
     "output_type": "stream",
     "text": [
      "100%|██████████| 76/76 [03:28<00:00,  2.74s/it]\n"
     ]
    },
    {
     "name": "stdout",
     "output_type": "stream",
     "text": [
      "Epoch: 175, Loss: 0.0345,Precision@20: 0.0327, Recall@20: 0.5523,hr@10: 0.4787,hr@20: 0.5926,ndcg@10: 0.3258,ndcg@20: 0.3605\n"
     ]
    },
    {
     "name": "stderr",
     "output_type": "stream",
     "text": [
      "100%|██████████| 76/76 [03:17<00:00,  2.60s/it]\n"
     ]
    },
    {
     "name": "stdout",
     "output_type": "stream",
     "text": [
      "Epoch: 176, Loss: 0.0342,Precision@20: 0.0327, Recall@20: 0.5527,hr@10: 0.4795,hr@20: 0.5930,ndcg@10: 0.3262,ndcg@20: 0.3608\n"
     ]
    },
    {
     "name": "stderr",
     "output_type": "stream",
     "text": [
      "100%|██████████| 76/76 [03:50<00:00,  3.03s/it]\n"
     ]
    },
    {
     "name": "stdout",
     "output_type": "stream",
     "text": [
      "Epoch: 177, Loss: 0.0337,Precision@20: 0.0327, Recall@20: 0.5530,hr@10: 0.4799,hr@20: 0.5934,ndcg@10: 0.3266,ndcg@20: 0.3612\n"
     ]
    },
    {
     "name": "stderr",
     "output_type": "stream",
     "text": [
      "100%|██████████| 76/76 [03:23<00:00,  2.68s/it]\n"
     ]
    },
    {
     "name": "stdout",
     "output_type": "stream",
     "text": [
      "Epoch: 178, Loss: 0.0333,Precision@20: 0.0327, Recall@20: 0.5532,hr@10: 0.4799,hr@20: 0.5935,ndcg@10: 0.3269,ndcg@20: 0.3615\n"
     ]
    },
    {
     "name": "stderr",
     "output_type": "stream",
     "text": [
      "100%|██████████| 76/76 [03:06<00:00,  2.45s/it]\n"
     ]
    },
    {
     "name": "stdout",
     "output_type": "stream",
     "text": [
      "Epoch: 179, Loss: 0.0331,Precision@20: 0.0327, Recall@20: 0.5529,hr@10: 0.4801,hr@20: 0.5933,ndcg@10: 0.3273,ndcg@20: 0.3618\n"
     ]
    },
    {
     "name": "stderr",
     "output_type": "stream",
     "text": [
      "100%|██████████| 76/76 [03:19<00:00,  2.63s/it]\n"
     ]
    },
    {
     "name": "stdout",
     "output_type": "stream",
     "text": [
      "Epoch: 180, Loss: 0.0331,Precision@20: 0.0327, Recall@20: 0.5532,hr@10: 0.4804,hr@20: 0.5935,ndcg@10: 0.3277,ndcg@20: 0.3622\n"
     ]
    },
    {
     "name": "stderr",
     "output_type": "stream",
     "text": [
      "100%|██████████| 76/76 [03:15<00:00,  2.57s/it]\n"
     ]
    },
    {
     "name": "stdout",
     "output_type": "stream",
     "text": [
      "Epoch: 181, Loss: 0.0326,Precision@20: 0.0327, Recall@20: 0.5530,hr@10: 0.4805,hr@20: 0.5932,ndcg@10: 0.3281,ndcg@20: 0.3625\n"
     ]
    },
    {
     "name": "stderr",
     "output_type": "stream",
     "text": [
      "100%|██████████| 76/76 [02:56<00:00,  2.32s/it]\n"
     ]
    },
    {
     "name": "stdout",
     "output_type": "stream",
     "text": [
      "Epoch: 182, Loss: 0.0325,Precision@20: 0.0327, Recall@20: 0.5533,hr@10: 0.4809,hr@20: 0.5934,ndcg@10: 0.3282,ndcg@20: 0.3627\n"
     ]
    },
    {
     "name": "stderr",
     "output_type": "stream",
     "text": [
      "100%|██████████| 76/76 [03:44<00:00,  2.95s/it]\n"
     ]
    },
    {
     "name": "stdout",
     "output_type": "stream",
     "text": [
      "Epoch: 183, Loss: 0.0320,Precision@20: 0.0327, Recall@20: 0.5535,hr@10: 0.4811,hr@20: 0.5936,ndcg@10: 0.3284,ndcg@20: 0.3628\n"
     ]
    },
    {
     "name": "stderr",
     "output_type": "stream",
     "text": [
      "100%|██████████| 76/76 [03:12<00:00,  2.53s/it]\n"
     ]
    },
    {
     "name": "stdout",
     "output_type": "stream",
     "text": [
      "Epoch: 184, Loss: 0.0319,Precision@20: 0.0327, Recall@20: 0.5537,hr@10: 0.4814,hr@20: 0.5938,ndcg@10: 0.3286,ndcg@20: 0.3630\n"
     ]
    },
    {
     "name": "stderr",
     "output_type": "stream",
     "text": [
      "100%|██████████| 76/76 [03:38<00:00,  2.88s/it]\n"
     ]
    },
    {
     "name": "stdout",
     "output_type": "stream",
     "text": [
      "Epoch: 185, Loss: 0.0317,Precision@20: 0.0328, Recall@20: 0.5539,hr@10: 0.4819,hr@20: 0.5940,ndcg@10: 0.3293,ndcg@20: 0.3636\n"
     ]
    },
    {
     "name": "stderr",
     "output_type": "stream",
     "text": [
      "100%|██████████| 76/76 [03:37<00:00,  2.86s/it]\n"
     ]
    },
    {
     "name": "stdout",
     "output_type": "stream",
     "text": [
      "Epoch: 186, Loss: 0.0316,Precision@20: 0.0328, Recall@20: 0.5540,hr@10: 0.4823,hr@20: 0.5940,ndcg@10: 0.3297,ndcg@20: 0.3640\n"
     ]
    },
    {
     "name": "stderr",
     "output_type": "stream",
     "text": [
      "100%|██████████| 76/76 [03:47<00:00,  2.99s/it]\n"
     ]
    },
    {
     "name": "stdout",
     "output_type": "stream",
     "text": [
      "Epoch: 187, Loss: 0.0316,Precision@20: 0.0328, Recall@20: 0.5544,hr@10: 0.4823,hr@20: 0.5945,ndcg@10: 0.3300,ndcg@20: 0.3643\n"
     ]
    },
    {
     "name": "stderr",
     "output_type": "stream",
     "text": [
      "100%|██████████| 76/76 [03:37<00:00,  2.87s/it]\n"
     ]
    },
    {
     "name": "stdout",
     "output_type": "stream",
     "text": [
      "Epoch: 188, Loss: 0.0313,Precision@20: 0.0328, Recall@20: 0.5544,hr@10: 0.4826,hr@20: 0.5945,ndcg@10: 0.3303,ndcg@20: 0.3645\n"
     ]
    },
    {
     "name": "stderr",
     "output_type": "stream",
     "text": [
      "100%|██████████| 76/76 [03:40<00:00,  2.90s/it]\n"
     ]
    },
    {
     "name": "stdout",
     "output_type": "stream",
     "text": [
      "Epoch: 189, Loss: 0.0307,Precision@20: 0.0328, Recall@20: 0.5549,hr@10: 0.4828,hr@20: 0.5949,ndcg@10: 0.3305,ndcg@20: 0.3650\n"
     ]
    },
    {
     "name": "stderr",
     "output_type": "stream",
     "text": [
      "100%|██████████| 76/76 [03:38<00:00,  2.88s/it]\n"
     ]
    },
    {
     "name": "stdout",
     "output_type": "stream",
     "text": [
      "Epoch: 190, Loss: 0.0307,Precision@20: 0.0328, Recall@20: 0.5555,hr@10: 0.4829,hr@20: 0.5955,ndcg@10: 0.3306,ndcg@20: 0.3652\n"
     ]
    },
    {
     "name": "stderr",
     "output_type": "stream",
     "text": [
      "100%|██████████| 76/76 [03:44<00:00,  2.96s/it]\n"
     ]
    },
    {
     "name": "stdout",
     "output_type": "stream",
     "text": [
      "Epoch: 191, Loss: 0.0304,Precision@20: 0.0328, Recall@20: 0.5555,hr@10: 0.4832,hr@20: 0.5955,ndcg@10: 0.3307,ndcg@20: 0.3651\n"
     ]
    },
    {
     "name": "stderr",
     "output_type": "stream",
     "text": [
      "100%|██████████| 76/76 [03:39<00:00,  2.89s/it]\n"
     ]
    },
    {
     "name": "stdout",
     "output_type": "stream",
     "text": [
      "Epoch: 192, Loss: 0.0301,Precision@20: 0.0328, Recall@20: 0.5554,hr@10: 0.4836,hr@20: 0.5955,ndcg@10: 0.3310,ndcg@20: 0.3653\n"
     ]
    },
    {
     "name": "stderr",
     "output_type": "stream",
     "text": [
      "100%|██████████| 76/76 [03:50<00:00,  3.03s/it]\n"
     ]
    },
    {
     "name": "stdout",
     "output_type": "stream",
     "text": [
      "Epoch: 193, Loss: 0.0298,Precision@20: 0.0328, Recall@20: 0.5555,hr@10: 0.4840,hr@20: 0.5955,ndcg@10: 0.3313,ndcg@20: 0.3655\n"
     ]
    },
    {
     "name": "stderr",
     "output_type": "stream",
     "text": [
      "100%|██████████| 76/76 [04:02<00:00,  3.20s/it]\n"
     ]
    },
    {
     "name": "stdout",
     "output_type": "stream",
     "text": [
      "Epoch: 194, Loss: 0.0299,Precision@20: 0.0328, Recall@20: 0.5557,hr@10: 0.4841,hr@20: 0.5958,ndcg@10: 0.3314,ndcg@20: 0.3656\n"
     ]
    },
    {
     "name": "stderr",
     "output_type": "stream",
     "text": [
      "100%|██████████| 76/76 [04:03<00:00,  3.21s/it]\n"
     ]
    },
    {
     "name": "stdout",
     "output_type": "stream",
     "text": [
      "Epoch: 195, Loss: 0.0296,Precision@20: 0.0329, Recall@20: 0.5560,hr@10: 0.4846,hr@20: 0.5961,ndcg@10: 0.3317,ndcg@20: 0.3659\n"
     ]
    },
    {
     "name": "stderr",
     "output_type": "stream",
     "text": [
      "100%|██████████| 76/76 [03:50<00:00,  3.03s/it]\n"
     ]
    },
    {
     "name": "stdout",
     "output_type": "stream",
     "text": [
      "Epoch: 196, Loss: 0.0298,Precision@20: 0.0329, Recall@20: 0.5560,hr@10: 0.4851,hr@20: 0.5961,ndcg@10: 0.3320,ndcg@20: 0.3661\n"
     ]
    },
    {
     "name": "stderr",
     "output_type": "stream",
     "text": [
      "100%|██████████| 76/76 [03:53<00:00,  3.07s/it]\n"
     ]
    },
    {
     "name": "stdout",
     "output_type": "stream",
     "text": [
      "Epoch: 197, Loss: 0.0293,Precision@20: 0.0329, Recall@20: 0.5562,hr@10: 0.4854,hr@20: 0.5963,ndcg@10: 0.3322,ndcg@20: 0.3662\n"
     ]
    },
    {
     "name": "stderr",
     "output_type": "stream",
     "text": [
      "100%|██████████| 76/76 [03:48<00:00,  3.01s/it]\n"
     ]
    },
    {
     "name": "stdout",
     "output_type": "stream",
     "text": [
      "Epoch: 198, Loss: 0.0290,Precision@20: 0.0329, Recall@20: 0.5565,hr@10: 0.4861,hr@20: 0.5966,ndcg@10: 0.3327,ndcg@20: 0.3666\n"
     ]
    },
    {
     "name": "stderr",
     "output_type": "stream",
     "text": [
      "100%|██████████| 76/76 [03:45<00:00,  2.97s/it]\n"
     ]
    },
    {
     "name": "stdout",
     "output_type": "stream",
     "text": [
      "Epoch: 199, Loss: 0.0291,Precision@20: 0.0329, Recall@20: 0.5565,hr@10: 0.4862,hr@20: 0.5967,ndcg@10: 0.3329,ndcg@20: 0.3668\n"
     ]
    },
    {
     "name": "stderr",
     "output_type": "stream",
     "text": [
      "100%|██████████| 76/76 [03:37<00:00,  2.86s/it]\n"
     ]
    },
    {
     "name": "stdout",
     "output_type": "stream",
     "text": [
      "Epoch: 200, Loss: 0.0286,Precision@20: 0.0329, Recall@20: 0.5569,hr@10: 0.4865,hr@20: 0.5971,ndcg@10: 0.3331,ndcg@20: 0.3670\n"
     ]
    }
   ],
   "source": [
    "class LightGCNKG(torch.nn.Module):\n",
    "    def __init__(\n",
    "        self,\n",
    "        num_nodes: int,\n",
    "        embedding_dim: int,\n",
    "        num_layers: int,\n",
    "        alpha: Optional[Union[float, Tensor]] = None,\n",
    "        kg_num_rels: int = 0,\n",
    "        kg_embedding_dim: int = 0,\n",
    "        **kwargs,\n",
    "    ):\n",
    "        super().__init__()\n",
    "\n",
    "        self.num_nodes = num_nodes\n",
    "        self.embedding_dim = embedding_dim\n",
    "        self.num_layers = num_layers\n",
    "\n",
    "        if alpha is None:\n",
    "            alpha = 1. / (num_layers + 1)\n",
    "\n",
    "        if isinstance(alpha, Tensor):\n",
    "            assert alpha.size(0) == num_layers + 1\n",
    "        else:\n",
    "            alpha = torch.tensor([alpha] * (num_layers + 1))\n",
    "        self.register_buffer('alpha', alpha)\n",
    "\n",
    "        self.embedding = Embedding(num_nodes, embedding_dim)\n",
    "        self.kg_embedding = Embedding(kg_num_rels, kg_embedding_dim)\n",
    "        self.convs = ModuleList([LGConv(**kwargs) for _ in range(num_layers)])\n",
    "\n",
    "        self.reset_parameters()\n",
    "\n",
    "    def reset_parameters(self):\n",
    "        torch.nn.init.xavier_uniform_(self.embedding.weight)\n",
    "        torch.nn.init.xavier_uniform_(self.kg_embedding.weight)\n",
    "        for conv in self.convs:\n",
    "            conv.reset_parameters()\n",
    "\n",
    "    def get_embedding(\n",
    "        self,\n",
    "        edge_index: Adj,\n",
    "        edge_weight: OptTensor = None,\n",
    "    ) -> Tensor:\n",
    "        x = self.embedding.weight\n",
    "        out = x * self.alpha[0]\n",
    "\n",
    "        for i in range(self.num_layers):\n",
    "            x = self.convs[i](x, edge_index, edge_weight)\n",
    "            out = out + x * self.alpha[i + 1]\n",
    "\n",
    "        return out\n",
    "\n",
    "    def kg_embedding_lookup(\n",
    "        self,\n",
    "        kg_edge_index: Adj,\n",
    "        kg_edge_type: Tensor,\n",
    "    ) -> Tensor:\n",
    "        kg_embedding = self.kg_embedding.weight\n",
    "        kg_embedding = kg_embedding[kg_edge_type]\n",
    "        return kg_embedding\n",
    "\n",
    "    def forward(\n",
    "        self,\n",
    "        edge_index: Adj,\n",
    "        edge_label_index: OptTensor = None,\n",
    "        edge_weight: OptTensor = None,\n",
    "        kg_edge_index: Adj = None,\n",
    "        kg_edge_type: Tensor = None,\n",
    "    ) -> Tensor:\n",
    "        if edge_label_index is None:\n",
    "            if is_sparse(edge_index):\n",
    "                edge_label_index, _ = to_edge_index(edge_index)\n",
    "            else:\n",
    "                edge_label_index = edge_index\n",
    "\n",
    "        out = self.get_embedding(edge_index, edge_weight)\n",
    "\n",
    "        if kg_edge_index is not None and kg_edge_type is not None:\n",
    "            kg_embedding = self.kg_embedding_lookup(kg_edge_index, kg_edge_type)\n",
    "            out = torch.cat((out, kg_embedding), dim=-1)\n",
    "\n",
    "        out_src = out[edge_label_index[0]]\n",
    "        out_dst = out[edge_label_index[1]]\n",
    "\n",
    "        return (out_src * out_dst).sum(dim=-1)\n",
    "\n",
    "    def predict_link(\n",
    "        self,\n",
    "        edge_index: Adj,\n",
    "        edge_label_index: OptTensor = None,\n",
    "        edge_weight: OptTensor = None,\n",
    "        kg_edge_index: Adj = None,\n",
    "        kg_edge_type: Tensor = None,\n",
    "        prob: bool = False,\n",
    "    ) -> Tensor:\n",
    "        pred = self(edge_index, edge_label_index, edge_weight, kg_edge_index, kg_edge_type).sigmoid()\n",
    "        return pred if prob else pred.round()\n",
    "\n",
    "    def recommend(\n",
    "        self,\n",
    "        edge_index: Adj,\n",
    "        edge_weight: OptTensor = None,\n",
    "        src_index: OptTensor = None,\n",
    "        dst_index: OptTensor = None,\n",
    "        k: int = 1,\n",
    "        sorted: bool = True,\n",
    "        kg_edge_index: Adj = None,\n",
    "        kg_edge_type: Tensor = None,\n",
    "    ) -> Tensor:\n",
    "        out_src = out_dst = self.get_embedding(edge_index, edge_weight)\n",
    "\n",
    "        if kg_edge_index is not None and kg_edge_type is not None:\n",
    "            kg_embedding = self.kg_embedding_lookup(kg_edge_index, kg_edge_type)\n",
    "            out_src = torch.cat((out_src, kg_embedding), dim=-1)\n",
    "            out_dst = torch.cat((out_dst, kg_embedding), dim=-1)\n",
    "\n",
    "        if src_index is not None:\n",
    "            out_src = out_src[src_index]\n",
    "\n",
    "        if dst_index is not None:\n",
    "            out_dst = out_dst[dst_index]\n",
    "\n",
    "        pred = out_src @ out_dst.t()\n",
    "        top_index = pred.topk(k, dim=-1, sorted=sorted).indices\n",
    "\n",
    "        if dst_index is not None:  # Map local top-indices to original indices.\n",
    "            top_index = dst_index[top_index.view(-1)].view(*top_index.size())\n",
    "\n",
    "        return top_index\n",
    "\n",
    "    def link_pred_loss(self, pred: Tensor, edge_label: Tensor, **kwargs) -> Tensor:\n",
    "        loss_fn = torch.nn.BCEWithLogitsLoss(**kwargs)\n",
    "        return loss_fn(pred, edge_label.to(pred.dtype))\n",
    "\n",
    "    def recommendation_loss(\n",
    "        self,\n",
    "        pos_edge_rank: Tensor,\n",
    "        neg_edge_rank: Tensor,\n",
    "        node_id: Optional[Tensor] = None,\n",
    "        lambda_reg: float = 1e-4,\n",
    "        **kwargs,\n",
    "    ) -> Tensor:\n",
    "        loss_fn = BPRLoss(lambda_reg, **kwargs)\n",
    "        emb = self.embedding.weight\n",
    "        emb = emb if node_id is None else emb[node_id]\n",
    "        return loss_fn(pos_edge_rank, neg_edge_rank, emb)\n",
    "\n",
    "    def __repr__(self) -> str:\n",
    "        return (f'{self.__class__.__name__}({self.num_nodes}, '\n",
    "                f'{self.embedding_dim}, num_layers={self.num_layers})')\n",
    "\n",
    "def dcg_k(isin_mat, k):\n",
    "    dcg = isin_mat / torch.log2(torch.arange(2, k + 2))\n",
    "    return dcg.sum(dim=-1)\n",
    "\n",
    "device = torch.device('cuda' if torch.cuda.is_available() else 'cpu')\n",
    "\n",
    "dataset = Course('data/course')\n",
    "data = dataset[0]\n",
    "print(data)\n",
    "num_users, num_books = data['user'].num_nodes, data['book'].num_nodes\n",
    "data = data.to_homogeneous().to(device)\n",
    "print(data)\n",
    "\n",
    "df_kg = pd.read_csv('data/course/kg.csv', sep='\\t')\n",
    "kg = []\n",
    "for i in range(len(df_kg)):\n",
    "    head = df_kg.iloc[i]['head']\n",
    "    relation = df_kg.iloc[i]['relation']\n",
    "    tail = df_kg.iloc[i]['tail']\n",
    "    kg.append([head, 1, tail])\n",
    "print(kg[:10])\n",
    "\n",
    "batch_size = 8192\n",
    "mask = data.edge_index[0] < data.edge_index[1]\n",
    "train_edge_label_index = data.edge_index[:, mask]\n",
    "train_loader = torch.utils.data.DataLoader(\n",
    "    range(train_edge_label_index.size(1)),\n",
    "    shuffle=True,\n",
    "    batch_size=batch_size,\n",
    ")\n",
    "\n",
    "model = LightGCNKG(\n",
    "    num_nodes=data.num_nodes,\n",
    "    embedding_dim=128,\n",
    "    num_layers=2,\n",
    "    kg_num_rels=data.num_nodes,\n",
    "    kg_embedding_dim=128\n",
    ").to(device)\n",
    "optimizer = torch.optim.Adam(model.parameters(), lr=0.0001)\n",
    "\n",
    "def train():\n",
    "    total_loss = total_examples = 0\n",
    "    for index in tqdm(train_loader):\n",
    "        pos_edge_label_index = train_edge_label_index[:, index]\n",
    "        neg_edge_label_index = torch.stack([\n",
    "            pos_edge_label_index[0],\n",
    "            torch.randint(num_users, num_users + num_books,\n",
    "                          (index.numel(), ), device=device)\n",
    "        ], dim=0)\n",
    "        edge_label_index = torch.cat([\n",
    "            pos_edge_label_index,\n",
    "            neg_edge_label_index,\n",
    "        ], dim=1)\n",
    "\n",
    "        optimizer.zero_grad()\n",
    "        pos_rank, neg_rank = model(\n",
    "            data.edge_index, edge_label_index,\n",
    "            kg_edge_index = torch.tensor(kg),\n",
    "            kg_edge_type = torch.arange(0, 199897)\n",
    "            ).chunk(2)\n",
    "\n",
    "        loss = model.recommendation_loss(\n",
    "            pos_rank,\n",
    "            neg_rank,\n",
    "            node_id=edge_label_index.unique(),\n",
    "        )\n",
    "        loss.backward()\n",
    "        optimizer.step()\n",
    "\n",
    "        total_loss += float(loss) * pos_rank.numel()\n",
    "        total_examples += pos_rank.numel()\n",
    "\n",
    "    return total_loss / total_examples\n",
    "\n",
    "@torch.no_grad()\n",
    "def test(k: int):\n",
    "    emb = model.get_embedding(data.edge_index)\n",
    "    user_emb, book_emb = emb[:num_users], emb[num_users:]\n",
    "\n",
    "    precision = recall = total_examples = 0\n",
    "    hr10 = hr20 = ndcg10 = ndcg20 = 0\n",
    "    for start in range(0, num_users, batch_size):\n",
    "        end = start + batch_size\n",
    "        logits = user_emb[start:end] @ book_emb.t()\n",
    "\n",
    "        # Exclude training edges:\n",
    "        mask = ((train_edge_label_index[0] >= start) &\n",
    "                (train_edge_label_index[0] < end))\n",
    "        logits[train_edge_label_index[0, mask] - start,\n",
    "               train_edge_label_index[1, mask] - num_users] = float('-inf')\n",
    "\n",
    "        # Computing precision and recall:\n",
    "        ground_truth = torch.zeros_like(logits, dtype=torch.bool)\n",
    "        mask = ((data.edge_label_index[0] >= start) &\n",
    "                (data.edge_label_index[0] < end))\n",
    "        ground_truth[data.edge_label_index[0, mask] - start,\n",
    "                     data.edge_label_index[1, mask] - num_users] = True\n",
    "        node_count = degree(data.edge_label_index[0, mask] - start,\n",
    "                            num_nodes=logits.size(0))\n",
    "\n",
    "        topk_index = logits.topk(k, dim=-1).indices\n",
    "        isin_mat = ground_truth.gather(1, topk_index)\n",
    "\n",
    "        precision += float((isin_mat.sum(dim=-1) / k).sum())\n",
    "        recall += float((isin_mat.sum(dim=-1) / node_count.clamp(1e-6)).sum())\n",
    "        total_examples += int((node_count > 0).sum())\n",
    "\n",
    "        # HR@10 and HR@20\n",
    "        hr10 += float((isin_mat[:, :10].sum(dim=-1) > 0).sum())\n",
    "        hr20 += float((isin_mat[:, :20].sum(dim=-1) > 0).sum())\n",
    "\n",
    "        # NDCG@10 and NDCG@20\n",
    "        dcg10 = dcg_k(isin_mat[:, :10], 10)\n",
    "        dcg20 = dcg_k(isin_mat[:, :20], 20)\n",
    "        ndcg10 += float(dcg10.sum())\n",
    "        ndcg20 += float(dcg20.sum())\n",
    "\n",
    "    return precision/total_examples, recall/total_examples, hr10/total_examples, \\\n",
    "        hr20/total_examples, ndcg10/total_examples, ndcg20/total_examples\n",
    "\n",
    "for epoch in range(1, 201):\n",
    "    loss = train()\n",
    "    precision, recall, hr10, hr20, ndcg10, ndcg20 = test(k=20)\n",
    "    print(f'Epoch: {epoch:03d}, Loss: {loss:.4f},Precision@20: '\n",
    "          f'{precision:.4f}, Recall@20: {recall:.4f},'\n",
    "          f'hr@10: {hr10:.4f},'\n",
    "          f'hr@20: {hr20:.4f},'\n",
    "          f'ndcg@10: {ndcg10:.4f},'\n",
    "          f'ndcg@20: {ndcg20:.4f}'\n",
    "          )\n",
    "\n",
    "torch.save(model, 'course_kg.bin')\n",
    "\n"
   ]
  },
  {
   "cell_type": "code",
   "execution_count": null,
   "metadata": {},
   "outputs": [],
   "source": [
    "def dcg_k(isin_mat, k):\n",
    "    dcg = isin_mat / torch.log2(torch.arange(2, k + 2))\n",
    "    return dcg.sum(dim=-1)\n",
    "\n",
    "device = torch.device('cuda' if torch.cuda.is_available() else 'cpu')\n",
    "\n",
    "dataset = Course('data/course')\n",
    "data = dataset[0]\n",
    "print(data)\n",
    "num_users, num_books = data['user'].num_nodes, data['book'].num_nodes\n",
    "data = data.to_homogeneous().to(device)\n",
    "print(data)\n",
    "\n",
    "batch_size = 8192\n",
    "mask = data.edge_index[0] < data.edge_index[1]\n",
    "train_edge_label_index = data.edge_index[:, mask]\n",
    "train_loader = torch.utils.data.DataLoader(\n",
    "    range(train_edge_label_index.size(1)),\n",
    "    shuffle=True,\n",
    "    batch_size=batch_size,\n",
    ")\n",
    "\n",
    "model = LightGCN(\n",
    "    num_nodes=data.num_nodes,\n",
    "    embedding_dim=64,\n",
    "    num_layers=2,\n",
    ").to(device)\n",
    "optimizer = torch.optim.Adam(model.parameters(), lr=0.001)\n",
    "\n",
    "def train():\n",
    "    total_loss = total_examples = 0\n",
    "    for index in tqdm(train_loader):\n",
    "        pos_edge_label_index = train_edge_label_index[:, index]\n",
    "        neg_edge_label_index = torch.stack([\n",
    "            pos_edge_label_index[0],\n",
    "            torch.randint(num_users, num_users + num_books,\n",
    "                          (index.numel(), ), device=device)\n",
    "        ], dim=0)\n",
    "        edge_label_index = torch.cat([\n",
    "            pos_edge_label_index,\n",
    "            neg_edge_label_index,\n",
    "        ], dim=1)\n",
    "\n",
    "        optimizer.zero_grad()\n",
    "        pos_rank, neg_rank = model(data.edge_index, edge_label_index).chunk(2)\n",
    "\n",
    "        loss = model.recommendation_loss(\n",
    "            pos_rank,\n",
    "            neg_rank,\n",
    "            node_id=edge_label_index.unique(),\n",
    "        )\n",
    "        loss.backward()\n",
    "        optimizer.step()\n",
    "\n",
    "        total_loss += float(loss) * pos_rank.numel()\n",
    "        total_examples += pos_rank.numel()\n",
    "\n",
    "    return total_loss / total_examples\n",
    "\n",
    "@torch.no_grad()\n",
    "def test(k: int):\n",
    "    emb = model.get_embedding(data.edge_index)\n",
    "    user_emb, book_emb = emb[:num_users], emb[num_users:]\n",
    "\n",
    "    precision = recall = total_examples = 0\n",
    "    hr10 = hr20 = ndcg10 = ndcg20 = 0\n",
    "    for start in range(0, num_users, batch_size):\n",
    "        end = start + batch_size\n",
    "        logits = user_emb[start:end] @ book_emb.t()\n",
    "\n",
    "        # Exclude training edges:\n",
    "        mask = ((train_edge_label_index[0] >= start) &\n",
    "                (train_edge_label_index[0] < end))\n",
    "        logits[train_edge_label_index[0, mask] - start,\n",
    "               train_edge_label_index[1, mask] - num_users] = float('-inf')\n",
    "\n",
    "        # Computing precision and recall:\n",
    "        ground_truth = torch.zeros_like(logits, dtype=torch.bool)\n",
    "        mask = ((data.edge_label_index[0] >= start) &\n",
    "                (data.edge_label_index[0] < end))\n",
    "        ground_truth[data.edge_label_index[0, mask] - start,\n",
    "                     data.edge_label_index[1, mask] - num_users] = True\n",
    "        node_count = degree(data.edge_label_index[0, mask] - start,\n",
    "                            num_nodes=logits.size(0))\n",
    "\n",
    "        topk_index = logits.topk(k, dim=-1).indices\n",
    "        isin_mat = ground_truth.gather(1, topk_index)\n",
    "\n",
    "        precision += float((isin_mat.sum(dim=-1) / k).sum())\n",
    "        recall += float((isin_mat.sum(dim=-1) / node_count.clamp(1e-6)).sum())\n",
    "        total_examples += int((node_count > 0).sum())\n",
    "\n",
    "        # HR@10 and HR@20\n",
    "        hr10 += float((isin_mat[:, :10].sum(dim=-1) > 0).sum())\n",
    "        hr20 += float((isin_mat[:, :20].sum(dim=-1) > 0).sum())\n",
    "\n",
    "        # NDCG@10 and NDCG@20\n",
    "        dcg10 = dcg_k(isin_mat[:, :10], 10)\n",
    "        dcg20 = dcg_k(isin_mat[:, :20], 20)\n",
    "        ndcg10 += float(dcg10.sum())\n",
    "        ndcg20 += float(dcg20.sum())\n",
    "\n",
    "    return precision/total_examples, recall/total_examples, hr10/total_examples, \\\n",
    "        hr20/total_examples, ndcg10/total_examples, ndcg20/total_examples\n",
    "\n",
    "for epoch in range(1, 60):\n",
    "    loss = train()\n",
    "    precision, recall, hr10, hr20, ndcg10, ndcg20 = test(k=20)\n",
    "    print(f'Epoch: {epoch:03d}, Loss: {loss:.4f},Precision@20: '\n",
    "          f'{precision:.4f}, Recall@20: {recall:.4f},'\n",
    "          f'hr@10: {hr10:.4f},'\n",
    "          f'hr@20: {hr20:.4f},'\n",
    "          f'ndcg@10: {ndcg10:.4f},'\n",
    "          f'ndcg@20: {ndcg20:.4f}'\n",
    "          )\n",
    "\n",
    "torch.save(model, 'course.bin')\n"
   ]
  },
  {
   "cell_type": "code",
   "execution_count": 4,
   "metadata": {},
   "outputs": [
    {
     "name": "stdout",
     "output_type": "stream",
     "text": [
      "HeteroData(\n",
      "  user={ num_nodes=199199 },\n",
      "  book={ num_nodes=698 },\n",
      "  (user, rates, book)={\n",
      "    edge_index=[2, 614476],\n",
      "    edge_label_index=[2, 68276],\n",
      "  },\n",
      "  (book, rated_by, user)={ edge_index=[2, 614476] }\n",
      ")\n",
      "Data(edge_index=[2, 1228952], edge_label_index=[2, 68276], node_type=[199897], edge_type=[1228952])\n"
     ]
    },
    {
     "name": "stderr",
     "output_type": "stream",
     "text": [
      "100%|██████████| 76/76 [02:43<00:00,  2.15s/it]\n"
     ]
    },
    {
     "name": "stdout",
     "output_type": "stream",
     "text": [
      "Epoch: 001, Loss: 0.6908,Precision@20: 0.0252, Recall@20: 0.4258,hr@10: 0.3572,hr@20: 0.4616,ndcg@10: 0.2186,ndcg@20: 0.2489\n"
     ]
    },
    {
     "name": "stderr",
     "output_type": "stream",
     "text": [
      "100%|██████████| 76/76 [02:35<00:00,  2.05s/it]\n"
     ]
    },
    {
     "name": "stdout",
     "output_type": "stream",
     "text": [
      "Epoch: 002, Loss: 0.6571,Precision@20: 0.0251, Recall@20: 0.4229,hr@10: 0.3545,hr@20: 0.4588,ndcg@10: 0.2205,ndcg@20: 0.2509\n"
     ]
    },
    {
     "name": "stderr",
     "output_type": "stream",
     "text": [
      "100%|██████████| 76/76 [02:36<00:00,  2.06s/it]\n"
     ]
    },
    {
     "name": "stdout",
     "output_type": "stream",
     "text": [
      "Epoch: 003, Loss: 0.5870,Precision@20: 0.0253, Recall@20: 0.4275,hr@10: 0.3552,hr@20: 0.4640,ndcg@10: 0.2222,ndcg@20: 0.2538\n"
     ]
    },
    {
     "name": "stderr",
     "output_type": "stream",
     "text": [
      "100%|██████████| 76/76 [02:55<00:00,  2.31s/it]\n"
     ]
    },
    {
     "name": "stdout",
     "output_type": "stream",
     "text": [
      "Epoch: 004, Loss: 0.5102,Precision@20: 0.0255, Recall@20: 0.4294,hr@10: 0.3560,hr@20: 0.4660,ndcg@10: 0.2232,ndcg@20: 0.2552\n"
     ]
    },
    {
     "name": "stderr",
     "output_type": "stream",
     "text": [
      "100%|██████████| 76/76 [02:46<00:00,  2.20s/it]\n"
     ]
    },
    {
     "name": "stdout",
     "output_type": "stream",
     "text": [
      "Epoch: 005, Loss: 0.4456,Precision@20: 0.0255, Recall@20: 0.4295,hr@10: 0.3567,hr@20: 0.4664,ndcg@10: 0.2241,ndcg@20: 0.2560\n"
     ]
    },
    {
     "name": "stderr",
     "output_type": "stream",
     "text": [
      "100%|██████████| 76/76 [02:44<00:00,  2.16s/it]\n"
     ]
    },
    {
     "name": "stdout",
     "output_type": "stream",
     "text": [
      "Epoch: 006, Loss: 0.3965,Precision@20: 0.0256, Recall@20: 0.4317,hr@10: 0.3551,hr@20: 0.4687,ndcg@10: 0.2243,ndcg@20: 0.2574\n"
     ]
    },
    {
     "name": "stderr",
     "output_type": "stream",
     "text": [
      "100%|██████████| 76/76 [02:39<00:00,  2.10s/it]\n"
     ]
    },
    {
     "name": "stdout",
     "output_type": "stream",
     "text": [
      "Epoch: 007, Loss: 0.3603,Precision@20: 0.0257, Recall@20: 0.4335,hr@10: 0.3558,hr@20: 0.4707,ndcg@10: 0.2251,ndcg@20: 0.2586\n"
     ]
    },
    {
     "name": "stderr",
     "output_type": "stream",
     "text": [
      "100%|██████████| 76/76 [02:36<00:00,  2.06s/it]\n"
     ]
    },
    {
     "name": "stdout",
     "output_type": "stream",
     "text": [
      "Epoch: 008, Loss: 0.3336,Precision@20: 0.0258, Recall@20: 0.4357,hr@10: 0.3580,hr@20: 0.4731,ndcg@10: 0.2264,ndcg@20: 0.2600\n"
     ]
    },
    {
     "name": "stderr",
     "output_type": "stream",
     "text": [
      "100%|██████████| 76/76 [02:42<00:00,  2.13s/it]\n"
     ]
    },
    {
     "name": "stdout",
     "output_type": "stream",
     "text": [
      "Epoch: 009, Loss: 0.3143,Precision@20: 0.0260, Recall@20: 0.4381,hr@10: 0.3592,hr@20: 0.4757,ndcg@10: 0.2275,ndcg@20: 0.2615\n"
     ]
    },
    {
     "name": "stderr",
     "output_type": "stream",
     "text": [
      "100%|██████████| 76/76 [02:49<00:00,  2.23s/it]\n"
     ]
    },
    {
     "name": "stdout",
     "output_type": "stream",
     "text": [
      "Epoch: 010, Loss: 0.2993,Precision@20: 0.0261, Recall@20: 0.4407,hr@10: 0.3601,hr@20: 0.4784,ndcg@10: 0.2282,ndcg@20: 0.2627\n"
     ]
    },
    {
     "name": "stderr",
     "output_type": "stream",
     "text": [
      "100%|██████████| 76/76 [02:48<00:00,  2.22s/it]\n"
     ]
    },
    {
     "name": "stdout",
     "output_type": "stream",
     "text": [
      "Epoch: 011, Loss: 0.2876,Precision@20: 0.0262, Recall@20: 0.4432,hr@10: 0.3612,hr@20: 0.4811,ndcg@10: 0.2291,ndcg@20: 0.2641\n"
     ]
    },
    {
     "name": "stderr",
     "output_type": "stream",
     "text": [
      "100%|██████████| 76/76 [02:43<00:00,  2.15s/it]\n"
     ]
    },
    {
     "name": "stdout",
     "output_type": "stream",
     "text": [
      "Epoch: 012, Loss: 0.2782,Precision@20: 0.0264, Recall@20: 0.4455,hr@10: 0.3622,hr@20: 0.4836,ndcg@10: 0.2302,ndcg@20: 0.2656\n"
     ]
    },
    {
     "name": "stderr",
     "output_type": "stream",
     "text": [
      "100%|██████████| 76/76 [03:04<00:00,  2.43s/it]\n"
     ]
    },
    {
     "name": "stdout",
     "output_type": "stream",
     "text": [
      "Epoch: 013, Loss: 0.2711,Precision@20: 0.0265, Recall@20: 0.4475,hr@10: 0.3642,hr@20: 0.4857,ndcg@10: 0.2315,ndcg@20: 0.2671\n"
     ]
    },
    {
     "name": "stderr",
     "output_type": "stream",
     "text": [
      "100%|██████████| 76/76 [02:38<00:00,  2.09s/it]\n"
     ]
    },
    {
     "name": "stdout",
     "output_type": "stream",
     "text": [
      "Epoch: 014, Loss: 0.2642,Precision@20: 0.0266, Recall@20: 0.4494,hr@10: 0.3662,hr@20: 0.4877,ndcg@10: 0.2328,ndcg@20: 0.2683\n"
     ]
    },
    {
     "name": "stderr",
     "output_type": "stream",
     "text": [
      "100%|██████████| 76/76 [02:45<00:00,  2.17s/it]\n"
     ]
    },
    {
     "name": "stdout",
     "output_type": "stream",
     "text": [
      "Epoch: 015, Loss: 0.2588,Precision@20: 0.0267, Recall@20: 0.4507,hr@10: 0.3706,hr@20: 0.4890,ndcg@10: 0.2348,ndcg@20: 0.2695\n"
     ]
    },
    {
     "name": "stderr",
     "output_type": "stream",
     "text": [
      "100%|██████████| 76/76 [02:32<00:00,  2.01s/it]\n"
     ]
    },
    {
     "name": "stdout",
     "output_type": "stream",
     "text": [
      "Epoch: 016, Loss: 0.2548,Precision@20: 0.0268, Recall@20: 0.4519,hr@10: 0.3742,hr@20: 0.4903,ndcg@10: 0.2368,ndcg@20: 0.2708\n"
     ]
    },
    {
     "name": "stderr",
     "output_type": "stream",
     "text": [
      "100%|██████████| 76/76 [02:44<00:00,  2.17s/it]\n"
     ]
    },
    {
     "name": "stdout",
     "output_type": "stream",
     "text": [
      "Epoch: 017, Loss: 0.2499,Precision@20: 0.0269, Recall@20: 0.4535,hr@10: 0.3774,hr@20: 0.4921,ndcg@10: 0.2386,ndcg@20: 0.2723\n"
     ]
    },
    {
     "name": "stderr",
     "output_type": "stream",
     "text": [
      "100%|██████████| 76/76 [02:32<00:00,  2.01s/it]\n"
     ]
    },
    {
     "name": "stdout",
     "output_type": "stream",
     "text": [
      "Epoch: 018, Loss: 0.2477,Precision@20: 0.0270, Recall@20: 0.4553,hr@10: 0.3815,hr@20: 0.4941,ndcg@10: 0.2407,ndcg@20: 0.2738\n"
     ]
    },
    {
     "name": "stderr",
     "output_type": "stream",
     "text": [
      "100%|██████████| 76/76 [02:46<00:00,  2.19s/it]\n"
     ]
    },
    {
     "name": "stdout",
     "output_type": "stream",
     "text": [
      "Epoch: 019, Loss: 0.2430,Precision@20: 0.0271, Recall@20: 0.4576,hr@10: 0.3839,hr@20: 0.4964,ndcg@10: 0.2425,ndcg@20: 0.2757\n"
     ]
    },
    {
     "name": "stderr",
     "output_type": "stream",
     "text": [
      "100%|██████████| 76/76 [02:32<00:00,  2.01s/it]\n"
     ]
    },
    {
     "name": "stdout",
     "output_type": "stream",
     "text": [
      "Epoch: 020, Loss: 0.2401,Precision@20: 0.0273, Recall@20: 0.4596,hr@10: 0.3863,hr@20: 0.4985,ndcg@10: 0.2448,ndcg@20: 0.2779\n"
     ]
    },
    {
     "name": "stderr",
     "output_type": "stream",
     "text": [
      "100%|██████████| 76/76 [02:55<00:00,  2.31s/it]\n"
     ]
    },
    {
     "name": "stdout",
     "output_type": "stream",
     "text": [
      "Epoch: 021, Loss: 0.2374,Precision@20: 0.0274, Recall@20: 0.4628,hr@10: 0.3883,hr@20: 0.5016,ndcg@10: 0.2471,ndcg@20: 0.2806\n"
     ]
    },
    {
     "name": "stderr",
     "output_type": "stream",
     "text": [
      "100%|██████████| 76/76 [02:45<00:00,  2.18s/it]\n"
     ]
    },
    {
     "name": "stdout",
     "output_type": "stream",
     "text": [
      "Epoch: 022, Loss: 0.2354,Precision@20: 0.0276, Recall@20: 0.4665,hr@10: 0.3901,hr@20: 0.5053,ndcg@10: 0.2494,ndcg@20: 0.2833\n"
     ]
    },
    {
     "name": "stderr",
     "output_type": "stream",
     "text": [
      "100%|██████████| 76/76 [02:36<00:00,  2.05s/it]\n"
     ]
    },
    {
     "name": "stdout",
     "output_type": "stream",
     "text": [
      "Epoch: 023, Loss: 0.2319,Precision@20: 0.0278, Recall@20: 0.4691,hr@10: 0.3920,hr@20: 0.5081,ndcg@10: 0.2509,ndcg@20: 0.2851\n"
     ]
    },
    {
     "name": "stderr",
     "output_type": "stream",
     "text": [
      "100%|██████████| 76/76 [02:42<00:00,  2.14s/it]\n"
     ]
    },
    {
     "name": "stdout",
     "output_type": "stream",
     "text": [
      "Epoch: 024, Loss: 0.2297,Precision@20: 0.0280, Recall@20: 0.4733,hr@10: 0.3934,hr@20: 0.5121,ndcg@10: 0.2522,ndcg@20: 0.2872\n"
     ]
    },
    {
     "name": "stderr",
     "output_type": "stream",
     "text": [
      "100%|██████████| 76/76 [02:43<00:00,  2.15s/it]\n"
     ]
    },
    {
     "name": "stdout",
     "output_type": "stream",
     "text": [
      "Epoch: 025, Loss: 0.2259,Precision@20: 0.0282, Recall@20: 0.4758,hr@10: 0.3956,hr@20: 0.5148,ndcg@10: 0.2536,ndcg@20: 0.2887\n"
     ]
    },
    {
     "name": "stderr",
     "output_type": "stream",
     "text": [
      "100%|██████████| 76/76 [03:00<00:00,  2.38s/it]\n"
     ]
    },
    {
     "name": "stdout",
     "output_type": "stream",
     "text": [
      "Epoch: 026, Loss: 0.2244,Precision@20: 0.0283, Recall@20: 0.4779,hr@10: 0.3974,hr@20: 0.5169,ndcg@10: 0.2550,ndcg@20: 0.2902\n"
     ]
    },
    {
     "name": "stderr",
     "output_type": "stream",
     "text": [
      "100%|██████████| 76/76 [03:02<00:00,  2.40s/it]\n"
     ]
    },
    {
     "name": "stdout",
     "output_type": "stream",
     "text": [
      "Epoch: 027, Loss: 0.2206,Precision@20: 0.0284, Recall@20: 0.4800,hr@10: 0.3989,hr@20: 0.5191,ndcg@10: 0.2562,ndcg@20: 0.2917\n"
     ]
    },
    {
     "name": "stderr",
     "output_type": "stream",
     "text": [
      "100%|██████████| 76/76 [02:25<00:00,  1.92s/it]\n"
     ]
    },
    {
     "name": "stdout",
     "output_type": "stream",
     "text": [
      "Epoch: 028, Loss: 0.2190,Precision@20: 0.0285, Recall@20: 0.4824,hr@10: 0.4007,hr@20: 0.5215,ndcg@10: 0.2574,ndcg@20: 0.2929\n"
     ]
    },
    {
     "name": "stderr",
     "output_type": "stream",
     "text": [
      "100%|██████████| 76/76 [02:58<00:00,  2.34s/it]\n"
     ]
    },
    {
     "name": "stdout",
     "output_type": "stream",
     "text": [
      "Epoch: 029, Loss: 0.2177,Precision@20: 0.0286, Recall@20: 0.4836,hr@10: 0.4023,hr@20: 0.5230,ndcg@10: 0.2585,ndcg@20: 0.2940\n"
     ]
    },
    {
     "name": "stderr",
     "output_type": "stream",
     "text": [
      "100%|██████████| 76/76 [02:37<00:00,  2.07s/it]\n"
     ]
    },
    {
     "name": "stdout",
     "output_type": "stream",
     "text": [
      "Epoch: 030, Loss: 0.2154,Precision@20: 0.0287, Recall@20: 0.4851,hr@10: 0.4036,hr@20: 0.5246,ndcg@10: 0.2594,ndcg@20: 0.2950\n"
     ]
    },
    {
     "name": "stderr",
     "output_type": "stream",
     "text": [
      "100%|██████████| 76/76 [02:33<00:00,  2.02s/it]\n"
     ]
    },
    {
     "name": "stdout",
     "output_type": "stream",
     "text": [
      "Epoch: 031, Loss: 0.2128,Precision@20: 0.0288, Recall@20: 0.4863,hr@10: 0.4055,hr@20: 0.5258,ndcg@10: 0.2604,ndcg@20: 0.2959\n"
     ]
    },
    {
     "name": "stderr",
     "output_type": "stream",
     "text": [
      "100%|██████████| 76/76 [02:36<00:00,  2.06s/it]\n"
     ]
    },
    {
     "name": "stdout",
     "output_type": "stream",
     "text": [
      "Epoch: 032, Loss: 0.2104,Precision@20: 0.0289, Recall@20: 0.4875,hr@10: 0.4077,hr@20: 0.5272,ndcg@10: 0.2614,ndcg@20: 0.2966\n"
     ]
    },
    {
     "name": "stderr",
     "output_type": "stream",
     "text": [
      "100%|██████████| 76/76 [02:32<00:00,  2.01s/it]\n"
     ]
    },
    {
     "name": "stdout",
     "output_type": "stream",
     "text": [
      "Epoch: 033, Loss: 0.2090,Precision@20: 0.0289, Recall@20: 0.4885,hr@10: 0.4096,hr@20: 0.5283,ndcg@10: 0.2623,ndcg@20: 0.2973\n"
     ]
    },
    {
     "name": "stderr",
     "output_type": "stream",
     "text": [
      "100%|██████████| 76/76 [04:02<00:00,  3.19s/it]\n"
     ]
    },
    {
     "name": "stdout",
     "output_type": "stream",
     "text": [
      "Epoch: 034, Loss: 0.2066,Precision@20: 0.0289, Recall@20: 0.4891,hr@10: 0.4111,hr@20: 0.5290,ndcg@10: 0.2630,ndcg@20: 0.2978\n"
     ]
    },
    {
     "name": "stderr",
     "output_type": "stream",
     "text": [
      "100%|██████████| 76/76 [03:21<00:00,  2.66s/it]\n"
     ]
    },
    {
     "name": "stdout",
     "output_type": "stream",
     "text": [
      "Epoch: 035, Loss: 0.2052,Precision@20: 0.0290, Recall@20: 0.4902,hr@10: 0.4110,hr@20: 0.5301,ndcg@10: 0.2633,ndcg@20: 0.2985\n"
     ]
    },
    {
     "name": "stderr",
     "output_type": "stream",
     "text": [
      "100%|██████████| 76/76 [03:25<00:00,  2.71s/it]\n"
     ]
    },
    {
     "name": "stdout",
     "output_type": "stream",
     "text": [
      "Epoch: 036, Loss: 0.2039,Precision@20: 0.0291, Recall@20: 0.4912,hr@10: 0.4119,hr@20: 0.5310,ndcg@10: 0.2639,ndcg@20: 0.2992\n"
     ]
    },
    {
     "name": "stderr",
     "output_type": "stream",
     "text": [
      "100%|██████████| 76/76 [03:43<00:00,  2.95s/it]\n"
     ]
    },
    {
     "name": "stdout",
     "output_type": "stream",
     "text": [
      "Epoch: 037, Loss: 0.2017,Precision@20: 0.0291, Recall@20: 0.4918,hr@10: 0.4121,hr@20: 0.5316,ndcg@10: 0.2641,ndcg@20: 0.2995\n"
     ]
    },
    {
     "name": "stderr",
     "output_type": "stream",
     "text": [
      "100%|██████████| 76/76 [03:43<00:00,  2.94s/it]\n"
     ]
    },
    {
     "name": "stdout",
     "output_type": "stream",
     "text": [
      "Epoch: 038, Loss: 0.1991,Precision@20: 0.0292, Recall@20: 0.4925,hr@10: 0.4130,hr@20: 0.5323,ndcg@10: 0.2646,ndcg@20: 0.2999\n"
     ]
    },
    {
     "name": "stderr",
     "output_type": "stream",
     "text": [
      "100%|██████████| 76/76 [03:58<00:00,  3.14s/it]\n"
     ]
    },
    {
     "name": "stdout",
     "output_type": "stream",
     "text": [
      "Epoch: 039, Loss: 0.1980,Precision@20: 0.0292, Recall@20: 0.4933,hr@10: 0.4148,hr@20: 0.5331,ndcg@10: 0.2653,ndcg@20: 0.3003\n"
     ]
    },
    {
     "name": "stderr",
     "output_type": "stream",
     "text": [
      "100%|██████████| 76/76 [02:06<00:00,  1.66s/it]\n"
     ]
    },
    {
     "name": "stdout",
     "output_type": "stream",
     "text": [
      "Epoch: 040, Loss: 0.1967,Precision@20: 0.0292, Recall@20: 0.4937,hr@10: 0.4152,hr@20: 0.5336,ndcg@10: 0.2656,ndcg@20: 0.3007\n"
     ]
    },
    {
     "name": "stderr",
     "output_type": "stream",
     "text": [
      "100%|██████████| 76/76 [02:18<00:00,  1.82s/it]\n"
     ]
    },
    {
     "name": "stdout",
     "output_type": "stream",
     "text": [
      "Epoch: 041, Loss: 0.1955,Precision@20: 0.0293, Recall@20: 0.4940,hr@10: 0.4157,hr@20: 0.5339,ndcg@10: 0.2659,ndcg@20: 0.3010\n"
     ]
    },
    {
     "name": "stderr",
     "output_type": "stream",
     "text": [
      "100%|██████████| 76/76 [01:26<00:00,  1.14s/it]\n"
     ]
    },
    {
     "name": "stdout",
     "output_type": "stream",
     "text": [
      "Epoch: 042, Loss: 0.1942,Precision@20: 0.0293, Recall@20: 0.4941,hr@10: 0.4160,hr@20: 0.5338,ndcg@10: 0.2663,ndcg@20: 0.3013\n"
     ]
    },
    {
     "name": "stderr",
     "output_type": "stream",
     "text": [
      "100%|██████████| 76/76 [01:42<00:00,  1.35s/it]\n"
     ]
    },
    {
     "name": "stdout",
     "output_type": "stream",
     "text": [
      "Epoch: 043, Loss: 0.1916,Precision@20: 0.0293, Recall@20: 0.4941,hr@10: 0.4170,hr@20: 0.5338,ndcg@10: 0.2668,ndcg@20: 0.3016\n"
     ]
    },
    {
     "name": "stderr",
     "output_type": "stream",
     "text": [
      "100%|██████████| 76/76 [01:47<00:00,  1.41s/it]\n"
     ]
    },
    {
     "name": "stdout",
     "output_type": "stream",
     "text": [
      "Epoch: 044, Loss: 0.1910,Precision@20: 0.0293, Recall@20: 0.4949,hr@10: 0.4177,hr@20: 0.5345,ndcg@10: 0.2670,ndcg@20: 0.3018\n"
     ]
    },
    {
     "name": "stderr",
     "output_type": "stream",
     "text": [
      "100%|██████████| 76/76 [02:06<00:00,  1.66s/it]\n"
     ]
    },
    {
     "name": "stdout",
     "output_type": "stream",
     "text": [
      "Epoch: 045, Loss: 0.1893,Precision@20: 0.0293, Recall@20: 0.4954,hr@10: 0.4187,hr@20: 0.5350,ndcg@10: 0.2675,ndcg@20: 0.3023\n"
     ]
    },
    {
     "name": "stderr",
     "output_type": "stream",
     "text": [
      "100%|██████████| 76/76 [01:42<00:00,  1.35s/it]\n"
     ]
    },
    {
     "name": "stdout",
     "output_type": "stream",
     "text": [
      "Epoch: 046, Loss: 0.1877,Precision@20: 0.0294, Recall@20: 0.4961,hr@10: 0.4188,hr@20: 0.5359,ndcg@10: 0.2678,ndcg@20: 0.3027\n"
     ]
    },
    {
     "name": "stderr",
     "output_type": "stream",
     "text": [
      "100%|██████████| 76/76 [01:34<00:00,  1.24s/it]\n"
     ]
    },
    {
     "name": "stdout",
     "output_type": "stream",
     "text": [
      "Epoch: 047, Loss: 0.1864,Precision@20: 0.0294, Recall@20: 0.4966,hr@10: 0.4191,hr@20: 0.5364,ndcg@10: 0.2680,ndcg@20: 0.3030\n"
     ]
    },
    {
     "name": "stderr",
     "output_type": "stream",
     "text": [
      "100%|██████████| 76/76 [02:31<00:00,  1.99s/it]\n"
     ]
    },
    {
     "name": "stdout",
     "output_type": "stream",
     "text": [
      "Epoch: 048, Loss: 0.1855,Precision@20: 0.0294, Recall@20: 0.4969,hr@10: 0.4193,hr@20: 0.5366,ndcg@10: 0.2683,ndcg@20: 0.3034\n"
     ]
    },
    {
     "name": "stderr",
     "output_type": "stream",
     "text": [
      "100%|██████████| 76/76 [02:09<00:00,  1.70s/it]\n"
     ]
    },
    {
     "name": "stdout",
     "output_type": "stream",
     "text": [
      "Epoch: 049, Loss: 0.1847,Precision@20: 0.0295, Recall@20: 0.4973,hr@10: 0.4197,hr@20: 0.5370,ndcg@10: 0.2687,ndcg@20: 0.3038\n"
     ]
    },
    {
     "name": "stderr",
     "output_type": "stream",
     "text": [
      "100%|██████████| 76/76 [01:27<00:00,  1.15s/it]\n"
     ]
    },
    {
     "name": "stdout",
     "output_type": "stream",
     "text": [
      "Epoch: 050, Loss: 0.1833,Precision@20: 0.0295, Recall@20: 0.4981,hr@10: 0.4205,hr@20: 0.5379,ndcg@10: 0.2692,ndcg@20: 0.3042\n"
     ]
    },
    {
     "name": "stderr",
     "output_type": "stream",
     "text": [
      "100%|██████████| 76/76 [01:30<00:00,  1.20s/it]\n"
     ]
    },
    {
     "name": "stdout",
     "output_type": "stream",
     "text": [
      "Epoch: 051, Loss: 0.1819,Precision@20: 0.0295, Recall@20: 0.4985,hr@10: 0.4216,hr@20: 0.5383,ndcg@10: 0.2697,ndcg@20: 0.3045\n"
     ]
    },
    {
     "name": "stderr",
     "output_type": "stream",
     "text": [
      "100%|██████████| 76/76 [01:32<00:00,  1.22s/it]\n"
     ]
    },
    {
     "name": "stdout",
     "output_type": "stream",
     "text": [
      "Epoch: 052, Loss: 0.1810,Precision@20: 0.0295, Recall@20: 0.4988,hr@10: 0.4218,hr@20: 0.5385,ndcg@10: 0.2701,ndcg@20: 0.3050\n"
     ]
    },
    {
     "name": "stderr",
     "output_type": "stream",
     "text": [
      "100%|██████████| 76/76 [01:34<00:00,  1.25s/it]\n"
     ]
    },
    {
     "name": "stdout",
     "output_type": "stream",
     "text": [
      "Epoch: 053, Loss: 0.1800,Precision@20: 0.0296, Recall@20: 0.4992,hr@10: 0.4233,hr@20: 0.5389,ndcg@10: 0.2708,ndcg@20: 0.3053\n"
     ]
    },
    {
     "name": "stderr",
     "output_type": "stream",
     "text": [
      "100%|██████████| 76/76 [01:40<00:00,  1.32s/it]\n"
     ]
    },
    {
     "name": "stdout",
     "output_type": "stream",
     "text": [
      "Epoch: 054, Loss: 0.1787,Precision@20: 0.0296, Recall@20: 0.4999,hr@10: 0.4239,hr@20: 0.5395,ndcg@10: 0.2714,ndcg@20: 0.3059\n"
     ]
    },
    {
     "name": "stderr",
     "output_type": "stream",
     "text": [
      "100%|██████████| 76/76 [01:29<00:00,  1.18s/it]\n"
     ]
    },
    {
     "name": "stdout",
     "output_type": "stream",
     "text": [
      "Epoch: 055, Loss: 0.1791,Precision@20: 0.0296, Recall@20: 0.5000,hr@10: 0.4246,hr@20: 0.5396,ndcg@10: 0.2719,ndcg@20: 0.3063\n"
     ]
    },
    {
     "name": "stderr",
     "output_type": "stream",
     "text": [
      "100%|██████████| 76/76 [01:29<00:00,  1.18s/it]\n"
     ]
    },
    {
     "name": "stdout",
     "output_type": "stream",
     "text": [
      "Epoch: 056, Loss: 0.1766,Precision@20: 0.0297, Recall@20: 0.5008,hr@10: 0.4251,hr@20: 0.5405,ndcg@10: 0.2722,ndcg@20: 0.3068\n"
     ]
    },
    {
     "name": "stderr",
     "output_type": "stream",
     "text": [
      "100%|██████████| 76/76 [01:34<00:00,  1.24s/it]\n"
     ]
    },
    {
     "name": "stdout",
     "output_type": "stream",
     "text": [
      "Epoch: 057, Loss: 0.1754,Precision@20: 0.0297, Recall@20: 0.5011,hr@10: 0.4257,hr@20: 0.5409,ndcg@10: 0.2726,ndcg@20: 0.3070\n"
     ]
    },
    {
     "name": "stderr",
     "output_type": "stream",
     "text": [
      "100%|██████████| 76/76 [01:38<00:00,  1.30s/it]\n"
     ]
    },
    {
     "name": "stdout",
     "output_type": "stream",
     "text": [
      "Epoch: 058, Loss: 0.1737,Precision@20: 0.0297, Recall@20: 0.5016,hr@10: 0.4268,hr@20: 0.5415,ndcg@10: 0.2732,ndcg@20: 0.3075\n"
     ]
    },
    {
     "name": "stderr",
     "output_type": "stream",
     "text": [
      "100%|██████████| 76/76 [01:40<00:00,  1.33s/it]\n"
     ]
    },
    {
     "name": "stdout",
     "output_type": "stream",
     "text": [
      "Epoch: 059, Loss: 0.1728,Precision@20: 0.0297, Recall@20: 0.5019,hr@10: 0.4275,hr@20: 0.5418,ndcg@10: 0.2736,ndcg@20: 0.3078\n"
     ]
    },
    {
     "name": "stderr",
     "output_type": "stream",
     "text": [
      "100%|██████████| 76/76 [01:35<00:00,  1.25s/it]\n"
     ]
    },
    {
     "name": "stdout",
     "output_type": "stream",
     "text": [
      "Epoch: 060, Loss: 0.1721,Precision@20: 0.0297, Recall@20: 0.5021,hr@10: 0.4283,hr@20: 0.5419,ndcg@10: 0.2742,ndcg@20: 0.3083\n"
     ]
    },
    {
     "name": "stderr",
     "output_type": "stream",
     "text": [
      "100%|██████████| 76/76 [01:46<00:00,  1.40s/it]\n"
     ]
    },
    {
     "name": "stdout",
     "output_type": "stream",
     "text": [
      "Epoch: 061, Loss: 0.1721,Precision@20: 0.0297, Recall@20: 0.5024,hr@10: 0.4289,hr@20: 0.5422,ndcg@10: 0.2747,ndcg@20: 0.3088\n"
     ]
    },
    {
     "name": "stderr",
     "output_type": "stream",
     "text": [
      "100%|██████████| 76/76 [01:41<00:00,  1.34s/it]\n"
     ]
    },
    {
     "name": "stdout",
     "output_type": "stream",
     "text": [
      "Epoch: 062, Loss: 0.1713,Precision@20: 0.0298, Recall@20: 0.5029,hr@10: 0.4300,hr@20: 0.5428,ndcg@10: 0.2755,ndcg@20: 0.3094\n"
     ]
    },
    {
     "name": "stderr",
     "output_type": "stream",
     "text": [
      "100%|██████████| 76/76 [01:44<00:00,  1.38s/it]\n"
     ]
    },
    {
     "name": "stdout",
     "output_type": "stream",
     "text": [
      "Epoch: 063, Loss: 0.1687,Precision@20: 0.0298, Recall@20: 0.5034,hr@10: 0.4308,hr@20: 0.5433,ndcg@10: 0.2761,ndcg@20: 0.3099\n"
     ]
    },
    {
     "name": "stderr",
     "output_type": "stream",
     "text": [
      "100%|██████████| 76/76 [01:43<00:00,  1.36s/it]\n"
     ]
    },
    {
     "name": "stdout",
     "output_type": "stream",
     "text": [
      "Epoch: 064, Loss: 0.1685,Precision@20: 0.0298, Recall@20: 0.5036,hr@10: 0.4316,hr@20: 0.5435,ndcg@10: 0.2766,ndcg@20: 0.3103\n"
     ]
    },
    {
     "name": "stderr",
     "output_type": "stream",
     "text": [
      "100%|██████████| 76/76 [01:34<00:00,  1.24s/it]\n"
     ]
    },
    {
     "name": "stdout",
     "output_type": "stream",
     "text": [
      "Epoch: 065, Loss: 0.1676,Precision@20: 0.0299, Recall@20: 0.5043,hr@10: 0.4328,hr@20: 0.5441,ndcg@10: 0.2772,ndcg@20: 0.3108\n"
     ]
    },
    {
     "name": "stderr",
     "output_type": "stream",
     "text": [
      "100%|██████████| 76/76 [01:38<00:00,  1.29s/it]\n"
     ]
    },
    {
     "name": "stdout",
     "output_type": "stream",
     "text": [
      "Epoch: 066, Loss: 0.1668,Precision@20: 0.0299, Recall@20: 0.5047,hr@10: 0.4338,hr@20: 0.5447,ndcg@10: 0.2778,ndcg@20: 0.3112\n"
     ]
    },
    {
     "name": "stderr",
     "output_type": "stream",
     "text": [
      "100%|██████████| 76/76 [01:51<00:00,  1.47s/it]\n"
     ]
    },
    {
     "name": "stdout",
     "output_type": "stream",
     "text": [
      "Epoch: 067, Loss: 0.1664,Precision@20: 0.0299, Recall@20: 0.5056,hr@10: 0.4348,hr@20: 0.5455,ndcg@10: 0.2785,ndcg@20: 0.3119\n"
     ]
    },
    {
     "name": "stderr",
     "output_type": "stream",
     "text": [
      "100%|██████████| 76/76 [01:33<00:00,  1.23s/it]\n"
     ]
    },
    {
     "name": "stdout",
     "output_type": "stream",
     "text": [
      "Epoch: 068, Loss: 0.1641,Precision@20: 0.0300, Recall@20: 0.5061,hr@10: 0.4357,hr@20: 0.5462,ndcg@10: 0.2793,ndcg@20: 0.3126\n"
     ]
    },
    {
     "name": "stderr",
     "output_type": "stream",
     "text": [
      "100%|██████████| 76/76 [01:37<00:00,  1.29s/it]\n"
     ]
    },
    {
     "name": "stdout",
     "output_type": "stream",
     "text": [
      "Epoch: 069, Loss: 0.1636,Precision@20: 0.0300, Recall@20: 0.5068,hr@10: 0.4362,hr@20: 0.5467,ndcg@10: 0.2798,ndcg@20: 0.3131\n"
     ]
    },
    {
     "name": "stderr",
     "output_type": "stream",
     "text": [
      "100%|██████████| 76/76 [01:49<00:00,  1.44s/it]\n"
     ]
    },
    {
     "name": "stdout",
     "output_type": "stream",
     "text": [
      "Epoch: 070, Loss: 0.1628,Precision@20: 0.0300, Recall@20: 0.5074,hr@10: 0.4374,hr@20: 0.5474,ndcg@10: 0.2805,ndcg@20: 0.3137\n"
     ]
    },
    {
     "name": "stderr",
     "output_type": "stream",
     "text": [
      "100%|██████████| 76/76 [01:32<00:00,  1.22s/it]\n"
     ]
    },
    {
     "name": "stdout",
     "output_type": "stream",
     "text": [
      "Epoch: 071, Loss: 0.1616,Precision@20: 0.0301, Recall@20: 0.5083,hr@10: 0.4389,hr@20: 0.5482,ndcg@10: 0.2815,ndcg@20: 0.3145\n"
     ]
    },
    {
     "name": "stderr",
     "output_type": "stream",
     "text": [
      "100%|██████████| 76/76 [01:40<00:00,  1.32s/it]\n"
     ]
    },
    {
     "name": "stdout",
     "output_type": "stream",
     "text": [
      "Epoch: 072, Loss: 0.1610,Precision@20: 0.0301, Recall@20: 0.5089,hr@10: 0.4401,hr@20: 0.5488,ndcg@10: 0.2822,ndcg@20: 0.3152\n"
     ]
    },
    {
     "name": "stderr",
     "output_type": "stream",
     "text": [
      "100%|██████████| 76/76 [02:16<00:00,  1.80s/it]\n"
     ]
    },
    {
     "name": "stdout",
     "output_type": "stream",
     "text": [
      "Epoch: 073, Loss: 0.1598,Precision@20: 0.0302, Recall@20: 0.5096,hr@10: 0.4403,hr@20: 0.5495,ndcg@10: 0.2828,ndcg@20: 0.3159\n"
     ]
    },
    {
     "name": "stderr",
     "output_type": "stream",
     "text": [
      "100%|██████████| 76/76 [02:23<00:00,  1.88s/it]\n"
     ]
    },
    {
     "name": "stdout",
     "output_type": "stream",
     "text": [
      "Epoch: 074, Loss: 0.1585,Precision@20: 0.0302, Recall@20: 0.5102,hr@10: 0.4410,hr@20: 0.5499,ndcg@10: 0.2835,ndcg@20: 0.3166\n"
     ]
    },
    {
     "name": "stderr",
     "output_type": "stream",
     "text": [
      "100%|██████████| 76/76 [01:58<00:00,  1.56s/it]\n"
     ]
    },
    {
     "name": "stdout",
     "output_type": "stream",
     "text": [
      "Epoch: 075, Loss: 0.1579,Precision@20: 0.0302, Recall@20: 0.5110,hr@10: 0.4421,hr@20: 0.5506,ndcg@10: 0.2845,ndcg@20: 0.3174\n"
     ]
    },
    {
     "name": "stderr",
     "output_type": "stream",
     "text": [
      "100%|██████████| 76/76 [02:19<00:00,  1.84s/it]\n"
     ]
    },
    {
     "name": "stdout",
     "output_type": "stream",
     "text": [
      "Epoch: 076, Loss: 0.1581,Precision@20: 0.0303, Recall@20: 0.5118,hr@10: 0.4427,hr@20: 0.5514,ndcg@10: 0.2853,ndcg@20: 0.3183\n"
     ]
    },
    {
     "name": "stderr",
     "output_type": "stream",
     "text": [
      "100%|██████████| 76/76 [02:15<00:00,  1.78s/it]\n"
     ]
    },
    {
     "name": "stdout",
     "output_type": "stream",
     "text": [
      "Epoch: 077, Loss: 0.1562,Precision@20: 0.0303, Recall@20: 0.5124,hr@10: 0.4437,hr@20: 0.5519,ndcg@10: 0.2860,ndcg@20: 0.3189\n"
     ]
    },
    {
     "name": "stderr",
     "output_type": "stream",
     "text": [
      "100%|██████████| 76/76 [01:27<00:00,  1.15s/it]\n"
     ]
    },
    {
     "name": "stdout",
     "output_type": "stream",
     "text": [
      "Epoch: 078, Loss: 0.1551,Precision@20: 0.0304, Recall@20: 0.5136,hr@10: 0.4446,hr@20: 0.5530,ndcg@10: 0.2868,ndcg@20: 0.3198\n"
     ]
    },
    {
     "name": "stderr",
     "output_type": "stream",
     "text": [
      "100%|██████████| 76/76 [01:51<00:00,  1.47s/it]\n"
     ]
    },
    {
     "name": "stdout",
     "output_type": "stream",
     "text": [
      "Epoch: 079, Loss: 0.1546,Precision@20: 0.0305, Recall@20: 0.5147,hr@10: 0.4452,hr@20: 0.5541,ndcg@10: 0.2879,ndcg@20: 0.3210\n"
     ]
    },
    {
     "name": "stderr",
     "output_type": "stream",
     "text": [
      "100%|██████████| 76/76 [01:28<00:00,  1.17s/it]\n"
     ]
    },
    {
     "name": "stdout",
     "output_type": "stream",
     "text": [
      "Epoch: 080, Loss: 0.1534,Precision@20: 0.0305, Recall@20: 0.5155,hr@10: 0.4462,hr@20: 0.5550,ndcg@10: 0.2886,ndcg@20: 0.3217\n"
     ]
    },
    {
     "name": "stderr",
     "output_type": "stream",
     "text": [
      "100%|██████████| 76/76 [01:30<00:00,  1.19s/it]\n"
     ]
    },
    {
     "name": "stdout",
     "output_type": "stream",
     "text": [
      "Epoch: 081, Loss: 0.1536,Precision@20: 0.0306, Recall@20: 0.5163,hr@10: 0.4471,hr@20: 0.5560,ndcg@10: 0.2895,ndcg@20: 0.3226\n"
     ]
    },
    {
     "name": "stderr",
     "output_type": "stream",
     "text": [
      "100%|██████████| 76/76 [01:34<00:00,  1.25s/it]\n"
     ]
    },
    {
     "name": "stdout",
     "output_type": "stream",
     "text": [
      "Epoch: 082, Loss: 0.1518,Precision@20: 0.0306, Recall@20: 0.5176,hr@10: 0.4483,hr@20: 0.5572,ndcg@10: 0.2905,ndcg@20: 0.3236\n"
     ]
    },
    {
     "name": "stderr",
     "output_type": "stream",
     "text": [
      "100%|██████████| 76/76 [01:36<00:00,  1.27s/it]\n"
     ]
    },
    {
     "name": "stdout",
     "output_type": "stream",
     "text": [
      "Epoch: 083, Loss: 0.1510,Precision@20: 0.0307, Recall@20: 0.5184,hr@10: 0.4491,hr@20: 0.5580,ndcg@10: 0.2912,ndcg@20: 0.3243\n"
     ]
    },
    {
     "name": "stderr",
     "output_type": "stream",
     "text": [
      "100%|██████████| 76/76 [01:40<00:00,  1.32s/it]\n"
     ]
    },
    {
     "name": "stdout",
     "output_type": "stream",
     "text": [
      "Epoch: 084, Loss: 0.1494,Precision@20: 0.0307, Recall@20: 0.5194,hr@10: 0.4497,hr@20: 0.5590,ndcg@10: 0.2919,ndcg@20: 0.3252\n"
     ]
    },
    {
     "name": "stderr",
     "output_type": "stream",
     "text": [
      "100%|██████████| 76/76 [01:55<00:00,  1.52s/it]\n"
     ]
    },
    {
     "name": "stdout",
     "output_type": "stream",
     "text": [
      "Epoch: 085, Loss: 0.1486,Precision@20: 0.0308, Recall@20: 0.5203,hr@10: 0.4505,hr@20: 0.5599,ndcg@10: 0.2926,ndcg@20: 0.3260\n"
     ]
    },
    {
     "name": "stderr",
     "output_type": "stream",
     "text": [
      "100%|██████████| 76/76 [01:46<00:00,  1.41s/it]\n"
     ]
    },
    {
     "name": "stdout",
     "output_type": "stream",
     "text": [
      "Epoch: 086, Loss: 0.1485,Precision@20: 0.0309, Recall@20: 0.5216,hr@10: 0.4514,hr@20: 0.5612,ndcg@10: 0.2934,ndcg@20: 0.3268\n"
     ]
    },
    {
     "name": "stderr",
     "output_type": "stream",
     "text": [
      "100%|██████████| 76/76 [01:33<00:00,  1.24s/it]\n"
     ]
    },
    {
     "name": "stdout",
     "output_type": "stream",
     "text": [
      "Epoch: 087, Loss: 0.1481,Precision@20: 0.0309, Recall@20: 0.5230,hr@10: 0.4525,hr@20: 0.5625,ndcg@10: 0.2943,ndcg@20: 0.3278\n"
     ]
    },
    {
     "name": "stderr",
     "output_type": "stream",
     "text": [
      "100%|██████████| 76/76 [01:28<00:00,  1.17s/it]\n"
     ]
    },
    {
     "name": "stdout",
     "output_type": "stream",
     "text": [
      "Epoch: 088, Loss: 0.1463,Precision@20: 0.0310, Recall@20: 0.5240,hr@10: 0.4534,hr@20: 0.5636,ndcg@10: 0.2950,ndcg@20: 0.3287\n"
     ]
    },
    {
     "name": "stderr",
     "output_type": "stream",
     "text": [
      "100%|██████████| 76/76 [01:31<00:00,  1.21s/it]\n"
     ]
    },
    {
     "name": "stdout",
     "output_type": "stream",
     "text": [
      "Epoch: 089, Loss: 0.1458,Precision@20: 0.0311, Recall@20: 0.5251,hr@10: 0.4539,hr@20: 0.5646,ndcg@10: 0.2957,ndcg@20: 0.3295\n"
     ]
    },
    {
     "name": "stderr",
     "output_type": "stream",
     "text": [
      "100%|██████████| 76/76 [01:33<00:00,  1.24s/it]\n"
     ]
    },
    {
     "name": "stdout",
     "output_type": "stream",
     "text": [
      "Epoch: 090, Loss: 0.1450,Precision@20: 0.0311, Recall@20: 0.5264,hr@10: 0.4547,hr@20: 0.5659,ndcg@10: 0.2965,ndcg@20: 0.3305\n"
     ]
    },
    {
     "name": "stderr",
     "output_type": "stream",
     "text": [
      "100%|██████████| 76/76 [01:44<00:00,  1.38s/it]\n"
     ]
    },
    {
     "name": "stdout",
     "output_type": "stream",
     "text": [
      "Epoch: 091, Loss: 0.1438,Precision@20: 0.0312, Recall@20: 0.5277,hr@10: 0.4558,hr@20: 0.5673,ndcg@10: 0.2972,ndcg@20: 0.3313\n"
     ]
    },
    {
     "name": "stderr",
     "output_type": "stream",
     "text": [
      "100%|██████████| 76/76 [02:18<00:00,  1.82s/it]\n"
     ]
    },
    {
     "name": "stdout",
     "output_type": "stream",
     "text": [
      "Epoch: 092, Loss: 0.1423,Precision@20: 0.0313, Recall@20: 0.5283,hr@10: 0.4568,hr@20: 0.5679,ndcg@10: 0.2980,ndcg@20: 0.3319\n"
     ]
    },
    {
     "name": "stderr",
     "output_type": "stream",
     "text": [
      "100%|██████████| 76/76 [01:45<00:00,  1.39s/it]\n"
     ]
    },
    {
     "name": "stdout",
     "output_type": "stream",
     "text": [
      "Epoch: 093, Loss: 0.1425,Precision@20: 0.0313, Recall@20: 0.5292,hr@10: 0.4577,hr@20: 0.5687,ndcg@10: 0.2988,ndcg@20: 0.3327\n"
     ]
    },
    {
     "name": "stderr",
     "output_type": "stream",
     "text": [
      "100%|██████████| 76/76 [02:01<00:00,  1.60s/it]\n"
     ]
    },
    {
     "name": "stdout",
     "output_type": "stream",
     "text": [
      "Epoch: 094, Loss: 0.1410,Precision@20: 0.0313, Recall@20: 0.5297,hr@10: 0.4585,hr@20: 0.5693,ndcg@10: 0.2996,ndcg@20: 0.3335\n"
     ]
    },
    {
     "name": "stderr",
     "output_type": "stream",
     "text": [
      "100%|██████████| 76/76 [02:19<00:00,  1.84s/it]\n"
     ]
    },
    {
     "name": "stdout",
     "output_type": "stream",
     "text": [
      "Epoch: 095, Loss: 0.1403,Precision@20: 0.0314, Recall@20: 0.5308,hr@10: 0.4596,hr@20: 0.5703,ndcg@10: 0.3006,ndcg@20: 0.3345\n"
     ]
    },
    {
     "name": "stderr",
     "output_type": "stream",
     "text": [
      "100%|██████████| 76/76 [01:59<00:00,  1.58s/it]\n"
     ]
    },
    {
     "name": "stdout",
     "output_type": "stream",
     "text": [
      "Epoch: 096, Loss: 0.1399,Precision@20: 0.0315, Recall@20: 0.5319,hr@10: 0.4603,hr@20: 0.5714,ndcg@10: 0.3015,ndcg@20: 0.3355\n"
     ]
    },
    {
     "name": "stderr",
     "output_type": "stream",
     "text": [
      "100%|██████████| 76/76 [01:50<00:00,  1.45s/it]\n"
     ]
    },
    {
     "name": "stdout",
     "output_type": "stream",
     "text": [
      "Epoch: 097, Loss: 0.1381,Precision@20: 0.0315, Recall@20: 0.5326,hr@10: 0.4610,hr@20: 0.5722,ndcg@10: 0.3023,ndcg@20: 0.3363\n"
     ]
    },
    {
     "name": "stderr",
     "output_type": "stream",
     "text": [
      "100%|██████████| 76/76 [01:36<00:00,  1.28s/it]\n"
     ]
    },
    {
     "name": "stdout",
     "output_type": "stream",
     "text": [
      "Epoch: 098, Loss: 0.1369,Precision@20: 0.0315, Recall@20: 0.5335,hr@10: 0.4618,hr@20: 0.5730,ndcg@10: 0.3029,ndcg@20: 0.3369\n"
     ]
    },
    {
     "name": "stderr",
     "output_type": "stream",
     "text": [
      "100%|██████████| 76/76 [01:28<00:00,  1.17s/it]\n"
     ]
    },
    {
     "name": "stdout",
     "output_type": "stream",
     "text": [
      "Epoch: 099, Loss: 0.1358,Precision@20: 0.0316, Recall@20: 0.5343,hr@10: 0.4625,hr@20: 0.5739,ndcg@10: 0.3035,ndcg@20: 0.3375\n"
     ]
    },
    {
     "name": "stderr",
     "output_type": "stream",
     "text": [
      "100%|██████████| 76/76 [01:40<00:00,  1.33s/it]\n"
     ]
    },
    {
     "name": "stdout",
     "output_type": "stream",
     "text": [
      "Epoch: 100, Loss: 0.1357,Precision@20: 0.0316, Recall@20: 0.5351,hr@10: 0.4632,hr@20: 0.5748,ndcg@10: 0.3042,ndcg@20: 0.3383\n"
     ]
    },
    {
     "name": "stderr",
     "output_type": "stream",
     "text": [
      "100%|██████████| 76/76 [01:33<00:00,  1.23s/it]\n"
     ]
    },
    {
     "name": "stdout",
     "output_type": "stream",
     "text": [
      "Epoch: 101, Loss: 0.1352,Precision@20: 0.0317, Recall@20: 0.5358,hr@10: 0.4640,hr@20: 0.5755,ndcg@10: 0.3051,ndcg@20: 0.3391\n"
     ]
    },
    {
     "name": "stderr",
     "output_type": "stream",
     "text": [
      "100%|██████████| 76/76 [01:34<00:00,  1.24s/it]\n"
     ]
    },
    {
     "name": "stdout",
     "output_type": "stream",
     "text": [
      "Epoch: 102, Loss: 0.1336,Precision@20: 0.0317, Recall@20: 0.5364,hr@10: 0.4645,hr@20: 0.5760,ndcg@10: 0.3057,ndcg@20: 0.3397\n"
     ]
    },
    {
     "name": "stderr",
     "output_type": "stream",
     "text": [
      "100%|██████████| 76/76 [01:19<00:00,  1.04s/it]\n"
     ]
    },
    {
     "name": "stdout",
     "output_type": "stream",
     "text": [
      "Epoch: 103, Loss: 0.1331,Precision@20: 0.0318, Recall@20: 0.5376,hr@10: 0.4653,hr@20: 0.5773,ndcg@10: 0.3065,ndcg@20: 0.3406\n"
     ]
    },
    {
     "name": "stderr",
     "output_type": "stream",
     "text": [
      "100%|██████████| 76/76 [01:17<00:00,  1.02s/it]\n"
     ]
    },
    {
     "name": "stdout",
     "output_type": "stream",
     "text": [
      "Epoch: 104, Loss: 0.1317,Precision@20: 0.0318, Recall@20: 0.5382,hr@10: 0.4659,hr@20: 0.5780,ndcg@10: 0.3072,ndcg@20: 0.3413\n"
     ]
    },
    {
     "name": "stderr",
     "output_type": "stream",
     "text": [
      "100%|██████████| 76/76 [01:18<00:00,  1.03s/it]\n"
     ]
    },
    {
     "name": "stdout",
     "output_type": "stream",
     "text": [
      "Epoch: 105, Loss: 0.1307,Precision@20: 0.0319, Recall@20: 0.5390,hr@10: 0.4663,hr@20: 0.5787,ndcg@10: 0.3076,ndcg@20: 0.3419\n"
     ]
    },
    {
     "name": "stderr",
     "output_type": "stream",
     "text": [
      "100%|██████████| 76/76 [01:17<00:00,  1.02s/it]\n"
     ]
    },
    {
     "name": "stdout",
     "output_type": "stream",
     "text": [
      "Epoch: 106, Loss: 0.1300,Precision@20: 0.0319, Recall@20: 0.5396,hr@10: 0.4667,hr@20: 0.5792,ndcg@10: 0.3084,ndcg@20: 0.3427\n"
     ]
    },
    {
     "name": "stderr",
     "output_type": "stream",
     "text": [
      "100%|██████████| 76/76 [01:18<00:00,  1.03s/it]\n"
     ]
    },
    {
     "name": "stdout",
     "output_type": "stream",
     "text": [
      "Epoch: 107, Loss: 0.1295,Precision@20: 0.0319, Recall@20: 0.5403,hr@10: 0.4675,hr@20: 0.5801,ndcg@10: 0.3091,ndcg@20: 0.3434\n"
     ]
    },
    {
     "name": "stderr",
     "output_type": "stream",
     "text": [
      "100%|██████████| 76/76 [01:17<00:00,  1.02s/it]\n"
     ]
    },
    {
     "name": "stdout",
     "output_type": "stream",
     "text": [
      "Epoch: 108, Loss: 0.1289,Precision@20: 0.0320, Recall@20: 0.5408,hr@10: 0.4679,hr@20: 0.5806,ndcg@10: 0.3099,ndcg@20: 0.3442\n"
     ]
    },
    {
     "name": "stderr",
     "output_type": "stream",
     "text": [
      "100%|██████████| 76/76 [01:18<00:00,  1.03s/it]\n"
     ]
    },
    {
     "name": "stdout",
     "output_type": "stream",
     "text": [
      "Epoch: 109, Loss: 0.1272,Precision@20: 0.0320, Recall@20: 0.5414,hr@10: 0.4687,hr@20: 0.5814,ndcg@10: 0.3106,ndcg@20: 0.3448\n"
     ]
    },
    {
     "name": "stderr",
     "output_type": "stream",
     "text": [
      "100%|██████████| 76/76 [01:44<00:00,  1.37s/it]\n"
     ]
    },
    {
     "name": "stdout",
     "output_type": "stream",
     "text": [
      "Epoch: 110, Loss: 0.1265,Precision@20: 0.0320, Recall@20: 0.5421,hr@10: 0.4691,hr@20: 0.5820,ndcg@10: 0.3113,ndcg@20: 0.3456\n"
     ]
    },
    {
     "name": "stderr",
     "output_type": "stream",
     "text": [
      "100%|██████████| 76/76 [01:41<00:00,  1.33s/it]\n"
     ]
    },
    {
     "name": "stdout",
     "output_type": "stream",
     "text": [
      "Epoch: 111, Loss: 0.1255,Precision@20: 0.0321, Recall@20: 0.5424,hr@10: 0.4699,hr@20: 0.5823,ndcg@10: 0.3121,ndcg@20: 0.3463\n"
     ]
    },
    {
     "name": "stderr",
     "output_type": "stream",
     "text": [
      "100%|██████████| 76/76 [01:34<00:00,  1.24s/it]\n"
     ]
    },
    {
     "name": "stdout",
     "output_type": "stream",
     "text": [
      "Epoch: 112, Loss: 0.1243,Precision@20: 0.0321, Recall@20: 0.5429,hr@10: 0.4704,hr@20: 0.5828,ndcg@10: 0.3131,ndcg@20: 0.3473\n"
     ]
    },
    {
     "name": "stderr",
     "output_type": "stream",
     "text": [
      "100%|██████████| 76/76 [01:41<00:00,  1.33s/it]\n"
     ]
    },
    {
     "name": "stdout",
     "output_type": "stream",
     "text": [
      "Epoch: 113, Loss: 0.1246,Precision@20: 0.0321, Recall@20: 0.5427,hr@10: 0.4713,hr@20: 0.5825,ndcg@10: 0.3138,ndcg@20: 0.3477\n"
     ]
    },
    {
     "name": "stderr",
     "output_type": "stream",
     "text": [
      "100%|██████████| 76/76 [01:29<00:00,  1.18s/it]\n"
     ]
    },
    {
     "name": "stdout",
     "output_type": "stream",
     "text": [
      "Epoch: 114, Loss: 0.1226,Precision@20: 0.0321, Recall@20: 0.5428,hr@10: 0.4720,hr@20: 0.5824,ndcg@10: 0.3146,ndcg@20: 0.3484\n"
     ]
    },
    {
     "name": "stderr",
     "output_type": "stream",
     "text": [
      "100%|██████████| 76/76 [01:36<00:00,  1.27s/it]\n"
     ]
    },
    {
     "name": "stdout",
     "output_type": "stream",
     "text": [
      "Epoch: 115, Loss: 0.1213,Precision@20: 0.0321, Recall@20: 0.5435,hr@10: 0.4725,hr@20: 0.5831,ndcg@10: 0.3152,ndcg@20: 0.3490\n"
     ]
    },
    {
     "name": "stderr",
     "output_type": "stream",
     "text": [
      "100%|██████████| 76/76 [01:36<00:00,  1.27s/it]\n"
     ]
    },
    {
     "name": "stdout",
     "output_type": "stream",
     "text": [
      "Epoch: 116, Loss: 0.1219,Precision@20: 0.0322, Recall@20: 0.5437,hr@10: 0.4732,hr@20: 0.5833,ndcg@10: 0.3158,ndcg@20: 0.3495\n"
     ]
    },
    {
     "name": "stderr",
     "output_type": "stream",
     "text": [
      "100%|██████████| 76/76 [01:27<00:00,  1.16s/it]\n"
     ]
    },
    {
     "name": "stdout",
     "output_type": "stream",
     "text": [
      "Epoch: 117, Loss: 0.1211,Precision@20: 0.0322, Recall@20: 0.5441,hr@10: 0.4735,hr@20: 0.5838,ndcg@10: 0.3163,ndcg@20: 0.3500\n"
     ]
    },
    {
     "name": "stderr",
     "output_type": "stream",
     "text": [
      "100%|██████████| 76/76 [01:29<00:00,  1.17s/it]\n"
     ]
    },
    {
     "name": "stdout",
     "output_type": "stream",
     "text": [
      "Epoch: 118, Loss: 0.1200,Precision@20: 0.0322, Recall@20: 0.5444,hr@10: 0.4744,hr@20: 0.5841,ndcg@10: 0.3168,ndcg@20: 0.3504\n"
     ]
    },
    {
     "name": "stderr",
     "output_type": "stream",
     "text": [
      "100%|██████████| 76/76 [01:30<00:00,  1.19s/it]\n"
     ]
    },
    {
     "name": "stdout",
     "output_type": "stream",
     "text": [
      "Epoch: 119, Loss: 0.1194,Precision@20: 0.0322, Recall@20: 0.5445,hr@10: 0.4749,hr@20: 0.5842,ndcg@10: 0.3173,ndcg@20: 0.3508\n"
     ]
    },
    {
     "name": "stderr",
     "output_type": "stream",
     "text": [
      "100%|██████████| 76/76 [01:40<00:00,  1.32s/it]\n"
     ]
    },
    {
     "name": "stdout",
     "output_type": "stream",
     "text": [
      "Epoch: 120, Loss: 0.1179,Precision@20: 0.0322, Recall@20: 0.5450,hr@10: 0.4756,hr@20: 0.5848,ndcg@10: 0.3180,ndcg@20: 0.3514\n"
     ]
    },
    {
     "name": "stderr",
     "output_type": "stream",
     "text": [
      "100%|██████████| 76/76 [01:37<00:00,  1.29s/it]\n"
     ]
    },
    {
     "name": "stdout",
     "output_type": "stream",
     "text": [
      "Epoch: 121, Loss: 0.1170,Precision@20: 0.0323, Recall@20: 0.5456,hr@10: 0.4762,hr@20: 0.5854,ndcg@10: 0.3187,ndcg@20: 0.3520\n"
     ]
    },
    {
     "name": "stderr",
     "output_type": "stream",
     "text": [
      "100%|██████████| 76/76 [01:31<00:00,  1.20s/it]\n"
     ]
    },
    {
     "name": "stdout",
     "output_type": "stream",
     "text": [
      "Epoch: 122, Loss: 0.1169,Precision@20: 0.0323, Recall@20: 0.5462,hr@10: 0.4769,hr@20: 0.5861,ndcg@10: 0.3191,ndcg@20: 0.3524\n"
     ]
    },
    {
     "name": "stderr",
     "output_type": "stream",
     "text": [
      "100%|██████████| 76/76 [01:28<00:00,  1.16s/it]\n"
     ]
    },
    {
     "name": "stdout",
     "output_type": "stream",
     "text": [
      "Epoch: 123, Loss: 0.1162,Precision@20: 0.0323, Recall@20: 0.5465,hr@10: 0.4771,hr@20: 0.5864,ndcg@10: 0.3197,ndcg@20: 0.3531\n"
     ]
    },
    {
     "name": "stderr",
     "output_type": "stream",
     "text": [
      "100%|██████████| 76/76 [01:25<00:00,  1.12s/it]\n"
     ]
    },
    {
     "name": "stdout",
     "output_type": "stream",
     "text": [
      "Epoch: 124, Loss: 0.1151,Precision@20: 0.0323, Recall@20: 0.5469,hr@10: 0.4777,hr@20: 0.5868,ndcg@10: 0.3203,ndcg@20: 0.3536\n"
     ]
    },
    {
     "name": "stderr",
     "output_type": "stream",
     "text": [
      "100%|██████████| 76/76 [01:45<00:00,  1.38s/it]\n"
     ]
    },
    {
     "name": "stdout",
     "output_type": "stream",
     "text": [
      "Epoch: 125, Loss: 0.1139,Precision@20: 0.0324, Recall@20: 0.5472,hr@10: 0.4779,hr@20: 0.5871,ndcg@10: 0.3207,ndcg@20: 0.3541\n"
     ]
    },
    {
     "name": "stderr",
     "output_type": "stream",
     "text": [
      "100%|██████████| 76/76 [01:54<00:00,  1.50s/it]\n"
     ]
    },
    {
     "name": "stdout",
     "output_type": "stream",
     "text": [
      "Epoch: 126, Loss: 0.1135,Precision@20: 0.0324, Recall@20: 0.5477,hr@10: 0.4784,hr@20: 0.5876,ndcg@10: 0.3212,ndcg@20: 0.3546\n"
     ]
    },
    {
     "name": "stderr",
     "output_type": "stream",
     "text": [
      "100%|██████████| 76/76 [01:40<00:00,  1.32s/it]\n"
     ]
    },
    {
     "name": "stdout",
     "output_type": "stream",
     "text": [
      "Epoch: 127, Loss: 0.1124,Precision@20: 0.0324, Recall@20: 0.5486,hr@10: 0.4791,hr@20: 0.5885,ndcg@10: 0.3219,ndcg@20: 0.3554\n"
     ]
    },
    {
     "name": "stderr",
     "output_type": "stream",
     "text": [
      "100%|██████████| 76/76 [01:22<00:00,  1.08s/it]\n"
     ]
    },
    {
     "name": "stdout",
     "output_type": "stream",
     "text": [
      "Epoch: 128, Loss: 0.1113,Precision@20: 0.0325, Recall@20: 0.5490,hr@10: 0.4798,hr@20: 0.5889,ndcg@10: 0.3223,ndcg@20: 0.3558\n"
     ]
    },
    {
     "name": "stderr",
     "output_type": "stream",
     "text": [
      "100%|██████████| 76/76 [01:22<00:00,  1.08s/it]\n"
     ]
    },
    {
     "name": "stdout",
     "output_type": "stream",
     "text": [
      "Epoch: 129, Loss: 0.1112,Precision@20: 0.0325, Recall@20: 0.5494,hr@10: 0.4801,hr@20: 0.5892,ndcg@10: 0.3226,ndcg@20: 0.3560\n"
     ]
    },
    {
     "name": "stderr",
     "output_type": "stream",
     "text": [
      "100%|██████████| 76/76 [01:21<00:00,  1.07s/it]\n"
     ]
    },
    {
     "name": "stdout",
     "output_type": "stream",
     "text": [
      "Epoch: 130, Loss: 0.1099,Precision@20: 0.0325, Recall@20: 0.5498,hr@10: 0.4804,hr@20: 0.5895,ndcg@10: 0.3230,ndcg@20: 0.3565\n"
     ]
    },
    {
     "name": "stderr",
     "output_type": "stream",
     "text": [
      "100%|██████████| 76/76 [01:22<00:00,  1.08s/it]\n"
     ]
    },
    {
     "name": "stdout",
     "output_type": "stream",
     "text": [
      "Epoch: 131, Loss: 0.1098,Precision@20: 0.0325, Recall@20: 0.5501,hr@10: 0.4809,hr@20: 0.5899,ndcg@10: 0.3234,ndcg@20: 0.3568\n"
     ]
    },
    {
     "name": "stderr",
     "output_type": "stream",
     "text": [
      "100%|██████████| 76/76 [01:21<00:00,  1.07s/it]\n"
     ]
    },
    {
     "name": "stdout",
     "output_type": "stream",
     "text": [
      "Epoch: 132, Loss: 0.1087,Precision@20: 0.0325, Recall@20: 0.5505,hr@10: 0.4814,hr@20: 0.5903,ndcg@10: 0.3240,ndcg@20: 0.3574\n"
     ]
    },
    {
     "name": "stderr",
     "output_type": "stream",
     "text": [
      "100%|██████████| 76/76 [01:22<00:00,  1.08s/it]\n"
     ]
    },
    {
     "name": "stdout",
     "output_type": "stream",
     "text": [
      "Epoch: 133, Loss: 0.1082,Precision@20: 0.0326, Recall@20: 0.5510,hr@10: 0.4817,hr@20: 0.5907,ndcg@10: 0.3245,ndcg@20: 0.3579\n"
     ]
    },
    {
     "name": "stderr",
     "output_type": "stream",
     "text": [
      "100%|██████████| 76/76 [01:21<00:00,  1.08s/it]\n"
     ]
    },
    {
     "name": "stdout",
     "output_type": "stream",
     "text": [
      "Epoch: 134, Loss: 0.1072,Precision@20: 0.0326, Recall@20: 0.5513,hr@10: 0.4824,hr@20: 0.5912,ndcg@10: 0.3251,ndcg@20: 0.3584\n"
     ]
    },
    {
     "name": "stderr",
     "output_type": "stream",
     "text": [
      "100%|██████████| 76/76 [01:22<00:00,  1.08s/it]\n"
     ]
    },
    {
     "name": "stdout",
     "output_type": "stream",
     "text": [
      "Epoch: 135, Loss: 0.1068,Precision@20: 0.0326, Recall@20: 0.5515,hr@10: 0.4827,hr@20: 0.5914,ndcg@10: 0.3254,ndcg@20: 0.3587\n"
     ]
    },
    {
     "name": "stderr",
     "output_type": "stream",
     "text": [
      "100%|██████████| 76/76 [01:21<00:00,  1.08s/it]\n"
     ]
    },
    {
     "name": "stdout",
     "output_type": "stream",
     "text": [
      "Epoch: 136, Loss: 0.1060,Precision@20: 0.0326, Recall@20: 0.5519,hr@10: 0.4834,hr@20: 0.5917,ndcg@10: 0.3261,ndcg@20: 0.3593\n"
     ]
    },
    {
     "name": "stderr",
     "output_type": "stream",
     "text": [
      "100%|██████████| 76/76 [01:22<00:00,  1.09s/it]\n"
     ]
    },
    {
     "name": "stdout",
     "output_type": "stream",
     "text": [
      "Epoch: 137, Loss: 0.1050,Precision@20: 0.0326, Recall@20: 0.5520,hr@10: 0.4838,hr@20: 0.5918,ndcg@10: 0.3264,ndcg@20: 0.3596\n"
     ]
    },
    {
     "name": "stderr",
     "output_type": "stream",
     "text": [
      "100%|██████████| 76/76 [01:21<00:00,  1.07s/it]\n"
     ]
    },
    {
     "name": "stdout",
     "output_type": "stream",
     "text": [
      "Epoch: 138, Loss: 0.1046,Precision@20: 0.0327, Recall@20: 0.5523,hr@10: 0.4840,hr@20: 0.5920,ndcg@10: 0.3268,ndcg@20: 0.3599\n"
     ]
    },
    {
     "name": "stderr",
     "output_type": "stream",
     "text": [
      "100%|██████████| 76/76 [01:21<00:00,  1.08s/it]\n"
     ]
    },
    {
     "name": "stdout",
     "output_type": "stream",
     "text": [
      "Epoch: 139, Loss: 0.1032,Precision@20: 0.0327, Recall@20: 0.5525,hr@10: 0.4842,hr@20: 0.5923,ndcg@10: 0.3273,ndcg@20: 0.3604\n"
     ]
    },
    {
     "name": "stderr",
     "output_type": "stream",
     "text": [
      "100%|██████████| 76/76 [01:23<00:00,  1.10s/it]\n"
     ]
    },
    {
     "name": "stdout",
     "output_type": "stream",
     "text": [
      "Epoch: 140, Loss: 0.1020,Precision@20: 0.0327, Recall@20: 0.5533,hr@10: 0.4842,hr@20: 0.5930,ndcg@10: 0.3274,ndcg@20: 0.3607\n"
     ]
    },
    {
     "name": "stderr",
     "output_type": "stream",
     "text": [
      "100%|██████████| 76/76 [01:28<00:00,  1.17s/it]\n"
     ]
    },
    {
     "name": "stdout",
     "output_type": "stream",
     "text": [
      "Epoch: 141, Loss: 0.1020,Precision@20: 0.0327, Recall@20: 0.5536,hr@10: 0.4848,hr@20: 0.5933,ndcg@10: 0.3279,ndcg@20: 0.3612\n"
     ]
    },
    {
     "name": "stderr",
     "output_type": "stream",
     "text": [
      "100%|██████████| 76/76 [01:24<00:00,  1.12s/it]\n"
     ]
    },
    {
     "name": "stdout",
     "output_type": "stream",
     "text": [
      "Epoch: 142, Loss: 0.1013,Precision@20: 0.0327, Recall@20: 0.5538,hr@10: 0.4850,hr@20: 0.5934,ndcg@10: 0.3283,ndcg@20: 0.3616\n"
     ]
    },
    {
     "name": "stderr",
     "output_type": "stream",
     "text": [
      "100%|██████████| 76/76 [01:24<00:00,  1.11s/it]\n"
     ]
    },
    {
     "name": "stdout",
     "output_type": "stream",
     "text": [
      "Epoch: 143, Loss: 0.1009,Precision@20: 0.0328, Recall@20: 0.5542,hr@10: 0.4853,hr@20: 0.5938,ndcg@10: 0.3288,ndcg@20: 0.3621\n"
     ]
    },
    {
     "name": "stderr",
     "output_type": "stream",
     "text": [
      "100%|██████████| 76/76 [01:27<00:00,  1.15s/it]\n"
     ]
    },
    {
     "name": "stdout",
     "output_type": "stream",
     "text": [
      "Epoch: 144, Loss: 0.0999,Precision@20: 0.0328, Recall@20: 0.5548,hr@10: 0.4855,hr@20: 0.5945,ndcg@10: 0.3291,ndcg@20: 0.3625\n"
     ]
    },
    {
     "name": "stderr",
     "output_type": "stream",
     "text": [
      "100%|██████████| 76/76 [01:30<00:00,  1.19s/it]\n"
     ]
    },
    {
     "name": "stdout",
     "output_type": "stream",
     "text": [
      "Epoch: 145, Loss: 0.1000,Precision@20: 0.0328, Recall@20: 0.5550,hr@10: 0.4860,hr@20: 0.5946,ndcg@10: 0.3297,ndcg@20: 0.3630\n"
     ]
    },
    {
     "name": "stderr",
     "output_type": "stream",
     "text": [
      "100%|██████████| 76/76 [01:26<00:00,  1.13s/it]\n"
     ]
    },
    {
     "name": "stdout",
     "output_type": "stream",
     "text": [
      "Epoch: 146, Loss: 0.0989,Precision@20: 0.0328, Recall@20: 0.5554,hr@10: 0.4859,hr@20: 0.5948,ndcg@10: 0.3301,ndcg@20: 0.3635\n"
     ]
    },
    {
     "name": "stderr",
     "output_type": "stream",
     "text": [
      "100%|██████████| 76/76 [01:32<00:00,  1.22s/it]\n"
     ]
    },
    {
     "name": "stdout",
     "output_type": "stream",
     "text": [
      "Epoch: 147, Loss: 0.0980,Precision@20: 0.0328, Recall@20: 0.5556,hr@10: 0.4861,hr@20: 0.5951,ndcg@10: 0.3305,ndcg@20: 0.3639\n"
     ]
    },
    {
     "name": "stderr",
     "output_type": "stream",
     "text": [
      "100%|██████████| 76/76 [01:24<00:00,  1.11s/it]\n"
     ]
    },
    {
     "name": "stdout",
     "output_type": "stream",
     "text": [
      "Epoch: 148, Loss: 0.0977,Precision@20: 0.0329, Recall@20: 0.5561,hr@10: 0.4865,hr@20: 0.5956,ndcg@10: 0.3309,ndcg@20: 0.3643\n"
     ]
    },
    {
     "name": "stderr",
     "output_type": "stream",
     "text": [
      "100%|██████████| 76/76 [01:21<00:00,  1.08s/it]\n"
     ]
    },
    {
     "name": "stdout",
     "output_type": "stream",
     "text": [
      "Epoch: 149, Loss: 0.0973,Precision@20: 0.0329, Recall@20: 0.5564,hr@10: 0.4867,hr@20: 0.5957,ndcg@10: 0.3313,ndcg@20: 0.3647\n"
     ]
    },
    {
     "name": "stderr",
     "output_type": "stream",
     "text": [
      "100%|██████████| 76/76 [01:21<00:00,  1.07s/it]\n"
     ]
    },
    {
     "name": "stdout",
     "output_type": "stream",
     "text": [
      "Epoch: 150, Loss: 0.0966,Precision@20: 0.0329, Recall@20: 0.5567,hr@10: 0.4870,hr@20: 0.5960,ndcg@10: 0.3317,ndcg@20: 0.3652\n"
     ]
    },
    {
     "name": "stderr",
     "output_type": "stream",
     "text": [
      "100%|██████████| 76/76 [01:22<00:00,  1.09s/it]\n"
     ]
    },
    {
     "name": "stdout",
     "output_type": "stream",
     "text": [
      "Epoch: 151, Loss: 0.0953,Precision@20: 0.0329, Recall@20: 0.5568,hr@10: 0.4872,hr@20: 0.5962,ndcg@10: 0.3322,ndcg@20: 0.3656\n"
     ]
    },
    {
     "name": "stderr",
     "output_type": "stream",
     "text": [
      "100%|██████████| 76/76 [01:22<00:00,  1.09s/it]\n"
     ]
    },
    {
     "name": "stdout",
     "output_type": "stream",
     "text": [
      "Epoch: 152, Loss: 0.0949,Precision@20: 0.0329, Recall@20: 0.5569,hr@10: 0.4877,hr@20: 0.5964,ndcg@10: 0.3327,ndcg@20: 0.3661\n"
     ]
    },
    {
     "name": "stderr",
     "output_type": "stream",
     "text": [
      "100%|██████████| 76/76 [01:24<00:00,  1.11s/it]\n"
     ]
    },
    {
     "name": "stdout",
     "output_type": "stream",
     "text": [
      "Epoch: 153, Loss: 0.0943,Precision@20: 0.0330, Recall@20: 0.5573,hr@10: 0.4883,hr@20: 0.5967,ndcg@10: 0.3332,ndcg@20: 0.3666\n"
     ]
    },
    {
     "name": "stderr",
     "output_type": "stream",
     "text": [
      "100%|██████████| 76/76 [01:25<00:00,  1.12s/it]\n"
     ]
    },
    {
     "name": "stdout",
     "output_type": "stream",
     "text": [
      "Epoch: 154, Loss: 0.0934,Precision@20: 0.0329, Recall@20: 0.5572,hr@10: 0.4883,hr@20: 0.5967,ndcg@10: 0.3336,ndcg@20: 0.3669\n"
     ]
    },
    {
     "name": "stderr",
     "output_type": "stream",
     "text": [
      "100%|██████████| 76/76 [01:22<00:00,  1.09s/it]\n"
     ]
    },
    {
     "name": "stdout",
     "output_type": "stream",
     "text": [
      "Epoch: 155, Loss: 0.0932,Precision@20: 0.0329, Recall@20: 0.5573,hr@10: 0.4885,hr@20: 0.5966,ndcg@10: 0.3340,ndcg@20: 0.3672\n"
     ]
    },
    {
     "name": "stderr",
     "output_type": "stream",
     "text": [
      "100%|██████████| 76/76 [01:22<00:00,  1.09s/it]\n"
     ]
    },
    {
     "name": "stdout",
     "output_type": "stream",
     "text": [
      "Epoch: 156, Loss: 0.0931,Precision@20: 0.0330, Recall@20: 0.5575,hr@10: 0.4886,hr@20: 0.5970,ndcg@10: 0.3344,ndcg@20: 0.3676\n"
     ]
    },
    {
     "name": "stderr",
     "output_type": "stream",
     "text": [
      "100%|██████████| 76/76 [01:24<00:00,  1.11s/it]\n"
     ]
    },
    {
     "name": "stdout",
     "output_type": "stream",
     "text": [
      "Epoch: 157, Loss: 0.0914,Precision@20: 0.0330, Recall@20: 0.5578,hr@10: 0.4891,hr@20: 0.5973,ndcg@10: 0.3347,ndcg@20: 0.3679\n"
     ]
    },
    {
     "name": "stderr",
     "output_type": "stream",
     "text": [
      "100%|██████████| 76/76 [01:23<00:00,  1.11s/it]\n"
     ]
    },
    {
     "name": "stdout",
     "output_type": "stream",
     "text": [
      "Epoch: 158, Loss: 0.0919,Precision@20: 0.0330, Recall@20: 0.5577,hr@10: 0.4891,hr@20: 0.5972,ndcg@10: 0.3351,ndcg@20: 0.3682\n"
     ]
    },
    {
     "name": "stderr",
     "output_type": "stream",
     "text": [
      "100%|██████████| 76/76 [01:24<00:00,  1.11s/it]\n"
     ]
    },
    {
     "name": "stdout",
     "output_type": "stream",
     "text": [
      "Epoch: 159, Loss: 0.0909,Precision@20: 0.0330, Recall@20: 0.5577,hr@10: 0.4896,hr@20: 0.5974,ndcg@10: 0.3355,ndcg@20: 0.3686\n"
     ]
    },
    {
     "name": "stderr",
     "output_type": "stream",
     "text": [
      "100%|██████████| 76/76 [01:23<00:00,  1.10s/it]\n"
     ]
    },
    {
     "name": "stdout",
     "output_type": "stream",
     "text": [
      "Epoch: 160, Loss: 0.0903,Precision@20: 0.0330, Recall@20: 0.5576,hr@10: 0.4895,hr@20: 0.5972,ndcg@10: 0.3358,ndcg@20: 0.3688\n"
     ]
    },
    {
     "name": "stderr",
     "output_type": "stream",
     "text": [
      "100%|██████████| 76/76 [01:23<00:00,  1.10s/it]\n"
     ]
    },
    {
     "name": "stdout",
     "output_type": "stream",
     "text": [
      "Epoch: 161, Loss: 0.0887,Precision@20: 0.0330, Recall@20: 0.5579,hr@10: 0.4899,hr@20: 0.5975,ndcg@10: 0.3362,ndcg@20: 0.3692\n"
     ]
    },
    {
     "name": "stderr",
     "output_type": "stream",
     "text": [
      "100%|██████████| 76/76 [01:23<00:00,  1.10s/it]\n"
     ]
    },
    {
     "name": "stdout",
     "output_type": "stream",
     "text": [
      "Epoch: 162, Loss: 0.0890,Precision@20: 0.0330, Recall@20: 0.5578,hr@10: 0.4902,hr@20: 0.5975,ndcg@10: 0.3365,ndcg@20: 0.3694\n"
     ]
    },
    {
     "name": "stderr",
     "output_type": "stream",
     "text": [
      "100%|██████████| 76/76 [01:23<00:00,  1.10s/it]\n"
     ]
    },
    {
     "name": "stdout",
     "output_type": "stream",
     "text": [
      "Epoch: 163, Loss: 0.0878,Precision@20: 0.0330, Recall@20: 0.5583,hr@10: 0.4906,hr@20: 0.5980,ndcg@10: 0.3368,ndcg@20: 0.3698\n"
     ]
    },
    {
     "name": "stderr",
     "output_type": "stream",
     "text": [
      "100%|██████████| 76/76 [01:22<00:00,  1.09s/it]\n"
     ]
    },
    {
     "name": "stdout",
     "output_type": "stream",
     "text": [
      "Epoch: 164, Loss: 0.0881,Precision@20: 0.0330, Recall@20: 0.5583,hr@10: 0.4906,hr@20: 0.5978,ndcg@10: 0.3370,ndcg@20: 0.3699\n"
     ]
    },
    {
     "name": "stderr",
     "output_type": "stream",
     "text": [
      "100%|██████████| 76/76 [01:23<00:00,  1.10s/it]\n"
     ]
    },
    {
     "name": "stdout",
     "output_type": "stream",
     "text": [
      "Epoch: 165, Loss: 0.0871,Precision@20: 0.0330, Recall@20: 0.5582,hr@10: 0.4907,hr@20: 0.5977,ndcg@10: 0.3372,ndcg@20: 0.3701\n"
     ]
    },
    {
     "name": "stderr",
     "output_type": "stream",
     "text": [
      "100%|██████████| 76/76 [01:23<00:00,  1.10s/it]\n"
     ]
    },
    {
     "name": "stdout",
     "output_type": "stream",
     "text": [
      "Epoch: 166, Loss: 0.0869,Precision@20: 0.0330, Recall@20: 0.5585,hr@10: 0.4907,hr@20: 0.5980,ndcg@10: 0.3373,ndcg@20: 0.3703\n"
     ]
    },
    {
     "name": "stderr",
     "output_type": "stream",
     "text": [
      "100%|██████████| 76/76 [01:23<00:00,  1.10s/it]\n"
     ]
    },
    {
     "name": "stdout",
     "output_type": "stream",
     "text": [
      "Epoch: 167, Loss: 0.0861,Precision@20: 0.0331, Recall@20: 0.5587,hr@10: 0.4908,hr@20: 0.5981,ndcg@10: 0.3376,ndcg@20: 0.3705\n"
     ]
    },
    {
     "name": "stderr",
     "output_type": "stream",
     "text": [
      "100%|██████████| 76/76 [01:24<00:00,  1.12s/it]\n"
     ]
    },
    {
     "name": "stdout",
     "output_type": "stream",
     "text": [
      "Epoch: 168, Loss: 0.0856,Precision@20: 0.0330, Recall@20: 0.5586,hr@10: 0.4912,hr@20: 0.5981,ndcg@10: 0.3378,ndcg@20: 0.3707\n"
     ]
    },
    {
     "name": "stderr",
     "output_type": "stream",
     "text": [
      "100%|██████████| 76/76 [01:24<00:00,  1.11s/it]\n"
     ]
    },
    {
     "name": "stdout",
     "output_type": "stream",
     "text": [
      "Epoch: 169, Loss: 0.0852,Precision@20: 0.0331, Recall@20: 0.5587,hr@10: 0.4916,hr@20: 0.5982,ndcg@10: 0.3380,ndcg@20: 0.3708\n"
     ]
    },
    {
     "name": "stderr",
     "output_type": "stream",
     "text": [
      "100%|██████████| 76/76 [01:26<00:00,  1.14s/it]\n"
     ]
    },
    {
     "name": "stdout",
     "output_type": "stream",
     "text": [
      "Epoch: 170, Loss: 0.0847,Precision@20: 0.0331, Recall@20: 0.5590,hr@10: 0.4917,hr@20: 0.5985,ndcg@10: 0.3383,ndcg@20: 0.3711\n"
     ]
    },
    {
     "name": "stderr",
     "output_type": "stream",
     "text": [
      "100%|██████████| 76/76 [01:24<00:00,  1.11s/it]\n"
     ]
    },
    {
     "name": "stdout",
     "output_type": "stream",
     "text": [
      "Epoch: 171, Loss: 0.0841,Precision@20: 0.0331, Recall@20: 0.5591,hr@10: 0.4917,hr@20: 0.5985,ndcg@10: 0.3384,ndcg@20: 0.3712\n"
     ]
    },
    {
     "name": "stderr",
     "output_type": "stream",
     "text": [
      "100%|██████████| 76/76 [01:24<00:00,  1.11s/it]\n"
     ]
    },
    {
     "name": "stdout",
     "output_type": "stream",
     "text": [
      "Epoch: 172, Loss: 0.0834,Precision@20: 0.0331, Recall@20: 0.5588,hr@10: 0.4919,hr@20: 0.5982,ndcg@10: 0.3385,ndcg@20: 0.3712\n"
     ]
    },
    {
     "name": "stderr",
     "output_type": "stream",
     "text": [
      "100%|██████████| 76/76 [01:25<00:00,  1.12s/it]\n"
     ]
    },
    {
     "name": "stdout",
     "output_type": "stream",
     "text": [
      "Epoch: 173, Loss: 0.0834,Precision@20: 0.0331, Recall@20: 0.5591,hr@10: 0.4924,hr@20: 0.5984,ndcg@10: 0.3386,ndcg@20: 0.3712\n"
     ]
    },
    {
     "name": "stderr",
     "output_type": "stream",
     "text": [
      "100%|██████████| 76/76 [01:25<00:00,  1.12s/it]\n"
     ]
    },
    {
     "name": "stdout",
     "output_type": "stream",
     "text": [
      "Epoch: 174, Loss: 0.0823,Precision@20: 0.0331, Recall@20: 0.5590,hr@10: 0.4925,hr@20: 0.5984,ndcg@10: 0.3388,ndcg@20: 0.3714\n"
     ]
    },
    {
     "name": "stderr",
     "output_type": "stream",
     "text": [
      "100%|██████████| 76/76 [01:24<00:00,  1.11s/it]\n"
     ]
    },
    {
     "name": "stdout",
     "output_type": "stream",
     "text": [
      "Epoch: 175, Loss: 0.0814,Precision@20: 0.0331, Recall@20: 0.5592,hr@10: 0.4928,hr@20: 0.5985,ndcg@10: 0.3390,ndcg@20: 0.3716\n"
     ]
    },
    {
     "name": "stderr",
     "output_type": "stream",
     "text": [
      "100%|██████████| 76/76 [01:24<00:00,  1.12s/it]\n"
     ]
    },
    {
     "name": "stdout",
     "output_type": "stream",
     "text": [
      "Epoch: 176, Loss: 0.0810,Precision@20: 0.0331, Recall@20: 0.5598,hr@10: 0.4932,hr@20: 0.5992,ndcg@10: 0.3395,ndcg@20: 0.3722\n"
     ]
    },
    {
     "name": "stderr",
     "output_type": "stream",
     "text": [
      "100%|██████████| 76/76 [01:24<00:00,  1.11s/it]\n"
     ]
    },
    {
     "name": "stdout",
     "output_type": "stream",
     "text": [
      "Epoch: 177, Loss: 0.0802,Precision@20: 0.0331, Recall@20: 0.5600,hr@10: 0.4935,hr@20: 0.5993,ndcg@10: 0.3398,ndcg@20: 0.3725\n"
     ]
    },
    {
     "name": "stderr",
     "output_type": "stream",
     "text": [
      "100%|██████████| 76/76 [01:24<00:00,  1.12s/it]\n"
     ]
    },
    {
     "name": "stdout",
     "output_type": "stream",
     "text": [
      "Epoch: 178, Loss: 0.0802,Precision@20: 0.0331, Recall@20: 0.5596,hr@10: 0.4934,hr@20: 0.5990,ndcg@10: 0.3399,ndcg@20: 0.3725\n"
     ]
    },
    {
     "name": "stderr",
     "output_type": "stream",
     "text": [
      "100%|██████████| 76/76 [01:24<00:00,  1.11s/it]\n"
     ]
    },
    {
     "name": "stdout",
     "output_type": "stream",
     "text": [
      "Epoch: 179, Loss: 0.0795,Precision@20: 0.0331, Recall@20: 0.5596,hr@10: 0.4938,hr@20: 0.5991,ndcg@10: 0.3402,ndcg@20: 0.3727\n"
     ]
    },
    {
     "name": "stderr",
     "output_type": "stream",
     "text": [
      "100%|██████████| 76/76 [01:25<00:00,  1.13s/it]\n"
     ]
    },
    {
     "name": "stdout",
     "output_type": "stream",
     "text": [
      "Epoch: 180, Loss: 0.0795,Precision@20: 0.0331, Recall@20: 0.5593,hr@10: 0.4935,hr@20: 0.5987,ndcg@10: 0.3404,ndcg@20: 0.3728\n"
     ]
    },
    {
     "name": "stderr",
     "output_type": "stream",
     "text": [
      "100%|██████████| 76/76 [01:26<00:00,  1.13s/it]\n"
     ]
    },
    {
     "name": "stdout",
     "output_type": "stream",
     "text": [
      "Epoch: 181, Loss: 0.0791,Precision@20: 0.0331, Recall@20: 0.5590,hr@10: 0.4935,hr@20: 0.5985,ndcg@10: 0.3404,ndcg@20: 0.3728\n"
     ]
    },
    {
     "name": "stderr",
     "output_type": "stream",
     "text": [
      "100%|██████████| 76/76 [01:27<00:00,  1.15s/it]\n"
     ]
    },
    {
     "name": "stdout",
     "output_type": "stream",
     "text": [
      "Epoch: 182, Loss: 0.0777,Precision@20: 0.0331, Recall@20: 0.5588,hr@10: 0.4935,hr@20: 0.5982,ndcg@10: 0.3406,ndcg@20: 0.3729\n"
     ]
    },
    {
     "name": "stderr",
     "output_type": "stream",
     "text": [
      "100%|██████████| 76/76 [01:28<00:00,  1.17s/it]\n"
     ]
    },
    {
     "name": "stdout",
     "output_type": "stream",
     "text": [
      "Epoch: 183, Loss: 0.0779,Precision@20: 0.0331, Recall@20: 0.5591,hr@10: 0.4936,hr@20: 0.5986,ndcg@10: 0.3407,ndcg@20: 0.3731\n"
     ]
    },
    {
     "name": "stderr",
     "output_type": "stream",
     "text": [
      "100%|██████████| 76/76 [01:28<00:00,  1.17s/it]\n"
     ]
    },
    {
     "name": "stdout",
     "output_type": "stream",
     "text": [
      "Epoch: 184, Loss: 0.0771,Precision@20: 0.0331, Recall@20: 0.5593,hr@10: 0.4938,hr@20: 0.5987,ndcg@10: 0.3411,ndcg@20: 0.3734\n"
     ]
    },
    {
     "name": "stderr",
     "output_type": "stream",
     "text": [
      "100%|██████████| 76/76 [01:27<00:00,  1.15s/it]\n"
     ]
    },
    {
     "name": "stdout",
     "output_type": "stream",
     "text": [
      "Epoch: 185, Loss: 0.0774,Precision@20: 0.0331, Recall@20: 0.5592,hr@10: 0.4941,hr@20: 0.5987,ndcg@10: 0.3413,ndcg@20: 0.3736\n"
     ]
    },
    {
     "name": "stderr",
     "output_type": "stream",
     "text": [
      "100%|██████████| 76/76 [01:26<00:00,  1.14s/it]\n"
     ]
    },
    {
     "name": "stdout",
     "output_type": "stream",
     "text": [
      "Epoch: 186, Loss: 0.0764,Precision@20: 0.0331, Recall@20: 0.5594,hr@10: 0.4943,hr@20: 0.5988,ndcg@10: 0.3417,ndcg@20: 0.3739\n"
     ]
    },
    {
     "name": "stderr",
     "output_type": "stream",
     "text": [
      "100%|██████████| 76/76 [01:27<00:00,  1.16s/it]\n"
     ]
    },
    {
     "name": "stdout",
     "output_type": "stream",
     "text": [
      "Epoch: 187, Loss: 0.0762,Precision@20: 0.0331, Recall@20: 0.5597,hr@10: 0.4947,hr@20: 0.5991,ndcg@10: 0.3422,ndcg@20: 0.3745\n"
     ]
    },
    {
     "name": "stderr",
     "output_type": "stream",
     "text": [
      "100%|██████████| 76/76 [01:28<00:00,  1.17s/it]\n"
     ]
    },
    {
     "name": "stdout",
     "output_type": "stream",
     "text": [
      "Epoch: 188, Loss: 0.0756,Precision@20: 0.0331, Recall@20: 0.5602,hr@10: 0.4948,hr@20: 0.5995,ndcg@10: 0.3428,ndcg@20: 0.3750\n"
     ]
    },
    {
     "name": "stderr",
     "output_type": "stream",
     "text": [
      "100%|██████████| 76/76 [01:28<00:00,  1.16s/it]\n"
     ]
    },
    {
     "name": "stdout",
     "output_type": "stream",
     "text": [
      "Epoch: 189, Loss: 0.0741,Precision@20: 0.0332, Recall@20: 0.5609,hr@10: 0.4953,hr@20: 0.6001,ndcg@10: 0.3432,ndcg@20: 0.3755\n"
     ]
    },
    {
     "name": "stderr",
     "output_type": "stream",
     "text": [
      "100%|██████████| 76/76 [01:26<00:00,  1.14s/it]\n"
     ]
    },
    {
     "name": "stdout",
     "output_type": "stream",
     "text": [
      "Epoch: 190, Loss: 0.0748,Precision@20: 0.0332, Recall@20: 0.5613,hr@10: 0.4955,hr@20: 0.6006,ndcg@10: 0.3433,ndcg@20: 0.3757\n"
     ]
    },
    {
     "name": "stderr",
     "output_type": "stream",
     "text": [
      "100%|██████████| 76/76 [01:25<00:00,  1.12s/it]\n"
     ]
    },
    {
     "name": "stdout",
     "output_type": "stream",
     "text": [
      "Epoch: 191, Loss: 0.0739,Precision@20: 0.0332, Recall@20: 0.5611,hr@10: 0.4956,hr@20: 0.6003,ndcg@10: 0.3434,ndcg@20: 0.3756\n"
     ]
    },
    {
     "name": "stderr",
     "output_type": "stream",
     "text": [
      "100%|██████████| 76/76 [01:25<00:00,  1.12s/it]\n"
     ]
    },
    {
     "name": "stdout",
     "output_type": "stream",
     "text": [
      "Epoch: 192, Loss: 0.0734,Precision@20: 0.0332, Recall@20: 0.5611,hr@10: 0.4958,hr@20: 0.6002,ndcg@10: 0.3436,ndcg@20: 0.3759\n"
     ]
    },
    {
     "name": "stderr",
     "output_type": "stream",
     "text": [
      "100%|██████████| 76/76 [01:24<00:00,  1.11s/it]\n"
     ]
    },
    {
     "name": "stdout",
     "output_type": "stream",
     "text": [
      "Epoch: 193, Loss: 0.0730,Precision@20: 0.0332, Recall@20: 0.5611,hr@10: 0.4958,hr@20: 0.6003,ndcg@10: 0.3438,ndcg@20: 0.3760\n"
     ]
    },
    {
     "name": "stderr",
     "output_type": "stream",
     "text": [
      "100%|██████████| 76/76 [01:23<00:00,  1.11s/it]\n"
     ]
    },
    {
     "name": "stdout",
     "output_type": "stream",
     "text": [
      "Epoch: 194, Loss: 0.0725,Precision@20: 0.0332, Recall@20: 0.5614,hr@10: 0.4957,hr@20: 0.6006,ndcg@10: 0.3439,ndcg@20: 0.3763\n"
     ]
    },
    {
     "name": "stderr",
     "output_type": "stream",
     "text": [
      "100%|██████████| 76/76 [01:24<00:00,  1.11s/it]\n"
     ]
    },
    {
     "name": "stdout",
     "output_type": "stream",
     "text": [
      "Epoch: 195, Loss: 0.0724,Precision@20: 0.0332, Recall@20: 0.5610,hr@10: 0.4960,hr@20: 0.6001,ndcg@10: 0.3441,ndcg@20: 0.3763\n"
     ]
    },
    {
     "name": "stderr",
     "output_type": "stream",
     "text": [
      "100%|██████████| 76/76 [01:24<00:00,  1.11s/it]\n"
     ]
    },
    {
     "name": "stdout",
     "output_type": "stream",
     "text": [
      "Epoch: 196, Loss: 0.0723,Precision@20: 0.0332, Recall@20: 0.5609,hr@10: 0.4959,hr@20: 0.5999,ndcg@10: 0.3441,ndcg@20: 0.3763\n"
     ]
    },
    {
     "name": "stderr",
     "output_type": "stream",
     "text": [
      "100%|██████████| 76/76 [01:25<00:00,  1.13s/it]\n"
     ]
    },
    {
     "name": "stdout",
     "output_type": "stream",
     "text": [
      "Epoch: 197, Loss: 0.0713,Precision@20: 0.0332, Recall@20: 0.5609,hr@10: 0.4962,hr@20: 0.5999,ndcg@10: 0.3443,ndcg@20: 0.3764\n"
     ]
    },
    {
     "name": "stderr",
     "output_type": "stream",
     "text": [
      "100%|██████████| 76/76 [01:26<00:00,  1.14s/it]\n"
     ]
    },
    {
     "name": "stdout",
     "output_type": "stream",
     "text": [
      "Epoch: 198, Loss: 0.0710,Precision@20: 0.0332, Recall@20: 0.5606,hr@10: 0.4960,hr@20: 0.5996,ndcg@10: 0.3444,ndcg@20: 0.3765\n"
     ]
    },
    {
     "name": "stderr",
     "output_type": "stream",
     "text": [
      "100%|██████████| 76/76 [01:26<00:00,  1.13s/it]\n"
     ]
    },
    {
     "name": "stdout",
     "output_type": "stream",
     "text": [
      "Epoch: 199, Loss: 0.0706,Precision@20: 0.0332, Recall@20: 0.5606,hr@10: 0.4962,hr@20: 0.5996,ndcg@10: 0.3444,ndcg@20: 0.3766\n"
     ]
    },
    {
     "name": "stderr",
     "output_type": "stream",
     "text": [
      "100%|██████████| 76/76 [01:25<00:00,  1.13s/it]\n"
     ]
    },
    {
     "name": "stdout",
     "output_type": "stream",
     "text": [
      "Epoch: 200, Loss: 0.0701,Precision@20: 0.0332, Recall@20: 0.5609,hr@10: 0.4959,hr@20: 0.5999,ndcg@10: 0.3446,ndcg@20: 0.3769\n"
     ]
    }
   ],
   "source": [
    "def dcg_k(isin_mat, k):\n",
    "    dcg = isin_mat / torch.log2(torch.arange(2, k + 2))\n",
    "    return dcg.sum(dim=-1)\n",
    "\n",
    "device = torch.device('cuda' if torch.cuda.is_available() else 'cpu')\n",
    "\n",
    "dataset = Course('data/course')\n",
    "data = dataset[0]\n",
    "print(data)\n",
    "num_users, num_books = data['user'].num_nodes, data['book'].num_nodes\n",
    "data = data.to_homogeneous().to(device)\n",
    "print(data)\n",
    "\n",
    "batch_size = 8192\n",
    "mask = data.edge_index[0] < data.edge_index[1]\n",
    "train_edge_label_index = data.edge_index[:, mask]\n",
    "train_loader = torch.utils.data.DataLoader(\n",
    "    range(train_edge_label_index.size(1)),\n",
    "    shuffle=True,\n",
    "    batch_size=batch_size,\n",
    ")\n",
    "\n",
    "model = LightGCN(\n",
    "    num_nodes=data.num_nodes,\n",
    "    embedding_dim=128,\n",
    "    num_layers=2,\n",
    ").to(device)\n",
    "optimizer = torch.optim.Adam(model.parameters(), lr=0.0001)\n",
    "\n",
    "def train():\n",
    "    total_loss = total_examples = 0\n",
    "    for index in tqdm(train_loader):\n",
    "        pos_edge_label_index = train_edge_label_index[:, index]\n",
    "        neg_edge_label_index = torch.stack([\n",
    "            pos_edge_label_index[0],\n",
    "            torch.randint(num_users, num_users + num_books,\n",
    "                          (index.numel(), ), device=device)\n",
    "        ], dim=0)\n",
    "        edge_label_index = torch.cat([\n",
    "            pos_edge_label_index,\n",
    "            neg_edge_label_index,\n",
    "        ], dim=1)\n",
    "\n",
    "        optimizer.zero_grad()\n",
    "        pos_rank, neg_rank = model(data.edge_index, edge_label_index).chunk(2)\n",
    "\n",
    "        loss = model.recommendation_loss(\n",
    "            pos_rank,\n",
    "            neg_rank,\n",
    "            node_id=edge_label_index.unique(),\n",
    "        )\n",
    "        loss.backward()\n",
    "        optimizer.step()\n",
    "\n",
    "        total_loss += float(loss) * pos_rank.numel()\n",
    "        total_examples += pos_rank.numel()\n",
    "\n",
    "    return total_loss / total_examples\n",
    "\n",
    "@torch.no_grad()\n",
    "def test(k: int):\n",
    "    emb = model.get_embedding(data.edge_index)\n",
    "    user_emb, book_emb = emb[:num_users], emb[num_users:]\n",
    "\n",
    "    precision = recall = total_examples = 0\n",
    "    hr10 = hr20 = ndcg10 = ndcg20 = 0\n",
    "    for start in range(0, num_users, batch_size):\n",
    "        end = start + batch_size\n",
    "        logits = user_emb[start:end] @ book_emb.t()\n",
    "\n",
    "        # Exclude training edges:\n",
    "        mask = ((train_edge_label_index[0] >= start) &\n",
    "                (train_edge_label_index[0] < end))\n",
    "        logits[train_edge_label_index[0, mask] - start,\n",
    "               train_edge_label_index[1, mask] - num_users] = float('-inf')\n",
    "\n",
    "        # Computing precision and recall:\n",
    "        ground_truth = torch.zeros_like(logits, dtype=torch.bool)\n",
    "        mask = ((data.edge_label_index[0] >= start) &\n",
    "                (data.edge_label_index[0] < end))\n",
    "        ground_truth[data.edge_label_index[0, mask] - start,\n",
    "                     data.edge_label_index[1, mask] - num_users] = True\n",
    "        node_count = degree(data.edge_label_index[0, mask] - start,\n",
    "                            num_nodes=logits.size(0))\n",
    "\n",
    "        topk_index = logits.topk(k, dim=-1).indices\n",
    "        isin_mat = ground_truth.gather(1, topk_index)\n",
    "\n",
    "        precision += float((isin_mat.sum(dim=-1) / k).sum())\n",
    "        recall += float((isin_mat.sum(dim=-1) / node_count.clamp(1e-6)).sum())\n",
    "        total_examples += int((node_count > 0).sum())\n",
    "\n",
    "        # HR@10 and HR@20\n",
    "        hr10 += float((isin_mat[:, :10].sum(dim=-1) > 0).sum())\n",
    "        hr20 += float((isin_mat[:, :20].sum(dim=-1) > 0).sum())\n",
    "\n",
    "        # NDCG@10 and NDCG@20\n",
    "        dcg10 = dcg_k(isin_mat[:, :10], 10)\n",
    "        dcg20 = dcg_k(isin_mat[:, :20], 20)\n",
    "        ndcg10 += float(dcg10.sum())\n",
    "        ndcg20 += float(dcg20.sum())\n",
    "\n",
    "    return precision/total_examples, recall/total_examples, hr10/total_examples, \\\n",
    "        hr20/total_examples, ndcg10/total_examples, ndcg20/total_examples\n",
    "\n",
    "for epoch in range(1, 201):\n",
    "    loss = train()\n",
    "    precision, recall, hr10, hr20, ndcg10, ndcg20 = test(k=20)\n",
    "    print(f'Epoch: {epoch:03d}, Loss: {loss:.4f},Precision@20: '\n",
    "          f'{precision:.4f}, Recall@20: {recall:.4f},'\n",
    "          f'hr@10: {hr10:.4f},'\n",
    "          f'hr@20: {hr20:.4f},'\n",
    "          f'ndcg@10: {ndcg10:.4f},'\n",
    "          f'ndcg@20: {ndcg20:.4f}'\n",
    "          )\n",
    "\n",
    "torch.save(model, 'course.bin')\n"
   ]
  },
  {
   "cell_type": "markdown",
   "metadata": {},
   "source": [
    "KG :\n",
    "    \n",
    "    lr=0.001 Epoch: 060, Loss: 0.0157,Precision@20: 0.0334, Recall@20: 0.5647,hr@10: 0.4970,hr@20: 0.6046,ndcg@10: 0.3455,ndcg@20: 0.3788\n",
    "    \n",
    "    lr=0.0001 Epoch: 200, Loss: 0.0286,Precision@20: 0.0329, Recall@20: 0.5569,hr@10: 0.4865,hr@20: 0.5971,ndcg@10: 0.3331,ndcg@20: 0.3670\n",
    "\n",
    "Linght:\n",
    "    \n",
    "    lr=0.0001 Epoch: 200, Loss: 0.0701,Precision@20: 0.0332, Recall@20: 0.5609,hr@10: 0.4959,hr@20: 0.5999,ndcg@10: 0.3446,ndcg@20: 0.3769"
   ]
  },
  {
   "cell_type": "markdown",
   "metadata": {},
   "source": [
    "| Model 模型 | HR@10 | HR@20 | NDCG@10 | NDCG@20 |\n",
    "| --- | --- | --- | --- | --- |\n",
    "| LightGCN-KG lr=0.0001 | 0.4965 | 0.5971 | 0.3331 | 0.367 |\n",
    "| LightGCN-KG lr=0.001 | 0.4970 | 0.6946 | 0.3455 | 0.3788 |\n",
    "| LightGCN-only lr=0.0001 | 0.4959 | 0.5609 | 0.3446 | 0.3769 |\n",
    "| LightGCN-only lr=0.001 | 0.500 | 0.601 | 0.3576 | 0.3893 |"
   ]
  },
  {
   "cell_type": "code",
   "execution_count": 5,
   "metadata": {},
   "outputs": [
    {
     "name": "stdout",
     "output_type": "stream",
     "text": [
      "504 C_course-v1:TsinghuaX+40260173X+2019_T1 数字集成电路分析与设计\n",
      "208 C_course-v1:KMUSTX+1193004+2019_T1 极速悟透3ds Max\n",
      "677 C_course-v1:dlmu+20180906+2019_T1 航海概论\n",
      "483 C_course-v1:TsinghuaX+34000312X+2019_T1 医学寄生虫学\n",
      "692 C_course-v1:qhnu+20181212x+2018_T2 藏语言文字学概论\n",
      "329 C_course-v1:SichuanU+306197030+2019_T1 土力学\n",
      "631 C_course-v1:WellesleyX+ANTH207x+sp 人类进化导论\n",
      "539 C_course-v1:TsinghuaX+80000271X+2019_T1 住宅精细化设计\n",
      "479 C_course-v1:TsinghuaX+30803273X+2019_T1 中国工笔人物画赏析与创作\n",
      "561 C_course-v1:TsinghuaX+80590982X+2019_T1 公共管理前沿——社会企业家精神\n",
      "516 C_course-v1:TsinghuaX+60510102X+2019_T1 创办新企业\n",
      "129 C_course-v1:FUDANx+SOSC120007+2019_T1 货币金融学\n",
      "76 C_course-v1:CIE+CIE2016002+2019_T1 创业失败：原因与出路\n",
      "133 C_course-v1:GDUT+2018120405X+2019_T1 音乐漫步\n",
      "291 C_course-v1:RiceX+RELI157x+sp 宗教和嘻哈文化\n",
      "553 C_course-v1:TsinghuaX+80240372X+2019_T1 数据挖掘：理论与算法\n",
      "448 C_course-v1:TsinghuaX+20430064X+sp 量子力学\n",
      "198 C_course-v1:JNUX+07009156X+sp 中医与诊断-学做自己的医生\n",
      "254 C_course-v1:NEU+2019012201X+2019_T2 物理化学\n",
      "627 C_course-v1:WUT+WUT2016001+2019_T1 网络、群体与市场\n"
     ]
    }
   ],
   "source": [
    "device = torch.device('cuda' if torch.cuda.is_available() else 'cpu')\n",
    "num_nodes = 199897\n",
    "num_edges = 1228952\n",
    "edge_index = torch.randint(0, num_nodes, (2, num_edges))\n",
    "edge_label_index = torch.randint(0, num_nodes, (2, 68276))\n",
    "with_edge_weight = False\n",
    "edge_weight = torch.rand(num_edges) if with_edge_weight else None\n",
    "\n",
    "model = torch.load('course.bin')\n",
    "\n",
    "with open('data/course/user_id.json', 'r') as file:\n",
    "    user_id = json.load(file)\n",
    "with open('data/course/course_id.json', 'r') as file:\n",
    "    course_id = json.load(file)\n",
    "with open('data/course/course_naem.json', 'r') as file:\n",
    "    course_name = json.load(file)\n",
    "\n",
    "inputs_user = 'U_10000060'\n",
    "keys_with_user_id = [key for key, value in user_id.items() if value == inputs_user]\n",
    "src_index = int(keys_with_user_id[0])\n",
    "dst_index = torch.arange(0, 698)\n",
    "out = model.recommend(edge_index, edge_weight, src_index, dst_index, k=20)\n",
    "for i in out:\n",
    "    print(i.item(), course_id[str(i.item())], course_name[course_id[str(i.item())]])\n"
   ]
  },
  {
   "cell_type": "code",
   "execution_count": null,
   "metadata": {},
   "outputs": [],
   "source": [
    "import json\n",
    "import pandas as pd\n",
    "\n",
    "csv_file = 'data/course/course.csv'\n",
    "fr = open('data/course/course.csv', 'r', encoding='utf-8').readlines()\n",
    "data = {}\n",
    "for i in fr:\n",
    "    if 'id,name' not in i:\n",
    "        i = i.strip().split(',')\n",
    "        data[i[0]] = i[1]\n",
    "with open('data/course/course_naem.json', 'w') as json_file:\n",
    "    json.dump(data, json_file, ensure_ascii=False)\n",
    "\n",
    "df = pd.read_csv('study_flask/merged_recommendations_base.csv', sep=',')\n",
    "print(df['id'])\n",
    "\n",
    "with open('data/course/user_id.json', 'r') as file:\n",
    "    user_id = json.load(file)\n",
    "\n",
    "user_ids = []\n",
    "for i in range(len(df['id'])):\n",
    "    user_ids.append(user_id[str(i)])\n",
    "df['id'] = user_ids\n",
    "df.to_csv('study_flask/merged_recommendations.csv', index=False)\n",
    "print(len(user_ids))\n",
    "print(df['id'])"
   ]
  }
 ],
 "metadata": {
  "kernelspec": {
   "display_name": "base",
   "language": "python",
   "name": "python3"
  },
  "language_info": {
   "codemirror_mode": {
    "name": "ipython",
    "version": 3
   },
   "file_extension": ".py",
   "mimetype": "text/x-python",
   "name": "python",
   "nbconvert_exporter": "python",
   "pygments_lexer": "ipython3",
   "version": "3.11.8"
  }
 },
 "nbformat": 4,
 "nbformat_minor": 2
}
