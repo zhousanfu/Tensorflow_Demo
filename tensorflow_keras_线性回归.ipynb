{
  "nbformat": 4,
  "nbformat_minor": 0,
  "metadata": {
    "colab": {
      "name": "tensorflow keras 线性回归.ipynb",
      "provenance": [],
      "collapsed_sections": [],
      "toc_visible": true,
      "authorship_tag": "ABX9TyPMTjFrDs4aUgN9NN799siz",
      "include_colab_link": true
    },
    "kernelspec": {
      "name": "python3",
      "display_name": "Python 3"
    }
  },
  "cells": [
    {
      "cell_type": "markdown",
      "metadata": {
        "id": "view-in-github",
        "colab_type": "text"
      },
      "source": [
        "<a href=\"https://colab.research.google.com/github/zhousanfu/Tensorflow_Demo/blob/master/tensorflow_keras_%E7%BA%BF%E6%80%A7%E5%9B%9E%E5%BD%92.ipynb\" target=\"_parent\"><img src=\"https://colab.research.google.com/assets/colab-badge.svg\" alt=\"Open In Colab\"/></a>"
      ]
    },
    {
      "cell_type": "code",
      "metadata": {
        "colab": {
          "base_uri": "https://localhost:8080/"
        },
        "id": "bbHseh_UJM_a",
        "outputId": "dd1637b9-1054-4a95-9f63-873323b4db3e"
      },
      "source": [
        "#!pip install tensorflow\n",
        "import tensorflow as tf\n",
        "import pandas as pd\n",
        "import matplotlib.pyplot as plt\n",
        "import os\n",
        "print('tensorflow version {}'.format(tf.__version__))"
      ],
      "execution_count": 2,
      "outputs": [
        {
          "output_type": "stream",
          "text": [
            "tensorflow version 2.4.1\n"
          ],
          "name": "stdout"
        }
      ]
    },
    {
      "cell_type": "markdown",
      "metadata": {
        "id": "bLaLjuDRdueK"
      },
      "source": [
        "## 数据集(Income)\n",
        " ,Education,Income\n",
        "1,10.000000 ,26.658839\n",
        "2,10.401338 ,27.306435\n",
        "3,10.842809 ,22.132410\n",
        "4,11.244147 ,21.169841\n",
        "5,11.645449 ,15.192634\n",
        "6,12.086957 ,26.398951\n",
        "7,12.048829 ,17.435307\n",
        "8,12.889632 ,25.507885\n",
        "9,13.290970 ,36.884595\n",
        "10,13.732441 ,39.666109\n",
        "11,14.133779 ,34.396281\n",
        "12,14.635117 ,41.497994\n",
        "13,14.978589 ,44.981575\n",
        "14,15.377926 ,47.039595\n",
        "15,15.779264 ,48.252578\n",
        "16,16.220736 ,57.034251\n",
        "17,16.622074 ,51.490919\n",
        "18,17.023411 ,51.336621\n",
        "19,17.464883 ,57.681998\n",
        "20,17.866221 ,68.553714\n",
        "21,18.267559 ,64.310925\n",
        "22,18.709030 ,68.959009\n",
        "23,19.110368 ,74.614639\n",
        "24,19.511706 ,71.867195\n",
        "25,19.913043 ,76.098135\n",
        "26,20.354515 ,75.775216\n",
        "27,20.755853 ,72.486055\n",
        "28,21.167191 ,77.355021\n",
        "29,21.598662 ,72.118790\n",
        "30,22.000000 ,80.260571\n",
        "\n"
      ]
    },
    {
      "cell_type": "markdown",
      "metadata": {
        "id": "bdgWMywVcFzU"
      },
      "source": [
        "## 思路：\n",
        "单变量线性回归， 预测函数、损失函数、成本函数、预测量与真实值的平方差取均值\n",
        "\n",
        "公式：f(x) = ax + b   (f(x)-y)"
      ]
    },
    {
      "cell_type": "code",
      "metadata": {
        "id": "Dlrm7LFjJzqT"
      },
      "source": [
        "data = pd.read_csv(os.path.join('data','lncome.csv'), encoding='utf-8')\n",
        "plt.scatter(data.Education, data.Income)"
      ],
      "execution_count": null,
      "outputs": []
    },
    {
      "cell_type": "code",
      "metadata": {
        "id": "KDdU72uWcNy9"
      },
      "source": [
        "x = data.Education\n",
        "y = data.Income\n",
        "\n",
        "model = tf.keras.Sequential()\n",
        "model.add(tf.keras.layers.Dense(1, input_shape=(1,)))\n",
        "model.summary()"
      ],
      "execution_count": null,
      "outputs": []
    },
    {
      "cell_type": "code",
      "metadata": {
        "id": "2Ttw_zTqcdgy"
      },
      "source": [
        "# 训练：adam-优化器、loss损失函数、学习速率\n",
        "model.compile(optimizer='adam', loss='mse')\n",
        "history = model.fit(x, y, epochs=10)"
      ],
      "execution_count": null,
      "outputs": []
    },
    {
      "cell_type": "code",
      "metadata": {
        "id": "beUKgLzndU_m"
      },
      "source": [
        "# 预测\n",
        "model.predict(pd.Series([20]))"
      ],
      "execution_count": null,
      "outputs": []
    }
  ]
}