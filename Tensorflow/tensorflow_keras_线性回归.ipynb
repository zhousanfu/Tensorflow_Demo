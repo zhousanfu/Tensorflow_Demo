{
  "nbformat": 4,
  "nbformat_minor": 0,
  "metadata": {
    "colab": {
      "name": "tensorflow keras 线性回归.ipynb",
      "provenance": [],
      "collapsed_sections": [],
      "toc_visible": true,
      "authorship_tag": "ABX9TyMIaPpptgOm8oRDC+V7berw",
      "include_colab_link": true
    },
    "kernelspec": {
      "name": "python3",
      "display_name": "Python 3"
    }
  },
  "cells": [
    {
      "cell_type": "markdown",
      "metadata": {
        "id": "view-in-github",
        "colab_type": "text"
      },
      "source": [
        "<a href=\"https://colab.research.google.com/github/zhousanfu/Tensorflow_Demo/blob/master/tensorflow_keras_%E7%BA%BF%E6%80%A7%E5%9B%9E%E5%BD%92.ipynb\" target=\"_parent\"><img src=\"https://colab.research.google.com/assets/colab-badge.svg\" alt=\"Open In Colab\"/></a>"
      ]
    },
    {
      "cell_type": "code",
      "metadata": {
        "colab": {
          "base_uri": "https://localhost:8080/"
        },
        "id": "bbHseh_UJM_a",
        "outputId": "3d1aa182-1485-4c68-8a1f-51723bba4842"
      },
      "source": [
        "#!pip install tensorflow\n",
        "import tensorflow as tf\n",
        "import pandas as pd\n",
        "import matplotlib.pyplot as plt\n",
        "import os\n",
        "print('tensorflow version {}'.format(tf.__version__))"
      ],
      "execution_count": 1,
      "outputs": [
        {
          "output_type": "stream",
          "text": [
            "tensorflow version 2.4.1\n"
          ],
          "name": "stdout"
        }
      ]
    },
    {
      "cell_type": "markdown",
      "metadata": {
        "id": "bdgWMywVcFzU"
      },
      "source": [
        "## 思路：\n",
        "单变量线性回归， 预测函数、损失函数、成本函数、预测量与真实值的平方差取均值\n",
        "\n",
        "公式：f(x) = ax + b   (f(x)-y)"
      ]
    },
    {
      "cell_type": "code",
      "metadata": {
        "id": "Dlrm7LFjJzqT",
        "outputId": "c4f08616-361a-4e04-b9b2-96ab228d59bc",
        "colab": {
          "base_uri": "https://localhost:8080/",
          "height": 283
        }
      },
      "source": [
        "data = pd.read_csv('https://raw.githubusercontent.com/zhousanfu/Tensorflow_Demo/master/data/lncome.csv', encoding='utf-8')\n",
        "plt.scatter(data.Education, data.Income)"
      ],
      "execution_count": 3,
      "outputs": [
        {
          "output_type": "execute_result",
          "data": {
            "text/plain": [
              "<matplotlib.collections.PathCollection at 0x7fe19b0c9b50>"
            ]
          },
          "metadata": {
            "tags": []
          },
          "execution_count": 3
        },
        {
          "output_type": "display_data",
          "data": {
            "image/png": "[encoded data removed]",
            "text/plain": [
              "<Figure size 432x288 with 1 Axes>"
            ]
          },
          "metadata": {
            "tags": [],
            "needs_background": "light"
          }
        }
      ]
    },
    {
      "cell_type": "code",
      "metadata": {
        "id": "KDdU72uWcNy9",
        "outputId": "6448b7bc-8b40-4340-c674-c453d4b653ba",
        "colab": {
          "base_uri": "https://localhost:8080/"
        }
      },
      "source": [
        "x = data.Education\n",
        "y = data.Income\n",
        "\n",
        "model = tf.keras.Sequential()\n",
        "model.add(tf.keras.layers.Dense(1, input_shape=(1,)))\n",
        "model.summary()"
      ],
      "execution_count": 4,
      "outputs": [
        {
          "output_type": "stream",
          "text": [
            "Model: \"sequential\"\n",
            "_________________________________________________________________\n",
            "Layer (type)                 Output Shape              Param #   \n",
            "=================================================================\n",
            "dense (Dense)                (None, 1)                 2         \n",
            "=================================================================\n",
            "Total params: 2\n",
            "Trainable params: 2\n",
            "Non-trainable params: 0\n",
            "_________________________________________________________________\n"
          ],
          "name": "stdout"
        }
      ]
    },
    {
      "cell_type": "code",
      "metadata": {
        "id": "2Ttw_zTqcdgy",
        "outputId": "e27d4fc3-bb4e-44f1-abfb-c48d3450122a",
        "colab": {
          "base_uri": "https://localhost:8080/"
        }
      },
      "source": [
        "# 训练：adam-优化器、loss损失函数、学习速率\n",
        "model.compile(optimizer='adam', loss='mse')\n",
        "history = model.fit(x, y, epochs=10)"
      ],
      "execution_count": 5,
      "outputs": [
        {
          "output_type": "stream",
          "text": [
            "Epoch 1/10\n",
            "1/1 [==============================] - 1s 511ms/step - loss: 2299.2485\n",
            "Epoch 2/10\n",
            "1/1 [==============================] - 0s 4ms/step - loss: 2297.6245\n",
            "Epoch 3/10\n",
            "1/1 [==============================] - 0s 3ms/step - loss: 2296.0012\n",
            "Epoch 4/10\n",
            "1/1 [==============================] - 0s 5ms/step - loss: 2294.3782\n",
            "Epoch 5/10\n",
            "1/1 [==============================] - 0s 5ms/step - loss: 2292.7563\n",
            "Epoch 6/10\n",
            "1/1 [==============================] - 0s 5ms/step - loss: 2291.1345\n",
            "Epoch 7/10\n",
            "1/1 [==============================] - 0s 3ms/step - loss: 2289.5134\n",
            "Epoch 8/10\n",
            "1/1 [==============================] - 0s 4ms/step - loss: 2287.8936\n",
            "Epoch 9/10\n",
            "1/1 [==============================] - 0s 5ms/step - loss: 2286.2739\n",
            "Epoch 10/10\n",
            "1/1 [==============================] - 0s 4ms/step - loss: 2284.6553\n"
          ],
          "name": "stdout"
        }
      ]
    },
    {
      "cell_type": "code",
      "metadata": {
        "id": "beUKgLzndU_m",
        "outputId": "02170191-9b1e-49f2-956e-45f7ce99e232",
        "colab": {
          "base_uri": "https://localhost:8080/"
        }
      },
      "source": [
        "# 预测\n",
        "model.predict(pd.Series([20]))"
      ],
      "execution_count": 6,
      "outputs": [
        {
          "output_type": "execute_result",
          "data": {
            "text/plain": [
              "array([[7.6662087]], dtype=float32)"
            ]
          },
          "metadata": {
            "tags": []
          },
          "execution_count": 6
        }
      ]
    }
  ]
}