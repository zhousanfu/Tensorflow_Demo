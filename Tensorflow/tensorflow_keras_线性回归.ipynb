{
  "cells": [
    {
      "cell_type": "markdown",
      "metadata": {
        "colab_type": "text",
        "id": "view-in-github"
      },
      "source": [
        "<a href=\"https://colab.research.google.com/github/zhousanfu/Tensorflow_Demo/blob/master/tensorflow_keras_%E7%BA%BF%E6%80%A7%E5%9B%9E%E5%BD%92.ipynb\" target=\"_parent\"><img src=\"https://colab.research.google.com/assets/colab-badge.svg\" alt=\"Open In Colab\"/></a>"
      ]
    },
    {
      "cell_type": "code",
      "execution_count": 1,
      "metadata": {
        "colab": {
          "base_uri": "https://localhost:8080/"
        },
        "id": "bbHseh_UJM_a",
        "outputId": "3d1aa182-1485-4c68-8a1f-51723bba4842"
      },
      "outputs": [
        {
          "name": "stdout",
          "output_type": "stream",
          "text": [
            "tensorflow version 2.7.0\n"
          ]
        }
      ],
      "source": [
        "#!pip install tensorflow\n",
        "import os\n",
        "import pandas as pd\n",
        "import matplotlib.pyplot as plt\n",
        "import tensorflow as tf\n",
        "gpus = tf.config.list_physical_devices(\"GPU\")\n",
        "if gpus:\n",
        "    tf.config.experimental.set_memory_growth(gpus[0], True)  #设置GPU显存用量按需使用\n",
        "    tf.config.set_visible_devices([gpus[0]],\"GPU\")\n",
        "print('tensorflow version {}'.format(tf.__version__))"
      ]
    },
    {
      "cell_type": "code",
      "execution_count": 2,
      "metadata": {
        "colab": {
          "base_uri": "https://localhost:8080/",
          "height": 283
        },
        "id": "Dlrm7LFjJzqT",
        "outputId": "c4f08616-361a-4e04-b9b2-96ab228d59bc"
      },
      "outputs": [
        {
          "data": {
            "text/plain": [
              "<matplotlib.collections.PathCollection at 0x16a663220>"
            ]
          },
          "execution_count": 2,
          "metadata": {},
          "output_type": "execute_result"
        },
        {
          "data": {
            "image/png": "[encoded data removed]",
            "text/plain": [
              "<Figure size 640x480 with 1 Axes>"
            ]
          },
          "metadata": {},
          "output_type": "display_data"
        }
      ],
      "source": [
        "data = pd.read_csv('../data/lncome.csv', encoding='utf-8')\n",
        "plt.scatter(data.Education, data.Income)"
      ]
    },
    {
      "cell_type": "code",
      "execution_count": 4,
      "metadata": {
        "colab": {
          "base_uri": "https://localhost:8080/"
        },
        "id": "KDdU72uWcNy9",
        "outputId": "6448b7bc-8b40-4340-c674-c453d4b653ba"
      },
      "outputs": [
        {
          "name": "stdout",
          "output_type": "stream",
          "text": [
            "Model: \"sequential\"\n",
            "_________________________________________________________________\n",
            " Layer (type)                Output Shape              Param #   \n",
            "=================================================================\n",
            " dense (Dense)               (None, 1)                 2         \n",
            "                                                                 \n",
            "=================================================================\n",
            "Total params: 2\n",
            "Trainable params: 2\n",
            "Non-trainable params: 0\n",
            "_________________________________________________________________\n"
          ]
        }
      ],
      "source": [
        "x = data.Education\n",
        "y = data.Income\n",
        "\n",
        "tf.keras.backend.clear_session()\n",
        "model = tf.keras.Sequential()\n",
        "model.add(tf.keras.layers.Dense(1, input_shape=(1,)))\n",
        "model.summary()"
      ]
    },
    {
      "cell_type": "code",
      "execution_count": 5,
      "metadata": {
        "colab": {
          "base_uri": "https://localhost:8080/"
        },
        "id": "2Ttw_zTqcdgy",
        "outputId": "e27d4fc3-bb4e-44f1-abfb-c48d3450122a"
      },
      "outputs": [
        {
          "name": "stderr",
          "output_type": "stream",
          "text": [
            "2023-03-02 09:32:08.756568: W tensorflow/core/platform/profile_utils/cpu_utils.cc:128] Failed to get CPU frequency: 0 Hz\n"
          ]
        },
        {
          "name": "stdout",
          "output_type": "stream",
          "text": [
            "Epoch 1/10\n",
            "1/1 [==============================] - 0s 200ms/step - loss: 2163.4097\n",
            "Epoch 2/10\n",
            "1/1 [==============================] - 0s 1ms/step - loss: 2161.8367\n",
            "Epoch 3/10\n",
            "1/1 [==============================] - 0s 1ms/step - loss: 2160.2642\n",
            "Epoch 4/10\n",
            "1/1 [==============================] - 0s 2ms/step - loss: 2158.6926\n",
            "Epoch 5/10\n",
            "1/1 [==============================] - 0s 1ms/step - loss: 2157.1216\n",
            "Epoch 6/10\n",
            "1/1 [==============================] - 0s 1ms/step - loss: 2155.5513\n",
            "Epoch 7/10\n",
            "1/1 [==============================] - 0s 1ms/step - loss: 2153.9812\n",
            "Epoch 8/10\n",
            "1/1 [==============================] - 0s 1ms/step - loss: 2152.4124\n",
            "Epoch 9/10\n",
            "1/1 [==============================] - 0s 1ms/step - loss: 2150.8438\n",
            "Epoch 10/10\n",
            "1/1 [==============================] - 0s 2ms/step - loss: 2149.2761\n"
          ]
        }
      ],
      "source": [
        "# 训练：adam-优化器、loss损失函数、学习速率\n",
        "model.compile(optimizer='adam', loss='mse')\n",
        "history = model.fit(x, y, epochs=10)"
      ]
    },
    {
      "cell_type": "code",
      "execution_count": 6,
      "metadata": {
        "colab": {
          "base_uri": "https://localhost:8080/"
        },
        "id": "beUKgLzndU_m",
        "outputId": "02170191-9b1e-49f2-956e-45f7ce99e232"
      },
      "outputs": [
        {
          "data": {
            "text/plain": [
              "array([[9.462387]], dtype=float32)"
            ]
          },
          "execution_count": 6,
          "metadata": {},
          "output_type": "execute_result"
        }
      ],
      "source": [
        "# 预测\n",
        "model.predict(pd.Series([20]))"
      ]
    }
  ],
  "metadata": {
    "colab": {
      "authorship_tag": "ABX9TyMIaPpptgOm8oRDC+V7berw",
      "collapsed_sections": [],
      "include_colab_link": true,
      "name": "tensorflow keras 线性回归.ipynb",
      "provenance": [],
      "toc_visible": true
    },
    "kernelspec": {
      "display_name": "base",
      "language": "python",
      "name": "python3"
    },
    "language_info": {
      "codemirror_mode": {
        "name": "ipython",
        "version": 3
      },
      "file_extension": ".py",
      "mimetype": "text/x-python",
      "name": "python",
      "nbconvert_exporter": "python",
      "pygments_lexer": "ipython3",
      "version": "3.10.8"
    },
    "vscode": {
      "interpreter": {
        "hash": "e7cb1b9ae4d417fedf7f40a8eec98f7cfbd359e096bd857395a915f4609834ce"
      }
    }
  },
  "nbformat": 4,
  "nbformat_minor": 0
}
