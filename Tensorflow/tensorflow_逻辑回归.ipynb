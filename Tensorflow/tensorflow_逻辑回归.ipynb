{
  "cells": [
    {
      "cell_type": "markdown",
      "metadata": {
        "colab_type": "text",
        "id": "view-in-github"
      },
      "source": [
        "<a href=\"https://colab.research.google.com/github/zhousanfu/Tensorflow_Demo/blob/master/tensorflow_%E9%80%BB%E8%BE%91%E5%9B%9E%E5%BD%92.ipynb\" target=\"_parent\"><img src=\"https://colab.research.google.com/assets/colab-badge.svg\" alt=\"Open In Colab\"/></a>"
      ]
    },
    {
      "cell_type": "code",
      "execution_count": 3,
      "metadata": {
        "id": "GBYolpEbG6Nm"
      },
      "outputs": [
        {
          "name": "stdout",
          "output_type": "stream",
          "text": [
            "tensorflow version 2.7.0\n"
          ]
        }
      ],
      "source": [
        "import pandas as pd\n",
        "import matplotlib.pyplot as plt\n",
        "import tensorflow as tf\n",
        "gpus = tf.config.list_physical_devices(\"GPU\")\n",
        "if gpus:\n",
        "    tf.config.experimental.set_memory_growth(gpus[0], True)  #设置GPU显存用量按需使用\n",
        "    tf.config.set_visible_devices([gpus[0]],\"GPU\")\n",
        "print('tensorflow version {}'.format(tf.__version__))"
      ]
    },
    {
      "cell_type": "code",
      "execution_count": 4,
      "metadata": {
        "id": "v4IE6v9fIfsi"
      },
      "outputs": [],
      "source": [
        "data = pd.read_csv('../data/credit-a.csv', header=None)\n",
        "data.head()\n",
        "\n",
        "data.iloc[:,-1].value_counts()\n",
        "\n",
        "x = data.iloc[:, :-1]\n",
        "y = data.iloc[:, -1].replace(-1, 0)"
      ]
    },
    {
      "cell_type": "code",
      "execution_count": 6,
      "metadata": {
        "colab": {
          "base_uri": "https://localhost:8080/"
        },
        "id": "lwnFTu4pJBDO",
        "outputId": "7470e24f-513c-4d9f-bb19-627165a6c85c"
      },
      "outputs": [
        {
          "name": "stdout",
          "output_type": "stream",
          "text": [
            "Model: \"sequential\"\n",
            "_________________________________________________________________\n",
            " Layer (type)                Output Shape              Param #   \n",
            "=================================================================\n",
            " dense (Dense)               (None, 4)                 64        \n",
            "                                                                 \n",
            " dense_1 (Dense)             (None, 4)                 20        \n",
            "                                                                 \n",
            " dense_2 (Dense)             (None, 1)                 5         \n",
            "                                                                 \n",
            "=================================================================\n",
            "Total params: 89\n",
            "Trainable params: 89\n",
            "Non-trainable params: 0\n",
            "_________________________________________________________________\n"
          ]
        }
      ],
      "source": [
        "tf.keras.backend.clear_session()\n",
        "\n",
        "model = tf.keras.Sequential()\n",
        "model.add(tf.keras.layers.Dense(4, input_shape=(15,), activation='relu'))\n",
        "model.add(tf.keras.layers.Dense(4, activation='relu'))\n",
        "model.add(tf.keras.layers.Dense(1, activation='sigmoid'))\n",
        "\n",
        "model.summary()"
      ]
    },
    {
      "cell_type": "code",
      "execution_count": 7,
      "metadata": {
        "colab": {
          "base_uri": "https://localhost:8080/"
        },
        "id": "YBGZEubsKDpv",
        "outputId": "ff4c8605-5a37-4876-fa2c-ab440ddee15f"
      },
      "outputs": [
        {
          "name": "stderr",
          "output_type": "stream",
          "text": [
            "2023-03-02 09:37:36.517126: W tensorflow/core/platform/profile_utils/cpu_utils.cc:128] Failed to get CPU frequency: 0 Hz\n"
          ]
        },
        {
          "name": "stdout",
          "output_type": "stream",
          "text": [
            "Epoch 1/100\n",
            "1/1 [==============================] - 0s 299ms/step - loss: nan - acc: 0.0000e+00\n",
            "Epoch 2/100\n",
            "1/1 [==============================] - 0s 2ms/step - loss: nan - acc: 0.3333\n",
            "Epoch 3/100\n",
            "1/1 [==============================] - 0s 2ms/step - loss: nan - acc: 0.3333\n",
            "Epoch 4/100\n",
            "1/1 [==============================] - 0s 2ms/step - loss: nan - acc: 0.3333\n",
            "Epoch 5/100\n",
            "1/1 [==============================] - 0s 2ms/step - loss: nan - acc: 0.3333\n",
            "Epoch 6/100\n",
            "1/1 [==============================] - 0s 2ms/step - loss: nan - acc: 0.3333\n",
            "Epoch 7/100\n",
            "1/1 [==============================] - 0s 2ms/step - loss: nan - acc: 0.3333\n",
            "Epoch 8/100\n",
            "1/1 [==============================] - 0s 1ms/step - loss: nan - acc: 0.3333\n",
            "Epoch 9/100\n",
            "1/1 [==============================] - 0s 2ms/step - loss: nan - acc: 0.3333\n",
            "Epoch 10/100\n",
            "1/1 [==============================] - 0s 4ms/step - loss: nan - acc: 0.3333\n",
            "Epoch 11/100\n",
            "1/1 [==============================] - 0s 2ms/step - loss: nan - acc: 0.3333\n",
            "Epoch 12/100\n",
            "1/1 [==============================] - 0s 2ms/step - loss: nan - acc: 0.3333\n",
            "Epoch 13/100\n",
            "1/1 [==============================] - 0s 2ms/step - loss: nan - acc: 0.3333\n",
            "Epoch 14/100\n",
            "1/1 [==============================] - 0s 3ms/step - loss: nan - acc: 0.3333\n",
            "Epoch 15/100\n",
            "1/1 [==============================] - 0s 2ms/step - loss: nan - acc: 0.3333\n",
            "Epoch 16/100\n",
            "1/1 [==============================] - 0s 1ms/step - loss: nan - acc: 0.3333\n",
            "Epoch 17/100\n",
            "1/1 [==============================] - 0s 5ms/step - loss: nan - acc: 0.3333\n",
            "Epoch 18/100\n",
            "1/1 [==============================] - 0s 2ms/step - loss: nan - acc: 0.3333\n",
            "Epoch 19/100\n",
            "1/1 [==============================] - 0s 1ms/step - loss: nan - acc: 0.3333\n",
            "Epoch 20/100\n",
            "1/1 [==============================] - 0s 2ms/step - loss: nan - acc: 0.3333\n",
            "Epoch 21/100\n",
            "1/1 [==============================] - 0s 2ms/step - loss: nan - acc: 0.3333\n",
            "Epoch 22/100\n",
            "1/1 [==============================] - 0s 3ms/step - loss: nan - acc: 0.3333\n",
            "Epoch 23/100\n",
            "1/1 [==============================] - 0s 2ms/step - loss: nan - acc: 0.3333\n",
            "Epoch 24/100\n",
            "1/1 [==============================] - 0s 2ms/step - loss: nan - acc: 0.3333\n",
            "Epoch 25/100\n",
            "1/1 [==============================] - 0s 2ms/step - loss: nan - acc: 0.3333\n",
            "Epoch 26/100\n",
            "1/1 [==============================] - 0s 2ms/step - loss: nan - acc: 0.3333\n",
            "Epoch 27/100\n",
            "1/1 [==============================] - 0s 2ms/step - loss: nan - acc: 0.3333\n",
            "Epoch 28/100\n",
            "1/1 [==============================] - 0s 2ms/step - loss: nan - acc: 0.3333\n",
            "Epoch 29/100\n",
            "1/1 [==============================] - 0s 2ms/step - loss: nan - acc: 0.3333\n",
            "Epoch 30/100\n",
            "1/1 [==============================] - 0s 2ms/step - loss: nan - acc: 0.3333\n",
            "Epoch 31/100\n",
            "1/1 [==============================] - 0s 2ms/step - loss: nan - acc: 0.3333\n",
            "Epoch 32/100\n",
            "1/1 [==============================] - 0s 2ms/step - loss: nan - acc: 0.3333\n",
            "Epoch 33/100\n",
            "1/1 [==============================] - 0s 2ms/step - loss: nan - acc: 0.3333\n",
            "Epoch 34/100\n",
            "1/1 [==============================] - 0s 2ms/step - loss: nan - acc: 0.3333\n",
            "Epoch 35/100\n",
            "1/1 [==============================] - 0s 2ms/step - loss: nan - acc: 0.3333\n",
            "Epoch 36/100\n",
            "1/1 [==============================] - 0s 3ms/step - loss: nan - acc: 0.3333\n",
            "Epoch 37/100\n",
            "1/1 [==============================] - 0s 2ms/step - loss: nan - acc: 0.3333\n",
            "Epoch 38/100\n",
            "1/1 [==============================] - 0s 3ms/step - loss: nan - acc: 0.3333\n",
            "Epoch 39/100\n",
            "1/1 [==============================] - 0s 23ms/step - loss: nan - acc: 0.3333\n",
            "Epoch 40/100\n",
            "1/1 [==============================] - 0s 25ms/step - loss: nan - acc: 0.3333\n",
            "Epoch 41/100\n",
            "1/1 [==============================] - 0s 5ms/step - loss: nan - acc: 0.3333\n",
            "Epoch 42/100\n",
            "1/1 [==============================] - 0s 3ms/step - loss: nan - acc: 0.3333\n",
            "Epoch 43/100\n",
            "1/1 [==============================] - 0s 2ms/step - loss: nan - acc: 0.3333\n",
            "Epoch 44/100\n",
            "1/1 [==============================] - 0s 3ms/step - loss: nan - acc: 0.3333\n",
            "Epoch 45/100\n",
            "1/1 [==============================] - 0s 3ms/step - loss: nan - acc: 0.3333\n",
            "Epoch 46/100\n",
            "1/1 [==============================] - 0s 3ms/step - loss: nan - acc: 0.3333\n",
            "Epoch 47/100\n",
            "1/1 [==============================] - 0s 4ms/step - loss: nan - acc: 0.3333\n",
            "Epoch 48/100\n",
            "1/1 [==============================] - 0s 4ms/step - loss: nan - acc: 0.3333\n",
            "Epoch 49/100\n",
            "1/1 [==============================] - 0s 3ms/step - loss: nan - acc: 0.3333\n",
            "Epoch 50/100\n",
            "1/1 [==============================] - 0s 4ms/step - loss: nan - acc: 0.3333\n",
            "Epoch 51/100\n",
            "1/1 [==============================] - 0s 6ms/step - loss: nan - acc: 0.3333\n",
            "Epoch 52/100\n",
            "1/1 [==============================] - 0s 4ms/step - loss: nan - acc: 0.3333\n",
            "Epoch 53/100\n",
            "1/1 [==============================] - 0s 15ms/step - loss: nan - acc: 0.3333\n",
            "Epoch 54/100\n",
            "1/1 [==============================] - 0s 11ms/step - loss: nan - acc: 0.3333\n",
            "Epoch 55/100\n",
            "1/1 [==============================] - 0s 3ms/step - loss: nan - acc: 0.3333\n",
            "Epoch 56/100\n",
            "1/1 [==============================] - 0s 3ms/step - loss: nan - acc: 0.3333\n",
            "Epoch 57/100\n",
            "1/1 [==============================] - 0s 3ms/step - loss: nan - acc: 0.3333\n",
            "Epoch 58/100\n",
            "1/1 [==============================] - 0s 10ms/step - loss: nan - acc: 0.3333\n",
            "Epoch 59/100\n",
            "1/1 [==============================] - 0s 5ms/step - loss: nan - acc: 0.3333\n",
            "Epoch 60/100\n",
            "1/1 [==============================] - 0s 3ms/step - loss: nan - acc: 0.3333\n",
            "Epoch 61/100\n",
            "1/1 [==============================] - 0s 4ms/step - loss: nan - acc: 0.3333\n",
            "Epoch 62/100\n",
            "1/1 [==============================] - 0s 4ms/step - loss: nan - acc: 0.3333\n",
            "Epoch 63/100\n",
            "1/1 [==============================] - 0s 4ms/step - loss: nan - acc: 0.3333\n",
            "Epoch 64/100\n",
            "1/1 [==============================] - 0s 3ms/step - loss: nan - acc: 0.3333\n",
            "Epoch 65/100\n",
            "1/1 [==============================] - 0s 4ms/step - loss: nan - acc: 0.3333\n",
            "Epoch 66/100\n",
            "1/1 [==============================] - 0s 5ms/step - loss: nan - acc: 0.3333\n",
            "Epoch 67/100\n",
            "1/1 [==============================] - 0s 4ms/step - loss: nan - acc: 0.3333\n",
            "Epoch 68/100\n",
            "1/1 [==============================] - 0s 5ms/step - loss: nan - acc: 0.3333\n",
            "Epoch 69/100\n",
            "1/1 [==============================] - 0s 4ms/step - loss: nan - acc: 0.3333\n",
            "Epoch 70/100\n",
            "1/1 [==============================] - 0s 6ms/step - loss: nan - acc: 0.3333\n",
            "Epoch 71/100\n",
            "1/1 [==============================] - 0s 7ms/step - loss: nan - acc: 0.3333\n",
            "Epoch 72/100\n",
            "1/1 [==============================] - 0s 5ms/step - loss: nan - acc: 0.3333\n",
            "Epoch 73/100\n",
            "1/1 [==============================] - 0s 5ms/step - loss: nan - acc: 0.3333\n",
            "Epoch 74/100\n",
            "1/1 [==============================] - 0s 4ms/step - loss: nan - acc: 0.3333\n",
            "Epoch 75/100\n",
            "1/1 [==============================] - 0s 3ms/step - loss: nan - acc: 0.3333\n",
            "Epoch 76/100\n",
            "1/1 [==============================] - 0s 4ms/step - loss: nan - acc: 0.3333\n",
            "Epoch 77/100\n",
            "1/1 [==============================] - 0s 3ms/step - loss: nan - acc: 0.3333\n",
            "Epoch 78/100\n",
            "1/1 [==============================] - 0s 6ms/step - loss: nan - acc: 0.3333\n",
            "Epoch 79/100\n",
            "1/1 [==============================] - 0s 10ms/step - loss: nan - acc: 0.3333\n",
            "Epoch 80/100\n",
            "1/1 [==============================] - 0s 8ms/step - loss: nan - acc: 0.3333\n",
            "Epoch 81/100\n",
            "1/1 [==============================] - 0s 5ms/step - loss: nan - acc: 0.3333\n",
            "Epoch 82/100\n",
            "1/1 [==============================] - 0s 3ms/step - loss: nan - acc: 0.3333\n",
            "Epoch 83/100\n",
            "1/1 [==============================] - 0s 4ms/step - loss: nan - acc: 0.3333\n",
            "Epoch 84/100\n",
            "1/1 [==============================] - 0s 5ms/step - loss: nan - acc: 0.3333\n",
            "Epoch 85/100\n",
            "1/1 [==============================] - 0s 6ms/step - loss: nan - acc: 0.3333\n",
            "Epoch 86/100\n",
            "1/1 [==============================] - 0s 4ms/step - loss: nan - acc: 0.3333\n",
            "Epoch 87/100\n",
            "1/1 [==============================] - 0s 4ms/step - loss: nan - acc: 0.3333\n",
            "Epoch 88/100\n",
            "1/1 [==============================] - 0s 8ms/step - loss: nan - acc: 0.3333\n",
            "Epoch 89/100\n",
            "1/1 [==============================] - 0s 4ms/step - loss: nan - acc: 0.3333\n",
            "Epoch 90/100\n",
            "1/1 [==============================] - 0s 4ms/step - loss: nan - acc: 0.3333\n",
            "Epoch 91/100\n",
            "1/1 [==============================] - 0s 4ms/step - loss: nan - acc: 0.3333\n",
            "Epoch 92/100\n",
            "1/1 [==============================] - 0s 4ms/step - loss: nan - acc: 0.3333\n",
            "Epoch 93/100\n",
            "1/1 [==============================] - 0s 4ms/step - loss: nan - acc: 0.3333\n",
            "Epoch 94/100\n",
            "1/1 [==============================] - 0s 3ms/step - loss: nan - acc: 0.3333\n",
            "Epoch 95/100\n",
            "1/1 [==============================] - 0s 5ms/step - loss: nan - acc: 0.3333\n",
            "Epoch 96/100\n",
            "1/1 [==============================] - 0s 5ms/step - loss: nan - acc: 0.3333\n",
            "Epoch 97/100\n",
            "1/1 [==============================] - 0s 5ms/step - loss: nan - acc: 0.3333\n",
            "Epoch 98/100\n",
            "1/1 [==============================] - 0s 4ms/step - loss: nan - acc: 0.3333\n",
            "Epoch 99/100\n",
            "1/1 [==============================] - 0s 4ms/step - loss: nan - acc: 0.3333\n",
            "Epoch 100/100\n",
            "1/1 [==============================] - 0s 6ms/step - loss: nan - acc: 0.3333\n"
          ]
        }
      ],
      "source": [
        "model.compile(optimizer='adam',\n",
        "              loss='binary_crossentropy',\n",
        "              metrics=['acc']\n",
        "              )\n",
        "\n",
        "history = model.fit(x, y, epochs=100)"
      ]
    },
    {
      "cell_type": "code",
      "execution_count": 8,
      "metadata": {
        "colab": {
          "base_uri": "https://localhost:8080/",
          "height": 282
        },
        "id": "rnIr51NyKoMP",
        "outputId": "d9434335-a695-4144-dd10-7a892571e6d6"
      },
      "outputs": [
        {
          "data": {
            "text/plain": [
              "[<matplotlib.lines.Line2D at 0x15b7e8340>]"
            ]
          },
          "execution_count": 8,
          "metadata": {},
          "output_type": "execute_result"
        },
        {
          "data": {
            "image/png": "[encoded data removed]",
            "text/plain": [
              "<Figure size 640x480 with 1 Axes>"
            ]
          },
          "metadata": {},
          "output_type": "display_data"
        }
      ],
      "source": [
        "history.history.keys()\n",
        "plt.plot(history.epoch, history.history.get('acc'))"
      ]
    }
  ],
  "metadata": {
    "colab": {
      "authorship_tag": "ABX9TyO2B5+u7g7W5VW0ezsd8Mjy",
      "include_colab_link": true,
      "name": "tensorflow 逻辑回归.ipynb",
      "provenance": []
    },
    "kernelspec": {
      "display_name": "base",
      "language": "python",
      "name": "python3"
    },
    "language_info": {
      "codemirror_mode": {
        "name": "ipython",
        "version": 3
      },
      "file_extension": ".py",
      "mimetype": "text/x-python",
      "name": "python",
      "nbconvert_exporter": "python",
      "pygments_lexer": "ipython3",
      "version": "3.10.8"
    },
    "vscode": {
      "interpreter": {
        "hash": "e7cb1b9ae4d417fedf7f40a8eec98f7cfbd359e096bd857395a915f4609834ce"
      }
    }
  },
  "nbformat": 4,
  "nbformat_minor": 0
}
