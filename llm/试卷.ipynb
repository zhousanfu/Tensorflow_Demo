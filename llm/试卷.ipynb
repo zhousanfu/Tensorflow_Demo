{
 "cells": [
  {
   "cell_type": "markdown",
   "metadata": {
    "id": "AMMCMn6g2VIf"
   },
   "source": [
    "### 构造"
   ]
  },
  {
   "cell_type": "code",
   "execution_count": 1,
   "metadata": {},
   "outputs": [
    {
     "name": "stdout",
     "output_type": "stream",
     "text": [
      "Collecting unstructured\n",
      "  Downloading unstructured-0.14.6-py3-none-any.whl.metadata (28 kB)\n",
      "Requirement already satisfied: chardet in /opt/homebrew/Caskroom/miniconda/base/lib/python3.11/site-packages (from unstructured) (4.0.0)\n",
      "Collecting filetype (from unstructured)\n",
      "  Downloading filetype-1.2.0-py2.py3-none-any.whl.metadata (6.5 kB)\n",
      "Requirement already satisfied: python-magic in /opt/homebrew/Caskroom/miniconda/base/lib/python3.11/site-packages (from unstructured) (0.4.27)\n",
      "Requirement already satisfied: lxml in /opt/homebrew/Caskroom/miniconda/base/lib/python3.11/site-packages (from unstructured) (5.1.0)\n",
      "Requirement already satisfied: nltk in /opt/homebrew/Caskroom/miniconda/base/lib/python3.11/site-packages (from unstructured) (3.8.1)\n",
      "Requirement already satisfied: tabulate in /opt/homebrew/Caskroom/miniconda/base/lib/python3.11/site-packages (from unstructured) (0.9.0)\n",
      "Requirement already satisfied: requests in /opt/homebrew/Caskroom/miniconda/base/lib/python3.11/site-packages (from unstructured) (2.31.0)\n",
      "Requirement already satisfied: beautifulsoup4 in /opt/homebrew/Caskroom/miniconda/base/lib/python3.11/site-packages (from unstructured) (4.12.3)\n",
      "Collecting emoji (from unstructured)\n",
      "  Downloading emoji-2.12.1-py3-none-any.whl.metadata (5.4 kB)\n",
      "Requirement already satisfied: dataclasses-json in /opt/homebrew/Caskroom/miniconda/base/lib/python3.11/site-packages (from unstructured) (0.6.4)\n",
      "Collecting python-iso639 (from unstructured)\n",
      "  Downloading python_iso639-2024.4.27-py3-none-any.whl.metadata (13 kB)\n",
      "Collecting langdetect (from unstructured)\n",
      "  Downloading langdetect-1.0.9.tar.gz (981 kB)\n",
      "\u001b[2K     \u001b[90m━━━━━━━━━━━━━━━━━━━━━━━━━━━━━━━━━━━━━\u001b[0m \u001b[32m981.5/981.5 kB\u001b[0m \u001b[31m976.2 kB/s\u001b[0m eta \u001b[36m0:00:00\u001b[0m00:01\u001b[0m00:01\u001b[0m\n",
      "\u001b[?25h  Preparing metadata (setup.py) ... \u001b[?25ldone\n",
      "\u001b[?25hRequirement already satisfied: numpy in /opt/homebrew/Caskroom/miniconda/base/lib/python3.11/site-packages (from unstructured) (1.26.4)\n",
      "Collecting rapidfuzz (from unstructured)\n",
      "  Downloading rapidfuzz-3.9.3-cp311-cp311-macosx_11_0_arm64.whl.metadata (12 kB)\n",
      "Requirement already satisfied: backoff in /opt/homebrew/Caskroom/miniconda/base/lib/python3.11/site-packages (from unstructured) (2.2.1)\n",
      "Requirement already satisfied: typing-extensions in /opt/homebrew/Caskroom/miniconda/base/lib/python3.11/site-packages (from unstructured) (4.11.0)\n",
      "Collecting unstructured-client (from unstructured)\n",
      "  Downloading unstructured_client-0.23.5-py3-none-any.whl.metadata (12 kB)\n",
      "Requirement already satisfied: wrapt in /opt/homebrew/Caskroom/miniconda/base/lib/python3.11/site-packages (from unstructured) (1.16.0)\n",
      "Requirement already satisfied: tqdm in /opt/homebrew/Caskroom/miniconda/base/lib/python3.11/site-packages (from unstructured) (4.65.0)\n",
      "Requirement already satisfied: soupsieve>1.2 in /opt/homebrew/Caskroom/miniconda/base/lib/python3.11/site-packages (from beautifulsoup4->unstructured) (2.5)\n",
      "Requirement already satisfied: marshmallow<4.0.0,>=3.18.0 in /opt/homebrew/Caskroom/miniconda/base/lib/python3.11/site-packages (from dataclasses-json->unstructured) (3.21.1)\n",
      "Requirement already satisfied: typing-inspect<1,>=0.4.0 in /opt/homebrew/Caskroom/miniconda/base/lib/python3.11/site-packages (from dataclasses-json->unstructured) (0.9.0)\n",
      "Requirement already satisfied: six in /opt/homebrew/Caskroom/miniconda/base/lib/python3.11/site-packages (from langdetect->unstructured) (1.16.0)\n",
      "Requirement already satisfied: click in /opt/homebrew/Caskroom/miniconda/base/lib/python3.11/site-packages (from nltk->unstructured) (8.1.7)\n",
      "Requirement already satisfied: joblib in /opt/homebrew/Caskroom/miniconda/base/lib/python3.11/site-packages (from nltk->unstructured) (1.4.0)\n",
      "Requirement already satisfied: regex>=2021.8.3 in /opt/homebrew/Caskroom/miniconda/base/lib/python3.11/site-packages (from nltk->unstructured) (2023.12.25)\n",
      "Requirement already satisfied: charset-normalizer<4,>=2 in /opt/homebrew/Caskroom/miniconda/base/lib/python3.11/site-packages (from requests->unstructured) (2.0.4)\n",
      "Requirement already satisfied: idna<4,>=2.5 in /opt/homebrew/Caskroom/miniconda/base/lib/python3.11/site-packages (from requests->unstructured) (2.10)\n",
      "Requirement already satisfied: urllib3<3,>=1.21.1 in /opt/homebrew/Caskroom/miniconda/base/lib/python3.11/site-packages (from requests->unstructured) (2.2.1)\n",
      "Requirement already satisfied: certifi>=2017.4.17 in /opt/homebrew/Caskroom/miniconda/base/lib/python3.11/site-packages (from requests->unstructured) (2023.7.22)\n",
      "Collecting charset-normalizer<4,>=2 (from requests->unstructured)\n",
      "  Downloading charset_normalizer-3.3.2-cp311-cp311-macosx_11_0_arm64.whl.metadata (33 kB)\n",
      "Collecting deepdiff>=6.0 (from unstructured-client->unstructured)\n",
      "  Downloading deepdiff-7.0.1-py3-none-any.whl.metadata (6.8 kB)\n",
      "Requirement already satisfied: httpx>=0.27.0 in /opt/homebrew/Caskroom/miniconda/base/lib/python3.11/site-packages (from unstructured-client->unstructured) (0.27.0)\n",
      "Collecting idna<4,>=2.5 (from requests->unstructured)\n",
      "  Downloading idna-3.7-py3-none-any.whl.metadata (9.9 kB)\n",
      "Collecting jsonpath-python>=1.0.6 (from unstructured-client->unstructured)\n",
      "  Downloading jsonpath_python-1.0.6-py3-none-any.whl.metadata (12 kB)\n",
      "Requirement already satisfied: mypy-extensions>=1.0.0 in /opt/homebrew/Caskroom/miniconda/base/lib/python3.11/site-packages (from unstructured-client->unstructured) (1.0.0)\n",
      "Requirement already satisfied: nest-asyncio>=1.6.0 in /opt/homebrew/Caskroom/miniconda/base/lib/python3.11/site-packages (from unstructured-client->unstructured) (1.6.0)\n",
      "Requirement already satisfied: packaging>=23.1 in /opt/homebrew/Caskroom/miniconda/base/lib/python3.11/site-packages (from unstructured-client->unstructured) (23.2)\n",
      "Requirement already satisfied: pypdf>=4.0 in /opt/homebrew/Caskroom/miniconda/base/lib/python3.11/site-packages (from unstructured-client->unstructured) (4.2.0)\n",
      "Requirement already satisfied: python-dateutil>=2.8.2 in /opt/homebrew/Caskroom/miniconda/base/lib/python3.11/site-packages (from unstructured-client->unstructured) (2.9.0)\n",
      "Requirement already satisfied: requests-toolbelt>=1.0.0 in /opt/homebrew/Caskroom/miniconda/base/lib/python3.11/site-packages (from unstructured-client->unstructured) (1.0.0)\n",
      "Collecting ordered-set<4.2.0,>=4.1.0 (from deepdiff>=6.0->unstructured-client->unstructured)\n",
      "  Downloading ordered_set-4.1.0-py3-none-any.whl.metadata (5.3 kB)\n",
      "Requirement already satisfied: anyio in /opt/homebrew/Caskroom/miniconda/base/lib/python3.11/site-packages (from httpx>=0.27.0->unstructured-client->unstructured) (4.2.0)\n",
      "Requirement already satisfied: httpcore==1.* in /opt/homebrew/Caskroom/miniconda/base/lib/python3.11/site-packages (from httpx>=0.27.0->unstructured-client->unstructured) (1.0.4)\n",
      "Requirement already satisfied: sniffio in /opt/homebrew/Caskroom/miniconda/base/lib/python3.11/site-packages (from httpx>=0.27.0->unstructured-client->unstructured) (1.3.0)\n",
      "Requirement already satisfied: h11<0.15,>=0.13 in /opt/homebrew/Caskroom/miniconda/base/lib/python3.11/site-packages (from httpcore==1.*->httpx>=0.27.0->unstructured-client->unstructured) (0.14.0)\n",
      "Downloading unstructured-0.14.6-py3-none-any.whl (2.0 MB)\n",
      "\u001b[2K   \u001b[90m━━━━━━━━━━━━━━━━━━━━━━━━━━━━━━━━━━━━━━━━\u001b[0m \u001b[32m2.0/2.0 MB\u001b[0m \u001b[31m5.2 MB/s\u001b[0m eta \u001b[36m0:00:00\u001b[0ma \u001b[36m0:00:01\u001b[0m\n",
      "\u001b[?25hDownloading emoji-2.12.1-py3-none-any.whl (431 kB)\n",
      "\u001b[2K   \u001b[90m━━━━━━━━━━━━━━━━━━━━━━━━━━━━━━━━━━━━━━━━\u001b[0m \u001b[32m431.4/431.4 kB\u001b[0m \u001b[31m6.6 MB/s\u001b[0m eta \u001b[36m0:00:00\u001b[0ma \u001b[36m0:00:01\u001b[0m\n",
      "\u001b[?25hDownloading filetype-1.2.0-py2.py3-none-any.whl (19 kB)\n",
      "Downloading python_iso639-2024.4.27-py3-none-any.whl (274 kB)\n",
      "\u001b[2K   \u001b[90m━━━━━━━━━━━━━━━━━━━━━━━━━━━━━━━━━━━━━━━━\u001b[0m \u001b[32m274.7/274.7 kB\u001b[0m \u001b[31m6.3 MB/s\u001b[0m eta \u001b[36m0:00:00\u001b[0ma \u001b[36m0:00:01\u001b[0m\n",
      "\u001b[?25hDownloading rapidfuzz-3.9.3-cp311-cp311-macosx_11_0_arm64.whl (1.5 MB)\n",
      "\u001b[2K   \u001b[90m━━━━━━━━━━━━━━━━━━━━━━━━━━━━━━━━━━━━━━━━\u001b[0m \u001b[32m1.5/1.5 MB\u001b[0m \u001b[31m5.5 MB/s\u001b[0m eta \u001b[36m0:00:00\u001b[0ma \u001b[36m0:00:01\u001b[0m\n",
      "\u001b[?25hDownloading unstructured_client-0.23.5-py3-none-any.whl (40 kB)\n",
      "\u001b[2K   \u001b[90m━━━━━━━━━━━━━━━━━━━━━━━━━━━━━━━━━━━━━━━━\u001b[0m \u001b[32m41.0/41.0 kB\u001b[0m \u001b[31m3.5 MB/s\u001b[0m eta \u001b[36m0:00:00\u001b[0m\n",
      "\u001b[?25hDownloading charset_normalizer-3.3.2-cp311-cp311-macosx_11_0_arm64.whl (118 kB)\n",
      "\u001b[2K   \u001b[90m━━━━━━━━━━━━━━━━━━━━━━━━━━━━━━━━━━━━━━━━\u001b[0m \u001b[32m119.0/119.0 kB\u001b[0m \u001b[31m3.5 MB/s\u001b[0m eta \u001b[36m0:00:00\u001b[0m\n",
      "\u001b[?25hDownloading deepdiff-7.0.1-py3-none-any.whl (80 kB)\n",
      "\u001b[2K   \u001b[90m━━━━━━━━━━━━━━━━━━━━━━━━━━━━━━━━━━━━━━━━\u001b[0m \u001b[32m80.8/80.8 kB\u001b[0m \u001b[31m2.5 MB/s\u001b[0m eta \u001b[36m0:00:00\u001b[0m\n",
      "\u001b[?25hDownloading idna-3.7-py3-none-any.whl (66 kB)\n",
      "\u001b[2K   \u001b[90m━━━━━━━━━━━━━━━━━━━━━━━━━━━━━━━━━━━━━━━━\u001b[0m \u001b[32m66.8/66.8 kB\u001b[0m \u001b[31m3.3 MB/s\u001b[0m eta \u001b[36m0:00:00\u001b[0m\n",
      "\u001b[?25hDownloading jsonpath_python-1.0.6-py3-none-any.whl (7.6 kB)\n",
      "Downloading ordered_set-4.1.0-py3-none-any.whl (7.6 kB)\n",
      "Building wheels for collected packages: langdetect\n",
      "  Building wheel for langdetect (setup.py) ... \u001b[?25ldone\n",
      "\u001b[?25h  Created wheel for langdetect: filename=langdetect-1.0.9-py3-none-any.whl size=993224 sha256=999638e4e75e0b1683b10732b36be3b1a75e9a63f3806c5ffedca9fd3283f790\n",
      "  Stored in directory: /Users/sanford/Library/Caches/pip/wheels/0a/f2/b2/e5ca405801e05eb7c8ed5b3b4bcf1fcabcd6272c167640072e\n",
      "Successfully built langdetect\n",
      "Installing collected packages: filetype, rapidfuzz, python-iso639, ordered-set, langdetect, jsonpath-python, idna, emoji, charset-normalizer, deepdiff, unstructured-client, unstructured\n",
      "  Attempting uninstall: idna\n",
      "    Found existing installation: idna 2.10\n",
      "    Uninstalling idna-2.10:\n",
      "      Successfully uninstalled idna-2.10\n",
      "  Attempting uninstall: charset-normalizer\n",
      "    Found existing installation: charset-normalizer 2.0.4\n",
      "    Uninstalling charset-normalizer-2.0.4:\n",
      "      Successfully uninstalled charset-normalizer-2.0.4\n",
      "\u001b[31mERROR: pip's dependency resolver does not currently take into account all the packages that are installed. This behaviour is the source of the following dependency conflicts.\n",
      "tts 0.22.0 requires librosa>=0.10.0, but you have librosa 0.8.1 which is incompatible.\n",
      "ane-transformers 0.1.1 requires protobuf<=3.20.1,>=3.1.0, but you have protobuf 4.25.3 which is incompatible.\n",
      "langchain-community 0.0.36 requires langchain-core<0.2.0,>=0.1.48, but you have langchain-core 0.2.5 which is incompatible.\n",
      "roboflow 1.1.29 requires idna==2.10, but you have idna 3.7 which is incompatible.\u001b[0m\u001b[31m\n",
      "\u001b[0mSuccessfully installed charset-normalizer-3.3.2 deepdiff-7.0.1 emoji-2.12.1 filetype-1.2.0 idna-3.7 jsonpath-python-1.0.6 langdetect-1.0.9 ordered-set-4.1.0 python-iso639-2024.4.27 rapidfuzz-3.9.3 unstructured-0.14.6 unstructured-client-0.23.5\n",
      "Collecting python-doc\n",
      "  Downloading python_doc-2020.10.1-py2.py3-none-any.whl.metadata (2.3 kB)\n",
      "Requirement already satisfied: Click>=7.0 in /opt/homebrew/Caskroom/miniconda/base/lib/python3.11/site-packages (from python-doc) (8.1.7)\n",
      "Collecting blurb (from python-doc)\n",
      "  Downloading blurb-1.1.0-py3-none-any.whl.metadata (9.7 kB)\n",
      "Collecting python-docs-theme (from python-doc)\n",
      "  Downloading python_docs_theme-2024.4-py3-none-any.whl.metadata (2.3 kB)\n",
      "Collecting sphinx==2.4.4 (from python-doc)\n",
      "  Downloading Sphinx-2.4.4-py3-none-any.whl.metadata (7.2 kB)\n",
      "Collecting sphinxcontrib-applehelp (from sphinx==2.4.4->python-doc)\n",
      "  Downloading sphinxcontrib_applehelp-1.0.8-py3-none-any.whl.metadata (2.3 kB)\n",
      "Collecting sphinxcontrib-devhelp (from sphinx==2.4.4->python-doc)\n",
      "  Downloading sphinxcontrib_devhelp-1.0.6-py3-none-any.whl.metadata (2.3 kB)\n",
      "Collecting sphinxcontrib-jsmath (from sphinx==2.4.4->python-doc)\n",
      "  Downloading sphinxcontrib_jsmath-1.0.1-py2.py3-none-any.whl.metadata (1.4 kB)\n",
      "Collecting sphinxcontrib-htmlhelp (from sphinx==2.4.4->python-doc)\n",
      "  Downloading sphinxcontrib_htmlhelp-2.0.5-py3-none-any.whl.metadata (2.3 kB)\n",
      "Collecting sphinxcontrib-serializinghtml (from sphinx==2.4.4->python-doc)\n",
      "  Downloading sphinxcontrib_serializinghtml-1.1.10-py3-none-any.whl.metadata (2.4 kB)\n",
      "Collecting sphinxcontrib-qthelp (from sphinx==2.4.4->python-doc)\n",
      "  Downloading sphinxcontrib_qthelp-1.0.7-py3-none-any.whl.metadata (2.2 kB)\n",
      "Requirement already satisfied: Jinja2>=2.3 in /opt/homebrew/Caskroom/miniconda/base/lib/python3.11/site-packages (from sphinx==2.4.4->python-doc) (3.1.3)\n",
      "Requirement already satisfied: Pygments>=2.0 in /opt/homebrew/Caskroom/miniconda/base/lib/python3.11/site-packages (from sphinx==2.4.4->python-doc) (2.17.2)\n",
      "Collecting docutils>=0.12 (from sphinx==2.4.4->python-doc)\n",
      "  Downloading docutils-0.21.2-py3-none-any.whl.metadata (2.8 kB)\n",
      "Collecting snowballstemmer>=1.1 (from sphinx==2.4.4->python-doc)\n",
      "  Downloading snowballstemmer-2.2.0-py2.py3-none-any.whl.metadata (6.5 kB)\n",
      "Requirement already satisfied: babel!=2.0,>=1.3 in /opt/homebrew/Caskroom/miniconda/base/lib/python3.11/site-packages (from sphinx==2.4.4->python-doc) (2.14.0)\n",
      "Collecting alabaster<0.8,>=0.7 (from sphinx==2.4.4->python-doc)\n",
      "  Downloading alabaster-0.7.16-py3-none-any.whl.metadata (2.9 kB)\n",
      "Collecting imagesize (from sphinx==2.4.4->python-doc)\n",
      "  Downloading imagesize-1.4.1-py2.py3-none-any.whl.metadata (1.5 kB)\n",
      "Requirement already satisfied: requests>=2.5.0 in /opt/homebrew/Caskroom/miniconda/base/lib/python3.11/site-packages (from sphinx==2.4.4->python-doc) (2.31.0)\n",
      "Requirement already satisfied: setuptools in /opt/homebrew/Caskroom/miniconda/base/lib/python3.11/site-packages (from sphinx==2.4.4->python-doc) (68.2.2)\n",
      "Requirement already satisfied: packaging in /opt/homebrew/Caskroom/miniconda/base/lib/python3.11/site-packages (from sphinx==2.4.4->python-doc) (23.2)\n",
      "Requirement already satisfied: MarkupSafe>=2.0 in /opt/homebrew/Caskroom/miniconda/base/lib/python3.11/site-packages (from Jinja2>=2.3->sphinx==2.4.4->python-doc) (2.1.4)\n",
      "Requirement already satisfied: charset-normalizer<4,>=2 in /opt/homebrew/Caskroom/miniconda/base/lib/python3.11/site-packages (from requests>=2.5.0->sphinx==2.4.4->python-doc) (3.3.2)\n",
      "Requirement already satisfied: idna<4,>=2.5 in /opt/homebrew/Caskroom/miniconda/base/lib/python3.11/site-packages (from requests>=2.5.0->sphinx==2.4.4->python-doc) (3.7)\n",
      "Requirement already satisfied: urllib3<3,>=1.21.1 in /opt/homebrew/Caskroom/miniconda/base/lib/python3.11/site-packages (from requests>=2.5.0->sphinx==2.4.4->python-doc) (2.2.1)\n",
      "Requirement already satisfied: certifi>=2017.4.17 in /opt/homebrew/Caskroom/miniconda/base/lib/python3.11/site-packages (from requests>=2.5.0->sphinx==2.4.4->python-doc) (2023.7.22)\n",
      "Downloading python_doc-2020.10.1-py2.py3-none-any.whl (39.7 MB)\n",
      "\u001b[2K   \u001b[90m━━━━━━━━━━━━━━━━━━━━━━━━━━━━━━━━━━━━━━━━\u001b[0m \u001b[32m39.7/39.7 MB\u001b[0m \u001b[31m3.7 MB/s\u001b[0m eta \u001b[36m0:00:00\u001b[0m00:01\u001b[0m00:01\u001b[0mm\n",
      "\u001b[?25hDownloading Sphinx-2.4.4-py3-none-any.whl (2.7 MB)\n",
      "\u001b[2K   \u001b[90m━━━━━━━━━━━━━━━━━━━━━━━━━━━━━━━━━━━━━━━━\u001b[0m \u001b[32m2.7/2.7 MB\u001b[0m \u001b[31m4.4 MB/s\u001b[0m eta \u001b[36m0:00:00\u001b[0m00:01\u001b[0m00:01\u001b[0m\n",
      "\u001b[?25hDownloading blurb-1.1.0-py3-none-any.whl (22 kB)\n",
      "Downloading python_docs_theme-2024.4-py3-none-any.whl (19 kB)\n",
      "Downloading alabaster-0.7.16-py3-none-any.whl (13 kB)\n",
      "Downloading docutils-0.21.2-py3-none-any.whl (587 kB)\n",
      "\u001b[2K   \u001b[90m━━━━━━━━━━━━━━━━━━━━━━━━━━━━━━━━━━━━━━━━\u001b[0m \u001b[32m587.4/587.4 kB\u001b[0m \u001b[31m3.4 MB/s\u001b[0m eta \u001b[36m0:00:00\u001b[0ma \u001b[36m0:00:01\u001b[0m\n",
      "\u001b[?25hDownloading snowballstemmer-2.2.0-py2.py3-none-any.whl (93 kB)\n",
      "\u001b[2K   \u001b[90m━━━━━━━━━━━━━━━━━━━━━━━━━━━━━━━━━━━━━━━━\u001b[0m \u001b[32m93.0/93.0 kB\u001b[0m \u001b[31m2.3 MB/s\u001b[0m eta \u001b[36m0:00:00\u001b[0m\n",
      "\u001b[?25hDownloading imagesize-1.4.1-py2.py3-none-any.whl (8.8 kB)\n",
      "Downloading sphinxcontrib_applehelp-1.0.8-py3-none-any.whl (120 kB)\n",
      "\u001b[2K   \u001b[90m━━━━━━━━━━━━━━━━━━━━━━━━━━━━━━━━━━━━━━━━\u001b[0m \u001b[32m120.0/120.0 kB\u001b[0m \u001b[31m4.1 MB/s\u001b[0m eta \u001b[36m0:00:00\u001b[0m\n",
      "\u001b[?25hDownloading sphinxcontrib_devhelp-1.0.6-py3-none-any.whl (83 kB)\n",
      "\u001b[2K   \u001b[90m━━━━━━━━━━━━━━━━━━━━━━━━━━━━━━━━━━━━━━━━\u001b[0m \u001b[32m83.5/83.5 kB\u001b[0m \u001b[31m3.3 MB/s\u001b[0m eta \u001b[36m0:00:00\u001b[0m\n",
      "\u001b[?25hDownloading sphinxcontrib_htmlhelp-2.0.5-py3-none-any.whl (99 kB)\n",
      "\u001b[2K   \u001b[90m━━━━━━━━━━━━━━━━━━━━━━━━━━━━━━━━━━━━━━━━\u001b[0m \u001b[32m99.2/99.2 kB\u001b[0m \u001b[31m3.0 MB/s\u001b[0m eta \u001b[36m0:00:00\u001b[0m\n",
      "\u001b[?25hDownloading sphinxcontrib_jsmath-1.0.1-py2.py3-none-any.whl (5.1 kB)\n",
      "Downloading sphinxcontrib_qthelp-1.0.7-py3-none-any.whl (89 kB)\n",
      "\u001b[2K   \u001b[90m━━━━━━━━━━━━━━━━━━━━━━━━━━━━━━━━━━━━━━━━\u001b[0m \u001b[32m89.4/89.4 kB\u001b[0m \u001b[31m2.3 MB/s\u001b[0m eta \u001b[36m0:00:00\u001b[0ma \u001b[36m0:00:01\u001b[0m\n",
      "\u001b[?25hDownloading sphinxcontrib_serializinghtml-1.1.10-py3-none-any.whl (92 kB)\n",
      "\u001b[2K   \u001b[90m━━━━━━━━━━━━━━━━━━━━━━━━━━━━━━━━━━━━━━━━\u001b[0m \u001b[32m92.7/92.7 kB\u001b[0m \u001b[31m4.6 MB/s\u001b[0m eta \u001b[36m0:00:00\u001b[0m\n",
      "\u001b[?25hInstalling collected packages: snowballstemmer, sphinxcontrib-serializinghtml, sphinxcontrib-qthelp, sphinxcontrib-jsmath, sphinxcontrib-htmlhelp, sphinxcontrib-devhelp, sphinxcontrib-applehelp, python-docs-theme, imagesize, docutils, blurb, alabaster, sphinx, python-doc\n",
      "Successfully installed alabaster-0.7.16 blurb-1.1.0 docutils-0.21.2 imagesize-1.4.1 python-doc-2020.10.1 python-docs-theme-2024.4 snowballstemmer-2.2.0 sphinx-2.4.4 sphinxcontrib-applehelp-1.0.8 sphinxcontrib-devhelp-1.0.6 sphinxcontrib-htmlhelp-2.0.5 sphinxcontrib-jsmath-1.0.1 sphinxcontrib-qthelp-1.0.7 sphinxcontrib-serializinghtml-1.1.10\n",
      "Collecting python-docx\n",
      "  Downloading python_docx-1.1.2-py3-none-any.whl.metadata (2.0 kB)\n",
      "Requirement already satisfied: lxml>=3.1.0 in /opt/homebrew/Caskroom/miniconda/base/lib/python3.11/site-packages (from python-docx) (5.1.0)\n",
      "Requirement already satisfied: typing-extensions>=4.9.0 in /opt/homebrew/Caskroom/miniconda/base/lib/python3.11/site-packages (from python-docx) (4.11.0)\n",
      "Downloading python_docx-1.1.2-py3-none-any.whl (244 kB)\n",
      "\u001b[2K   \u001b[90m━━━━━━━━━━━━━━━━━━━━━━━━━━━━━━━━━━━━━━━\u001b[0m \u001b[32m244.3/244.3 kB\u001b[0m \u001b[31m308.1 kB/s\u001b[0m eta \u001b[36m0:00:00\u001b[0ma \u001b[36m0:00:01\u001b[0m\n",
      "\u001b[?25hInstalling collected packages: python-docx\n",
      "Successfully installed python-docx-1.1.2\n"
     ]
    }
   ],
   "source": [
    "!pip install unstructured\n",
    "!pip install python-doc\n",
    "!pip install python-docx\n"
   ]
  },
  {
   "cell_type": "code",
   "execution_count": 1,
   "metadata": {
    "id": "pyM3WGCe2VIf"
   },
   "outputs": [
    {
     "data": {
      "text/plain": [
       "'mps'"
      ]
     },
     "execution_count": 1,
     "metadata": {},
     "output_type": "execute_result"
    }
   ],
   "source": [
    "import torch\n",
    "import chatglm_cpp\n",
    "from langchain.document_loaders import PyPDFLoader\n",
    "from langchain.document_loaders import DirectoryLoader\n",
    "from langchain.text_splitter import  Language\n",
    "from langchain.text_splitter import RecursiveCharacterTextSplitter\n",
    "from langchain.embeddings.huggingface import HuggingFaceEmbeddings\n",
    "from langchain.vectorstores import Chroma, FAISS\n",
    "from langchain import PromptTemplate\n",
    "from langchain.chains import RetrievalQA\n",
    "\n",
    "\n",
    "DEVICE = \"cuda\" if torch.cuda.is_available() else \"mps\" if torch.backends.mps.is_available() else \"cpu\"\n",
    "if torch.cuda.is_available():\n",
    "    !pip install ctransformers[cuda]\n",
    "    \n",
    "DEVICE = 'cpu'\n",
    "# DEVICE"
   ]
  },
  {
   "cell_type": "markdown",
   "metadata": {},
   "source": [
    "文档解析"
   ]
  },
  {
   "cell_type": "code",
   "execution_count": 2,
   "metadata": {},
   "outputs": [
    {
     "name": "stderr",
     "output_type": "stream",
     "text": [
      "100%|██████████| 1/1 [00:06<00:00,  6.66s/it]\n"
     ]
    },
    {
     "data": {
      "text/plain": [
       "Document(page_content=' \\n \\n  \\n \\n \\n \\n \\n \\n \\n \\n \\n \\n \\n平安银行股份有限公司  \\n \\n2021年年度报告  \\n \\n  \\n', metadata={'source': 'data/pdf/000001∆Ω∞≤“¯––_2021ƒÍƒÍ∂»±®∏Ê_2022-03-10_SZZB.PDF', 'page': 0})"
      ]
     },
     "execution_count": 2,
     "metadata": {},
     "output_type": "execute_result"
    }
   ],
   "source": [
    "loader = DirectoryLoader(\n",
    "    'data/pdf',\n",
    "    glob=\"*.PDF\",\n",
    "    loader_cls=PyPDFLoader,\n",
    "    show_progress=True,\n",
    "    use_multithreading=True\n",
    "    )\n",
    "\n",
    "documents = []\n",
    "for file in loader.lazy_load():\n",
    "    try:\n",
    "        documents.append(file)\n",
    "    except:\n",
    "        print(file)\n",
    "\n",
    "# loader = DirectoryLoader(\n",
    "#     'data/pdf',\n",
    "#     glob=\"*.PDF\",\n",
    "#     loader_cls=PyPDFLoader,\n",
    "#     show_progress=True,\n",
    "#     use_multithreading=True\n",
    "#     )\n",
    "# documents = loader.load()\n",
    "\n",
    "documents[0]"
   ]
  },
  {
   "cell_type": "markdown",
   "metadata": {},
   "source": [
    "文档分割"
   ]
  },
  {
   "cell_type": "code",
   "execution_count": 3,
   "metadata": {
    "id": "JV1QmpVX2VIj"
   },
   "outputs": [
    {
     "data": {
      "text/plain": [
       "[Document(page_content='平安银行股份有限公司  \\n \\n2021年年度报告', metadata={'source': 'data/pdf/000001∆Ω∞≤“¯––_2021ƒÍƒÍ∂»±®∏Ê_2022-03-10_SZZB.PDF', 'page': 0}),\n",
       " Document(page_content='重要提示  \\n1 \\n 平安银行股份有限公司  \\n2021年年度报告 \\n重要提示  \\n1、本行董事会、监事会及董事、监事、高级管理人员保证年度报告内容的真实、准确、完整，\\n不存在虚假记载、误导性陈述或重大遗漏，并承担个别和连带的法律责任。  \\n2、本行董事长谢永林、 行长胡跃飞、 副行长兼首席财务官项有志、 会计机构负责人朱培卿声明：\\n保证本年度报告中财务报告的真实、准确、完整。  \\n3、本行第十一届董事会第 二十九次会议审议了 2021年年度报告正文及摘要。 本次董事会会议\\n应出席董事 14人，实到董事14人。会议一致同意本报告。  \\n4、安永华明 会计师事务所（特殊普通合伙）根据国内审计准则对 本行编制的 2021年度财务报\\n告进行了审计，并出具了标准无保留意见的审计报告。  \\n5、本报告涉及未来计划等前瞻性陈述不构成本行对投资者的实质承诺，投资者及相关人士均应\\n当对此保持足够的风险认识，并且应当理解计划、预测与承诺之间的差异。  \\n6、本行请投资者认真阅读本年度报告全文，并特别注意下列风险因素：本 行经营中面临的风险\\n主要有信用风险、市场风险、流动性风险、操作风险、国别风险、银行账簿 利率风险、声誉风险、\\n战略风险、信息科技风险以及法律和合规风险等，本 行已经采取各种措施，有效管理和控制各类经\\n营风险，具体详见 “第三章  3.6 风险管理 ”。 \\n7、本行经本次董事会审议通过的普通股利润分配预案为：以本行 2021年12月31日的总股本\\n19,405,918,198 股为基数，向全体股东每 10股派发现金 股利人民币 2.28元（含税） ，不送红股，不以\\n公积金转增股本。', metadata={'source': 'data/pdf/000001∆Ω∞≤“¯––_2021ƒÍƒÍ∂»±®∏Ê_2022-03-10_SZZB.PDF', 'page': 1}),\n",
       " Document(page_content='目  录 \\n2 \\n 平安银行股份有限公司  \\n2021年年度报告 \\n目  录 \\n重要提示 ................................ ................................ ................................ ................................ ................................  1 \\n目  录 ................................ ................................ ................................ ................................ ................................ .... 2 \\n备查文件目录  ................................ ................................ ................................ ................................ .......................  3 \\n释  义 ................................ ................................ ................................ ................................ ................................ .... 4 \\n董事长致辞  ................................ ................................ ................................ ................................ ...........................  5 \\n第一章   公司简介  ................................ ................................ ................................ ................................ ...............  7 \\n第二章   会计数据和财务指标  ................................ ................................ ................................ ........................  17 \\n第三章   管理层讨论与分析  ................................ ................................ ................................ ............................  25 \\n3.1 总体经营情况  ................................ ................................ ................................ ................................ ....... 25 \\n3.2 财务报表分析  ................................ ................................ ................................ ................................ ....... 26 \\n3.3 主要业务讨论与分析  ................................ ................................ ................................ ...........................  45 \\n3.4 经营中关注的重点  ................................ ................................ ................................ ...............................  63 \\n3.5 业务创新  ................................ ................................ ................................ ................................ ................  68 \\n3.6 风险管理  ................................ ................................ ................................ ................................ ................  69 \\n3.7 本行未来展望  ................................ ................................ ................................ ................................ ....... 76 \\n第四章   公司治理  ................................ ................................ ................................ ................................ .............  79 \\n第五章   环境和社会责任  ................................ ................................ ................................ ..............................  107 \\n第六章   重要事项  ................................ ................................ ................................ ................................ ...........  112', metadata={'source': 'data/pdf/000001∆Ω∞≤“¯––_2021ƒÍƒÍ∂»±®∏Ê_2022-03-10_SZZB.PDF', 'page': 2})]"
      ]
     },
     "execution_count": 3,
     "metadata": {},
     "output_type": "execute_result"
    }
   ],
   "source": [
    "text_splitter = RecursiveCharacterTextSplitter(chunk_size=3000, chunk_overlap=200)\n",
    "split_docs = text_splitter.split_documents(documents)\n",
    "\n",
    "split_docs[:3]"
   ]
  },
  {
   "cell_type": "markdown",
   "metadata": {},
   "source": [
    "向量嵌入"
   ]
  },
  {
   "cell_type": "code",
   "execution_count": 4,
   "metadata": {},
   "outputs": [
    {
     "name": "stderr",
     "output_type": "stream",
     "text": [
      "/opt/homebrew/Caskroom/miniconda/base/lib/python3.11/site-packages/sentence_transformers/cross_encoder/CrossEncoder.py:11: TqdmWarning: IProgress not found. Please update jupyter and ipywidgets. See https://ipywidgets.readthedocs.io/en/stable/user_install.html\n",
      "  from tqdm.autonotebook import tqdm, trange\n",
      "No sentence-transformers model found with name model/text2vec-base-chinese. Creating a new one with mean pooling.\n"
     ]
    },
    {
     "data": {
      "text/plain": [
       "[0.06715575605630875, 0.012016350403428078, -0.023342687636613846]"
      ]
     },
     "execution_count": 4,
     "metadata": {},
     "output_type": "execute_result"
    }
   ],
   "source": [
    "embedding_path = \"model/text2vec-base-chinese\"\n",
    "model_kwargs = {'device': DEVICE}\n",
    "encode_kwargs = {'normalize_embeddings': True}\n",
    "embeddings = HuggingFaceEmbeddings(\n",
    "    model_name=embedding_path,\n",
    "    model_kwargs=model_kwargs,\n",
    "    encode_kwargs=encode_kwargs,\n",
    "    cache_folder=embedding_path\n",
    ")\n",
    "\n",
    "query_result = embeddings.embed_query(\"平安银行股份有限公司\")\n",
    "query_result[:3]"
   ]
  },
  {
   "cell_type": "markdown",
   "metadata": {},
   "source": [
    "向量保存"
   ]
  },
  {
   "cell_type": "code",
   "execution_count": null,
   "metadata": {
    "id": "j2Q1rroi2VIk"
   },
   "outputs": [],
   "source": [
    "vs_path = 'model/vectors/faiss'\n",
    "db = FAISS.from_documents(split_docs, embeddings)\n",
    "db.save_local(vs_path)\n"
   ]
  },
  {
   "cell_type": "markdown",
   "metadata": {},
   "source": [
    "检索"
   ]
  },
  {
   "cell_type": "code",
   "execution_count": 6,
   "metadata": {},
   "outputs": [
    {
     "name": "stdout",
     "output_type": "stream",
     "text": [
      "检索到的知识=2021年年度报告  \n",
      "3 / 325 \n",
      " 十、 重大风险提示  \n",
      "公司在“管理层讨论与分析 ”一节, from=None, socre=0.946\n",
      "检索到的知识=2021年年度报告  \n",
      "3 / 261 \n",
      " 十、 重大风险提示  \n",
      "公司已在本 报告中详细描述存在的, from=None, socre=1.005\n",
      "检索到的知识=2021年年度报告  \n",
      "3 / 193 \n",
      " 十、 重大风险提示  \n",
      "报告期内，公司不存在对生产经营产, from=None, socre=1.019\n"
     ]
    }
   ],
   "source": [
    "vs_path = 'model/vectors/faiss'\n",
    "vector_store = FAISS.load_local(\n",
    "    vs_path,\n",
    "    embeddings,\n",
    "    allow_dangerous_deserialization=True\n",
    "    )\n",
    "\n",
    "related_docs_with_score = vector_store.similarity_search_with_score(query=\"重要提示\", k=3)\n",
    "context = \"\"\n",
    "for pack in related_docs_with_score:\n",
    "    doc, socre = pack\n",
    "    content = doc.page_content\n",
    "    print(\"检索到的知识=%s, from=%s, socre=%.3f\"%(content[:50], doc.metadata.get(\"from\"), socre))\n",
    "    context += content"
   ]
  },
  {
   "cell_type": "markdown",
   "metadata": {},
   "source": [
    "### 使用"
   ]
  },
  {
   "cell_type": "markdown",
   "metadata": {
    "id": "TSgzGc9lQNsj"
   },
   "source": [
    "ChatGLM3"
   ]
  },
  {
   "cell_type": "code",
   "execution_count": null,
   "metadata": {
    "id": "O2d-ulb1ZYIz"
   },
   "outputs": [],
   "source": [
    "# chatglm_path = \"model/chatglm/chatglm3-6b-q4_0-ggml.bin\"\n",
    "# pipeline = chatglm_cpp.Pipeline(chatglm_path)\n",
    "# pipeline.chat([chatglm_cpp.ChatMessage(role=\"user\", content=\"你好\")])"
   ]
  },
  {
   "cell_type": "code",
   "execution_count": null,
   "metadata": {
    "colab": {
     "base_uri": "https://localhost:8080/"
    },
    "id": "PPVTDtlsIwrZ",
    "outputId": "91088312-c154-43b5-e21a-1b848dc1ba8c"
   },
   "outputs": [],
   "source": [
    "# %%script bash\n",
    "# CMAKE_ARGS=\"-DGGML_CUBLAS=ON\" pip install -U chatglm-cpp"
   ]
  },
  {
   "cell_type": "markdown",
   "metadata": {},
   "source": [
    "后台chatGLM3服务"
   ]
  },
  {
   "cell_type": "code",
   "execution_count": 3,
   "metadata": {
    "id": "1pz0SCBQ5ghj"
   },
   "outputs": [],
   "source": [
    "%%script bash --bg\n",
    "MODEL=model/chatglm/chatglm3-6b-q4_0-ggml.bin uvicorn chatglm_cpp.langchain_api:app --host 127.0.0.1 --port 8000 &"
   ]
  },
  {
   "cell_type": "code",
   "execution_count": 7,
   "metadata": {
    "colab": {
     "base_uri": "https://localhost:8080/",
     "height": 35
    },
    "id": "WZSzwn7dUb1k",
    "outputId": "4b5e5794-2cc2-409f-96e8-492dab8297d7"
   },
   "outputs": [
    {
     "name": "stderr",
     "output_type": "stream",
     "text": [
      "/opt/homebrew/Caskroom/miniconda/base/lib/python3.11/site-packages/langchain_core/_api/deprecation.py:119: LangChainDeprecationWarning: The method `BaseLLM.predict` was deprecated in langchain-core 0.1.7 and will be removed in 0.3.0. Use invoke instead.\n",
      "  warn_deprecated(\n"
     ]
    },
    {
     "data": {
      "text/plain": [
       "'你好👋！我是人工智能助手 ChatGLM3-6B，很高兴见到你，欢迎问我任何问题。'"
      ]
     },
     "execution_count": 7,
     "metadata": {},
     "output_type": "execute_result"
    }
   ],
   "source": [
    "from langchain.llms import ChatGLM\n",
    "llm = ChatGLM(endpoint_url=\"http://127.0.0.1:8000\")\n",
    "llm.predict(\"你好\")"
   ]
  },
  {
   "cell_type": "markdown",
   "metadata": {
    "id": "KggBg1equF9v"
   },
   "source": [
    "提示词"
   ]
  },
  {
   "cell_type": "code",
   "execution_count": 4,
   "metadata": {
    "id": "ZuZYK0MGrtFd"
   },
   "outputs": [],
   "source": [
    "template =\"\"\"根据下面上下文（context）内容回答问题。\n",
    "如果你不知道答案，就回答不知道，不要试图编造答案。\n",
    "答案最多3句话，保持答案简洁。\n",
    "总是在答案结束时说“谢谢你的提问！”\n",
    "{context}\n",
    "问题：{question}\n",
    "答案：\"\"\"\n",
    "QA_CHAIN_PROMPT = PromptTemplate.from_template(template)"
   ]
  },
  {
   "cell_type": "markdown",
   "metadata": {
    "id": "mGu7T2DRyTUc"
   },
   "source": [
    "检索问答"
   ]
  },
  {
   "cell_type": "code",
   "execution_count": 9,
   "metadata": {
    "colab": {
     "base_uri": "https://localhost:8080/"
    },
    "id": "JrYoQ816J27E",
    "outputId": "36e022c5-066b-4357-fc76-be638ce7c317"
   },
   "outputs": [
    {
     "name": "stderr",
     "output_type": "stream",
     "text": [
      "No sentence-transformers model found with name model/text2vec-base-chinese. Creating a new one with mean pooling.\n"
     ]
    }
   ],
   "source": [
    "from langchain.llms import ChatGLM\n",
    "\n",
    "embedding_path = \"model/text2vec-base-chinese\"\n",
    "model_kwargs = {'device': DEVICE}\n",
    "encode_kwargs = {'normalize_embeddings': True}\n",
    "embeddings = HuggingFaceEmbeddings(\n",
    "    model_name=embedding_path,\n",
    "    model_kwargs=model_kwargs,\n",
    "    encode_kwargs=encode_kwargs,\n",
    "    cache_folder=embedding_path\n",
    ")\n",
    "\n",
    "vs_path = 'model/vectors/faiss'\n",
    "vectordb = FAISS.load_local(\n",
    "    vs_path,\n",
    "    embeddings,\n",
    "    allow_dangerous_deserialization=True\n",
    "    )\n",
    "\n",
    "qa_chat = RetrievalQA.from_chain_type(\n",
    "    llm=ChatGLM(endpoint_url=\"http://127.0.0.1:8000\"),\n",
    "    chain_type='stuff',\n",
    "    retriever=vectordb.as_retriever(search_kwargs={'k':2}),\n",
    "    return_source_documents=True,\n",
    "    chain_type_kwargs={'prompt': QA_CHAIN_PROMPT}\n",
    "    )\n"
   ]
  },
  {
   "cell_type": "code",
   "execution_count": 10,
   "metadata": {},
   "outputs": [
    {
     "name": "stderr",
     "output_type": "stream",
     "text": [
      "/opt/homebrew/Caskroom/miniconda/base/lib/python3.11/site-packages/langchain_core/_api/deprecation.py:119: LangChainDeprecationWarning: The method `Chain.__call__` was deprecated in langchain 0.1.0 and will be removed in 0.3.0. Use invoke instead.\n",
      "  warn_deprecated(\n"
     ]
    },
    {
     "data": {
      "text/plain": [
       "{'query': '惠州攸特指什么?',\n",
       " 'result': '惠州攸特企业管理中心（有限合伙）是一家位于中国惠州市的企业管理公司，其主要业务可能与企业管理、投资管理等相关。',\n",
       " 'source_documents': [Document(page_content='湖南凯美特气体股份有限公司 2021年年度报告全文  \\n5 释义  \\n释义项  指 释义内容  \\n本公司、公司  指 湖南凯美特气体股份有限公司  \\n凯美特有限  指 湖南凯美特干冰有限公司、湖南凯美特气体有限公司  \\n惠州凯美特  指 惠州凯美特气体有限公司  \\n安庆凯美特  指 安庆凯美特气体有限公司  \\n长岭凯美特  指 岳阳长岭凯美特气体有限公司  \\n湖南凯美特特气分公司  指 湖南凯美特气体股份有限公司特气分公司  \\n安庆凯美特特气分公司  指 安庆凯美特气体有限公司特气分公司  \\n海南凯美特  指 海南凯美特气体有限公司  \\n福建凯美特  指 福建凯美特气体有限公司  \\n凯美特电子特种气体公司  指 岳阳凯美特电子特种稀有气体有限公司  \\n浩讯科技、控股股东  指 浩讯科技有限公司  \\n新疆信安  指 新疆信安创业投资合伙企业（有限合伙）  \\n财信常勤壹号  指 湖南省财信常勤壹号基金合伙企业 (有限合伙 ) \\n财信资产  指 湖南省财信资产管理有限公司', metadata={'source': 'data/2021上市企业企业年报/002549ø≠√¿Ãÿ∆¯_2021ƒÍƒÍ∂»±®∏Ê_2022-03-18_SZZB.PDF', 'page': 4}),\n",
       "  Document(page_content='2021年年度报告  \\n5 / 297 \\n  \\n第一节 释义  \\n一、 释义 \\n在本报告书中，除非文义另有所指，下列词语具有如下含义：  \\n常用词语释义  \\n惠泰医疗、本公\\n司、公司  指 深圳惠泰医疗器械股份有限公司  \\n湖南埃普特  指 湖南埃普特医疗器械有限公司，惠泰医疗全资子公司  \\n上海宏桐 、宏桐\\n实业 指 上海宏桐实业有限公司，惠泰医疗控股子公司  \\n惠泰观澜分公司  指 深圳惠泰医疗器械股份有限公司观澜分公司  \\n启明维创  指 启明维创（上海）股权投资中心（有限合伙）  \\nQM33  指 QM33 LIMITED  \\n启华三期  指 苏州工业园区启华三期投资中心（有限合伙）  \\n启明融科  指 苏州工业园区启明融科股权投资合伙企业（有限合伙）  \\n启明创智  指 苏州启明创智股权投资合伙企业（有限合伙）  \\n启明融盈  指 苏州启明融盈创业投资合伙企业（有限合伙）  \\n东证慧象  指 南通东证慧象股权投资中心（有限合伙）  \\n东证富象  指 南通东证富象股权投资中心（有限合伙）  \\n南通富星  指 南通富星企业管理中心（有限合伙）  \\n深圳惠深  指 深圳市惠深企业管理中心（有限合伙），惠泰医疗员工持股平台  \\n南通惠圳  指 南通惠圳企业管理中心（有限合伙），惠泰医疗员工持股平台  \\n南通惠市  指 南通惠市企业管理中心（有限合伙），惠泰医疗员工持股平台  \\n南通惠惠  指 南通惠惠企业管理中心（有限合伙），惠泰医疗员工持股平台  \\n强生 指 强生公司（ Johnson&Johnson ），成立于 1886年，是一家医疗保\\n健产品、医疗器材及药物的制造商，总部位于美国新泽西州  \\n雅培 指 雅培公司（ Abbott）成立于 1888年，是一家医疗保健公司，总部\\n位于美国芝加哥  \\n波士顿科学  指 Boston Scientific Corporation ，成立于 1979年，总部设在美国马萨\\n诸塞州纳提克市，在中国注册名称：波科国际医疗贸易有限公司  \\n泰尔茂 指 泰尔茂株式会社 (Terumo Corporation )成立于 1921年，总部位于\\n日本东京，致力于在医疗领域提供有价值的商品和服务，回报患\\n者的信任与支持，对社会做出贡献。  \\n《公司法》  指 《中华人民共和国公司法》  \\n《证券法》  指 《中华人民共和国证券法》  \\n《公司章程》  指 现行有效的《深圳惠泰医疗器械股份有限公司章程》  \\n弗若斯特沙利文  指 弗若斯特沙利文（北京）咨询有限公司，是一家第三方市场调研\\n咨询公司  \\n近三年 指 2019年、 2020年、 2021年 \\n报告期、本报告\\n期、本期  指 2021年1月1日-2021年12月31日 \\n元、万元、亿元  指 人民币元、人民币万元、人民币亿元  \\n冠脉 指 冠状动脉，为心脏本身供应营养物质和氧气的动脉血管  \\n电生理 指 心脏电生理技术，以多种形式的能量刺激生物体，测量、记录和\\n分析生物体发生的电现象和生物体的电特性的技术  \\nPCI 指 英语 Percutaneous Coronary Intervention 的缩写，经皮冠状动脉介\\n入治疗', metadata={'source': 'data/2021上市企业企业年报/688617ª›Ã©“Ω¡∆_2021ƒÍƒÍ∂»±®∏Ê_2022-03-11_SHKCB.PDF', 'page': 4})]}"
      ]
     },
     "execution_count": 10,
     "metadata": {},
     "output_type": "execute_result"
    }
   ],
   "source": [
    "qa_chat(\"惠州攸特指什么?\")"
   ]
  },
  {
   "cell_type": "code",
   "execution_count": 12,
   "metadata": {},
   "outputs": [
    {
     "data": {
      "text/plain": [
       "{'query': '泓禧科技公司的联系方式',\n",
       " 'result': '抱歉，关于泓禧科技公司的联系方式，您在提供的信息中并未找到相关内容。请您提供更多关于泓禧科技公司的信息，以便为您提供更准确的联系方式。',\n",
       " 'source_documents': [Document(page_content='2021年年度报告  \\n4 / 201 \\n 第一节 释义  \\n一、 释义 \\n在本报告书中，除非文义另有所指，下列词语具有如下含义：  \\n常用词语释义  \\n高科磁业  指 宁波韵升高科磁业有限公司  \\n韵升强磁  指 宁波韵升强磁材料有限公司  \\n包头强磁  指 包头韵升强磁材料有限公司  \\n磁性材料  指 宁波韵升磁性材料有限公司  \\n磁体元件  指 宁波韵升磁体元件技术有限公司  \\n粘结磁体  指 宁波韵升粘结磁体有限公司  \\n特种金属  指 宁波韵升特种金属材料有限公司  \\n盛磁科技  指 北京盛磁科技有限公司  \\n宁波健信  指 宁波健信核磁技术有限公司  \\n会计师事务所  指 天衡会计师事务所（特殊普通合伙）  \\n上交所 指 上海证券交易所  \\n中国证监会  指 中国证券监督管理委员会  \\n \\n \\n第二节 公司简介和主要财务指标  \\n一、 公司信息  \\n公司的中文名称  宁波韵升股份有限公司  \\n公司的中文简称  宁波韵升  \\n公司的外文名称  NINGBO YUNSHENG CO.,LTD.  \\n公司的法定代表人  竺晓东 \\n \\n二、 联系人和联系方式  \\n 董事会秘书  证券事务代表  \\n姓名 项超麟 赵佳凯 \\n联系地址  浙江省宁波市鄞州区扬帆路 1号 浙江省宁波市鄞州区扬帆路 1号 \\n电话 0574-87776939  0574-87776939  \\n传真 0574-87776466  0574-87776466  \\n电子信箱  xiangcl@ysweb.com  zhaojk@ysweb.com  \\n \\n三、 基本情况 简介 \\n公司注册地址  浙江省宁波市鄞州区民安路 348号 \\n公司办公地址  浙江省宁波市鄞州区扬帆路 1号 \\n公司办公地址的邮政编码  315040 \\n公司网址  www.yunsheng.com  \\n电子信箱  stock@ysweb.com  \\n \\n四、 信息披露及备置地点  \\n公司披露年度报告的媒体 名称及网址 上海证券报  \\n公司披露年度报告的证券交易所 网址 www.sse.com.cn  \\n公司年度报告备置地点  公司董事会办公室', metadata={'source': 'data/2021上市企业企业年报/600366ƒ˛≤®‘œ…˝_ƒ˛≤®‘œ…˝2021ƒÍƒÍ∂»±®∏Ê_2022-03-16_SHZB.PDF', 'page': 3}),\n",
       "  Document(page_content='盈方微电子股份有限公司 2021年年度报告全文  \\n6 第二节  公司简介和主要财务指标  \\n一、公司信息  \\n股票简称  *ST盈方  股票代码  000670  \\n股票上市证券交易所  深圳证券交易所  \\n公司的中文名称  盈方微电子股份有限公司  \\n公司的中文简称  盈方微  \\n公司的外文名称（如有）  Infotmic Co.,Ltd  \\n公司的法定代表人  张韵  \\n注册地址  湖北省荆州市沙市区北京西路 440号 \\n注册地址的邮政编码  434000  \\n公司注册地址历史变更情况  无变化  \\n办公地址  上海市长宁区天山西路 799号5楼03/05单元  \\n办公地址的邮政编码  200335  \\n公司网址  www.infotm.com  \\n电子信箱  infotm@infotm.com  \\n二、联系人和联系方式  \\n 董事会秘书  证券事务代表  \\n姓名  王芳  代博  \\n联系地址  上海市长宁区天山西路 799号5楼03/05单元  上海市长宁区天山西路 799号5楼03/05单元  \\n电话  021-58853066  021-58853066  \\n传真  021-58853100  021-58853100  \\n电子信箱  infotm@infotm.com  infotm@infotm.com  \\n三、信息披露及备置地点  \\n公司披露年度报告的证券交易所网站  《证券时报》 《中国证券报》《上海证券报》《证券日报》  \\n公司披露年度报告的媒体名称及网址  www.cninfo.com.cn  \\n公司年度报告备置地点  上海市长宁区天山西路 799号5楼03/05单元', metadata={'source': 'data/2021上市企业企业年报/000670ST”Ø∑Ω_2021ƒÍƒÍ∂»±®∏Ê_2022-02-15_SZZB.PDF', 'page': 5})]}"
      ]
     },
     "execution_count": 12,
     "metadata": {},
     "output_type": "execute_result"
    }
   ],
   "source": [
    "qa_chat(\"泓禧科技公司的联系方式\")"
   ]
  }
 ],
 "metadata": {
  "colab": {
   "collapsed_sections": [
    "aUWP4xNR_Uuf"
   ],
   "provenance": []
  },
  "kernelspec": {
   "display_name": "base",
   "language": "python",
   "name": "python3"
  },
  "language_info": {
   "codemirror_mode": {
    "name": "ipython",
    "version": 3
   },
   "file_extension": ".py",
   "mimetype": "text/x-python",
   "name": "python",
   "nbconvert_exporter": "python",
   "pygments_lexer": "ipython3",
   "version": "3.11.8"
  }
 },
 "nbformat": 4,
 "nbformat_minor": 4
}
