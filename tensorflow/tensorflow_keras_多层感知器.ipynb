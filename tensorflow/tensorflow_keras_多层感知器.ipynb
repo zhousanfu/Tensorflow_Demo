{
  "cells": [
    {
      "cell_type": "markdown",
      "metadata": {
        "colab_type": "text",
        "id": "view-in-github"
      },
      "source": [
        "<a href=\"https://colab.research.google.com/github/zhousanfu/Tensorflow_Demo/blob/master/tensorflow_keras_%E5%A4%9A%E5%B1%82%E6%84%9F%E7%9F%A5%E5%99%A8.ipynb\" target=\"_parent\"><img src=\"https://colab.research.google.com/assets/colab-badge.svg\" alt=\"Open In Colab\"/></a>"
      ]
    },
    {
      "cell_type": "code",
      "execution_count": 13,
      "metadata": {
        "id": "J7oEAXQrg6Qz"
      },
      "outputs": [],
      "source": [
        "import os\n",
        "import pandas as pd\n",
        "import tensorflow as tf\n",
        "gpus = tf.config.list_physical_devices(\"GPU\")\n",
        "if gpus:\n",
        "    tf.config.experimental.set_memory_growth(gpus[0], True)  #设置GPU显存用量按需使用\n",
        "    tf.config.set_visible_devices([gpus[0]],\"GPU\")"
      ]
    },
    {
      "cell_type": "code",
      "execution_count": 5,
      "metadata": {
        "colab": {
          "base_uri": "https://localhost:8080/"
        },
        "id": "gCi3AD37lzRi",
        "outputId": "feac0980-1933-4f82-b622-0d2e49eb0020"
      },
      "outputs": [
        {
          "name": "stdout",
          "output_type": "stream",
          "text": [
            "      TV  radio  newspaper\n",
            "0  230.1   37.8       69.2\n",
            "1   44.5   39.3       45.1\n",
            "2   17.2   41.3       69.3\n",
            "3  151.5   41.3       58.5\n",
            "4  180.8   10.8       58.4 0    22.1\n",
            "1    10.4\n",
            "2     9.3\n",
            "3    28.5\n",
            "4    13.9\n",
            "Name: sales, dtype: float64\n"
          ]
        }
      ],
      "source": [
        "data = pd.read_csv('../data/advertising.csv')\n",
        "\n",
        "x = data.iloc[:, 1:-1]\n",
        "y = data.iloc[:, -1]\n",
        "print(x, y)"
      ]
    },
    {
      "cell_type": "code",
      "execution_count": 9,
      "metadata": {
        "id": "1CVP0ZPwmYJv"
      },
      "outputs": [
        {
          "name": "stdout",
          "output_type": "stream",
          "text": [
            "Model: \"sequential\"\n",
            "_________________________________________________________________\n",
            " Layer (type)                Output Shape              Param #   \n",
            "=================================================================\n",
            " dense (Dense)               (None, 10)                40        \n",
            "                                                                 \n",
            " dense_1 (Dense)             (None, 1)                 11        \n",
            "                                                                 \n",
            "=================================================================\n",
            "Total params: 51\n",
            "Trainable params: 51\n",
            "Non-trainable params: 0\n",
            "_________________________________________________________________\n"
          ]
        }
      ],
      "source": [
        "tf.keras.backend.clear_session()\n",
        "\n",
        "model = tf.keras.Sequential([\n",
        "    tf.keras.layers.Dense(10, input_shape=(3,), activation='relu'), tf.keras.layers.Dense(1)\n",
        "    ])\n",
        "\n",
        "model.summary()"
      ]
    },
    {
      "cell_type": "code",
      "execution_count": 10,
      "metadata": {
        "id": "ao4FSNPfoI0c"
      },
      "outputs": [
        {
          "name": "stderr",
          "output_type": "stream",
          "text": [
            "2023-03-02 09:28:31.586901: W tensorflow/core/platform/profile_utils/cpu_utils.cc:128] Failed to get CPU frequency: 0 Hz\n"
          ]
        },
        {
          "name": "stdout",
          "output_type": "stream",
          "text": [
            "Epoch 1/100\n",
            "1/1 [==============================] - 0s 360ms/step - loss: 3838.8628\n",
            "Epoch 2/100\n",
            "1/1 [==============================] - 0s 3ms/step - loss: 3744.2961\n",
            "Epoch 3/100\n",
            "1/1 [==============================] - 0s 2ms/step - loss: 3651.2251\n",
            "Epoch 4/100\n",
            "1/1 [==============================] - 0s 2ms/step - loss: 3559.6614\n",
            "Epoch 5/100\n",
            "1/1 [==============================] - 0s 2ms/step - loss: 3469.6191\n",
            "Epoch 6/100\n",
            "1/1 [==============================] - 0s 2ms/step - loss: 3381.1094\n",
            "Epoch 7/100\n",
            "1/1 [==============================] - 0s 2ms/step - loss: 3294.1401\n",
            "Epoch 8/100\n",
            "1/1 [==============================] - 0s 2ms/step - loss: 3208.7192\n",
            "Epoch 9/100\n",
            "1/1 [==============================] - 0s 2ms/step - loss: 3124.8518\n",
            "Epoch 10/100\n",
            "1/1 [==============================] - 0s 2ms/step - loss: 3042.5403\n",
            "Epoch 11/100\n",
            "1/1 [==============================] - 0s 1ms/step - loss: 2961.7883\n",
            "Epoch 12/100\n",
            "1/1 [==============================] - 0s 3ms/step - loss: 2882.5938\n",
            "Epoch 13/100\n",
            "1/1 [==============================] - 0s 2ms/step - loss: 2804.9553\n",
            "Epoch 14/100\n",
            "1/1 [==============================] - 0s 2ms/step - loss: 2728.8682\n",
            "Epoch 15/100\n",
            "1/1 [==============================] - 0s 2ms/step - loss: 2654.5840\n",
            "Epoch 16/100\n",
            "1/1 [==============================] - 0s 2ms/step - loss: 2583.5845\n",
            "Epoch 17/100\n",
            "1/1 [==============================] - 0s 2ms/step - loss: 2514.1223\n",
            "Epoch 18/100\n",
            "1/1 [==============================] - 0s 2ms/step - loss: 2446.1702\n",
            "Epoch 19/100\n",
            "1/1 [==============================] - 0s 2ms/step - loss: 2379.7012\n",
            "Epoch 20/100\n",
            "1/1 [==============================] - 0s 2ms/step - loss: 2314.6909\n",
            "Epoch 21/100\n",
            "1/1 [==============================] - 0s 2ms/step - loss: 2251.1138\n",
            "Epoch 22/100\n",
            "1/1 [==============================] - 0s 3ms/step - loss: 2188.9458\n",
            "Epoch 23/100\n",
            "1/1 [==============================] - 0s 3ms/step - loss: 2128.1704\n",
            "Epoch 24/100\n",
            "1/1 [==============================] - 0s 3ms/step - loss: 2068.9272\n",
            "Epoch 25/100\n",
            "1/1 [==============================] - 0s 4ms/step - loss: 2011.0227\n",
            "Epoch 26/100\n",
            "1/1 [==============================] - 0s 3ms/step - loss: 1954.4307\n",
            "Epoch 27/100\n",
            "1/1 [==============================] - 0s 3ms/step - loss: 1899.1279\n",
            "Epoch 28/100\n",
            "1/1 [==============================] - 0s 3ms/step - loss: 1846.5588\n",
            "Epoch 29/100\n",
            "1/1 [==============================] - 0s 3ms/step - loss: 1795.6373\n",
            "Epoch 30/100\n",
            "1/1 [==============================] - 0s 4ms/step - loss: 1745.9441\n",
            "Epoch 31/100\n",
            "1/1 [==============================] - 0s 3ms/step - loss: 1697.4436\n",
            "Epoch 32/100\n",
            "1/1 [==============================] - 0s 2ms/step - loss: 1650.1035\n",
            "Epoch 33/100\n",
            "1/1 [==============================] - 0s 2ms/step - loss: 1603.8925\n",
            "Epoch 34/100\n",
            "1/1 [==============================] - 0s 3ms/step - loss: 1558.7820\n",
            "Epoch 35/100\n",
            "1/1 [==============================] - 0s 3ms/step - loss: 1514.7437\n",
            "Epoch 36/100\n",
            "1/1 [==============================] - 0s 3ms/step - loss: 1471.7529\n",
            "Epoch 37/100\n",
            "1/1 [==============================] - 0s 3ms/step - loss: 1429.7848\n",
            "Epoch 38/100\n",
            "1/1 [==============================] - 0s 3ms/step - loss: 1388.8159\n",
            "Epoch 39/100\n",
            "1/1 [==============================] - 0s 3ms/step - loss: 1348.8236\n",
            "Epoch 40/100\n",
            "1/1 [==============================] - 0s 4ms/step - loss: 1309.7874\n",
            "Epoch 41/100\n",
            "1/1 [==============================] - 0s 3ms/step - loss: 1271.9005\n",
            "Epoch 42/100\n",
            "1/1 [==============================] - 0s 3ms/step - loss: 1235.7966\n",
            "Epoch 43/100\n",
            "1/1 [==============================] - 0s 3ms/step - loss: 1200.5859\n",
            "Epoch 44/100\n",
            "1/1 [==============================] - 0s 4ms/step - loss: 1166.2445\n",
            "Epoch 45/100\n",
            "1/1 [==============================] - 0s 4ms/step - loss: 1132.7498\n",
            "Epoch 46/100\n",
            "1/1 [==============================] - 0s 4ms/step - loss: 1100.0803\n",
            "Epoch 47/100\n",
            "1/1 [==============================] - 0s 3ms/step - loss: 1068.2156\n",
            "Epoch 48/100\n",
            "1/1 [==============================] - 0s 4ms/step - loss: 1037.1367\n",
            "Epoch 49/100\n",
            "1/1 [==============================] - 0s 4ms/step - loss: 1006.8251\n",
            "Epoch 50/100\n",
            "1/1 [==============================] - 0s 4ms/step - loss: 977.2624\n",
            "Epoch 51/100\n",
            "1/1 [==============================] - 0s 3ms/step - loss: 948.4323\n",
            "Epoch 52/100\n",
            "1/1 [==============================] - 0s 3ms/step - loss: 920.3182\n",
            "Epoch 53/100\n",
            "1/1 [==============================] - 0s 3ms/step - loss: 892.9041\n",
            "Epoch 54/100\n",
            "1/1 [==============================] - 0s 3ms/step - loss: 866.1754\n",
            "Epoch 55/100\n",
            "1/1 [==============================] - 0s 5ms/step - loss: 840.1167\n",
            "Epoch 56/100\n",
            "1/1 [==============================] - 0s 6ms/step - loss: 814.7137\n",
            "Epoch 57/100\n",
            "1/1 [==============================] - 0s 7ms/step - loss: 789.9531\n",
            "Epoch 58/100\n",
            "1/1 [==============================] - 0s 8ms/step - loss: 765.8212\n",
            "Epoch 59/100\n",
            "1/1 [==============================] - 0s 4ms/step - loss: 742.3046\n",
            "Epoch 60/100\n",
            "1/1 [==============================] - 0s 3ms/step - loss: 719.3911\n",
            "Epoch 61/100\n",
            "1/1 [==============================] - 0s 3ms/step - loss: 697.0682\n",
            "Epoch 62/100\n",
            "1/1 [==============================] - 0s 3ms/step - loss: 675.3234\n",
            "Epoch 63/100\n",
            "1/1 [==============================] - 0s 4ms/step - loss: 654.1453\n",
            "Epoch 64/100\n",
            "1/1 [==============================] - 0s 3ms/step - loss: 633.5223\n",
            "Epoch 65/100\n",
            "1/1 [==============================] - 0s 3ms/step - loss: 613.4427\n",
            "Epoch 66/100\n",
            "1/1 [==============================] - 0s 2ms/step - loss: 593.8959\n",
            "Epoch 67/100\n",
            "1/1 [==============================] - 0s 3ms/step - loss: 574.8707\n",
            "Epoch 68/100\n",
            "1/1 [==============================] - 0s 3ms/step - loss: 556.3566\n",
            "Epoch 69/100\n",
            "1/1 [==============================] - 0s 3ms/step - loss: 538.3430\n",
            "Epoch 70/100\n",
            "1/1 [==============================] - 0s 2ms/step - loss: 520.8200\n",
            "Epoch 71/100\n",
            "1/1 [==============================] - 0s 3ms/step - loss: 503.7770\n",
            "Epoch 72/100\n",
            "1/1 [==============================] - 0s 3ms/step - loss: 487.2045\n",
            "Epoch 73/100\n",
            "1/1 [==============================] - 0s 3ms/step - loss: 471.0927\n",
            "Epoch 74/100\n",
            "1/1 [==============================] - 0s 3ms/step - loss: 455.4317\n",
            "Epoch 75/100\n",
            "1/1 [==============================] - 0s 3ms/step - loss: 440.2125\n",
            "Epoch 76/100\n",
            "1/1 [==============================] - 0s 2ms/step - loss: 425.4256\n",
            "Epoch 77/100\n",
            "1/1 [==============================] - 0s 5ms/step - loss: 411.0617\n",
            "Epoch 78/100\n",
            "1/1 [==============================] - 0s 3ms/step - loss: 397.4436\n",
            "Epoch 79/100\n",
            "1/1 [==============================] - 0s 3ms/step - loss: 384.2561\n",
            "Epoch 80/100\n",
            "1/1 [==============================] - 0s 5ms/step - loss: 371.4434\n",
            "Epoch 81/100\n",
            "1/1 [==============================] - 0s 4ms/step - loss: 358.9966\n",
            "Epoch 82/100\n",
            "1/1 [==============================] - 0s 3ms/step - loss: 346.9081\n",
            "Epoch 83/100\n",
            "1/1 [==============================] - 0s 3ms/step - loss: 335.1696\n",
            "Epoch 84/100\n",
            "1/1 [==============================] - 0s 5ms/step - loss: 323.7734\n",
            "Epoch 85/100\n",
            "1/1 [==============================] - 0s 60ms/step - loss: 312.7118\n",
            "Epoch 86/100\n",
            "1/1 [==============================] - 0s 5ms/step - loss: 301.9773\n",
            "Epoch 87/100\n",
            "1/1 [==============================] - 0s 3ms/step - loss: 291.5624\n",
            "Epoch 88/100\n",
            "1/1 [==============================] - 0s 4ms/step - loss: 281.4601\n",
            "Epoch 89/100\n",
            "1/1 [==============================] - 0s 4ms/step - loss: 271.6631\n",
            "Epoch 90/100\n",
            "1/1 [==============================] - 0s 3ms/step - loss: 262.1646\n",
            "Epoch 91/100\n",
            "1/1 [==============================] - 0s 4ms/step - loss: 252.9575\n",
            "Epoch 92/100\n",
            "1/1 [==============================] - 0s 3ms/step - loss: 244.0351\n",
            "Epoch 93/100\n",
            "1/1 [==============================] - 0s 3ms/step - loss: 235.3909\n",
            "Epoch 94/100\n",
            "1/1 [==============================] - 0s 3ms/step - loss: 227.0183\n",
            "Epoch 95/100\n",
            "1/1 [==============================] - 0s 3ms/step - loss: 218.9106\n",
            "Epoch 96/100\n",
            "1/1 [==============================] - 0s 4ms/step - loss: 211.0619\n",
            "Epoch 97/100\n",
            "1/1 [==============================] - 0s 6ms/step - loss: 203.4658\n",
            "Epoch 98/100\n",
            "1/1 [==============================] - 0s 5ms/step - loss: 196.1161\n",
            "Epoch 99/100\n",
            "1/1 [==============================] - 0s 3ms/step - loss: 189.0067\n",
            "Epoch 100/100\n",
            "1/1 [==============================] - 0s 4ms/step - loss: 182.1318\n"
          ]
        }
      ],
      "source": [
        "# 训练\n",
        "model.compile(optimizer='adam', loss='mse')\n",
        "\n",
        "history = model.fit(\n",
        "    x, y, epochs=100\n",
        "    # validation_split=0.2,\n",
        "    )"
      ]
    },
    {
      "cell_type": "code",
      "execution_count": 11,
      "metadata": {
        "colab": {
          "base_uri": "https://localhost:8080/"
        },
        "id": "jlFIdiEko_rK",
        "outputId": "b43a29b3-c4da-4bcd-e63d-2ec02828a2b3"
      },
      "outputs": [
        {
          "data": {
            "text/plain": [
              "array([[ 6.968899 ],\n",
              "       [10.465377 ],\n",
              "       [ 4.191806 ],\n",
              "       [10.757875 ],\n",
              "       [-3.6384337]], dtype=float32)"
            ]
          },
          "execution_count": 11,
          "metadata": {},
          "output_type": "execute_result"
        }
      ],
      "source": [
        "model.predict(data.iloc[:10, 1:-1])"
      ]
    },
    {
      "attachments": {},
      "cell_type": "markdown",
      "metadata": {},
      "source": [
        "# 保存模型"
      ]
    },
    {
      "cell_type": "code",
      "execution_count": 16,
      "metadata": {},
      "outputs": [
        {
          "name": "stderr",
          "output_type": "stream",
          "text": [
            "2023-03-02 09:29:28.812215: W tensorflow/python/util/util.cc:368] Sets are not currently considered sequences, but this may change in the future, so consider avoiding using them.\n"
          ]
        },
        {
          "name": "stdout",
          "output_type": "stream",
          "text": [
            "INFO:tensorflow:Assets written to: ../data/1555630614/assets\n",
            "[Info] 存储saved模型完成! ../data/1555630614\n"
          ]
        }
      ],
      "source": [
        "saved_out_path = os.path.join('../data/1555630614')\n",
        "model.save(saved_out_path)\n",
        "# 存储和处理大容量科学数据设计的文件格式及相应库文件\n",
        "# model.save(\"my_model.h5\")\n",
        "\n",
        "# 保存为 JSON 请注意，该表示不包括权重，只包含结构\n",
        "# json_string = model.to_json()\n",
        "# 保存为 YAML 请注意，该表示不包括权重，只包含结构\n",
        "# yaml_string = model.to_yaml()\n",
        "\n",
        "print('[Info] 存储saved模型完成! {}'.format(saved_out_path))"
      ]
    },
    {
      "attachments": {},
      "cell_type": "markdown",
      "metadata": {},
      "source": [
        "# 加载模型"
      ]
    },
    {
      "cell_type": "code",
      "execution_count": 18,
      "metadata": {},
      "outputs": [
        {
          "name": "stdout",
          "output_type": "stream",
          "text": [
            "Model: \"sequential\"\n",
            "_________________________________________________________________\n",
            " Layer (type)                Output Shape              Param #   \n",
            "=================================================================\n",
            " dense (Dense)               (None, 10)                40        \n",
            "                                                                 \n",
            " dense_1 (Dense)             (None, 1)                 11        \n",
            "                                                                 \n",
            "=================================================================\n",
            "Total params: 51\n",
            "Trainable params: 51\n",
            "Non-trainable params: 0\n",
            "_________________________________________________________________\n",
            "[[6.968899]]\n"
          ]
        }
      ],
      "source": [
        "# 从保存的模型重新加载新的 keras 模型\n",
        "data = pd.read_csv('../data/advertising.csv')\n",
        "test = data.iloc[:1, 1:-1]\n",
        "\n",
        "# 重新实例化模型\n",
        "model = tf.keras.models.load_model(\"../data/1555630614\")\n",
        "model.summary()\n",
        "\n",
        "print(model.predict(test))\n"
      ]
    }
  ],
  "metadata": {
    "colab": {
      "authorship_tag": "ABX9TyNuaLHiRWjfVavYh1ImX1Rr",
      "collapsed_sections": [],
      "include_colab_link": true,
      "name": "tensorflow keras 多层感知器.ipynb",
      "provenance": [],
      "toc_visible": true
    },
    "kernelspec": {
      "display_name": "base",
      "language": "python",
      "name": "python3"
    },
    "language_info": {
      "codemirror_mode": {
        "name": "ipython",
        "version": 3
      },
      "file_extension": ".py",
      "mimetype": "text/x-python",
      "name": "python",
      "nbconvert_exporter": "python",
      "pygments_lexer": "ipython3",
      "version": "3.10.8"
    },
    "vscode": {
      "interpreter": {
        "hash": "e7cb1b9ae4d417fedf7f40a8eec98f7cfbd359e096bd857395a915f4609834ce"
      }
    }
  },
  "nbformat": 4,
  "nbformat_minor": 0
}
