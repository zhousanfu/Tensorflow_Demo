{
 "cells": [
  {
   "cell_type": "code",
   "execution_count": null,
   "metadata": {},
   "outputs": [],
   "source": [
    "import jieba.posseg as pseg\n",
    "\n",
    "def count_post_de_words(text):\n",
    "    # 使用jieba进行词性标注\n",
    "    words = list(pseg.cut(text))\n",
    "    \n",
    "    # 初始化计数器\n",
    "    verb_count = 0\n",
    "    noun_count = 0\n",
    "    de_count = 0\n",
    "\n",
    "    # 遍历所有词语，找到“的”并检查其后的词语词性\n",
    "    for i in range(len(words) - 1):  # 防止索引越界\n",
    "        word, flag = words[i]\n",
    "        if word == \"的\":\n",
    "            de_count += 1\n",
    "            # 检查“的”后的词语\n",
    "            next_word, next_flag = words[i + 1]\n",
    "            print(words[i], de_count, next_word, next_flag)\n",
    "            if next_flag.startswith('v'):  # 动词\n",
    "                verb_count += 1\n",
    "            elif next_flag.startswith('n'):  # 名词\n",
    "                noun_count += 1\n",
    "\n",
    "    # 返回统计结果\n",
    "    return de_count, verb_count, noun_count\n",
    "\n",
    "# 示例文本\n",
    "text = \"他的意图是好的，但他的执行力有限，她的想法很创新。\"\n",
    "# 获取统计结果\n",
    "de_count, verb_count, noun_count = count_post_de_words(text)\n",
    "print(de_count, verb_count, noun_count)\n",
    "\n",
    "if de_count > 0:\n",
    "    print(f\"总共找到 '的' {de_count} 次。\")\n",
    "    print(f\"动词比例: {verb_count / de_count:.2f}\")\n",
    "    print(f\"名词比例: {noun_count / de_count:.2f}\")\n",
    "else:\n",
    "    print(\"文本中未找到 '的'。\")"
   ]
  },
  {
   "cell_type": "code",
   "execution_count": null,
   "metadata": {},
   "outputs": [],
   "source": [
    "!pip install hanlp"
   ]
  },
  {
   "cell_type": "code",
   "execution_count": 21,
   "metadata": {},
   "outputs": [
    {
     "name": "stderr",
     "output_type": "stream",
     "text": [
      "                                   \r"
     ]
    },
    {
     "name": "stdout",
     "output_type": "stream",
     "text": [
      "他 PN\n",
      "的 DEG\n",
      "意图 NN\n",
      "是 VC\n",
      "好 VA\n",
      "的 DEC\n",
      "， PU\n",
      "但 CC\n",
      "他 PN\n",
      "的 DEG\n",
      "执行力 NN\n",
      "有限 VA\n",
      "， PU\n",
      "她 PN\n",
      "的 DEG\n",
      "想法 NN\n",
      "很 AD\n",
      "创新 VA\n",
      "。 PU\n"
     ]
    }
   ],
   "source": [
    "import hanlp\n",
    "\n",
    "tok = hanlp.load(hanlp.pretrained.tok.COARSE_ELECTRA_SMALL_ZH)\n",
    "pos = hanlp.load(hanlp.pretrained.pos.CTB9_POS_ELECTRA_SMALL)\n",
    "\n",
    "tok_text = tok(['他的意图是好的，但他的执行力有限，她的想法很创新。'])[0]\n",
    "pos_text = pos(tok_text)\n",
    "\n",
    "for t,p in zip(tok_text,pos_text):\n",
    "    print(t, p)"
   ]
  }
 ],
 "metadata": {
  "kernelspec": {
   "display_name": "base",
   "language": "python",
   "name": "python3"
  },
  "language_info": {
   "codemirror_mode": {
    "name": "ipython",
    "version": 3
   },
   "file_extension": ".py",
   "mimetype": "text/x-python",
   "name": "python",
   "nbconvert_exporter": "python",
   "pygments_lexer": "ipython3",
   "version": "3.11.8"
  }
 },
 "nbformat": 4,
 "nbformat_minor": 2
}
