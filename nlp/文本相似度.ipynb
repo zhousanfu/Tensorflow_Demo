{
 "cells": [
  {
   "cell_type": "markdown",
   "id": "2f428557-3d17-4ac7-be5c-31c672340d3d",
   "metadata": {},
   "source": [
    "### 编辑距离（Levenshtein距离）"
   ]
  },
  {
   "cell_type": "code",
   "execution_count": 20,
   "id": "c9849674-aa13-4a52-8341-ec04b0f9db29",
   "metadata": {
    "tags": []
   },
   "outputs": [
    {
     "name": "stdout",
     "output_type": "stream",
     "text": [
      "0.0\n",
      "CPU times: total: 0 ns\n",
      "Wall time: 995 µs\n"
     ]
    }
   ],
   "source": [
    "%%time\n",
    "import numpy as np\n",
    "\n",
    "def calculate_levenshtein_distance(text1, text2, t_type=None):\n",
    "    if t_type\n",
    "    r1 = companynameparser.parse(text1)\n",
    "    r2 = companynameparser.parse(text2)\n",
    "    text1 = r1['brand']\n",
    "    text2 = r2['brand']\n",
    "    m, n = len(text1), len(text2)\n",
    "    dp = np.zeros((m + 1, n + 1))\n",
    "\n",
    "    for i in range(m + 1):\n",
    "        dp[i][0] = i\n",
    "    for j in range(n + 1):\n",
    "        dp[0][j] = j\n",
    "\n",
    "    for i in range(1, m + 1):\n",
    "        for j in range(1, n + 1):\n",
    "            if text1[i - 1] == text2[j - 1]:\n",
    "                dp[i][j] = dp[i - 1][j - 1]\n",
    "            else:\n",
    "                dp[i][j] = min(dp[i - 1][j], dp[i][j - 1], dp[i - 1][j - 1]) + 1\n",
    "\n",
    "    return dp[m][n]\n",
    "\n",
    "text1 = \"I love Python programming\"\n",
    "text2 = \"Python programming is great\"\n",
    "\n",
    "levenshtein_distance = calculate_levenshtein_distance(text1, text2)\n",
    "print(levenshtein_distance)"
   ]
  },
  {
   "cell_type": "markdown",
   "id": "92292f51-01bc-4317-897f-5076c8139802",
   "metadata": {},
   "source": [
    "### BERT\n",
    "（Bidirectional Encoder Representations from Transformers）是一种基于Transformer的预训练模型，用于捕捉上下文相关的单词表示。可以通过BERT模型将文本表示为向量，然后计算余弦相似度。"
   ]
  },
  {
   "cell_type": "code",
   "execution_count": null,
   "id": "baa157a3-14ea-46f1-999c-d75474af74f7",
   "metadata": {
    "tags": []
   },
   "outputs": [],
   "source": [
    "from sentence_transformers import SentenceTransformer\n",
    "\n",
    "def calculate_bert_similarity(text1, text2):\n",
    "    model = SentenceTransformer(\"bert-base-nli-mean-tokens\")\n",
    "    embeddings = model.encode([text1, text2])\n",
    "    similarity = cosine_similarity(embeddings)\n",
    "    return similarity[0][1]\n",
    "\n",
    "text1 = \"I love Python programming\"\n",
    "text2 = \"Python programming is great\"\n",
    "\n",
    "bert_similarity = calculate_bert_similarity(text1, text2)\n",
    "print(bert_similarity)"
   ]
  },
  {
   "cell_type": "markdown",
   "id": "346212a5",
   "metadata": {},
   "source": [
    "## 执行"
   ]
  },
  {
   "cell_type": "code",
   "execution_count": 14,
   "id": "a44f58a8-6b64-42c7-8ea1-33111b34ac31",
   "metadata": {},
   "outputs": [
    {
     "data": {
      "text/plain": [
       "['深圳迈瑞生物医疗电子股份有限公司',\n",
       " '迈克生物股份有限公司',\n",
       " '深圳市亚辉龙生物科技股份有限公司',\n",
       " '郑州安图生物工程股份有限公司',\n",
       " '深圳市新产业生物医学工程股份有限公司',\n",
       " '桂林优利特医疗电子有限公司',\n",
       " '迪瑞医疗科技股份有限公司',\n",
       " '山东康华生物医疗科技股份有限公司',\n",
       " '广州万孚生物技术股份有限公司',\n",
       " '中元汇吉生物技术股份有限公司']"
      ]
     },
     "execution_count": 14,
     "metadata": {},
     "output_type": "execute_result"
    }
   ],
   "source": [
    "import json\n",
    "\n",
    "with open('nmpa_company_name.json', 'r') as file:\n",
    "    names = json.load(file)\n",
    "file.close()  # 关闭文件\n",
    "\n",
    "names = [i['Entity_Name_ZH'] for i in names]\n",
    "\n",
    "names[:10]"
   ]
  },
  {
   "cell_type": "code",
   "execution_count": 23,
   "id": "a5d0ef90-8e82-4866-bc92-1210d0d09373",
   "metadata": {
    "tags": []
   },
   "outputs": [
    {
     "name": "stdout",
     "output_type": "stream",
     "text": [
      "CPU times: total: 23.5 s\n",
      "Wall time: 40.1 s\n"
     ]
    }
   ],
   "source": [
    "%%time\n",
    "out_data = []\n",
    "for x in names[:10]:\n",
    "    for y in names:\n",
    "        if x != y:\n",
    "            levenshtein_distance = calculate_levenshtein_distance(x, y)\n",
    "            out_data.append({'x':x, 'y':y, 'levenshtein_distance':levenshtein_distance})\n",
    "        "
   ]
  },
  {
   "cell_type": "code",
   "execution_count": 24,
   "id": "12d18253-91aa-4a49-bf36-73df89240156",
   "metadata": {
    "tags": []
   },
   "outputs": [
    {
     "name": "stdout",
     "output_type": "stream",
     "text": [
      "CPU times: total: 20.1 s\n",
      "Wall time: 46.7 s\n"
     ]
    }
   ],
   "source": [
    "%%time\n",
    "out_data = [{'x': x, 'y': y, 'levenshtein_distance': calculate_levenshtein_distance(x, y)}\n",
    "            for x in names[:10] for y in names if x != y]"
   ]
  },
  {
   "cell_type": "code",
   "execution_count": 25,
   "id": "c66af8e9-bb01-4bd5-a688-540e49649e7d",
   "metadata": {
    "tags": []
   },
   "outputs": [
    {
     "name": "stdout",
     "output_type": "stream",
     "text": [
      "CPU times: total: 10.9 s\n",
      "Wall time: 54.1 s\n"
     ]
    }
   ],
   "source": [
    "%%time\n",
    "\n",
    "import concurrent.futures\n",
    "\n",
    "out_data = []\n",
    "\n",
    "def process_names(x):\n",
    "    results = []\n",
    "    for y in names:\n",
    "        if x != y:\n",
    "            levenshtein_distance = calculate_levenshtein_distance(x, y)\n",
    "            results.append({'x': x, 'y': y, 'levenshtein_distance': levenshtein_distance})\n",
    "    return results\n",
    "\n",
    "with concurrent.futures.ThreadPoolExecutor() as executor:\n",
    "    futures = [executor.submit(process_names, x) for x in names[:10]]\n",
    "    for future in concurrent.futures.as_completed(futures):\n",
    "        out_data.extend(future.result())\n"
   ]
  },
  {
   "cell_type": "markdown",
   "id": "10f7de12",
   "metadata": {},
   "source": [
    "### 结果展示"
   ]
  },
  {
   "cell_type": "code",
   "execution_count": 22,
   "id": "78ba634e-65d1-4279-8cdf-4d7c144ffe8a",
   "metadata": {
    "tags": []
   },
   "outputs": [
    {
     "data": {
      "text/html": [
       "<div>\n",
       "<style scoped>\n",
       "    .dataframe tbody tr th:only-of-type {\n",
       "        vertical-align: middle;\n",
       "    }\n",
       "\n",
       "    .dataframe tbody tr th {\n",
       "        vertical-align: top;\n",
       "    }\n",
       "\n",
       "    .dataframe thead th {\n",
       "        text-align: right;\n",
       "    }\n",
       "</style>\n",
       "<table border=\"1\" class=\"dataframe\">\n",
       "  <thead>\n",
       "    <tr style=\"text-align: right;\">\n",
       "      <th></th>\n",
       "      <th>x</th>\n",
       "      <th>y</th>\n",
       "      <th>levenshtein_distance</th>\n",
       "    </tr>\n",
       "  </thead>\n",
       "  <tbody>\n",
       "    <tr>\n",
       "      <th>509</th>\n",
       "      <td>深圳迈瑞生物医疗电子股份有限公司</td>\n",
       "      <td>武汉迈瑞科技有限公司</td>\n",
       "      <td>0.0</td>\n",
       "    </tr>\n",
       "    <tr>\n",
       "      <th>1118</th>\n",
       "      <td>深圳迈瑞生物医疗电子股份有限公司</td>\n",
       "      <td>南京迈瑞生物医疗电子有限公司</td>\n",
       "      <td>0.0</td>\n",
       "    </tr>\n",
       "    <tr>\n",
       "      <th>2302</th>\n",
       "      <td>深圳迈瑞生物医疗电子股份有限公司</td>\n",
       "      <td>苏州迈瑞科技有限公司</td>\n",
       "      <td>0.0</td>\n",
       "    </tr>\n",
       "    <tr>\n",
       "      <th>16761</th>\n",
       "      <td>深圳迈瑞生物医疗电子股份有限公司</td>\n",
       "      <td>山东迈瑞医疗器械有限公司</td>\n",
       "      <td>0.0</td>\n",
       "    </tr>\n",
       "    <tr>\n",
       "      <th>119</th>\n",
       "      <td>深圳迈瑞生物医疗电子股份有限公司</td>\n",
       "      <td>湖南迈瑞医疗科技有限公司</td>\n",
       "      <td>0.0</td>\n",
       "    </tr>\n",
       "    <tr>\n",
       "      <th>855</th>\n",
       "      <td>深圳迈瑞生物医疗电子股份有限公司</td>\n",
       "      <td>深圳迈瑞科技有限公司</td>\n",
       "      <td>0.0</td>\n",
       "    </tr>\n",
       "    <tr>\n",
       "      <th>2150</th>\n",
       "      <td>深圳迈瑞生物医疗电子股份有限公司</td>\n",
       "      <td>北京迈瑞医疗器械有限公司</td>\n",
       "      <td>0.0</td>\n",
       "    </tr>\n",
       "    <tr>\n",
       "      <th>18253</th>\n",
       "      <td>深圳迈瑞生物医疗电子股份有限公司</td>\n",
       "      <td>上海赞瑞实业有限公司</td>\n",
       "      <td>1.0</td>\n",
       "    </tr>\n",
       "    <tr>\n",
       "      <th>11929</th>\n",
       "      <td>深圳迈瑞生物医疗电子股份有限公司</td>\n",
       "      <td>北京迈淩医疗技术发展有限公司</td>\n",
       "      <td>1.0</td>\n",
       "    </tr>\n",
       "    <tr>\n",
       "      <th>6047</th>\n",
       "      <td>深圳迈瑞生物医疗电子股份有限公司</td>\n",
       "      <td>山西洁瑞医疗器械股份有限公司</td>\n",
       "      <td>1.0</td>\n",
       "    </tr>\n",
       "    <tr>\n",
       "      <th>11971</th>\n",
       "      <td>深圳迈瑞生物医疗电子股份有限公司</td>\n",
       "      <td>北京固瑞科技有限公司</td>\n",
       "      <td>1.0</td>\n",
       "    </tr>\n",
       "    <tr>\n",
       "      <th>2758</th>\n",
       "      <td>深圳迈瑞生物医疗电子股份有限公司</td>\n",
       "      <td>百瑞医疗科技（常州）有限公司</td>\n",
       "      <td>1.0</td>\n",
       "    </tr>\n",
       "    <tr>\n",
       "      <th>0</th>\n",
       "      <td>深圳迈瑞生物医疗电子股份有限公司</td>\n",
       "      <td>迈克生物股份有限公司</td>\n",
       "      <td>1.0</td>\n",
       "    </tr>\n",
       "    <tr>\n",
       "      <th>11872</th>\n",
       "      <td>深圳迈瑞生物医疗电子股份有限公司</td>\n",
       "      <td>北京端瑞科技有限公司</td>\n",
       "      <td>1.0</td>\n",
       "    </tr>\n",
       "    <tr>\n",
       "      <th>7961</th>\n",
       "      <td>深圳迈瑞生物医疗电子股份有限公司</td>\n",
       "      <td>江西祥瑞医疗器械有限公司</td>\n",
       "      <td>1.0</td>\n",
       "    </tr>\n",
       "    <tr>\n",
       "      <th>6082</th>\n",
       "      <td>深圳迈瑞生物医疗电子股份有限公司</td>\n",
       "      <td>上海冠瑞医疗设备股份有限公司</td>\n",
       "      <td>1.0</td>\n",
       "    </tr>\n",
       "    <tr>\n",
       "      <th>18324</th>\n",
       "      <td>深圳迈瑞生物医疗电子股份有限公司</td>\n",
       "      <td>南京恒瑞医疗科技有限公司</td>\n",
       "      <td>1.0</td>\n",
       "    </tr>\n",
       "    <tr>\n",
       "      <th>18327</th>\n",
       "      <td>深圳迈瑞生物医疗电子股份有限公司</td>\n",
       "      <td>南京智瑞医疗科技有限公司</td>\n",
       "      <td>1.0</td>\n",
       "    </tr>\n",
       "    <tr>\n",
       "      <th>18329</th>\n",
       "      <td>深圳迈瑞生物医疗电子股份有限公司</td>\n",
       "      <td>南京美瑞制药有限公司</td>\n",
       "      <td>1.0</td>\n",
       "    </tr>\n",
       "    <tr>\n",
       "      <th>6086</th>\n",
       "      <td>深圳迈瑞生物医疗电子股份有限公司</td>\n",
       "      <td>上海贝瑞电子科技有限公司</td>\n",
       "      <td>1.0</td>\n",
       "    </tr>\n",
       "  </tbody>\n",
       "</table>\n",
       "</div>"
      ],
      "text/plain": [
       "                      x               y  levenshtein_distance\n",
       "509    深圳迈瑞生物医疗电子股份有限公司      武汉迈瑞科技有限公司                   0.0\n",
       "1118   深圳迈瑞生物医疗电子股份有限公司  南京迈瑞生物医疗电子有限公司                   0.0\n",
       "2302   深圳迈瑞生物医疗电子股份有限公司      苏州迈瑞科技有限公司                   0.0\n",
       "16761  深圳迈瑞生物医疗电子股份有限公司    山东迈瑞医疗器械有限公司                   0.0\n",
       "119    深圳迈瑞生物医疗电子股份有限公司    湖南迈瑞医疗科技有限公司                   0.0\n",
       "855    深圳迈瑞生物医疗电子股份有限公司      深圳迈瑞科技有限公司                   0.0\n",
       "2150   深圳迈瑞生物医疗电子股份有限公司    北京迈瑞医疗器械有限公司                   0.0\n",
       "18253  深圳迈瑞生物医疗电子股份有限公司      上海赞瑞实业有限公司                   1.0\n",
       "11929  深圳迈瑞生物医疗电子股份有限公司  北京迈淩医疗技术发展有限公司                   1.0\n",
       "6047   深圳迈瑞生物医疗电子股份有限公司  山西洁瑞医疗器械股份有限公司                   1.0\n",
       "11971  深圳迈瑞生物医疗电子股份有限公司      北京固瑞科技有限公司                   1.0\n",
       "2758   深圳迈瑞生物医疗电子股份有限公司  百瑞医疗科技（常州）有限公司                   1.0\n",
       "0      深圳迈瑞生物医疗电子股份有限公司      迈克生物股份有限公司                   1.0\n",
       "11872  深圳迈瑞生物医疗电子股份有限公司      北京端瑞科技有限公司                   1.0\n",
       "7961   深圳迈瑞生物医疗电子股份有限公司    江西祥瑞医疗器械有限公司                   1.0\n",
       "6082   深圳迈瑞生物医疗电子股份有限公司  上海冠瑞医疗设备股份有限公司                   1.0\n",
       "18324  深圳迈瑞生物医疗电子股份有限公司    南京恒瑞医疗科技有限公司                   1.0\n",
       "18327  深圳迈瑞生物医疗电子股份有限公司    南京智瑞医疗科技有限公司                   1.0\n",
       "18329  深圳迈瑞生物医疗电子股份有限公司      南京美瑞制药有限公司                   1.0\n",
       "6086   深圳迈瑞生物医疗电子股份有限公司    上海贝瑞电子科技有限公司                   1.0"
      ]
     },
     "execution_count": 22,
     "metadata": {},
     "output_type": "execute_result"
    }
   ],
   "source": [
    "import pandas as pd\n",
    "\n",
    "df = pd.DataFrame(out_data)\n",
    "df_sorted = df.sort_values(by=['levenshtein_distance'], ascending=True)\n",
    "\n",
    "df_sorted.head(20)"
   ]
  },
  {
   "cell_type": "markdown",
   "id": "86751e55",
   "metadata": {},
   "source": [
    "## 聚类"
   ]
  },
  {
   "cell_type": "code",
   "execution_count": null,
   "id": "f599e674-8fa1-433b-8966-7b1895911c19",
   "metadata": {
    "tags": []
   },
   "outputs": [],
   "source": [
    "from gensim.models import TfidfModel\n",
    "from gensim.corpora import Dictionary\n",
    "from sklearn.cluster import AgglomerativeClustering\n",
    "from sklearn.metrics.pairwise import cosine_similarity\n",
    "\n",
    "# 企业名称列表\n",
    "company_names = [\n",
    "    \"深圳迈瑞生物医疗电子股份有限公司\",\n",
    "    \"杭州迈瑞医疗电子有限公司\",\n",
    "    \"重庆迈瑞城市建设投资有限责任公司\"\n",
    "]\n",
    "\n",
    "# 文本预处理函数\n",
    "def preprocess_text(text):\n",
    "    # 可根据具体需求进行预处理操作，如去除标点符号、转换为小写等\n",
    "    return text.lower()\n",
    "\n",
    "# 对企业名称进行文本预处理\n",
    "processed_names = [preprocess_text(name) for name in company_names]\n",
    "\n",
    "# 构建字典和向量空间模型\n",
    "documents = [name.split() for name in processed_names]\n",
    "dictionary = Dictionary(documents)\n",
    "corpus = [dictionary.doc2bow(document) for document in documents]\n",
    "tfidf_model = TfidfModel(corpus)\n",
    "tfidf_vectors = tfidf_model[corpus]\n",
    "\n",
    "# 计算相似度矩阵\n",
    "similarity_matrix = cosine_similarity(tfidf_vectors)\n",
    "\n",
    "# 聚类算法\n",
    "clustering = AgglomerativeClustering(n_clusters=2, affinity='precomputed', linkage='average')\n",
    "clusters = clustering.fit_predict(similarity_matrix)\n",
    "\n",
    "# 输出聚类结果\n",
    "for i, name in enumerate(company_names):\n",
    "    cluster_label = clusters[i]\n",
    "    print(f\"企业名称：{name}，聚类标签：{cluster_label}\")\n"
   ]
  },
  {
   "cell_type": "markdown",
   "id": "57a8782a",
   "metadata": {},
   "source": [
    "## Embeddings"
   ]
  },
  {
   "cell_type": "code",
   "execution_count": 5,
   "id": "b32bdb78-e0b1-4672-8d5a-4b674c7deb65",
   "metadata": {
    "tags": []
   },
   "outputs": [
    {
     "name": "stderr",
     "output_type": "stream",
     "text": [
      "No sentence-transformers model found with name C:\\Users\\SanforZhou/.cache\\torch\\sentence_transformers\\GanymedeNil_text2vec-large-chinese. Creating a new one with MEAN pooling.\n"
     ]
    },
    {
     "name": "stdout",
     "output_type": "stream",
     "text": [
      "CPU times: total: 2.72 s\n",
      "Wall time: 8.59 s\n"
     ]
    },
    {
     "data": {
      "text/plain": [
       "(1024,)"
      ]
     },
     "execution_count": 5,
     "metadata": {},
     "output_type": "execute_result"
    }
   ],
   "source": [
    "%%time\n",
    "import numpy as np\n",
    "from langchain.embeddings.huggingface import HuggingFaceEmbeddings\n",
    "\n",
    "model_name = \"GanymedeNil/text2vec-large-chinese\"\n",
    "embeddings = HuggingFaceEmbeddings(model_name=model_name, model_kwargs={'device': \"cpu\"})\n",
    "query_result = embeddings.embed_query(\"阶级跳跃\")\n",
    "\n",
    "np.array(query_result).shape"
   ]
  },
  {
   "cell_type": "code",
   "execution_count": null,
   "id": "e6aad1dc-4651-4344-a34d-c0f577a6eafb",
   "metadata": {},
   "outputs": [],
   "source": [
    "import torch\n",
    "from nlptool import name_embedding\n",
    "from nlptool import TableBuilder\n",
    "\n",
    "def decomposed_simi(query, decomposed_ems, top_n=5, max_length=100, language=None, tf_idf=False):\n",
    "    # 清洗原始查询公司名\n",
    "    cleaned_query = query #clean_company_name(query)\n",
    "    # 获取语种和去除特殊字符后的公司名\n",
    "    # language, cleaned_query = get_language_and_cleaned_name(cleaned_query, language)\n",
    "    # 分词并获取分词列表和分词数\n",
    "    tokens, num_tokens = tokenize(cleaned_query)\n",
    "    \n",
    "    if num_tokens > max_length:\n",
    "        # 超过最大长度，截取前面的部分分词\n",
    "        tokens = tokens[:max_length]\n",
    "        print(\"警告：公司名分词数超过了最大长度，已截断!\")\n",
    "    \n",
    "    # 将分词列表转换为嵌入向量\n",
    "    tgt_em = name_embedding(tokens, language=language)\n",
    "  \n",
    "    # 使用预训练的SVD模型进行嵌入向量转换\n",
    "    tgt_em = svd_model.transform(tgt_em)\n",
    "  \n",
    "    # 将嵌入向量转换为PyTorch张量\n",
    "    tgt_em = torch.tensor(tgt_em)\n",
    "  \n",
    "    # 对嵌入向量进行标准化处理\n",
    "    tgt_em = normalize_embedding(tgt_em)\n",
    "  \n",
    "    # 对嵌入向量进行填充，使其维度与待比对对象一致\n",
    "    padded_tgt_em = TableBuilder.pad_embedding(tgt_em, decomposed_ems.size(1))\n",
    "  \n",
    "    # 计算每个分词的权重\n",
    "    if tf_idf:\n",
    "        tgt_w = calculate_tf_idf_weights(tokens)\n",
    "    else:\n",
    "        tgt_w = calculate_inverse_term_frequency_weights(tokens)\n",
    "  \n",
    "    # 对权重进行归一化处理\n",
    "    tgt_w = normalize_weights(tgt_w)\n",
    "  \n",
    "    # 计算查询向量与待比对对象之间的相似度\n",
    "    similarity = torch.matmul(padded_tgt_em, decomposed_ems.transpose(0, 1))\n",
    "  \n",
    "    # 找到每一行中的最大值，并将其乘以对应的权重，得到加权的相似度\n",
    "    m_simi = torch.max(similarity, dim=1).values * tgt_w\n",
    "  \n",
    "    # 计算每个查询向量的相似度加权和\n",
    "    swm = torch.sum(m_simi, dim=1)\n",
    "  \n",
    "    # 找到相似度加权和中最大的top_n个值和对应的索引\n",
    "    top_scores, top_indices = torch.topk(swm, k=top_n)\n",
    "    \n",
    "    return top_scores.tolist(), top_indices.tolist()\n"
   ]
  }
 ],
 "metadata": {
  "kernelspec": {
   "display_name": "Python 3 (ipykernel)",
   "language": "python",
   "name": "python3"
  },
  "language_info": {
   "codemirror_mode": {
    "name": "ipython",
    "version": 3
   },
   "file_extension": ".py",
   "mimetype": "text/x-python",
   "name": "python",
   "nbconvert_exporter": "python",
   "pygments_lexer": "ipython3",
   "version": "3.11.4"
  }
 },
 "nbformat": 4,
 "nbformat_minor": 5
}
