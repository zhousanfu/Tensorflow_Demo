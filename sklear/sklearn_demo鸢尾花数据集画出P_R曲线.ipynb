{
  "nbformat": 4,
  "nbformat_minor": 0,
  "metadata": {
    "colab": {
      "provenance": [],
      "authorship_tag": "ABX9TyOZvZKOtd1Sz2MEjsSBQLtV",
      "include_colab_link": true
    },
    "kernelspec": {
      "name": "python3",
      "display_name": "Python 3"
    },
    "language_info": {
      "name": "python"
    }
  },
  "cells": [
    {
      "cell_type": "markdown",
      "metadata": {
        "id": "view-in-github",
        "colab_type": "text"
      },
      "source": [
        "<a href=\"https://colab.research.google.com/github/zhousanfu/machine-learning-demo/blob/master/sklearn_demo%E9%B8%A2%E5%B0%BE%E8%8A%B1%E6%95%B0%E6%8D%AE%E9%9B%86%E7%94%BB%E5%87%BAP_R%E6%9B%B2%E7%BA%BF.ipynb\" target=\"_parent\"><img src=\"https://colab.research.google.com/assets/colab-badge.svg\" alt=\"Open In Colab\"/></a>"
      ]
    },
    {
      "cell_type": "markdown",
      "source": [
        "利用鸢尾花数据集画出P-R曲线"
      ],
      "metadata": {
        "id": "ZYjKE8YEnA9r"
      }
    },
    {
      "cell_type": "code",
      "source": [
        "import  numpy as  np\n",
        "# from sklearn.cross_validation import train_test_split\n",
        "from  sklearn.model_selection import  train_test_split\n",
        "from  sklearn.multiclass import  OneVsRestClassifier\n",
        "from  sklearn.preprocessing import  label_binarize\n",
        "from  sklearn.metrics import  average_precision_score\n",
        "from  sklearn.metrics import  precision_recall_curve\n",
        "from  sklearn import  svm, datasets\n",
        "import  matplotlib.pyplot as  plt\n",
        "import pandas as pd\n",
        "import json\n",
        "\n",
        "\n",
        "\n",
        "iris = datasets.load_iris()\n",
        "X = iris.data y = iris.target\n",
        "\n",
        "\n",
        "#  标签二值化,将三个类转为001, 010, 100的格式.因为这是个多类分类问题，后面将要采用 #OneVsRestClassifier策略转为二类分类问题\n",
        "#  增加了800维的噪声特征\n",
        "y = label_binarize(y, classes=[0, 1, 2]) n_classes = y.shape[1] print (y)\n",
        "random_state = np.random.RandomState(0)\n",
        "\n",
        "n_samples, n_features = X.shape X = np.c_[X, random_state.randn(n_samples, 200 * n_features)]\n",
        "X_train, X_test, y_train, y_test = train_test_split(X, y, test_size=.5, random_state=random_state)\n",
        "\n",
        "# 随机数，填0或不填，每次都会不一样\n",
        "#  Run classifier probability : boolean, optional (default=False)Whether to enable probability estimates. This must be enabled prior to calling fit, and will slow down that method.\n",
        "\n",
        "classifier = OneVsRestClassifier(svm.SVC(kernel='linear', probability=True, random_state=random_state))\n",
        "#  Compute Precision-Recall and plot curve\n",
        "y_score = classifier.fit(X_train, y_train).decision_function(X_test)\n",
        "\n",
        "# 下面的下划线是返回的阈值。作为一个名称：此时“_”作为临时性的名称使用。\n",
        "# 表示分配了一个特定的名称，但是并不会在后面再次用到该名称。\n",
        "precision = dict()\n",
        "recall = dict() average_precision = dict()\n",
        "for  i in  range(n_classes):\n",
        "        \n",
        "    precision[i], recall[i], _ = precision_recall_curve(y_test[:, i],  y_score[:, i]) \n",
        "\n",
        "# The last precision and recall values are 1. and 0. respectively and do not have a corresponding threshold. This ensures that the graph starts on the x axis.     \n",
        "\n",
        "# 切片，第i个类的分类结果性能 # Compute micro-average curve and area. ravel()将多维数组降为一维\n",
        "average_precision[i] = average_precision_score(y_test[:, i], y_score[:, i])\n",
        "\n",
        "precision[\"micro\"], recall[\"micro\"], _ = precision_recall_curve(y_test.ravel(),  y_score.ravel())\n",
        "\n",
        "# This score corresponds to the area under the precision-recall curve.\n",
        "average_precision[\"micro\"] = average_precision_score(y_test, y_score, average=\"micro\")\n",
        "\n",
        "#  Plot Precision-Recall curve for each class plt.clf()\n",
        "# clf 函数用于清除当前图像窗口\n",
        "plt.plot(recall[\"micro\"],\n",
        "         precision[\"micro\"], label='micro-average Precision-recall curve (area = {0:0.2f})'.format(average_precision[\"micro\"]))\n",
        "for  i in  range(n_classes):\n",
        "    plt.plot(recall[i], precision[i], label='Precision-recall curve of class {0} (area = {1:0.2f})'.format(i, average_precision[i]))\n",
        "    plt.xlim([0.0, 1.0]) plt.ylim([0.0, 1.05])   # xlim、ylim：分别设置X、Y轴的显示范围。\n",
        "    plt.xlabel('Recall', fontsize=16) plt.ylabel('Precision', fontsize=16) plt.title('Extension of Precision-Recall curve to multi-class', fontsize=16)\n",
        "    plt.legend(loc=\"lower right\")  # legend 是用于设置图例的函数 plt.show()\n"
      ],
      "metadata": {
        "colab": {
          "base_uri": "https://localhost:8080/",
          "height": 246
        },
        "id": "4IEDRguZm7a5",
        "outputId": "9ceb2c83-ba4b-43b6-d62a-285caba22504"
      },
      "execution_count": 7,
      "outputs": [
        {
          "output_type": "error",
          "ename": "SyntaxError",
          "evalue": "ignored",
          "traceback": [
            "\u001b[0;36m  File \u001b[0;32m\"<ipython-input-6-326ec59d4d86>\"\u001b[0;36m, line \u001b[0;32m16\u001b[0m\n\u001b[0;31m    X = iris.data y = iris.target\u001b[0m\n\u001b[0m                  ^\u001b[0m\n\u001b[0;31mSyntaxError\u001b[0m\u001b[0;31m:\u001b[0m invalid syntax\n"
          ]
        },
        {
          "output_type": "error",
          "ename": "SyntaxError",
          "evalue": "ignored",
          "traceback": [
            "\u001b[0;36m  File \u001b[0;32m\"<ipython-input-7-326ec59d4d86>\"\u001b[0;36m, line \u001b[0;32m16\u001b[0m\n\u001b[0;31m    X = iris.data y = iris.target\u001b[0m\n\u001b[0m                  ^\u001b[0m\n\u001b[0;31mSyntaxError\u001b[0m\u001b[0;31m:\u001b[0m invalid syntax\n"
          ]
        }
      ]
    }
  ]
}