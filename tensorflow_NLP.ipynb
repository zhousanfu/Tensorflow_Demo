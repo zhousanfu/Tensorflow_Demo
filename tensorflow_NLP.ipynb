{
  "nbformat": 4,
  "nbformat_minor": 0,
  "metadata": {
    "colab": {
      "name": "tensorflow_NLP.ipynb",
      "private_outputs": true,
      "provenance": [],
      "collapsed_sections": [
        "FgJP9KtxfT4e",
        "TmOpBMA9yuWx"
      ],
      "toc_visible": true,
      "authorship_tag": "ABX9TyO+bB6qZT3rWjzibG5vCzFV",
      "include_colab_link": true
    },
    "kernelspec": {
      "name": "python3",
      "display_name": "Python 3"
    },
    "accelerator": "GPU"
  },
  "cells": [
    {
      "cell_type": "markdown",
      "metadata": {
        "id": "view-in-github",
        "colab_type": "text"
      },
      "source": [
        "<a href=\"https://colab.research.google.com/github/zhousanfu/Tensorflow_Demo/blob/master/tensorflow_NLP.ipynb\" target=\"_parent\"><img src=\"https://colab.research.google.com/assets/colab-badge.svg\" alt=\"Open In Colab\"/></a>"
      ]
    },
    {
      "cell_type": "markdown",
      "metadata": {
        "id": "lrDyb6CVfxtc"
      },
      "source": [
        "## 需要模块"
      ]
    },
    {
      "cell_type": "code",
      "metadata": {
        "id": "fyhbzl_DMbL7"
      },
      "source": [
        "!pip install -q tensorflow-datasets\n",
        "import tensorflow_datasets as tfds\n",
        "import numpy as np\n",
        "import tensorflow as tf\n",
        "from tensorflow.keras.preprocessing.text import  Tokenizer\n",
        "from tensorflow.keras.preprocessing.sequence import  pad_sequences\n",
        "import io, time\n",
        "import matplotlib.pyplot as plt\n",
        "import pandas as pd\n",
        "from sklearn.datasets.samples_generator import make_blobs\n",
        "from sklearn.preprocessing import MinMaxScaler"
      ],
      "execution_count": null,
      "outputs": []
    },
    {
      "cell_type": "markdown",
      "metadata": {
        "id": "DLmVD8J3duWN"
      },
      "source": [
        "# 一、上传训练数据"
      ]
    },
    {
      "cell_type": "markdown",
      "metadata": {
        "id": "_5yLwzqYgPel"
      },
      "source": [
        "## 1.1 上传文件"
      ]
    },
    {
      "cell_type": "code",
      "metadata": {
        "id": "-fRmYAFf1LmY"
      },
      "source": [
        "from google.colab import files\n",
        "uploaded = files.upload()\n",
        "for fn in uploaded.keys():\n",
        "  print('User uploaded file \"{name}\" with length {length} bytes'.format(name=fn, length=len(uploaded[fn])))"
      ],
      "execution_count": null,
      "outputs": []
    },
    {
      "cell_type": "markdown",
      "metadata": {
        "id": "EEdZQbvjd5Bw"
      },
      "source": [
        "## 1.2 数据预处理"
      ]
    },
    {
      "cell_type": "code",
      "metadata": {
        "id": "W0NnOzivMpWH"
      },
      "source": [
        "# imdb, info = tfds.load('imdb_reviews', with_info=True, as_supervised=True)\n",
        "# train_data, test_data = imdb['train'], imdb['test']\n",
        "train_data = pd.read_csv('train.csv', sep='\\t', encoding='utf-8').values.tolist()\n",
        "test_data = pd.read_csv('test.csv', sep='\\t', encoding='utf-8').values.tolist()\n",
        "\n",
        "training_sentences = []\n",
        "training_labels = []\n",
        "testing_sentences = []\n",
        "testing_labels = []\n",
        "\n",
        "for s, l in train_data:\n",
        "  training_sentences.append(l)\n",
        "  training_labels.append(s)\n",
        "for s, l in test_data:\n",
        "  testing_sentences.append(l)\n",
        "  testing_labels.append(s)\n",
        "\n",
        "training_labels_final = np.array(training_labels)\n",
        "testing_labels_final = np.array(testing_labels)"
      ],
      "execution_count": null,
      "outputs": []
    },
    {
      "cell_type": "markdown",
      "metadata": {
        "id": "nBrwB148fjFW"
      },
      "source": [
        "# 二、模型训练"
      ]
    },
    {
      "cell_type": "markdown",
      "metadata": {
        "id": "-aeBCM_JeC4m"
      },
      "source": [
        "## 2.1 超参数设置"
      ]
    },
    {
      "cell_type": "code",
      "metadata": {
        "id": "mr-esDG2Ox5j"
      },
      "source": [
        "vocab_size = 10000\n",
        "embedding_dim = 16\n",
        "max_length = 120\n",
        "trunc_type = 'post'\n",
        "oov_tok = '<oov>'\n",
        "\n",
        "tokenizer = Tokenizer(num_words=vocab_size, oov_token=oov_tok)\n",
        "tokenizer.fit_on_texts(training_sentences)\n",
        "word_index = tokenizer.word_index\n",
        "\n",
        "sequences = tokenizer.texts_to_sequences(training_sentences)\n",
        "padded = pad_sequences(sequences, maxlen=max_length, truncating=trunc_type)\n",
        "testing_sentences = tokenizer.texts_to_sequences(testing_sentences)\n",
        "testing_padded = pad_sequences(testing_sentences, maxlen=max_length)"
      ],
      "execution_count": null,
      "outputs": []
    },
    {
      "cell_type": "markdown",
      "metadata": {
        "id": "CuICYZ3neLCF"
      },
      "source": [
        "## 2.2 网络-损失函数和优化器"
      ]
    },
    {
      "cell_type": "code",
      "metadata": {
        "id": "A65WG9ybQT2C"
      },
      "source": [
        "model = tf.keras.Sequential([\n",
        "                tf.keras.layers.Embedding(vocab_size, embedding_dim, input_length=max_length),\n",
        "                tf.keras.layers.Flatten(),\n",
        "                # tf.keras.layers.GlobalAveragePooling1D()\n",
        "                tf.keras.layers.Dense(6, activation='relu'),\n",
        "                tf.keras.layers.Dense(1, activation='sigmoid')\n",
        "])\n",
        "\n",
        "model.compile(loss='binary_crossentropy', optimizer='adam', metrics=['accuracy'])\n",
        "model.summary()"
      ],
      "execution_count": null,
      "outputs": []
    },
    {
      "cell_type": "markdown",
      "metadata": {
        "id": "vLZ7xb3FeWaO"
      },
      "source": [
        "## 2.3 模型训练"
      ]
    },
    {
      "cell_type": "code",
      "metadata": {
        "id": "n9nKWZZVRrU6"
      },
      "source": [
        "num_epochs = 10\n",
        "\n",
        "history = model.fit(\n",
        "    padded,\n",
        "    training_labels_final,\n",
        "    epochs=num_epochs,\n",
        "    validation_data=(testing_padded, testing_labels_final),\n",
        "    verbose=2\n",
        "    )\n",
        "print(history)"
      ],
      "execution_count": null,
      "outputs": []
    },
    {
      "cell_type": "markdown",
      "metadata": {
        "id": "pIBtSQsDejPF"
      },
      "source": [
        "# 三、训练结果"
      ]
    },
    {
      "cell_type": "markdown",
      "metadata": {
        "id": "SI13ngS-fN_2"
      },
      "source": [
        "## 3.1 loss可视化"
      ]
    },
    {
      "cell_type": "code",
      "metadata": {
        "id": "YCSOLfbsb34E"
      },
      "source": [
        "fig = plt.gcf()\n",
        "fig.set_size_inches(10, 5)\n",
        "ax1 = fig.add_subplot(111)\n",
        "ax1.set_title('Train and Validation Picture')\n",
        "ax1.set_ylabel('Loss value')\n",
        "line1, = ax1.plot(history.history['loss'], color=(0.5, 0.5, 1.0), label='Loss train')\n",
        "line2, = ax1.plot(history.history['val_loss'], color=(0.5, 1.0, 0.5), label='Loss valid')\n",
        "ax2 = ax1.twinx()\n",
        "ax2.set_ylabel('Accuracy value')\n",
        "line3, = ax2.plot(history.history['accuracy'], color=(0.5, 0.5, 0.5), label='Accuracy train')\n",
        "line4, = ax2.plot(history.history['val_accuracy'], color=(1, 0, 0), label='Accuracy valid')\n",
        "plt.legend(handles=(line1, line2, line3, line4), loc='best')\n",
        "plt.xlim(-1, 10)\n",
        "plt.show()"
      ],
      "execution_count": null,
      "outputs": []
    },
    {
      "cell_type": "markdown",
      "metadata": {
        "id": "FgJP9KtxfT4e"
      },
      "source": [
        "## 3.2 向量反转"
      ]
    },
    {
      "cell_type": "code",
      "metadata": {
        "id": "UIeofQ9qS5J7"
      },
      "source": [
        "e = model.layers[0]\n",
        "weights = e.get_weights()[0]\n",
        "print(weights.shape)\n",
        "\n",
        "reverse_word_index = dict([(value, key) for (key, value) in word_index.items()])\n",
        "def decode_review(text):\n",
        "  return ' '.join([reverse_word_index.get(i, '?') for i in text])\n",
        "\n",
        "print(decode_review(padded[1]))\n",
        "print(training_sentences[1])"
      ],
      "execution_count": null,
      "outputs": []
    },
    {
      "cell_type": "markdown",
      "metadata": {
        "id": "vdyfdou9e05t"
      },
      "source": [
        "## 3.3 向量保存"
      ]
    },
    {
      "cell_type": "code",
      "metadata": {
        "id": "exgU_Ps0UAnX"
      },
      "source": [
        "out_v = io.open('vecs.tsv', 'w', encoding='utf-8')\n",
        "out_m = io.open('meta.tsv', 'w', encoding='utf-8')\n",
        "for word_num in range(1, vocab_size):\n",
        "  word = reverse_word_index[word_num]\n",
        "  embeddings = weights[word_num]\n",
        "  out_m.write(word + '\\n')\n",
        "  out_v.write('\\t'.join([str(x) for x in embeddings]) + '\\n')\n",
        "out_v.close()\n",
        "out_m.close()"
      ],
      "execution_count": null,
      "outputs": []
    },
    {
      "cell_type": "code",
      "metadata": {
        "id": "mNy1p-MUU25w"
      },
      "source": [
        "try:\n",
        "  from google.colab import files\n",
        "except ImportError:\n",
        "  pass\n",
        "else:\n",
        "  files.download('vecs.tsv')\n",
        "  files.download('meta.tsv') "
      ],
      "execution_count": null,
      "outputs": []
    },
    {
      "cell_type": "markdown",
      "metadata": {
        "id": "moaYEO3qDqSc"
      },
      "source": [
        "# 四、模型保存"
      ]
    },
    {
      "cell_type": "code",
      "metadata": {
        "id": "BCe0baIz_t-0"
      },
      "source": [
        "# # 保存模型结构\n",
        "# json_config = model.to_json()\n",
        "# with open('model_config.json', 'w') as json_file:\n",
        "#   json_file.write(json_config)\n",
        "\n",
        "# ## HDF5 文件,单个二进制 blob，里面同时保存了模型权重、模型结构和优化器配置\n",
        "# model.save_weights('path_to_my_weights.h5')\n",
        "\n",
        "# SavedModel,使用 TensorFlow Serving 来部署模型时必须使用 SavedModel 格式\n",
        "tf.keras.models.save_model(model, './saved_models/1')\n",
        "\n",
        "# # checkpoint格式\n",
        "# model.save_weights(\"xxx.ckpt\", save_format=\"tf\")"
      ],
      "execution_count": null,
      "outputs": []
    },
    {
      "cell_type": "markdown",
      "metadata": {
        "id": "I8NgKG8nf7ld"
      },
      "source": [
        "# 五、模型预测\n",
        "```\n",
        "predictions = model.predict(my_test_data_padded) # model.predict_classes() 返回的是类别的索引，即该样本所属的类别标签\n",
        "print(my_test_data_padded)\n",
        "print(predictions)\n",
        "print(np.argmax(predictions, axis=1))\n",
        "\n",
        "#results = model.evaluate(testing_padded, testing_padded)\n",
        "#print(results)\n",
        "```"
      ]
    },
    {
      "cell_type": "code",
      "metadata": {
        "id": "6j87CTeZMxVA"
      },
      "source": [
        "my_test_sentences = pd.read_excel('imo_v1.xlsx', usecols=[0,1,2,3,4]).values.tolist()\n",
        "data = []\n",
        "\n",
        "for sen in my_test_sentences:\n",
        "  try:\n",
        "    my_test_sentences = tokenizer.texts_to_sequences(sen[2])\n",
        "    my_test_data_padded = pad_sequences(my_test_sentences, maxlen=max_length)\n",
        "    predictions_classify = model.predict_classes(my_test_data_padded)\n",
        "    predictions = model.predict(my_test_data_padded)\n",
        "    if int(predictions[0][0]) >= 1:\n",
        "      data.append([sen[0], sen[1], sen[2], sen[3], sen[4], int(predictions_classify[0][0]), predictions[0][0]])\n",
        "      #print(predictions[0][0]], sen[2])\n",
        "  except:\n",
        "    pass\n",
        "\n",
        "df = pd.DataFrame(data, columns=['day', 'opt_type', 'message', 'resource_id', 'comment_id', '标签(1=违规)', '得分'])\n",
        "df.to_excel(\"预测.xlsx\", index=False, sheet_name='Sheet1', encoding='utf-8')"
      ],
      "execution_count": null,
      "outputs": []
    },
    {
      "cell_type": "markdown",
      "metadata": {
        "id": "TmOpBMA9yuWx"
      },
      "source": [
        "# 六、Tensorflow Server"
      ]
    },
    {
      "cell_type": "code",
      "metadata": {
        "id": "OfRUW5lfLLJw"
      },
      "source": [
        "!curl -sSL https://get.daocloud.io/docker | sh\n",
        "!docker pull tensorflow/serving\n",
        "!curl https://storage.googleapis.com/tensorflow-serving-apt/tensorflow-serving.release.pub.gpg | apt-key add -\n",
        "!apt update\n",
        "!echo \"deb http://storage.googleapis.com/tensorflow-serving-apt stable tensorflow-model-server tensorflow-model-server-universal\" | tee /etc/apt/sources.list.d/tensorflow-serving.list && \\\n",
        "curl https://storage.googleapis.com/tensorflow-serving-apt/tensorflow-serving.release.pub.gpg | apt-key add -\n",
        "!apt update\n",
        "!apt-get install tensorflow-model-server"
      ],
      "execution_count": null,
      "outputs": []
    },
    {
      "cell_type": "code",
      "metadata": {
        "id": "zdH1D0MH6XDX"
      },
      "source": [
        "import os\n",
        "os.environ[\"MODEL_DIR\"] = \"/content/saved_models\"\n",
        "!ls -l /content/saved_models\n",
        "!saved_model_cli show --dir /content/saved_models/1 --all"
      ],
      "execution_count": null,
      "outputs": []
    },
    {
      "cell_type": "code",
      "metadata": {
        "id": "ZjFOqT06z8jN"
      },
      "source": [
        "%%bash --bg \n",
        "nohup tensorflow_model_server \\\n",
        "  --rest_api_port=8501 \\\n",
        "  --model_name=helloworld \\\n",
        "  --model_base_path=\"${MODEL_DIR}\" >server.log 2>&1"
      ],
      "execution_count": null,
      "outputs": []
    },
    {
      "cell_type": "code",
      "metadata": {
        "id": "CcfB3d9_7f3v"
      },
      "source": [
        "import json\n",
        "import requests\n",
        "\n",
        "def get_model_predict(list_data):\n",
        "  headers = {\"content-type\": \"application/json\"}\n",
        "  req_data = {\"signature_name\": \"serving_default\", \"instances\": list_data.tolist()}\n",
        "  json_response = requests.post('http://localhost:8501/v1/models/helloworld/versions/1:predict/classes', data=json.dumps(req_data), headers=headers)\n",
        "\n",
        "  return json_response\n",
        "\n",
        "\n",
        "\n",
        "my_test_sentences = pd.read_excel('imo_v1.xlsx', usecols=[2]).values.tolist()\n",
        "\n",
        "my_test_sentences = tokenizer.texts_to_sequences(['আপু রা এড দাও মজা পাবে আসো'])\n",
        "my_test_data_padded = pad_sequences(my_test_sentences, maxlen=max_length)\n",
        "json_response = get_model_predict(my_test_data_padded)\n",
        "print(json_response.json())\n",
        "# predictions = np.array(json.loads(json_response.text)['predictions'])\n",
        "# print(json_response.json(), np.argmax(predictions, axis=1), type(np.argmax(predictions, axis=1)[0]), int(predictions), type(int(predictions)))\n",
        "\n",
        "\n",
        "\n",
        "# imo_test_data = []\n",
        "# for sen in my_test_sentences:\n",
        "#   try:\n",
        "#     my_test_sentences = tokenizer.texts_to_sequences(sen)\n",
        "#     my_test_data_padded = pad_sequences(my_test_sentences, maxlen=max_length)\n",
        "#     json_response = get_model_predict(my_test_data_padded)\n",
        "#     predictions = np.array(json.loads(json_response.text)['predictions'])\n",
        "#     print(predictions, np.argmax(predictions, axis=1)[0], type(np.argmax(predictions, axis=1)[0]), int(predictions), type(int(predictions)))\n",
        "#     imo_test_data.append([sen[0], predictions[0][0]])\n",
        "#   except:\n",
        "#     pass\n",
        "\n",
        "# df = pd.DataFrame(imo_test_data, columns=['原文','标签'])\n",
        "# # df.to_excel(\"测试.xlsx\", index=False, sheet_name='Sheet1', encoding='utf-8')\n",
        "# df.to_csv('test_imo_content.txt', sep='\\t', index=False)"
      ],
      "execution_count": null,
      "outputs": []
    }
  ]
}