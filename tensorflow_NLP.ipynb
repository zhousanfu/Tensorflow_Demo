{
  "nbformat": 4,
  "nbformat_minor": 0,
  "metadata": {
    "colab": {
      "name": "tensorflow_NLP.ipynb",
      "private_outputs": true,
      "provenance": [],
      "collapsed_sections": [
        "lrDyb6CVfxtc",
        "DLmVD8J3duWN",
        "_5yLwzqYgPel",
        "EEdZQbvjd5Bw",
        "nBrwB148fjFW",
        "pIBtSQsDejPF",
        "SI13ngS-fN_2",
        "moaYEO3qDqSc"
      ],
      "authorship_tag": "ABX9TyOtY9L+7nAvQUi5HyP736l/",
      "include_colab_link": true
    },
    "kernelspec": {
      "name": "python3",
      "display_name": "Python 3"
    },
    "accelerator": "GPU"
  },
  "cells": [
    {
      "cell_type": "markdown",
      "metadata": {
        "id": "view-in-github",
        "colab_type": "text"
      },
      "source": [
        "<a href=\"https://colab.research.google.com/github/zhousanfu/Tensorflow_Demo/blob/master/tensorflow_NLP.ipynb\" target=\"_parent\"><img src=\"https://colab.research.google.com/assets/colab-badge.svg\" alt=\"Open In Colab\"/></a>"
      ]
    },
    {
      "cell_type": "markdown",
      "metadata": {
        "id": "lrDyb6CVfxtc"
      },
      "source": [
        "## 需要模块"
      ]
    },
    {
      "cell_type": "code",
      "metadata": {
        "id": "fyhbzl_DMbL7"
      },
      "source": [
        "!pip install -q tensorflow-datasets\n",
        "import tensorflow_datasets as tfds\n",
        "import numpy as np\n",
        "import tensorflow as tf\n",
        "from tensorflow.keras.preprocessing.text import  Tokenizer\n",
        "from tensorflow.keras.preprocessing.sequence import  pad_sequences\n",
        "import io, time\n",
        "import matplotlib.pyplot as plt\n",
        "import pandas as pd"
      ],
      "execution_count": null,
      "outputs": []
    },
    {
      "cell_type": "markdown",
      "metadata": {
        "id": "DLmVD8J3duWN"
      },
      "source": [
        "# 一、上传训练数据"
      ]
    },
    {
      "cell_type": "markdown",
      "metadata": {
        "id": "_5yLwzqYgPel"
      },
      "source": [
        "## 1.1 上传文件"
      ]
    },
    {
      "cell_type": "code",
      "metadata": {
        "id": "-fRmYAFf1LmY"
      },
      "source": [
        "from google.colab import files\r\n",
        "uploaded = files.upload()\r\n",
        "for fn in uploaded.keys():\r\n",
        "  print('User uploaded file \"{name}\" with length {length} bytes'.format(name=fn, length=len(uploaded[fn])))"
      ],
      "execution_count": null,
      "outputs": []
    },
    {
      "cell_type": "markdown",
      "metadata": {
        "id": "EEdZQbvjd5Bw"
      },
      "source": [
        "## 1.2 数据预处理"
      ]
    },
    {
      "cell_type": "code",
      "metadata": {
        "id": "W0NnOzivMpWH"
      },
      "source": [
        "# imdb, info = tfds.load('imdb_reviews', with_info=True, as_supervised=True)\n",
        "# train_data, test_data = imdb['train'], imdb['test']\n",
        "train_data = pd.read_csv('train.csv', sep='\\t').values.tolist()\n",
        "test_data = pd.read_csv('test.csv', sep='\\t').values.tolist()\n",
        "\n",
        "training_sentences = []\n",
        "training_labels = []\n",
        "testing_sentences = []\n",
        "testing_labels = []\n",
        "\n",
        "for s, l in train_data:\n",
        "  training_sentences.append(l)\n",
        "  training_labels.append(s)\n",
        "for s, l in test_data:\n",
        "  testing_sentences.append(l)\n",
        "  testing_labels.append(s)\n",
        "\n",
        "training_labels_final = np.array(training_labels)\n",
        "testing_labels_final = np.array(testing_labels)"
      ],
      "execution_count": null,
      "outputs": []
    },
    {
      "cell_type": "markdown",
      "metadata": {
        "id": "nBrwB148fjFW"
      },
      "source": [
        "# 二、模型训练"
      ]
    },
    {
      "cell_type": "markdown",
      "metadata": {
        "id": "-aeBCM_JeC4m"
      },
      "source": [
        "## 2.1 超参数设置"
      ]
    },
    {
      "cell_type": "code",
      "metadata": {
        "id": "mr-esDG2Ox5j"
      },
      "source": [
        "vocab_size = 10000\n",
        "embedding_dim = 16\n",
        "max_length = 120\n",
        "trunc_type = 'post'\n",
        "oov_tok = '<oov>'\n",
        "\n",
        "tokenizer = Tokenizer(num_words=vocab_size, oov_token=oov_tok)\n",
        "tokenizer.fit_on_texts(training_sentences)\n",
        "word_index = tokenizer.word_index\n",
        "sequences = tokenizer.texts_to_sequences(training_sentences)\n",
        "padded = pad_sequences(sequences, maxlen=max_length, truncating=trunc_type)\n",
        "\n",
        "testing_sentences = tokenizer.texts_to_sequences(testing_sentences)\n",
        "testing_padded = pad_sequences(testing_sentences, maxlen=max_length)"
      ],
      "execution_count": null,
      "outputs": []
    },
    {
      "cell_type": "markdown",
      "metadata": {
        "id": "CuICYZ3neLCF"
      },
      "source": [
        "## 2.2 网络-损失函数和优化器"
      ]
    },
    {
      "cell_type": "code",
      "metadata": {
        "id": "A65WG9ybQT2C"
      },
      "source": [
        "model = tf.keras.Sequential([\n",
        "                tf.keras.layers.Embedding(vocab_size, embedding_dim, input_length=max_length),\n",
        "                tf.keras.layers.Flatten(),\n",
        "                # tf.keras.layers.GlobalAveragePooling1D()\n",
        "                tf.keras.layers.Dense(6, activation='relu'),\n",
        "                tf.keras.layers.Dense(1, activation='sigmoid')\n",
        "])\n",
        "\n",
        "model.compile(loss='binary_crossentropy', optimizer='adam', metrics=['accuracy'])\n",
        "model.summary()"
      ],
      "execution_count": null,
      "outputs": []
    },
    {
      "cell_type": "markdown",
      "metadata": {
        "id": "vLZ7xb3FeWaO"
      },
      "source": [
        "## 2.3 模型训练"
      ]
    },
    {
      "cell_type": "code",
      "metadata": {
        "id": "n9nKWZZVRrU6"
      },
      "source": [
        "num_epochs = 10\n",
        "\n",
        "history = model.fit(\n",
        "    padded,\n",
        "    training_labels_final,\n",
        "    epochs=num_epochs,\n",
        "    validation_data=(testing_padded, testing_labels_final),\n",
        "    verbose=2\n",
        "    )\n",
        "print(history)"
      ],
      "execution_count": null,
      "outputs": []
    },
    {
      "cell_type": "markdown",
      "metadata": {
        "id": "pIBtSQsDejPF"
      },
      "source": [
        "# 三、训练结果"
      ]
    },
    {
      "cell_type": "markdown",
      "metadata": {
        "id": "SI13ngS-fN_2"
      },
      "source": [
        "## 3.1 loss可视化"
      ]
    },
    {
      "cell_type": "code",
      "metadata": {
        "id": "YCSOLfbsb34E"
      },
      "source": [
        "# def plot_graphs(history, string):\n",
        "#   # history.history.keys()\n",
        "#   # plt.plot(history.epoch, history.history.get('acc'))\n",
        "#   plt.plot(history.history[string])\n",
        "#   plt.plot(history.history['val_'+string])\n",
        "#   plt.xlabel(string)\n",
        "#   plt.ylabel(string)\n",
        "#   plt.legend([string, 'val_'+string])\n",
        "#   plt.show()\n",
        "\n",
        "# plot_graphs(history, \"acc\")\n",
        "# plot_graphs(history, \"loss\")\n",
        "\n",
        "fig = plt.gcf()\n",
        "fig.set_size_inches(10, 5)\n",
        "ax1 = fig.add_subplot(111)\n",
        "ax1.set_title('Train and Validation Picture')\n",
        "ax1.set_ylabel('Loss value')\n",
        "line1, = ax1.plot(history.history['loss'], color=(0.5, 0.5, 1.0), label='Loss train')\n",
        "line2, = ax1.plot(history.history['val_loss'], color=(0.5, 1.0, 0.5), label='Loss valid')\n",
        "ax2 = ax1.twinx()\n",
        "ax2.set_ylabel('Accuracy value')\n",
        "line3, = ax2.plot(history.history['accuracy'], color=(0.5, 0.5, 0.5), label='Accuracy train')\n",
        "line4, = ax2.plot(history.history['val_accuracy'], color=(1, 0, 0), label='Accuracy valid')\n",
        "plt.legend(handles=(line1, line2, line3, line4), loc='best')\n",
        "plt.xlim(-1, 10)\n",
        "plt.show()"
      ],
      "execution_count": null,
      "outputs": []
    },
    {
      "cell_type": "markdown",
      "metadata": {
        "id": "FgJP9KtxfT4e"
      },
      "source": [
        "## 3.2 向量反转"
      ]
    },
    {
      "cell_type": "code",
      "metadata": {
        "id": "UIeofQ9qS5J7"
      },
      "source": [
        "e = model.layers[0]\n",
        "weights = e.get_weights()[0]\n",
        "print(weights.shape)\n",
        "\n",
        "reverse_word_index = dict([(value, key) for (key, value) in word_index.items()])\n",
        "def decode_review(text):\n",
        "  return ' '.join([reverse_word_index.get(i, '?') for i in text])\n",
        "\n",
        "print(decode_review(padded[1]))\n",
        "print(training_sentences[1])"
      ],
      "execution_count": null,
      "outputs": []
    },
    {
      "cell_type": "markdown",
      "metadata": {
        "id": "vdyfdou9e05t"
      },
      "source": [
        "## 3.3 向量保存"
      ]
    },
    {
      "cell_type": "code",
      "metadata": {
        "id": "exgU_Ps0UAnX"
      },
      "source": [
        "out_v = io.open('vecs.tsv', 'w', encoding='utf-8')\n",
        "out_m = io.open('meta.tsv', 'w', encoding='utf-8')\n",
        "for word_num in range(1, vocab_size):\n",
        "  word = reverse_word_index[word_num]\n",
        "  embeddings = weights[word_num]\n",
        "  out_m.write(word + '\\n')\n",
        "  out_v.write('\\t'.join([str(x) for x in embeddings]) + '\\n')\n",
        "out_v.close()\n",
        "out_m.close()"
      ],
      "execution_count": null,
      "outputs": []
    },
    {
      "cell_type": "code",
      "metadata": {
        "id": "mNy1p-MUU25w"
      },
      "source": [
        "try:\n",
        "  from google.colab import files\n",
        "except ImportError:\n",
        "  pass\n",
        "else:\n",
        "  files.download('vecs.tsv')\n",
        "  files.download('meta.tsv') "
      ],
      "execution_count": null,
      "outputs": []
    },
    {
      "cell_type": "markdown",
      "metadata": {
        "id": "nsLrCD3sezT2"
      },
      "source": [
        ""
      ]
    },
    {
      "cell_type": "markdown",
      "metadata": {
        "id": "moaYEO3qDqSc"
      },
      "source": [
        "# 四、模型保存"
      ]
    },
    {
      "cell_type": "code",
      "metadata": {
        "id": "BCe0baIz_t-0"
      },
      "source": [
        "# 模型保存\r\n",
        "## 保存模型结构\r\n",
        "json_config = model.to_json()\r\n",
        "with open('model_config.json', 'w') as json_file:\r\n",
        "  json_file.write(json_config)\r\n",
        "\r\n",
        "## HDF5 文件,单个二进制 blob，里面同时保存了模型权重、模型结构和优化器配置\r\n",
        "model.save_weights('path_to_my_weights.h5')\r\n",
        "\r\n",
        "## SavedModel,使用 TensorFlow Serving 来部署模型时必须使用 SavedModel 格式\r\n",
        "saved_model_path = './saved_models/{}'.format(int(time.time()))\r\n",
        "tf.keras.models.save_model(model, saved_model_path)\r\n",
        "\r\n",
        "## checkpoint格式\r\n",
        "model.save_weights(\"xxx.ckpt\", save_format=\"tf\")"
      ],
      "execution_count": null,
      "outputs": []
    },
    {
      "cell_type": "markdown",
      "metadata": {
        "id": "I8NgKG8nf7ld"
      },
      "source": [
        "## 五、模型预测"
      ]
    },
    {
      "cell_type": "code",
      "metadata": {
        "id": "WLmRAM8FF0sd"
      },
      "source": [
        "\r\n",
        "# text_to_list = tf.keras.preprocessing.text.text_to_word_sequence(test_data[0][1])\r\n",
        "# num_list = [word_index[key] for key in text_to_list]\r\n",
        "# print(text_to_list, num_list)\r\n",
        "# test_list = tf.keras.preprocessing.sequence.pad_sequences([num_list],\r\n",
        "#                              padding='post',\r\n",
        "#                              truncating='post',\r\n",
        "#                              maxlen=128)\r\n",
        "\r\n",
        "# print(np.array(test_list))\r\n",
        "# pred = model.predict(test_list)\r\n",
        "# print('predict value:', sentiment_dict[np.argmax(pred)])"
      ],
      "execution_count": null,
      "outputs": []
    },
    {
      "cell_type": "code",
      "metadata": {
        "id": "VjNj3ZML7FOn"
      },
      "source": [
        "print(decode_review(testing_padded[0]))\r\n",
        "predictions = model.predict(testing_padded) # model.predict_classes 返回的是类别的索引，即该样本所属的类别标签\r\n",
        "print(predictions[0])\r\n",
        "\r\n",
        "print(np.argmax(predictions, axis=1))\r\n",
        "\r\n",
        "\r\n",
        "# results = model.evaluate(testing_padded, testing_padded)\r\n",
        "# print(results)"
      ],
      "execution_count": null,
      "outputs": []
    },
    {
      "cell_type": "code",
      "metadata": {
        "id": "xtzYOcGJqMjG"
      },
      "source": [
        "# 重新创建完全相同的模型，包括权重和优化器\r\n",
        "new_model = models.load_model('path_to_my_weights.h5')\r\n",
        "new_model.summary()\r\n",
        "\r\n",
        "loss, acc = new_model.evaluate(test_images)\r\n",
        "print(\"Restored model, accuracy: {:5.2f}%\".format(100*acc))"
      ],
      "execution_count": null,
      "outputs": []
    },
    {
      "cell_type": "markdown",
      "metadata": {
        "id": "8jTYaYbauMRr"
      },
      "source": [
        ""
      ]
    },
    {
      "cell_type": "code",
      "metadata": {
        "id": "Jgjms_TouMjj"
      },
      "source": [
        "import tensorflow as tf\r\n",
        "import numpy as np\r\n",
        "import re\r\n",
        "import os\r\n",
        "import cv2\r\n",
        "import time\r\n",
        " \r\n",
        "model_dir = '/home/xuqiong/code/effcient/'\r\n",
        "#path = '/home/xuqiong/data/testimg/nosee/test/'\r\n",
        "path = '/mnt/nas/cv_data/imagequality/fromQA/n2/5'\r\n",
        " \r\n",
        "timeall = 0\r\n",
        "# create graph\r\n",
        "with tf.Session() as sess:\r\n",
        "    with tf.gfile.FastGFile(os.path.join(model_dir, 'mymodel.pb'), 'rb') as f:\r\n",
        "        graph_def = tf.GraphDef()\r\n",
        "        graph_def.ParseFromString(f.read())\r\n",
        "        tf.import_graph_def(graph_def, name='')\r\n",
        "        #[print(n.name) for n in tf.get_default_graph().as_graph_def().node]\r\n",
        " \r\n",
        "    graph = tf.get_default_graph()\r\n",
        "    pred = graph.get_tensor_by_name('output_1:0')\r\n",
        " \r\n",
        "    #read image\r\n",
        "    filelist = os.listdir(path)\r\n",
        "    for item in filelist:\r\n",
        "        total_num_file = len(filelist)\r\n",
        "        image_dir = os.path.join(os.path.abspath(path), item)\r\n",
        "        image_data = cv2.imread(image_dir)\r\n",
        "        image_data = cv2.resize(image_data, dsize=(256,256),interpolation=cv2.INTER_LINEAR)\r\n",
        "        image_data = image_data.astype(float)\r\n",
        "        image_data /= 255\r\n",
        "        image_data = np.array([image_data])\r\n",
        " \r\n",
        "        time0 = time.time()\r\n",
        "        res = sess.run(pred, feed_dict={\"input_1:0\": image_data})\r\n",
        "        time1 = time.time()\r\n",
        "        timeclass = time1 - time0\r\n",
        "        timeall = timeall + timeclass\r\n",
        " \r\n",
        "        #print(\"res: \", res)\r\n",
        "    print(\"timeall: \", timeall*1000, \"ms, avg: \", timeall*1000/total_num_file, \"ms\")"
      ],
      "execution_count": null,
      "outputs": []
    }
  ]
}