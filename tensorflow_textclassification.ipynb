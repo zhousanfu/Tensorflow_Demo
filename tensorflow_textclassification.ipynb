{
  "nbformat": 4,
  "nbformat_minor": 0,
  "metadata": {
    "accelerator": "GPU",
    "colab": {
      "name": "tensorflow_textclassification.ipynb",
      "private_outputs": true,
      "provenance": [],
      "collapsed_sections": [],
      "toc_visible": true,
      "include_colab_link": true
    },
    "kernelspec": {
      "display_name": "Python 3",
      "language": "python",
      "name": "python3"
    },
    "language_info": {
      "codemirror_mode": {
        "name": "ipython",
        "version": 3
      },
      "file_extension": ".py",
      "mimetype": "text/x-python",
      "name": "python",
      "nbconvert_exporter": "python",
      "pygments_lexer": "ipython3",
      "version": "3.8.5"
    }
  },
  "cells": [
    {
      "cell_type": "markdown",
      "metadata": {
        "id": "view-in-github",
        "colab_type": "text"
      },
      "source": [
        "<a href=\"https://colab.research.google.com/github/zhousanfu/tensorflow_demo/blob/master/tensorflow_textclassification.ipynb\" target=\"_parent\"><img src=\"https://colab.research.google.com/assets/colab-badge.svg\" alt=\"Open In Colab\"/></a>"
      ]
    },
    {
      "cell_type": "markdown",
      "metadata": {
        "id": "lrDyb6CVfxtc"
      },
      "source": [
        "## 需要模块"
      ]
    },
    {
      "cell_type": "code",
      "metadata": {
        "ExecuteTime": {
          "end_time": "2021-03-25T01:57:16.114948Z",
          "start_time": "2021-03-25T01:57:16.111784Z"
        },
        "id": "fyhbzl_DMbL7"
      },
      "source": [
        "# !pip install -q tensorflow-datasets\n",
        "# !pip install tensorflow\n",
        "import tensorflow_datasets as tfds\n",
        "import numpy as np\n",
        "from sklearn.utils import shuffle\n",
        "from sklearn.model_selection import train_test_split\n",
        "import tensorflow as tf\n",
        "from tensorflow.keras.preprocessing.text import  Tokenizer\n",
        "from tensorflow.keras.preprocessing.sequence import  pad_sequences\n",
        "import matplotlib.pyplot as plt\n",
        "import pandas as pd\n",
        "import io, time\n",
        "from google.colab import drive\n",
        "drive.mount('/content/drive')\n",
        "# from sklearn.datasets.samples_generator import make_blobs\n",
        "# from sklearn.preprocessing import MinMaxScaler"
      ],
      "execution_count": null,
      "outputs": []
    },
    {
      "cell_type": "markdown",
      "metadata": {
        "id": "EEdZQbvjd5Bw"
      },
      "source": [
        "## 1.1 数据预处理"
      ]
    },
    {
      "cell_type": "code",
      "metadata": {
        "ExecuteTime": {
          "end_time": "2021-03-25T01:58:42.336632Z",
          "start_time": "2021-03-25T01:58:16.952239Z"
        },
        "id": "MMOpJsc2QJPr"
      },
      "source": [
        "# pd_all = pd.read_csv('tmp/imo_all.csv', sep='\\t', encoding='utf-8')\n",
        "pd_all = pd.read_excel('/content/drive/MyDrive/Colab Notebooks/data/imo_bd.xlsx')\n",
        "pd_all = shuffle(pd_all)\n",
        "review_data, label_data = pd_all.review.replace(r'\\n\\t\\r', '', regex=True), pd_all.label\n",
        "training_sentences, testing_sentences, training_labels, testing_labels = train_test_split(review_data, label_data, test_size=0.1, shuffle=shuffle)\n",
        "print(training_sentences.shape, training_labels.shape, testing_sentences.shape, testing_labels.shape)\n",
        "\n",
        "training_sentences = [' '.join(str(x).replace('\\n', '').replace('\\r', '').replace(';', ' ').split()) for x in training_sentences.tolist()]\n",
        "testing_sentences = [' '.join(str(x).replace('\\n', '').replace('\\r', '').replace(';', ' ').split()) for x in testing_sentences.tolist()]\n",
        "training_labels = training_labels.tolist()\n",
        "testing_labels = testing_labels.tolist()\n",
        "training_labels_final = np.array(training_labels)\n",
        "testing_labels_final = np.array(testing_labels)"
      ],
      "execution_count": null,
      "outputs": []
    },
    {
      "cell_type": "markdown",
      "metadata": {
        "id": "-aeBCM_JeC4m"
      },
      "source": [
        "## 2.1 超参数设置"
      ]
    },
    {
      "cell_type": "code",
      "metadata": {
        "ExecuteTime": {
          "end_time": "2021-03-25T02:03:09.399872Z",
          "start_time": "2021-03-25T02:03:09.397388Z"
        },
        "id": "mr-esDG2Ox5j"
      },
      "source": [
        "MAX_NB_WORDS = 50000 # 设置最频繁使用的50000个词\n",
        "MAX_SEQUENCE_LENGTH = 120 # 文本最大的长度\n",
        "EMBEDDING_DIM = 20 # 设置Embeddingceng层的维度\n",
        "TRUNC_TYPE = 'post'\n",
        "OOV_TOK = '<oov>'"
      ],
      "execution_count": null,
      "outputs": []
    },
    {
      "cell_type": "markdown",
      "metadata": {
        "id": "3W3Q-aYYWLT2"
      },
      "source": [
        "## 2.2 文字转换"
      ]
    },
    {
      "cell_type": "code",
      "metadata": {
        "ExecuteTime": {
          "end_time": "2021-03-25T02:03:50.729496Z",
          "start_time": "2021-03-25T02:03:33.308806Z"
        },
        "id": "mL4RoyBxQJPt"
      },
      "source": [
        "tokenizer = Tokenizer(num_words=MAX_NB_WORDS, oov_token=OOV_TOK)\n",
        "tokenizer.fit_on_texts(training_sentences)\n",
        "word_index = tokenizer.word_index\n",
        "\n",
        "training_sequences = tokenizer.texts_to_sequences(training_sentences)\n",
        "training_padded = pad_sequences(training_sequences, maxlen=MAX_SEQUENCE_LENGTH, truncating=TRUNC_TYPE)\n",
        "testing_sentences = tokenizer.texts_to_sequences(testing_sentences)\n",
        "testing_padded = pad_sequences(testing_sentences, maxlen=MAX_SEQUENCE_LENGTH)"
      ],
      "execution_count": null,
      "outputs": []
    },
    {
      "cell_type": "markdown",
      "metadata": {
        "id": "CuICYZ3neLCF"
      },
      "source": [
        "## 2.3 定义模型\n",
        "网络-损失函数和优化器"
      ]
    },
    {
      "cell_type": "markdown",
      "metadata": {
        "id": "FMaBP7oaY2Ef"
      },
      "source": [
        "### 2.3.1 RNN"
      ]
    },
    {
      "cell_type": "code",
      "metadata": {
        "ExecuteTime": {
          "end_time": "2021-03-25T02:03:12.590803Z",
          "start_time": "2021-03-25T02:03:12.388739Z"
        },
        "id": "A65WG9ybQT2C",
        "scrolled": false
      },
      "source": [
        "model = tf.keras.Sequential([\n",
        "                tf.keras.layers.Embedding(MAX_NB_WORDS, EMBEDDING_DIM, input_length=MAX_SEQUENCE_LENGTH),\n",
        "                tf.keras.layers.Flatten(),\n",
        "                # tf.keras.layers.GlobalAveragePooling1D()\n",
        "                tf.keras.layers.Dense(6, activation='relu'),\n",
        "                tf.keras.layers.Dense(1, activation='sigmoid')\n",
        "])\n",
        "\n",
        "model.compile(loss='binary_crossentropy', optimizer='adam', metrics=['accuracy'])\n",
        "model.summary()"
      ],
      "execution_count": null,
      "outputs": []
    },
    {
      "cell_type": "code",
      "metadata": {
        "ExecuteTime": {
          "end_time": "2021-03-25T02:18:57.024282Z",
          "start_time": "2021-03-25T02:04:24.092795Z"
        },
        "id": "n9nKWZZVRrU6",
        "scrolled": true
      },
      "source": [
        "num_epochs = 10\n",
        "\n",
        "history = model.fit(\n",
        "    training_padded,\n",
        "    training_labels_final,\n",
        "    epochs=num_epochs,\n",
        "    validation_data=(testing_padded, testing_labels_final),\n",
        "    verbose=2\n",
        "    )"
      ],
      "execution_count": null,
      "outputs": []
    },
    {
      "cell_type": "markdown",
      "metadata": {
        "id": "kT2FwcqDY7fl"
      },
      "source": [
        "### 2.3.2 LSTM"
      ]
    },
    {
      "cell_type": "code",
      "metadata": {
        "id": "TpvsFQf0ZBLP"
      },
      "source": [
        "model = tf.keras.Sequential()\n",
        "model.add(tf.keras.layers.Embedding(MAX_NB_WORDS, EMBEDDING_DIM, input_length=MAX_SEQUENCE_LENGTH))\n",
        "model.add(tf.keras.layers.SpatialDropout1D(0.2))\n",
        "model.add(tf.keras.layers.LSTM(100, dropout=0.2, recurrent_dropout=0.2))\n",
        "model.add(tf.keras.layers.Dense(1, activation='sigmoid'))\n",
        "model.compile(loss='binary_crossentropy', optimizer='adam', metrics=['accuracy'])\n",
        "print(model.summary())"
      ],
      "execution_count": null,
      "outputs": []
    },
    {
      "cell_type": "code",
      "metadata": {
        "id": "gu_KAvxWv4C9"
      },
      "source": [
        "epochs = 5\n",
        "batch_size = 64\n",
        " \n",
        "history = model.fit(\n",
        "    X_train,\n",
        "    Y_train,\n",
        "    epochs=epochs,\n",
        "    batch_size=batch_size,\n",
        "    validation_split=0.1,\n",
        "    callbacks=[EarlyStopping(monitor='val_loss', patience=3, min_delta=0.0001)]\n",
        "    )"
      ],
      "execution_count": null,
      "outputs": []
    },
    {
      "cell_type": "markdown",
      "metadata": {
        "id": "8o4dXpX4SOsd"
      },
      "source": [
        "### 2.3.3 TF-Hub"
      ]
    },
    {
      "cell_type": "code",
      "metadata": {
        "id": "snhNJZB7S9C9"
      },
      "source": [
        "%%bash\n",
        "curl -O https://dl.fbaipublicfiles.com/fasttext/vectors-crawl/cc.bn.300.vec.gz\n",
        "curl -O https://raw.githubusercontent.com/tensorflow/hub/master/examples/text_embeddings_v2/export_v2.py\n",
        "gunzip -qf cc.bn.300.vec.gz --k\n",
        "\n",
        "python export_v2.py --embedding_file=cc.bn.300.vec --export_path=text_module --num_lines_to_ignore=1 --num_lines_to_use=100000"
      ],
      "execution_count": null,
      "outputs": []
    },
    {
      "cell_type": "code",
      "metadata": {
        "id": "tB29gig-RxTV"
      },
      "source": [
        "import tensorflow_hub as hub\n",
        "module_path = \"text_module\"\n",
        "embedding_layer = hub.KerasLayer(module_path, trainable=False)\n",
        "\n",
        "model = tf.keras.Sequential([\n",
        "  tf.keras.layers.Input(shape=[], dtype=tf.string),\n",
        "  embedding_layer,\n",
        "  tf.keras.layers.Dense(64, activation=\"relu\"),\n",
        "  tf.keras.layers.Dense(16, activation=\"relu\"),\n",
        "  tf.keras.layers.Dense(1),\n",
        "])\n",
        "model.compile(loss=tf.losses.SparseCategoricalCrossentropy(from_logits=True),optimizer=\"adam\", metrics=['accuracy'])\n",
        "model.summary()"
      ],
      "execution_count": null,
      "outputs": []
    },
    {
      "cell_type": "code",
      "metadata": {
        "id": "YhQayKlOU5a1"
      },
      "source": [
        "pd_all = pd.read_excel('tmp/imo_bd.xlsx', usecols=[1,0])\n",
        "pd_all = shuffle(pd_all)\n",
        "training_sentences, testing_sentences, training_labels, testing_labels = train_test_split(pd_all.review, pd_all.label, test_size=0.1, shuffle=shuffle)\n",
        "training_sentences = [' '.join(str(x).replace('\\n', '').replace('\\r', '').replace(';', ' ').split()) for x in training_sentences.tolist()]\n",
        "testing_sentences = [' '.join(str(x).replace('\\n', '').replace('\\r', '').replace(';', ' ').split()) for x in testing_sentences.tolist()]\n",
        "# train_and_label = pd.DataFrame({'review':training_sentences, 'label':training_labels})\n",
        "# test_and_label = pd.DataFrame({'review':testing_sentences, 'label':testing_labels})\n",
        "\n",
        "\n",
        "\n",
        "train_and_label = tf.data.Dataset.from_tensor_slices((training_sentences, training_labels))\n",
        "test_and_label = tf.data.Dataset.from_tensor_slices((testing_sentences, testing_labels))\n",
        "print(train_and_label)\n",
        "# <PrefetchDataset shapes: ((None,), (None,)), types: (tf.string, tf.int64)>"
      ],
      "execution_count": null,
      "outputs": []
    },
    {
      "cell_type": "code",
      "metadata": {
        "id": "DhCwy8flR778"
      },
      "source": [
        "history = model.fit(\n",
        "    (training_labels, training_labels),\n",
        "    validation_data=(testing_sentences, testing_labels),\n",
        "    epochs=5,\n",
        "    callbacks=[tf.keras.callbacks.EarlyStopping(monitor='val_loss', min_delta=0, patience=3)]\n",
        "    )"
      ],
      "execution_count": null,
      "outputs": []
    },
    {
      "cell_type": "markdown",
      "metadata": {
        "id": "SI13ngS-fN_2"
      },
      "source": [
        "## 3.1 loss可视化"
      ]
    },
    {
      "cell_type": "code",
      "metadata": {
        "ExecuteTime": {
          "end_time": "2021-03-25T02:29:45.161495Z",
          "start_time": "2021-03-25T02:29:44.868575Z"
        },
        "id": "YCSOLfbsb34E"
      },
      "source": [
        "fig = plt.gcf()\n",
        "fig.set_size_inches(10, 5)\n",
        "ax1 = fig.add_subplot(111)\n",
        "ax1.set_title('Train and Validation Picture')\n",
        "ax1.set_ylabel('Loss value')\n",
        "line1, = ax1.plot(history.history['loss'], color=(0.5, 0.5, 1.0), label='Loss train')\n",
        "line2, = ax1.plot(history.history['val_loss'], color=(0.5, 1.0, 0.5), label='Loss valid')\n",
        "ax2 = ax1.twinx()\n",
        "ax2.set_ylabel('Accuracy value')\n",
        "line3, = ax2.plot(history.history['accuracy'], color=(0.5, 0.5, 0.5), label='Accuracy train')\n",
        "line4, = ax2.plot(history.history['val_accuracy'], color=(1, 0, 0), label='Accuracy valid')\n",
        "plt.legend(handles=(line1, line2, line3, line4), loc='best')\n",
        "plt.xlim(-1, 10)\n",
        "plt.show()"
      ],
      "execution_count": null,
      "outputs": []
    },
    {
      "cell_type": "markdown",
      "metadata": {
        "id": "FgJP9KtxfT4e"
      },
      "source": [
        "## 3.2 向量反转"
      ]
    },
    {
      "cell_type": "code",
      "metadata": {
        "ExecuteTime": {
          "end_time": "2021-03-24T01:27:42.046742Z",
          "start_time": "2021-03-24T01:27:41.976275Z"
        },
        "id": "UIeofQ9qS5J7"
      },
      "source": [
        "e = model.layers[0]\n",
        "weights = e.get_weights()[0]\n",
        "print(weights.shape)\n",
        "\n",
        "reverse_word_index = dict([(value, key) for (key, value) in word_index.items()])\n",
        "def decode_review(text):\n",
        "  return ' '.join([reverse_word_index.get(i, '0') for i in text])\n",
        "\n",
        "print(decode_review(padded[1]))\n",
        "print(training_sentences[1])"
      ],
      "execution_count": null,
      "outputs": []
    },
    {
      "cell_type": "markdown",
      "metadata": {
        "id": "vdyfdou9e05t"
      },
      "source": [
        "## 3.3 模型保存"
      ]
    },
    {
      "cell_type": "code",
      "metadata": {
        "ExecuteTime": {
          "end_time": "2021-03-23T16:35:09.150889Z",
          "start_time": "2021-03-23T16:35:08.581575Z"
        },
        "id": "BCe0baIz_t-0"
      },
      "source": [
        "# # 保存模型结构\n",
        "# json_config = model.to_json()\n",
        "# with open('model_config.json', 'w') as json_file:\n",
        "#   json_file.write(json_config)\n",
        "\n",
        "# ## HDF5 文件,单个二进制 blob，里面同时保存了模型权重、模型结构和优化器配置\n",
        "# model.save_weights('path_to_my_weights.h5')\n",
        "\n",
        "# SavedModel,使用 TensorFlow Serving 来部署模型时必须使用 SavedModel 格式\n",
        "tf.keras.models.save_model(model, './saved_models/1')\n",
        "\n",
        "# # checkpoint格式\n",
        "# model.save_weights(\"xxx.ckpt\", save_format=\"tf\")"
      ],
      "execution_count": null,
      "outputs": []
    },
    {
      "cell_type": "markdown",
      "metadata": {
        "hide_input": false,
        "id": "I8NgKG8nf7ld"
      },
      "source": [
        "## 4.1 模型预测"
      ]
    },
    {
      "cell_type": "code",
      "metadata": {
        "ExecuteTime": {
          "end_time": "2021-03-25T02:33:11.274626Z",
          "start_time": "2021-03-25T02:33:00.325264Z"
        },
        "id": "rKVfLB7kQJPx"
      },
      "source": [
        "class process_bar(object):\n",
        "    def __init__(self, number=50, decimal=2):\n",
        "        self.decimal = decimal\n",
        "        self.number = number\n",
        "        self.a = 100/number\n",
        " \n",
        "    def __call__(self, now, total):\n",
        "        percentage = self.percentage_number(now, total)\n",
        "        well_num = int(percentage / self.a)\n",
        "        progress_bar_num = self.progress_bar(well_num)\n",
        "        result = \"\\r%s %s\" % (progress_bar_num, percentage)\n",
        "        return result\n",
        " \n",
        "    def percentage_number(self, now, total):\n",
        "        return round(now / total * 100, self.decimal)\n",
        " \n",
        "    def progress_bar(self, num):\n",
        "        well_num = \"#\" * num\n",
        "        space_num = \" \" * (self.number - num)\n",
        "        return '[%s%s]' % (well_num, space_num)\n",
        "\n",
        "\n",
        "def predict_text(text_sent):\n",
        "  try:\n",
        "    text_sentences = tokenizer.texts_to_sequences(text_sent[2])\n",
        "    my_text_padded = pad_sequences(text_sentences, maxlen=MAX_SEQUENCE_LENGTH)\n",
        "    predictions_classify = model.predict_classes(my_text_padded) # model.predict_classes() 返回的是类别的索引，即该样本所属的类别标签\n",
        "    if int(predictions_classify[0][0]) >= 1:\n",
        "      predictions = model.predict(my_text_padded)\n",
        "      data.append(text_sent[0],text_sent[1],text_sent[2],text_sent[3],text_sent[4],predictions_classify,predictions)\n",
        "  except:\n",
        "    pass"
      ],
      "execution_count": null,
      "outputs": []
    },
    {
      "cell_type": "code",
      "metadata": {
        "ExecuteTime": {
          "end_time": "2021-03-25T02:34:19.630489Z",
          "start_time": "2021-03-25T02:33:45.401480Z"
        },
        "id": "r4n1hkSEQJPx"
      },
      "source": [
        "from multiprocessing import Pool\n",
        "\n",
        "\n",
        "my_test_sentences = pd.read_excel('/content/drive/MyDrive/Colab Notebooks/data/imo_con_0324.xlsx', usecols=[0,1,2,3,4]).values.tolist()\n",
        "\n",
        "data = []\n",
        "bar = process_bar()\n",
        "pool = Pool(processes=100)\n",
        "for sen in range(len(my_test_sentences)):\n",
        "  pool.apply_async(predict_text, args=(my_test_sentences[sen]))\n",
        "  print(bar(sen, len(my_test_sentences)), end='')\n",
        "pool.close()\n",
        "pool.join()\n",
        "\n",
        "df = pd.DataFrame(data, columns=['day', 'opt_type', 'message', 'resource_id', 'comment_id', '标签(1=违规)', '得分'])\n",
        "df.to_excel(\"预测.xlsx\", index=False, sheet_name='Sheet1', encoding='utf-8')"
      ],
      "execution_count": null,
      "outputs": []
    }
  ]
}