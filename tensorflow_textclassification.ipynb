{
  "nbformat": 4,
  "nbformat_minor": 0,
  "metadata": {
    "colab": {
      "name": "tensorflow_textclassification.ipynb",
      "provenance": [],
      "collapsed_sections": [
        "kT2FwcqDY7fl",
        "19A50hUL-3fU",
        "FgJP9KtxfT4e"
      ],
      "toc_visible": true,
      "include_colab_link": true
    },
    "kernelspec": {
      "display_name": "Python 3",
      "language": "python",
      "name": "python3"
    },
    "language_info": {
      "codemirror_mode": {
        "name": "ipython",
        "version": 3
      },
      "file_extension": ".py",
      "mimetype": "text/x-python",
      "name": "python",
      "nbconvert_exporter": "python",
      "pygments_lexer": "ipython3",
      "version": "3.8.5"
    },
    "accelerator": "TPU"
  },
  "cells": [
    {
      "cell_type": "markdown",
      "metadata": {
        "id": "view-in-github",
        "colab_type": "text"
      },
      "source": [
        "<a href=\"https://colab.research.google.com/github/zhousanfu/tensorflow_demo/blob/master/tensorflow_textclassification.ipynb\" target=\"_parent\"><img src=\"https://colab.research.google.com/assets/colab-badge.svg\" alt=\"Open In Colab\"/></a>"
      ]
    },
    {
      "cell_type": "markdown",
      "metadata": {
        "id": "lrDyb6CVfxtc"
      },
      "source": [
        "## 需要模块"
      ]
    },
    {
      "cell_type": "code",
      "metadata": {
        "ExecuteTime": {
          "end_time": "2021-03-25T01:57:16.114948Z",
          "start_time": "2021-03-25T01:57:16.111784Z"
        },
        "id": "fyhbzl_DMbL7",
        "colab": {
          "base_uri": "https://localhost:8080/"
        },
        "outputId": "990d3b13-86b5-4d57-d2bf-2be0e09b1e33"
      },
      "source": [
        "# !pip install -q tensorflow-datasets\n",
        "# !pip install tensorflow\n",
        "import tensorflow_datasets as tfds\n",
        "import numpy as np\n",
        "from sklearn.utils import shuffle\n",
        "from sklearn.model_selection import train_test_split\n",
        "import tensorflow as tf\n",
        "from tensorflow.keras.preprocessing.text import  Tokenizer\n",
        "from tensorflow.keras.preprocessing.sequence import  pad_sequences\n",
        "import matplotlib.pyplot as plt\n",
        "import pandas as pd\n",
        "import io, time\n",
        "from google.colab import drive\n",
        "drive.mount('/content/drive')\n",
        "# from sklearn.datasets.samples_generator import make_blobs\n",
        "# from sklearn.preprocessing import MinMaxScaler"
      ],
      "execution_count": 1,
      "outputs": [
        {
          "output_type": "stream",
          "text": [
            "Drive already mounted at /content/drive; to attempt to forcibly remount, call drive.mount(\"/content/drive\", force_remount=True).\n"
          ],
          "name": "stdout"
        }
      ]
    },
    {
      "cell_type": "markdown",
      "metadata": {
        "id": "EEdZQbvjd5Bw"
      },
      "source": [
        "## 1.1 数据预处理"
      ]
    },
    {
      "cell_type": "code",
      "metadata": {
        "ExecuteTime": {
          "end_time": "2021-03-25T01:58:42.336632Z",
          "start_time": "2021-03-25T01:58:16.952239Z"
        },
        "id": "MMOpJsc2QJPr",
        "colab": {
          "base_uri": "https://localhost:8080/"
        },
        "outputId": "7e183d20-1749-437a-cb27-79269ba53e10"
      },
      "source": [
        "# pd_all = pd.read_csv('tmp/imo_all.csv', sep='\\t', encoding='utf-8')\n",
        "pd_all = pd.read_csv('/content/drive/MyDrive/Colab Notebooks/data/imo_train_user_profile.csv')\n",
        "pd_all = shuffle(pd_all)\n",
        "review_data, label_data = pd_all.review.replace(r'\\n\\t\\r', '', regex=True), pd_all.label\n",
        "training_sentences, testing_sentences, training_labels, testing_labels = train_test_split(review_data, label_data, test_size=0.1, shuffle=shuffle)\n",
        "print(training_sentences.shape, training_labels.shape, testing_sentences.shape, testing_labels.shape)\n",
        "\n",
        "training_sentences = [' '.join(str(x).replace('\\n', '').replace('\\r', '').replace(';', ' ').split()) for x in training_sentences.tolist()]\n",
        "testing_sentences = [' '.join(str(x).replace('\\n', '').replace('\\r', '').replace(';', ' ').split()) for x in testing_sentences.tolist()]\n",
        "training_labels = training_labels.tolist()\n",
        "testing_labels = testing_labels.tolist()\n",
        "training_labels_final = np.array(training_labels)\n",
        "testing_labels_final = np.array(testing_labels)\n",
        "\n",
        "\n",
        "# train_and_label = tf.data.Dataset.from_tensor_slices((np.array(training_sentences), training_labels_final))\n",
        "# test_and_label = tf.data.Dataset.from_tensor_slices((np.array(testing_sentences), testing_labels_final))\n",
        "# # <PrefetchDataset shapes: ((None,), (None,)), types: (tf.string, tf.int64)>\n",
        "# print(train_and_label.shard)\n",
        "# print(test_and_label.shard)"
      ],
      "execution_count": 2,
      "outputs": [
        {
          "output_type": "stream",
          "text": [
            "(449999,) (449999,) (50000,) (50000,)\n"
          ],
          "name": "stdout"
        }
      ]
    },
    {
      "cell_type": "markdown",
      "metadata": {
        "id": "-aeBCM_JeC4m"
      },
      "source": [
        "## 2.1 超参数设置"
      ]
    },
    {
      "cell_type": "code",
      "metadata": {
        "ExecuteTime": {
          "end_time": "2021-03-25T02:03:09.399872Z",
          "start_time": "2021-03-25T02:03:09.397388Z"
        },
        "id": "mr-esDG2Ox5j"
      },
      "source": [
        "MAX_NB_WORDS = 50000      # 设置最频繁使用的XXX个词\n",
        "MAX_SEQUENCE_LENGTH = 256   # 文本最大的长度\n",
        "EMBEDDING_DIM = 16       # 设置Embeddingceng层的维度\n",
        "TRUNC_TYPE = 'post'\n",
        "OOV_TOK = '<oov>'"
      ],
      "execution_count": 4,
      "outputs": []
    },
    {
      "cell_type": "markdown",
      "metadata": {
        "id": "blOhlr2dENri"
      },
      "source": [
        "### 2.1.1 文字向量"
      ]
    },
    {
      "cell_type": "code",
      "metadata": {
        "id": "HhZPNLUWEKgj"
      },
      "source": [
        "tokenizer = Tokenizer(num_words=MAX_NB_WORDS, oov_token=OOV_TOK)\n",
        "tokenizer.fit_on_texts(training_sentences)\n",
        "word_index = tokenizer.word_index\n",
        "\n",
        "training_sequences = tokenizer.texts_to_sequences(training_sentences)\n",
        "training_padded = pad_sequences(training_sequences, maxlen=MAX_SEQUENCE_LENGTH, truncating=TRUNC_TYPE)\n",
        "testing_sentences = tokenizer.texts_to_sequences(testing_sentences)\n",
        "testing_padded = pad_sequences(testing_sentences, maxlen=MAX_SEQUENCE_LENGTH)"
      ],
      "execution_count": 5,
      "outputs": []
    },
    {
      "cell_type": "markdown",
      "metadata": {
        "id": "CuICYZ3neLCF"
      },
      "source": [
        "## 2.2 定义模型\n",
        "网络-损失函数和优化器"
      ]
    },
    {
      "cell_type": "markdown",
      "metadata": {
        "id": "FMaBP7oaY2Ef"
      },
      "source": [
        "### 2.2.1 基本"
      ]
    },
    {
      "cell_type": "code",
      "metadata": {
        "ExecuteTime": {
          "end_time": "2021-03-25T02:03:12.590803Z",
          "start_time": "2021-03-25T02:03:12.388739Z"
        },
        "id": "A65WG9ybQT2C",
        "scrolled": false,
        "colab": {
          "base_uri": "https://localhost:8080/"
        },
        "outputId": "bcc8f614-bc5b-44bc-d2db-883b3b243f21"
      },
      "source": [
        "model = tf.keras.Sequential([\n",
        "  tf.keras.layers.Embedding(MAX_NB_WORDS, EMBEDDING_DIM),\n",
        "  tf.keras.layers.GlobalAveragePooling1D(),\n",
        "  tf.keras.layers.Dense(16, activation='relu'),\n",
        "  tf.keras.layers.Dense(1, activation='sigmoid')\n",
        "])\n",
        "\n",
        "model.compile(loss='binary_crossentropy', optimizer='adam', metrics=['accuracy'])\n",
        "model.summary()"
      ],
      "execution_count": 6,
      "outputs": [
        {
          "output_type": "stream",
          "text": [
            "Model: \"sequential\"\n",
            "_________________________________________________________________\n",
            "Layer (type)                 Output Shape              Param #   \n",
            "=================================================================\n",
            "embedding (Embedding)        (None, None, 16)          800000    \n",
            "_________________________________________________________________\n",
            "global_average_pooling1d (Gl (None, 16)                0         \n",
            "_________________________________________________________________\n",
            "dense (Dense)                (None, 16)                272       \n",
            "_________________________________________________________________\n",
            "dense_1 (Dense)              (None, 1)                 17        \n",
            "=================================================================\n",
            "Total params: 800,289\n",
            "Trainable params: 800,289\n",
            "Non-trainable params: 0\n",
            "_________________________________________________________________\n"
          ],
          "name": "stdout"
        }
      ]
    },
    {
      "cell_type": "code",
      "metadata": {
        "ExecuteTime": {
          "end_time": "2021-03-25T02:18:57.024282Z",
          "start_time": "2021-03-25T02:04:24.092795Z"
        },
        "id": "n9nKWZZVRrU6",
        "scrolled": true,
        "colab": {
          "base_uri": "https://localhost:8080/"
        },
        "outputId": "f4419a0a-b5cd-429f-8d04-5943b35281f3"
      },
      "source": [
        "num_epochs = 10\n",
        "\n",
        "history = model.fit(\n",
        "  training_padded,\n",
        "  training_labels_final,\n",
        "  epochs=num_epochs,\n",
        "  batch_size=MAX_SEQUENCE_LENGTH,\n",
        "  validation_data=(testing_padded, testing_labels_final),\n",
        "  verbose=1\n",
        "  )"
      ],
      "execution_count": 7,
      "outputs": [
        {
          "output_type": "stream",
          "text": [
            "Epoch 1/10\n",
            "1758/1758 [==============================] - 29s 16ms/step - loss: 0.4300 - accuracy: 0.8619 - val_loss: 0.3385 - val_accuracy: 0.8771\n",
            "Epoch 2/10\n",
            "1758/1758 [==============================] - 27s 16ms/step - loss: 0.3094 - accuracy: 0.8827 - val_loss: 0.2630 - val_accuracy: 0.9030\n",
            "Epoch 3/10\n",
            "1758/1758 [==============================] - 27s 16ms/step - loss: 0.2495 - accuracy: 0.9063 - val_loss: 0.2467 - val_accuracy: 0.9135\n",
            "Epoch 4/10\n",
            "1758/1758 [==============================] - 28s 16ms/step - loss: 0.2299 - accuracy: 0.9144 - val_loss: 0.2343 - val_accuracy: 0.9158\n",
            "Epoch 5/10\n",
            "1758/1758 [==============================] - 28s 16ms/step - loss: 0.2161 - accuracy: 0.9200 - val_loss: 0.2282 - val_accuracy: 0.9194\n",
            "Epoch 6/10\n",
            "1758/1758 [==============================] - 28s 16ms/step - loss: 0.2056 - accuracy: 0.9242 - val_loss: 0.2220 - val_accuracy: 0.9204\n",
            "Epoch 7/10\n",
            "1758/1758 [==============================] - 28s 16ms/step - loss: 0.1984 - accuracy: 0.9270 - val_loss: 0.2190 - val_accuracy: 0.9210\n",
            "Epoch 8/10\n",
            "1758/1758 [==============================] - 28s 16ms/step - loss: 0.1901 - accuracy: 0.9297 - val_loss: 0.2214 - val_accuracy: 0.9240\n",
            "Epoch 9/10\n",
            "1758/1758 [==============================] - 28s 16ms/step - loss: 0.1859 - accuracy: 0.9315 - val_loss: 0.2156 - val_accuracy: 0.9236\n",
            "Epoch 10/10\n",
            "1758/1758 [==============================] - 28s 16ms/step - loss: 0.1791 - accuracy: 0.9337 - val_loss: 0.2153 - val_accuracy: 0.9231\n"
          ],
          "name": "stdout"
        }
      ]
    },
    {
      "cell_type": "markdown",
      "metadata": {
        "id": "kT2FwcqDY7fl"
      },
      "source": [
        "### 2.2.2 RNN"
      ]
    },
    {
      "cell_type": "code",
      "metadata": {
        "id": "TpvsFQf0ZBLP"
      },
      "source": [
        "model = tf.keras.Sequential()\n",
        "model.add(tf.keras.layers.Embedding(MAX_NB_WORDS, EMBEDDING_DIM, input_length=MAX_SEQUENCE_LENGTH))\n",
        "model.add(tf.keras.layers.SpatialDropout1D(0.2))\n",
        "model.add(tf.keras.layers.LSTM(100, dropout=0.2, recurrent_dropout=0.2))\n",
        "model.add(tf.keras.layers.Dense(1, activation='sigmoid'))\n",
        "model.compile(loss='binary_crossentropy', optimizer='adam', metrics=['accuracy'])\n",
        "print(model.summary())"
      ],
      "execution_count": null,
      "outputs": []
    },
    {
      "cell_type": "code",
      "metadata": {
        "id": "gu_KAvxWv4C9"
      },
      "source": [
        "epochs = 5\n",
        "batch_size = 64\n",
        " \n",
        "history = model.fit(\n",
        "    X_train,\n",
        "    Y_train,\n",
        "    epochs=epochs,\n",
        "    batch_size=batch_size,\n",
        "    validation_split=0.1,\n",
        "    callbacks=[EarlyStopping(monitor='val_loss', patience=3, min_delta=0.0001)]\n",
        "    )"
      ],
      "execution_count": null,
      "outputs": []
    },
    {
      "cell_type": "markdown",
      "metadata": {
        "id": "8o4dXpX4SOsd"
      },
      "source": [
        "### 2.2.3 TF-Hub"
      ]
    },
    {
      "cell_type": "code",
      "metadata": {
        "id": "snhNJZB7S9C9"
      },
      "source": [
        "%%bash\n",
        "curl -O https://dl.fbaipublicfiles.com/fasttext/vectors-crawl/cc.bn.300.vec.gz\n",
        "curl -O https://raw.githubusercontent.com/tensorflow/hub/master/examples/text_embeddings_v2/export_v2.py\n",
        "gunzip -qf cc.bn.300.vec.gz --k\n",
        "\n",
        "python export_v2.py --embedding_file=cc.bn.300.vec --export_path=text_module --num_lines_to_ignore=1 --num_lines_to_use=100000"
      ],
      "execution_count": null,
      "outputs": []
    },
    {
      "cell_type": "code",
      "metadata": {
        "colab": {
          "base_uri": "https://localhost:8080/",
          "height": 265
        },
        "id": "ffEZ1mLvvu7k",
        "outputId": "9226eb64-3141-4c44-eaec-fd1e3941d41c"
      },
      "source": [
        "import tensorflow_hub as hub\n",
        "module_path = \"text_module\"\n",
        "embedding_layer = hub.KerasLayer(module_path, input_shape=[], dtype=tf.string, trainable=False)\n",
        "embedding_layer(train_and_label[:1])"
      ],
      "execution_count": null,
      "outputs": [
        {
          "output_type": "stream",
          "text": [
            "WARNING:tensorflow:11 out of the last 11 calls to <function recreate_function.<locals>.restored_function_body at 0x7f20b65c27a0> triggered tf.function retracing. Tracing is expensive and the excessive number of tracings could be due to (1) creating @tf.function repeatedly in a loop, (2) passing tensors with different shapes, (3) passing Python objects instead of tensors. For (1), please define your @tf.function outside of the loop. For (2), @tf.function has experimental_relax_shapes=True option that relaxes argument shapes that can avoid unnecessary retracing. For (3), please refer to https://www.tensorflow.org/guide/function#controlling_retracing and https://www.tensorflow.org/api_docs/python/tf/function for  more details.\n",
            "WARNING:tensorflow:11 out of the last 11 calls to <function recreate_function.<locals>.restored_function_body at 0x7f20b65c2e60> triggered tf.function retracing. Tracing is expensive and the excessive number of tracings could be due to (1) creating @tf.function repeatedly in a loop, (2) passing tensors with different shapes, (3) passing Python objects instead of tensors. For (1), please define your @tf.function outside of the loop. For (2), @tf.function has experimental_relax_shapes=True option that relaxes argument shapes that can avoid unnecessary retracing. For (3), please refer to https://www.tensorflow.org/guide/function#controlling_retracing and https://www.tensorflow.org/api_docs/python/tf/function for  more details.\n"
          ],
          "name": "stdout"
        },
        {
          "output_type": "error",
          "ename": "TypeError",
          "evalue": "ignored",
          "traceback": [
            "\u001b[0;31m---------------------------------------------------------------------------\u001b[0m",
            "\u001b[0;31mTypeError\u001b[0m                                 Traceback (most recent call last)",
            "\u001b[0;32m<ipython-input-124-40d44c2ba200>\u001b[0m in \u001b[0;36m<module>\u001b[0;34m()\u001b[0m\n\u001b[1;32m      2\u001b[0m \u001b[0mmodule_path\u001b[0m \u001b[0;34m=\u001b[0m \u001b[0;34m\"text_module\"\u001b[0m\u001b[0;34m\u001b[0m\u001b[0;34m\u001b[0m\u001b[0m\n\u001b[1;32m      3\u001b[0m \u001b[0membedding_layer\u001b[0m \u001b[0;34m=\u001b[0m \u001b[0mhub\u001b[0m\u001b[0;34m.\u001b[0m\u001b[0mKerasLayer\u001b[0m\u001b[0;34m(\u001b[0m\u001b[0mmodule_path\u001b[0m\u001b[0;34m,\u001b[0m \u001b[0minput_shape\u001b[0m\u001b[0;34m=\u001b[0m\u001b[0;34m[\u001b[0m\u001b[0;34m]\u001b[0m\u001b[0;34m,\u001b[0m \u001b[0mdtype\u001b[0m\u001b[0;34m=\u001b[0m\u001b[0mtf\u001b[0m\u001b[0;34m.\u001b[0m\u001b[0mstring\u001b[0m\u001b[0;34m,\u001b[0m \u001b[0mtrainable\u001b[0m\u001b[0;34m=\u001b[0m\u001b[0;32mFalse\u001b[0m\u001b[0;34m)\u001b[0m\u001b[0;34m\u001b[0m\u001b[0;34m\u001b[0m\u001b[0m\n\u001b[0;32m----> 4\u001b[0;31m \u001b[0membedding_layer\u001b[0m\u001b[0;34m(\u001b[0m\u001b[0mtrain_and_label\u001b[0m\u001b[0;34m[\u001b[0m\u001b[0;34m:\u001b[0m\u001b[0;36m1\u001b[0m\u001b[0;34m]\u001b[0m\u001b[0;34m)\u001b[0m\u001b[0;34m\u001b[0m\u001b[0;34m\u001b[0m\u001b[0m\n\u001b[0m",
            "\u001b[0;31mTypeError\u001b[0m: 'TensorSliceDataset' object is not subscriptable"
          ]
        }
      ]
    },
    {
      "cell_type": "code",
      "metadata": {
        "id": "tB29gig-RxTV"
      },
      "source": [
        "model = tf.keras.Sequential([\n",
        "  tf.keras.layers.Input(shape=[], dtype=tf.string),\n",
        "  embedding_layer,\n",
        "  tf.keras.layers.Dense(64, activation=\"relu\"),\n",
        "  tf.keras.layers.Dense(16, activation=\"relu\"),\n",
        "  tf.keras.layers.Dense(1, activation=\"sigmoid\"),\n",
        "  ])\n",
        "model.compile(loss=tf.losses.SparseCategoricalCrossentropy(from_logits=True),optimizer=\"adam\", metrics=['accuracy'])\n",
        "model.summary()"
      ],
      "execution_count": null,
      "outputs": []
    },
    {
      "cell_type": "code",
      "metadata": {
        "id": "DhCwy8flR778"
      },
      "source": [
        "history = model.fit(\n",
        "  train_and_label,\n",
        "  validation_data=(test_and_label),\n",
        "  epochs=5,\n",
        "  callbacks=[tf.keras.callbacks.EarlyStopping(monitor='val_loss', min_delta=0, patience=3)]\n",
        "  )"
      ],
      "execution_count": null,
      "outputs": []
    },
    {
      "cell_type": "markdown",
      "metadata": {
        "id": "19A50hUL-3fU"
      },
      "source": [
        "## 2.3 tpu训练"
      ]
    },
    {
      "cell_type": "code",
      "metadata": {
        "colab": {
          "base_uri": "https://localhost:8080/"
        },
        "id": "Otrcdu7E-0T7",
        "outputId": "7858f72e-4b1c-4c5f-a058-f1035dfe9ef4"
      },
      "source": [
        "tpu = tf.distribute.cluster_resolver.TPUClusterResolver()\n",
        "tf.config.experimental_connect_to_cluster(tpu)\n",
        "tf.tpu.experimental.initialize_tpu_system(tpu)\n",
        "strategy = tf.distribute.experimental.TPUStrategy(tpu)\n",
        "with strategy.scope():\n",
        "  model = tf.keras.Sequential([\n",
        "              tf.keras.layers.Embedding(MAX_NB_WORDS, EMBEDDING_DIM, input_length=MAX_SEQUENCE_LENGTH),\n",
        "              tf.keras.layers.Flatten(),\n",
        "              # tf.keras.layers.GlobalAveragePooling1D()\n",
        "              tf.keras.layers.Dense(6, activation='relu'),\n",
        "              tf.keras.layers.Dense(1, activation='sigmoid')\n",
        "              ])\n",
        "  model.compile(loss='binary_crossentropy', optimizer='adam', metrics=['accuracy'])\n",
        "\n",
        "num_epochs = 5\n",
        "\n",
        "history = model.fit(\n",
        "    training_padded,\n",
        "    training_labels_final,\n",
        "    epochs=num_epochs,\n",
        "    validation_data=(testing_padded, testing_labels_final),\n",
        "    verbose=2\n",
        "    )"
      ],
      "execution_count": null,
      "outputs": [
        {
          "output_type": "stream",
          "text": [
            "WARNING:tensorflow:TPU system grpc://10.51.52.2:8470 has already been initialized. Reinitializing the TPU can cause previously created variables on TPU to be lost.\n"
          ],
          "name": "stdout"
        },
        {
          "output_type": "stream",
          "text": [
            "WARNING:tensorflow:TPU system grpc://10.51.52.2:8470 has already been initialized. Reinitializing the TPU can cause previously created variables on TPU to be lost.\n"
          ],
          "name": "stderr"
        },
        {
          "output_type": "stream",
          "text": [
            "INFO:tensorflow:Initializing the TPU system: grpc://10.51.52.2:8470\n"
          ],
          "name": "stdout"
        },
        {
          "output_type": "stream",
          "text": [
            "INFO:tensorflow:Initializing the TPU system: grpc://10.51.52.2:8470\n"
          ],
          "name": "stderr"
        },
        {
          "output_type": "stream",
          "text": [
            "INFO:tensorflow:Clearing out eager caches\n"
          ],
          "name": "stdout"
        },
        {
          "output_type": "stream",
          "text": [
            "INFO:tensorflow:Clearing out eager caches\n"
          ],
          "name": "stderr"
        },
        {
          "output_type": "stream",
          "text": [
            "INFO:tensorflow:Finished initializing TPU system.\n"
          ],
          "name": "stdout"
        },
        {
          "output_type": "stream",
          "text": [
            "INFO:tensorflow:Finished initializing TPU system.\n",
            "WARNING:absl:`tf.distribute.experimental.TPUStrategy` is deprecated, please use  the non experimental symbol `tf.distribute.TPUStrategy` instead.\n"
          ],
          "name": "stderr"
        },
        {
          "output_type": "stream",
          "text": [
            "INFO:tensorflow:Found TPU system:\n"
          ],
          "name": "stdout"
        },
        {
          "output_type": "stream",
          "text": [
            "INFO:tensorflow:Found TPU system:\n"
          ],
          "name": "stderr"
        },
        {
          "output_type": "stream",
          "text": [
            "INFO:tensorflow:*** Num TPU Cores: 8\n"
          ],
          "name": "stdout"
        },
        {
          "output_type": "stream",
          "text": [
            "INFO:tensorflow:*** Num TPU Cores: 8\n"
          ],
          "name": "stderr"
        },
        {
          "output_type": "stream",
          "text": [
            "INFO:tensorflow:*** Num TPU Workers: 1\n"
          ],
          "name": "stdout"
        },
        {
          "output_type": "stream",
          "text": [
            "INFO:tensorflow:*** Num TPU Workers: 1\n"
          ],
          "name": "stderr"
        },
        {
          "output_type": "stream",
          "text": [
            "INFO:tensorflow:*** Num TPU Cores Per Worker: 8\n"
          ],
          "name": "stdout"
        },
        {
          "output_type": "stream",
          "text": [
            "INFO:tensorflow:*** Num TPU Cores Per Worker: 8\n"
          ],
          "name": "stderr"
        },
        {
          "output_type": "stream",
          "text": [
            "INFO:tensorflow:*** Available Device: _DeviceAttributes(/job:localhost/replica:0/task:0/device:CPU:0, CPU, 0, 0)\n"
          ],
          "name": "stdout"
        },
        {
          "output_type": "stream",
          "text": [
            "INFO:tensorflow:*** Available Device: _DeviceAttributes(/job:localhost/replica:0/task:0/device:CPU:0, CPU, 0, 0)\n"
          ],
          "name": "stderr"
        },
        {
          "output_type": "stream",
          "text": [
            "INFO:tensorflow:*** Available Device: _DeviceAttributes(/job:worker/replica:0/task:0/device:CPU:0, CPU, 0, 0)\n"
          ],
          "name": "stdout"
        },
        {
          "output_type": "stream",
          "text": [
            "INFO:tensorflow:*** Available Device: _DeviceAttributes(/job:worker/replica:0/task:0/device:CPU:0, CPU, 0, 0)\n"
          ],
          "name": "stderr"
        },
        {
          "output_type": "stream",
          "text": [
            "INFO:tensorflow:*** Available Device: _DeviceAttributes(/job:worker/replica:0/task:0/device:TPU:0, TPU, 0, 0)\n"
          ],
          "name": "stdout"
        },
        {
          "output_type": "stream",
          "text": [
            "INFO:tensorflow:*** Available Device: _DeviceAttributes(/job:worker/replica:0/task:0/device:TPU:0, TPU, 0, 0)\n"
          ],
          "name": "stderr"
        },
        {
          "output_type": "stream",
          "text": [
            "INFO:tensorflow:*** Available Device: _DeviceAttributes(/job:worker/replica:0/task:0/device:TPU:1, TPU, 0, 0)\n"
          ],
          "name": "stdout"
        },
        {
          "output_type": "stream",
          "text": [
            "INFO:tensorflow:*** Available Device: _DeviceAttributes(/job:worker/replica:0/task:0/device:TPU:1, TPU, 0, 0)\n"
          ],
          "name": "stderr"
        },
        {
          "output_type": "stream",
          "text": [
            "INFO:tensorflow:*** Available Device: _DeviceAttributes(/job:worker/replica:0/task:0/device:TPU:2, TPU, 0, 0)\n"
          ],
          "name": "stdout"
        },
        {
          "output_type": "stream",
          "text": [
            "INFO:tensorflow:*** Available Device: _DeviceAttributes(/job:worker/replica:0/task:0/device:TPU:2, TPU, 0, 0)\n"
          ],
          "name": "stderr"
        },
        {
          "output_type": "stream",
          "text": [
            "INFO:tensorflow:*** Available Device: _DeviceAttributes(/job:worker/replica:0/task:0/device:TPU:3, TPU, 0, 0)\n"
          ],
          "name": "stdout"
        },
        {
          "output_type": "stream",
          "text": [
            "INFO:tensorflow:*** Available Device: _DeviceAttributes(/job:worker/replica:0/task:0/device:TPU:3, TPU, 0, 0)\n"
          ],
          "name": "stderr"
        },
        {
          "output_type": "stream",
          "text": [
            "INFO:tensorflow:*** Available Device: _DeviceAttributes(/job:worker/replica:0/task:0/device:TPU:4, TPU, 0, 0)\n"
          ],
          "name": "stdout"
        },
        {
          "output_type": "stream",
          "text": [
            "INFO:tensorflow:*** Available Device: _DeviceAttributes(/job:worker/replica:0/task:0/device:TPU:4, TPU, 0, 0)\n"
          ],
          "name": "stderr"
        },
        {
          "output_type": "stream",
          "text": [
            "INFO:tensorflow:*** Available Device: _DeviceAttributes(/job:worker/replica:0/task:0/device:TPU:5, TPU, 0, 0)\n"
          ],
          "name": "stdout"
        },
        {
          "output_type": "stream",
          "text": [
            "INFO:tensorflow:*** Available Device: _DeviceAttributes(/job:worker/replica:0/task:0/device:TPU:5, TPU, 0, 0)\n"
          ],
          "name": "stderr"
        },
        {
          "output_type": "stream",
          "text": [
            "INFO:tensorflow:*** Available Device: _DeviceAttributes(/job:worker/replica:0/task:0/device:TPU:6, TPU, 0, 0)\n"
          ],
          "name": "stdout"
        },
        {
          "output_type": "stream",
          "text": [
            "INFO:tensorflow:*** Available Device: _DeviceAttributes(/job:worker/replica:0/task:0/device:TPU:6, TPU, 0, 0)\n"
          ],
          "name": "stderr"
        },
        {
          "output_type": "stream",
          "text": [
            "INFO:tensorflow:*** Available Device: _DeviceAttributes(/job:worker/replica:0/task:0/device:TPU:7, TPU, 0, 0)\n"
          ],
          "name": "stdout"
        },
        {
          "output_type": "stream",
          "text": [
            "INFO:tensorflow:*** Available Device: _DeviceAttributes(/job:worker/replica:0/task:0/device:TPU:7, TPU, 0, 0)\n"
          ],
          "name": "stderr"
        },
        {
          "output_type": "stream",
          "text": [
            "INFO:tensorflow:*** Available Device: _DeviceAttributes(/job:worker/replica:0/task:0/device:TPU_SYSTEM:0, TPU_SYSTEM, 0, 0)\n"
          ],
          "name": "stdout"
        },
        {
          "output_type": "stream",
          "text": [
            "INFO:tensorflow:*** Available Device: _DeviceAttributes(/job:worker/replica:0/task:0/device:TPU_SYSTEM:0, TPU_SYSTEM, 0, 0)\n"
          ],
          "name": "stderr"
        },
        {
          "output_type": "stream",
          "text": [
            "INFO:tensorflow:*** Available Device: _DeviceAttributes(/job:worker/replica:0/task:0/device:XLA_CPU:0, XLA_CPU, 0, 0)\n"
          ],
          "name": "stdout"
        },
        {
          "output_type": "stream",
          "text": [
            "INFO:tensorflow:*** Available Device: _DeviceAttributes(/job:worker/replica:0/task:0/device:XLA_CPU:0, XLA_CPU, 0, 0)\n"
          ],
          "name": "stderr"
        },
        {
          "output_type": "stream",
          "text": [
            "Epoch 1/5\n",
            "1215/1215 - 11s - loss: 0.2170 - accuracy: 0.9372 - val_loss: 0.2031 - val_accuracy: 0.9409\n",
            "Epoch 2/5\n",
            "1215/1215 - 7s - loss: 0.1663 - accuracy: 0.9408 - val_loss: 0.1959 - val_accuracy: 0.9370\n",
            "Epoch 3/5\n",
            "1215/1215 - 7s - loss: 0.1365 - accuracy: 0.9469 - val_loss: 0.2183 - val_accuracy: 0.9240\n",
            "Epoch 4/5\n",
            "1215/1215 - 7s - loss: 0.1171 - accuracy: 0.9535 - val_loss: 0.2349 - val_accuracy: 0.9310\n",
            "Epoch 5/5\n",
            "1215/1215 - 7s - loss: 0.1026 - accuracy: 0.9580 - val_loss: 0.2695 - val_accuracy: 0.9226\n"
          ],
          "name": "stdout"
        }
      ]
    },
    {
      "cell_type": "markdown",
      "metadata": {
        "id": "SI13ngS-fN_2"
      },
      "source": [
        "## 3.1 loss可视化"
      ]
    },
    {
      "cell_type": "code",
      "metadata": {
        "ExecuteTime": {
          "end_time": "2021-03-25T02:29:45.161495Z",
          "start_time": "2021-03-25T02:29:44.868575Z"
        },
        "id": "YCSOLfbsb34E",
        "colab": {
          "base_uri": "https://localhost:8080/",
          "height": 336
        },
        "outputId": "0cb53fce-cee8-429d-f1ee-17454896f315"
      },
      "source": [
        "fig = plt.gcf()\n",
        "fig.set_size_inches(10, 5)\n",
        "ax1 = fig.add_subplot(111)\n",
        "ax1.set_title('Train and Validation Picture')\n",
        "ax1.set_ylabel('Loss value')\n",
        "line1, = ax1.plot(history.history['loss'], color=(0.5, 0.5, 1.0), label='Loss train')\n",
        "line2, = ax1.plot(history.history['val_loss'], color=(0.5, 1.0, 0.5), label='Loss valid')\n",
        "ax2 = ax1.twinx()\n",
        "ax2.set_ylabel('Accuracy value')\n",
        "line3, = ax2.plot(history.history['accuracy'], color=(0.5, 0.5, 0.5), label='Accuracy train')\n",
        "line4, = ax2.plot(history.history['val_accuracy'], color=(1, 0, 0), label='Accuracy valid')\n",
        "plt.legend(handles=(line1, line2, line3, line4), loc='best')\n",
        "plt.xlim(-1, 10)\n",
        "plt.show()"
      ],
      "execution_count": 8,
      "outputs": [
        {
          "output_type": "display_data",
          "data": {
            "image/png": "[encoded data removed]",
            "text/plain": [
              "<Figure size 720x360 with 2 Axes>"
            ]
          },
          "metadata": {
            "tags": [],
            "needs_background": "light"
          }
        }
      ]
    },
    {
      "cell_type": "markdown",
      "metadata": {
        "id": "FgJP9KtxfT4e"
      },
      "source": [
        "## 3.2 向量反转"
      ]
    },
    {
      "cell_type": "code",
      "metadata": {
        "ExecuteTime": {
          "end_time": "2021-03-24T01:27:42.046742Z",
          "start_time": "2021-03-24T01:27:41.976275Z"
        },
        "id": "UIeofQ9qS5J7"
      },
      "source": [
        "e = model.layers[0]\n",
        "weights = e.get_weights()[0]\n",
        "print(weights.shape)\n",
        "\n",
        "reverse_word_index = dict([(value, key) for (key, value) in word_index.items()])\n",
        "def decode_review(text):\n",
        "  return ' '.join([reverse_word_index.get(i, '0') for i in text])\n",
        "\n",
        "print(decode_review(padded[1]))\n",
        "print(training_sentences[1])"
      ],
      "execution_count": null,
      "outputs": []
    },
    {
      "cell_type": "markdown",
      "metadata": {
        "id": "vdyfdou9e05t"
      },
      "source": [
        "## 3.3 模型保存"
      ]
    },
    {
      "cell_type": "code",
      "metadata": {
        "ExecuteTime": {
          "end_time": "2021-03-23T16:35:09.150889Z",
          "start_time": "2021-03-23T16:35:08.581575Z"
        },
        "id": "BCe0baIz_t-0"
      },
      "source": [
        "# # 保存模型结构\n",
        "# json_config = model.to_json()\n",
        "# with open('model_config.json', 'w') as json_file:\n",
        "#   json_file.write(json_config)\n",
        "\n",
        "# ## HDF5 文件,单个二进制 blob，里面同时保存了模型权重、模型结构和优化器配置\n",
        "# model.save_weights('path_to_my_weights.h5')\n",
        "\n",
        "# SavedModel,使用 TensorFlow Serving 来部署模型时必须使用 SavedModel 格式\n",
        "tf.keras.models.save_model(model, './saved_models/1')\n",
        "\n",
        "# # checkpoint格式\n",
        "# model.save_weights(\"xxx.ckpt\", save_format=\"tf\")"
      ],
      "execution_count": null,
      "outputs": []
    },
    {
      "cell_type": "markdown",
      "metadata": {
        "hide_input": false,
        "id": "I8NgKG8nf7ld"
      },
      "source": [
        "## 4.1 模型预测"
      ]
    },
    {
      "cell_type": "markdown",
      "metadata": {
        "id": "X64tTYWF2DS6"
      },
      "source": [
        "### 4.1.1 predict"
      ]
    },
    {
      "cell_type": "code",
      "metadata": {
        "ExecuteTime": {
          "end_time": "2021-03-25T02:34:19.630489Z",
          "start_time": "2021-03-25T02:33:45.401480Z"
        },
        "id": "r4n1hkSEQJPx"
      },
      "source": [
        "# df = pd.read_csv('/content/drive/MyDrive/Colab Notebooks/data/imo_discover_comment_data_20210101-20210330.csv', sep='\\t')\n",
        "df = pd.read_csv('/content/drive/MyDrive/Colab Notebooks/data/imo_nickname_review_20210101-20210331.csv')\n",
        "df_data = df.values.tolist()\n",
        "data = []\n",
        "data_line = []\n",
        "my_test_sentences = df['content'].values.tolist()\n",
        "text_sentences = tokenizer.texts_to_sequences([str(s) for s in my_test_sentences])\n",
        "my_text_padded = pad_sequences(text_sentences, maxlen=MAX_SEQUENCE_LENGTH)\n",
        "\n",
        "predictions = model.predict(my_text_padded)\n",
        "print('my_test_sentences len=', len(my_test_sentences), my_test_sentences[0])\n",
        "print('my_text_padded len=', len(my_text_padded), my_text_padded[0])\n",
        "if predictions.shape[-1] > 1:\n",
        "  predictions_classes = predictions.argmax(axis=-1)\n",
        "else:\n",
        "  predictions_classes = (predictions > 0.5).astype('int32')\n",
        "\n",
        "for i in range(len(predictions)):\n",
        "  if int(predictions_classes[i][0]) >= 1:\n",
        "    data_line.append(i)\n",
        "\n",
        "for i in data_line:\n",
        "  data.append([df_data[i][0],df_data[i][1],df_data[i][2],df_data[i][3],df_data[i][4],predictions[i][0],predictions_classes[i][0]])\n",
        "\n",
        "\n",
        "print('data_lin len=', len(data_line), data_line[0])\n",
        "print('data_len len=', len(data), data[0])\n",
        "# df = pd.DataFrame(data, columns=['day', 'opt_type', 'message', 'resource_id', 'comment_id', '得分', '标签(1=违规)'])\n",
        "df = pd.DataFrame(data, columns=['day', 'uid', 'content', 'punish_type', 'operator_name', '得分', '标签(1=违规)'])\n",
        "df.to_excel(\"/content/drive/MyDrive/Colab Notebooks/data/预测_nick_name_review_dredict_20210101-20210331.xlsx\", index=False, sheet_name='Sheet1', encoding='utf-8')"
      ],
      "execution_count": null,
      "outputs": []
    },
    {
      "cell_type": "markdown",
      "metadata": {
        "id": "ogP0MF372MDR"
      },
      "source": [
        "### 4.1.2 evaluate"
      ]
    },
    {
      "cell_type": "code",
      "metadata": {
        "colab": {
          "base_uri": "https://localhost:8080/"
        },
        "id": "bsba7VhL2Rsi",
        "outputId": "bca80e47-ce03-4fcf-c184-3d45a4815428"
      },
      "source": [
        "df = pd.read_csv('/content/drive/MyDrive/Colab Notebooks/data/imo_test_user_profile.csv')\n",
        "my_test_content = df['content'].values.tolist()\n",
        "my_test_label = df['label'].values.tolist()\n",
        "\n",
        "test_sentences = tokenizer.texts_to_sequences([str(s) for s in my_test_content])\n",
        "test_padded = pad_sequences(test_sentences, maxlen=MAX_SEQUENCE_LENGTH)\n",
        "\n",
        "loss, accuracy = model.evaluate(test_padded, np.array(my_test_label))\n",
        "print('test loss',loss)\n",
        "print('accuracy',accuracy)"
      ],
      "execution_count": 9,
      "outputs": [
        {
          "output_type": "stream",
          "text": [
            "15625/15625 [==============================] - 31s 2ms/step - loss: 0.2232 - accuracy: 0.9177\n",
            "test loss 0.22322627902030945\n",
            "accuracy 0.9177398085594177\n"
          ],
          "name": "stdout"
        }
      ]
    },
    {
      "cell_type": "markdown",
      "metadata": {
        "id": "qOutIAiMoHlv"
      },
      "source": [
        "## 5.1 Tensorflow Server"
      ]
    },
    {
      "cell_type": "code",
      "metadata": {
        "id": "JKn15zH_oVnO"
      },
      "source": [
        "!curl -sSL https://get.daocloud.io/docker | sh\n",
        "!docker pull tensorflow/serving\n",
        "!curl https://storage.googleapis.com/tensorflow-serving-apt/tensorflow-serving.release.pub.gpg | apt-key add -\n",
        "!apt update\n",
        "!echo \"deb http://storage.googleapis.com/tensorflow-serving-apt stable tensorflow-model-server tensorflow-model-server-universal\" | tee /etc/apt/sources.list.d/tensorflow-serving.list && \\\n",
        "curl https://storage.googleapis.com/tensorflow-serving-apt/tensorflow-serving.release.pub.gpg | apt-key add -\n",
        "!apt update\n",
        "!apt-get install tensorflow-model-server"
      ],
      "execution_count": null,
      "outputs": []
    },
    {
      "cell_type": "code",
      "metadata": {
        "id": "WKvCotZMoWo-"
      },
      "source": [
        "import os\n",
        "os.environ[\"MODEL_DIR\"] = \"/content/saved_models\"\n",
        "!ls -l /content/saved_models\n",
        "!saved_model_cli show --dir /content/saved_models/1 --all"
      ],
      "execution_count": null,
      "outputs": []
    },
    {
      "cell_type": "code",
      "metadata": {
        "id": "2pjUWxmVoYQf"
      },
      "source": [
        "%%bash --bg \n",
        "nohup tensorflow_model_server \\\n",
        "  --rest_api_port=8501 \\\n",
        "  --model_name=helloworld \\\n",
        "  --model_base_path=\"${MODEL_DIR}\" >server.log 2>&1"
      ],
      "execution_count": null,
      "outputs": []
    },
    {
      "cell_type": "code",
      "metadata": {
        "id": "k0bD67ISobm1"
      },
      "source": [
        "import json\n",
        "import requests\n",
        "\n",
        "def get_model_predict(list_data):\n",
        "  headers = {\"content-type\": \"application/json\"}\n",
        "  req_data = {\"signature_name\": \"serving_default\", \"instances\": list_data.tolist()}\n",
        "  json_response = requests.post('http://localhost:8501/v1/models/helloworld/versions/1:predict/classes', data=json.dumps(req_data), headers=headers)\n",
        "\n",
        "  return json_response\n",
        "\n",
        "\n",
        "my_test_sentences = pd.read_excel('imo_v1.xlsx', usecols=[2]).values.tolist()\n",
        "\n",
        "my_test_sentences = tokenizer.texts_to_sequences(['আপু রা এড দাও মজা পাবে আসো'])\n",
        "my_test_data_padded = pad_sequences(my_test_sentences, maxlen=max_length)\n",
        "json_response = get_model_predict(my_test_data_padded)\n",
        "print(json_response.json())"
      ],
      "execution_count": null,
      "outputs": []
    }
  ]
}