{
  "nbformat": 4,
  "nbformat_minor": 0,
  "metadata": {
    "colab": {
      "name": "tensorflow keras 多层感知器.ipynb",
      "provenance": [],
      "collapsed_sections": [],
      "authorship_tag": "ABX9TyPJiIE/cc5iYucPvkQNexWy",
      "include_colab_link": true
    },
    "kernelspec": {
      "name": "python3",
      "display_name": "Python 3"
    }
  },
  "cells": [
    {
      "cell_type": "markdown",
      "metadata": {
        "id": "view-in-github",
        "colab_type": "text"
      },
      "source": [
        "<a href=\"https://colab.research.google.com/github/zhousanfu/Tensorflow_Demo/blob/master/tensorflow_keras_%E5%A4%9A%E5%B1%82%E6%84%9F%E7%9F%A5%E5%99%A8.ipynb\" target=\"_parent\"><img src=\"https://colab.research.google.com/assets/colab-badge.svg\" alt=\"Open In Colab\"/></a>"
      ]
    },
    {
      "cell_type": "code",
      "metadata": {
        "id": "J7oEAXQrg6Qz"
      },
      "source": [
        "import pandas as pd\n",
        "import tensorflow as tf"
      ],
      "execution_count": null,
      "outputs": []
    },
    {
      "cell_type": "markdown",
      "metadata": {
        "id": "WrxdxiFflD86"
      },
      "source": [
        "# 数据集advertising.csv\n",
        ",TV,radio,newspaper,sales\n",
        "1,230.1,37.8,69.2,22.1\n",
        "2,44.5,39.3,45.1,10.4\n",
        "3,17.2,41.3,69.3,9.3\n",
        "4,151.5,41.3,58.5,28.5\n",
        "5,180.8,10.8,58.4,13.9"
      ]
    },
    {
      "cell_type": "markdown",
      "metadata": {
        "id": "nGEIF-HXl1Mn"
      },
      "source": [
        "# 思路\n",
        "输入层 x1,x2 - 隐含层 - 输出层 w1,w2"
      ]
    },
    {
      "cell_type": "code",
      "metadata": {
        "colab": {
          "base_uri": "https://localhost:8080/"
        },
        "id": "gCi3AD37lzRi",
        "outputId": "a9878cac-8928-44c9-dbd5-86fcaa000eb2"
      },
      "source": [
        "data = pd.read_csv('advertising.csv')\n",
        "\n",
        "x = data.iloc[:, 1:-1]\n",
        "y = data.iloc[:, -1]\n",
        "print(x, y)"
      ],
      "execution_count": null,
      "outputs": [
        {
          "output_type": "stream",
          "text": [
            "      TV  radio  newspaper\n",
            "0  230.1   37.8       69.2\n",
            "1   44.5   39.3       45.1\n",
            "2   17.2   41.3       69.3\n",
            "3  151.5   41.3       58.5\n",
            "4  180.8   10.8       58.4 0    22.1\n",
            "1    10.4\n",
            "2     9.3\n",
            "3    28.5\n",
            "4    13.9\n",
            "Name: sales, dtype: float64\n"
          ],
          "name": "stdout"
        }
      ]
    },
    {
      "cell_type": "code",
      "metadata": {
        "id": "1CVP0ZPwmYJv"
      },
      "source": [
        "# 模型定义\n",
        "model = tf.keras.Sequential(\n",
        "    [tf.keras.layers.Dense(10, input_shape=(3,), activation='relu'), tf.keras.layers.Dense(1)]\n",
        "    )\n",
        "\n",
        "model.summary()"
      ],
      "execution_count": null,
      "outputs": []
    },
    {
      "cell_type": "code",
      "metadata": {
        "id": "ao4FSNPfoI0c"
      },
      "source": [
        "# 训练\n",
        "model.compile(optimizer='adam', loss='mse')\n",
        "model.fit(x, y, epochs=100)"
      ],
      "execution_count": null,
      "outputs": []
    },
    {
      "cell_type": "code",
      "metadata": {
        "colab": {
          "base_uri": "https://localhost:8080/"
        },
        "id": "jlFIdiEko_rK",
        "outputId": "b43a29b3-c4da-4bcd-e63d-2ec02828a2b3"
      },
      "source": [
        "model.predict(data.iloc[:10, 1:-1])"
      ],
      "execution_count": null,
      "outputs": [
        {
          "output_type": "execute_result",
          "data": {
            "text/plain": [
              "array([[26.075092 ],\n",
              "       [ 3.3854113],\n",
              "       [-2.0866947],\n",
              "       [17.608452 ],\n",
              "       [25.01404  ]], dtype=float32)"
            ]
          },
          "metadata": {
            "tags": []
          },
          "execution_count": 14
        }
      ]
    }
  ]
}